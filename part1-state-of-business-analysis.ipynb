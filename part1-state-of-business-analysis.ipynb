{
 "cells": [
  {
   "attachments": {},
   "cell_type": "markdown",
   "metadata": {},
   "source": [
    "# State of the Business Analysis"
   ]
  },
  {
   "attachments": {},
   "cell_type": "markdown",
   "metadata": {},
   "source": [
    "## Case Description\n",
    "\n",
    "You are a BA working for a startup that has one credit product called **Contigo**. Depending on risk, the customer will receive:\n",
    "1. Contigo A, a 1,000 peso loan to be paid in full after one month with 15% interest. This product is given to high risk customers.\n",
    "2. Contigo B, a 2,000 peso loan to be paid in full after one month with 10% interest. This product is given to low risk customers.\n",
    "\n",
    "Past debt delinquency (DQ) rates have determined the interest rates for the Contigo product. However, it is estimated that the monthly DQ rate for Contigo A will be 13.5% and 8% for Contigo B, throughout this year.\n",
    "\n",
    "Ignoring the worsening of DQ rates, this startup has an ambitious growth plan for the year. At month 1,\n",
    "the company had a total of 5,000 Contigo A customers, expected to grow at a rate of 25% month over\n",
    "month. Contigo B has the largest share of customers, 10,000 in total. But with a very competitive market\n",
    "for premium loans, Contigo B is expected to grow at a 10% month over month rate throughout the year.\n",
    "\n",
    "The operation of this startup scales proportionately to its customer base, with negligible fixed expenses. The current operative monthly cost per account sits at 30 pesos.\n",
    "\n",
    "The startup is concerned that the change in DQ rates and the aggressive expansion may reduce profitability in the following months, so they asked you to make a forecast on the net income of its operation (ignoring taxes) in the next 12 months."
   ]
  },
  {
   "attachments": {},
   "cell_type": "markdown",
   "metadata": {},
   "source": [
    "### Loan Types Diagram\n",
    "\n",
    "<img src=\"https://i.imgur.com/B7NvEKb.png\">"
   ]
  },
  {
   "attachments": {},
   "cell_type": "markdown",
   "metadata": {},
   "source": [
    "## Case Analysis"
   ]
  },
  {
   "attachments": {},
   "cell_type": "markdown",
   "metadata": {},
   "source": [
    "These following sections shows the steps taken to forecast the net income during the next 12 months."
   ]
  },
  {
   "cell_type": "code",
   "execution_count": 694,
   "metadata": {},
   "outputs": [],
   "source": [
    "# Import required libraries and modules\n",
    "import numpy as np\n",
    "import math\n",
    "import pandas as pd\n",
    "import plotly.express as px"
   ]
  },
  {
   "attachments": {},
   "cell_type": "markdown",
   "metadata": {},
   "source": [
    "I will use a dictionary to store all of the loan features for Contigo A and B:"
   ]
  },
  {
   "cell_type": "code",
   "execution_count": 695,
   "metadata": {},
   "outputs": [],
   "source": [
    "# Contigo A loan features\n",
    "contigo_a_features = {\n",
    "    \"loan_amt\":1000,\n",
    "    \"loan_term\":1,\n",
    "    \"interest_rate\":0.15,\n",
    "    \"delinquency_rate\":0.135,\n",
    "    \"initial_num_accounts\":5000,\n",
    "    \"account_growth_mom\":0.25,\n",
    "    \"op_cost_per_acct\":30\n",
    "}\n",
    "\n",
    "# Contigo B loan features\n",
    "contigo_b_features = {\n",
    "    \"loan_amt\":2000,\n",
    "    \"loan_term\":1,\n",
    "    \"interest_rate\":0.1,\n",
    "    \"delinquency_rate\":0.08,\n",
    "    \"initial_num_accounts\":10000,\n",
    "    \"account_growth_mom\":0.10,\n",
    "    \"op_cost_per_acct\":30\n",
    "}"
   ]
  },
  {
   "attachments": {},
   "cell_type": "markdown",
   "metadata": {},
   "source": [
    "Where:\n",
    "\n",
    "- **loan_amt**: The loan amount in mexican pesos.\n",
    "- **loan_term**: The number of months to pay the loan amount in full.\n",
    "- **interest_rate**: The monthly interest rate.\n",
    "- **delinquency_rate**: The monthly estimated delinquency rate throughout the year.\n",
    "- **initial_num_accounts**: The number of accounts/customers for the first month.\n",
    "- **account_growth_mom**: The estimated growth rate for the accounts month-over-month.\n",
    "- **op_cost_per_acct**: The current operative monthly cost per account in mexican pesos."
   ]
  },
  {
   "attachments": {},
   "cell_type": "markdown",
   "metadata": {},
   "source": [
    "### Step 1: Calculating Total Accounts\n",
    "\n",
    "In this step I calculated the total number of accounts for each month during the next 12 months. \n",
    "\n",
    "I defined a helper function to simplify the computations and used `math.floor` to round down the accounts to the nearest whole number because the number of accounts is a **discrete variable**."
   ]
  },
  {
   "cell_type": "code",
   "execution_count": 696,
   "metadata": {},
   "outputs": [],
   "source": [
    "def compute_accounts(initial_accounts: int, growth_rate: float, num_months=12):\n",
    "    \"\"\"Computes the number of accounts by each month during a period of 12 months given a MoM growth rate\"\"\"\n",
    "    return [math.floor(initial_accounts * (1+ growth_rate) ** i) for i in range(num_months)]    "
   ]
  },
  {
   "attachments": {},
   "cell_type": "markdown",
   "metadata": {},
   "source": [
    "I stored the total number of accounts for Contigo A and B as **numpy** arrays to perform **element-wise arithmetic operations** in the following steps."
   ]
  },
  {
   "cell_type": "code",
   "execution_count": 697,
   "metadata": {},
   "outputs": [],
   "source": [
    "# Number of accounts month-over-month of Contigo A\n",
    "contigo_a_accounts_mom = \\\n",
    "    np.array(compute_accounts(contigo_a_features[\"initial_num_accounts\"], contigo_a_features[\"account_growth_mom\"]))\n",
    "\n",
    "# Number of accounts month-over-month of Contigo B\n",
    "contigo_b_accounts_mom = \\\n",
    "    np.array(compute_accounts(contigo_b_features[\"initial_num_accounts\"], contigo_b_features[\"account_growth_mom\"]))"
   ]
  },
  {
   "attachments": {},
   "cell_type": "markdown",
   "metadata": {},
   "source": [
    "### Step 2: Calculating Delinquency Accounts\n",
    "\n",
    "I used the following formula to calculate the number of delinquent accounts for Contigo A and B:\n",
    "\n",
    "$$delinquencyAccounts = numberOfAccounts \\times delinquencyRate$$"
   ]
  },
  {
   "cell_type": "code",
   "execution_count": 698,
   "metadata": {},
   "outputs": [],
   "source": [
    "# Number of delinquency accounts month-over-month of Contigo A\n",
    "contigo_a_delinq_accts_mom = contigo_a_accounts_mom * contigo_a_features[\"delinquency_rate\"]\n",
    "\n",
    "# Round down every element in the array to the nearest whole number\n",
    "contigo_a_delinq_accts_mom = np.floor(contigo_a_delinq_accts_mom)\n",
    "\n",
    "# Number of delinquency accounts month-over-month of Contigo B\n",
    "contigo_b_delinq_accts_mom = contigo_b_accounts_mom * contigo_b_features[\"delinquency_rate\"]\n",
    "\n",
    "# Round down every element in the array to the nearest whole number\n",
    "contigo_b_delinq_accts_mom = np.floor(contigo_b_delinq_accts_mom)"
   ]
  },
  {
   "attachments": {},
   "cell_type": "markdown",
   "metadata": {},
   "source": [
    "### Step 3: Interest Revenue\n",
    "\n",
    "In this step I also defined a helper function to simplify the computations. \n",
    "\n",
    "The function uses the following formula to calculate the interest revenue:\n",
    "\n",
    "$$interestRevenue = loanAmount \\times interestRate \\times loanTerm \\times (1 - delinquencyRate)$$"
   ]
  },
  {
   "cell_type": "code",
   "execution_count": 699,
   "metadata": {},
   "outputs": [],
   "source": [
    "def compute_interest_rev(loan_feats: dict, loan_accounts_mom):\n",
    "    \"\"\"Computes the month-over-month interest revenue of a loan type\"\"\"\n",
    "    interest_revenue_per_account = \\\n",
    "        loan_feats[\"loan_amt\"]*loan_feats[\"interest_rate\"]*loan_feats[\"loan_term\"]*(1-loan_feats[\"delinquency_rate\"])\n",
    "    return loan_accounts_mom * interest_revenue_per_account"
   ]
  },
  {
   "cell_type": "code",
   "execution_count": 700,
   "metadata": {},
   "outputs": [],
   "source": [
    "# Interest revenue month-over-month of Contigo A\n",
    "contigo_a_interest_rev_mom = compute_interest_rev(contigo_a_features, contigo_a_accounts_mom)\n",
    "\n",
    "# Interest revenue month-over-month of Contigo B\n",
    "contigo_b_interest_rev_mom = compute_interest_rev(contigo_b_features, contigo_b_accounts_mom)"
   ]
  },
  {
   "attachments": {},
   "cell_type": "markdown",
   "metadata": {},
   "source": [
    "### Step 4: Delinquency Losses\n",
    "\n",
    "Now that I have the number of delinquent accounts by each month I can simply multiply every value by the loan amount to get the delinquency losses for Contigo A and B:"
   ]
  },
  {
   "cell_type": "code",
   "execution_count": 701,
   "metadata": {},
   "outputs": [],
   "source": [
    "# Delinquency loss month-over-month of Contigo A\n",
    "contigo_a_delinq_loss_mom = contigo_a_delinq_accts_mom * contigo_a_features[\"loan_amt\"]\n",
    "\n",
    "# Delinquency loss month-over-month of Contigo B\n",
    "contigo_b_delinq_loss_mom = contigo_b_delinq_accts_mom * contigo_b_features[\"loan_amt\"]"
   ]
  },
  {
   "attachments": {},
   "cell_type": "markdown",
   "metadata": {},
   "source": [
    "### Step 5: Operative Cost"
   ]
  },
  {
   "cell_type": "code",
   "execution_count": 702,
   "metadata": {},
   "outputs": [],
   "source": [
    "# Operative cost month-over-month of Contigo A\n",
    "contigo_a_op_cost_mom = contigo_a_accounts_mom * contigo_a_features[\"op_cost_per_acct\"]\n",
    "\n",
    "# Operative cost month-over-month of Contigo B\n",
    "contigo_b_op_cost_mom = contigo_b_accounts_mom * contigo_b_features[\"op_cost_per_acct\"]"
   ]
  },
  {
   "attachments": {},
   "cell_type": "markdown",
   "metadata": {},
   "source": [
    "### Step 6: Net Income"
   ]
  },
  {
   "cell_type": "code",
   "execution_count": 703,
   "metadata": {},
   "outputs": [],
   "source": [
    "# Net income month-over-month of Contigo A\n",
    "contigo_a_net_income_mom = contigo_a_interest_rev_mom - contigo_a_op_cost_mom - contigo_a_delinq_loss_mom\n",
    "\n",
    "# Net income month-over-month of Contigo B\n",
    "contigo_b_net_income_mom = contigo_b_interest_rev_mom - contigo_b_op_cost_mom - contigo_b_delinq_loss_mom"
   ]
  },
  {
   "attachments": {},
   "cell_type": "markdown",
   "metadata": {},
   "source": [
    "## Presenting Results in Tabular Format"
   ]
  },
  {
   "cell_type": "code",
   "execution_count": 704,
   "metadata": {},
   "outputs": [],
   "source": [
    "# Maps column names to values\n",
    "cols_to_values = {\n",
    "    \"month\":np.concatenate((np.arange(1,13), np.arange(1,13))),\n",
    "    \"loan_type\":[\"Contigo A\"] * 12 + [\"Contigo B\"] * 12,\n",
    "    \"accounts\":np.concatenate((contigo_a_accounts_mom, contigo_b_accounts_mom)),\n",
    "    \"delinquency_accounts\":np.concatenate((contigo_a_delinq_accts_mom, contigo_b_delinq_accts_mom)),\n",
    "    \"interest_revenue\":np.concatenate((contigo_a_interest_rev_mom, contigo_b_interest_rev_mom)),\n",
    "    \"delinquency_loss\":np.concatenate((contigo_a_delinq_loss_mom, contigo_b_delinq_loss_mom)),\n",
    "    \"operative_costs\":np.concatenate((contigo_a_op_cost_mom, contigo_b_op_cost_mom)),\n",
    "    \"net_income\":np.concatenate((contigo_a_net_income_mom, contigo_b_net_income_mom))\n",
    "}\n",
    "\n",
    "# Creates a DataFrame with the results of Contigo loans\n",
    "collection_results = pd.DataFrame(cols_to_values)\n",
    "\n",
    "# Converts loan type column to a categorical data type\n",
    "collection_results[\"loan_type\"] = pd.Categorical(collection_results.loan_type)\n",
    "\n",
    "# Converts delinquency accounts to an integer data type\n",
    "collection_results[\"delinquency_accounts\"] = collection_results.delinquency_accounts.astype(\"int\")"
   ]
  },
  {
   "cell_type": "code",
   "execution_count": 705,
   "metadata": {},
   "outputs": [
    {
     "name": "stdout",
     "output_type": "stream",
     "text": [
      "<class 'pandas.core.frame.DataFrame'>\n",
      "RangeIndex: 24 entries, 0 to 23\n",
      "Data columns (total 8 columns):\n",
      " #   Column                Non-Null Count  Dtype   \n",
      "---  ------                --------------  -----   \n",
      " 0   month                 24 non-null     int64   \n",
      " 1   loan_type             24 non-null     category\n",
      " 2   accounts              24 non-null     int64   \n",
      " 3   delinquency_accounts  24 non-null     int64   \n",
      " 4   interest_revenue      24 non-null     float64 \n",
      " 5   delinquency_loss      24 non-null     float64 \n",
      " 6   operative_costs       24 non-null     int64   \n",
      " 7   net_income            24 non-null     float64 \n",
      "dtypes: category(1), float64(3), int64(4)\n",
      "memory usage: 1.6 KB\n"
     ]
    }
   ],
   "source": [
    "collection_results.info()"
   ]
  },
  {
   "cell_type": "code",
   "execution_count": 706,
   "metadata": {},
   "outputs": [
    {
     "data": {
      "text/plain": [
       "loan_type\n",
       "Contigo A    35166531.75\n",
       "Contigo B    39346560.00\n",
       "Name: interest_revenue, dtype: float64"
      ]
     },
     "execution_count": 706,
     "metadata": {},
     "output_type": "execute_result"
    }
   ],
   "source": [
    "collection_results.groupby(\"loan_type\").interest_revenue.sum()"
   ]
  },
  {
   "cell_type": "code",
   "execution_count": 707,
   "metadata": {},
   "outputs": [
    {
     "name": "stdout",
     "output_type": "stream",
     "text": [
      "The total interest revenue during the year for the startup is: 74513091.75 MXN\n"
     ]
    }
   ],
   "source": [
    "print(f\"The total interest revenue during the year for the startup is: {collection_results.interest_revenue.sum()} MXN\")"
   ]
  },
  {
   "cell_type": "code",
   "execution_count": 708,
   "metadata": {},
   "outputs": [
    {
     "data": {
      "text/html": [
       "<div>\n",
       "<style scoped>\n",
       "    .dataframe tbody tr th:only-of-type {\n",
       "        vertical-align: middle;\n",
       "    }\n",
       "\n",
       "    .dataframe tbody tr th {\n",
       "        vertical-align: top;\n",
       "    }\n",
       "\n",
       "    .dataframe thead th {\n",
       "        text-align: right;\n",
       "    }\n",
       "</style>\n",
       "<table border=\"1\" class=\"dataframe\">\n",
       "  <thead>\n",
       "    <tr style=\"text-align: right;\">\n",
       "      <th></th>\n",
       "      <th>month</th>\n",
       "      <th>loan_type</th>\n",
       "      <th>accounts</th>\n",
       "      <th>delinquency_accounts</th>\n",
       "      <th>interest_revenue</th>\n",
       "      <th>delinquency_loss</th>\n",
       "      <th>operative_costs</th>\n",
       "      <th>net_income</th>\n",
       "    </tr>\n",
       "  </thead>\n",
       "  <tbody>\n",
       "    <tr>\n",
       "      <th>0</th>\n",
       "      <td>1</td>\n",
       "      <td>Contigo A</td>\n",
       "      <td>5000</td>\n",
       "      <td>675</td>\n",
       "      <td>648750.00</td>\n",
       "      <td>675000.0</td>\n",
       "      <td>150000</td>\n",
       "      <td>-176250.00</td>\n",
       "    </tr>\n",
       "    <tr>\n",
       "      <th>1</th>\n",
       "      <td>2</td>\n",
       "      <td>Contigo A</td>\n",
       "      <td>6250</td>\n",
       "      <td>843</td>\n",
       "      <td>810937.50</td>\n",
       "      <td>843000.0</td>\n",
       "      <td>187500</td>\n",
       "      <td>-219562.50</td>\n",
       "    </tr>\n",
       "    <tr>\n",
       "      <th>2</th>\n",
       "      <td>3</td>\n",
       "      <td>Contigo A</td>\n",
       "      <td>7812</td>\n",
       "      <td>1054</td>\n",
       "      <td>1013607.00</td>\n",
       "      <td>1054000.0</td>\n",
       "      <td>234360</td>\n",
       "      <td>-274753.00</td>\n",
       "    </tr>\n",
       "    <tr>\n",
       "      <th>3</th>\n",
       "      <td>4</td>\n",
       "      <td>Contigo A</td>\n",
       "      <td>9765</td>\n",
       "      <td>1318</td>\n",
       "      <td>1267008.75</td>\n",
       "      <td>1318000.0</td>\n",
       "      <td>292950</td>\n",
       "      <td>-343941.25</td>\n",
       "    </tr>\n",
       "    <tr>\n",
       "      <th>4</th>\n",
       "      <td>5</td>\n",
       "      <td>Contigo A</td>\n",
       "      <td>12207</td>\n",
       "      <td>1647</td>\n",
       "      <td>1583858.25</td>\n",
       "      <td>1647000.0</td>\n",
       "      <td>366210</td>\n",
       "      <td>-429351.75</td>\n",
       "    </tr>\n",
       "    <tr>\n",
       "      <th>5</th>\n",
       "      <td>6</td>\n",
       "      <td>Contigo A</td>\n",
       "      <td>15258</td>\n",
       "      <td>2059</td>\n",
       "      <td>1979725.50</td>\n",
       "      <td>2059000.0</td>\n",
       "      <td>457740</td>\n",
       "      <td>-537014.50</td>\n",
       "    </tr>\n",
       "    <tr>\n",
       "      <th>6</th>\n",
       "      <td>7</td>\n",
       "      <td>Contigo A</td>\n",
       "      <td>19073</td>\n",
       "      <td>2574</td>\n",
       "      <td>2474721.75</td>\n",
       "      <td>2574000.0</td>\n",
       "      <td>572190</td>\n",
       "      <td>-671468.25</td>\n",
       "    </tr>\n",
       "    <tr>\n",
       "      <th>7</th>\n",
       "      <td>8</td>\n",
       "      <td>Contigo A</td>\n",
       "      <td>23841</td>\n",
       "      <td>3218</td>\n",
       "      <td>3093369.75</td>\n",
       "      <td>3218000.0</td>\n",
       "      <td>715230</td>\n",
       "      <td>-839860.25</td>\n",
       "    </tr>\n",
       "    <tr>\n",
       "      <th>8</th>\n",
       "      <td>9</td>\n",
       "      <td>Contigo A</td>\n",
       "      <td>29802</td>\n",
       "      <td>4023</td>\n",
       "      <td>3866809.50</td>\n",
       "      <td>4023000.0</td>\n",
       "      <td>894060</td>\n",
       "      <td>-1050250.50</td>\n",
       "    </tr>\n",
       "    <tr>\n",
       "      <th>9</th>\n",
       "      <td>10</td>\n",
       "      <td>Contigo A</td>\n",
       "      <td>37252</td>\n",
       "      <td>5029</td>\n",
       "      <td>4833447.00</td>\n",
       "      <td>5029000.0</td>\n",
       "      <td>1117560</td>\n",
       "      <td>-1313113.00</td>\n",
       "    </tr>\n",
       "    <tr>\n",
       "      <th>10</th>\n",
       "      <td>11</td>\n",
       "      <td>Contigo A</td>\n",
       "      <td>46566</td>\n",
       "      <td>6286</td>\n",
       "      <td>6041938.50</td>\n",
       "      <td>6286000.0</td>\n",
       "      <td>1396980</td>\n",
       "      <td>-1641041.50</td>\n",
       "    </tr>\n",
       "    <tr>\n",
       "      <th>11</th>\n",
       "      <td>12</td>\n",
       "      <td>Contigo A</td>\n",
       "      <td>58207</td>\n",
       "      <td>7857</td>\n",
       "      <td>7552358.25</td>\n",
       "      <td>7857000.0</td>\n",
       "      <td>1746210</td>\n",
       "      <td>-2050851.75</td>\n",
       "    </tr>\n",
       "    <tr>\n",
       "      <th>12</th>\n",
       "      <td>1</td>\n",
       "      <td>Contigo B</td>\n",
       "      <td>10000</td>\n",
       "      <td>800</td>\n",
       "      <td>1840000.00</td>\n",
       "      <td>1600000.0</td>\n",
       "      <td>300000</td>\n",
       "      <td>-60000.00</td>\n",
       "    </tr>\n",
       "    <tr>\n",
       "      <th>13</th>\n",
       "      <td>2</td>\n",
       "      <td>Contigo B</td>\n",
       "      <td>11000</td>\n",
       "      <td>880</td>\n",
       "      <td>2024000.00</td>\n",
       "      <td>1760000.0</td>\n",
       "      <td>330000</td>\n",
       "      <td>-66000.00</td>\n",
       "    </tr>\n",
       "    <tr>\n",
       "      <th>14</th>\n",
       "      <td>3</td>\n",
       "      <td>Contigo B</td>\n",
       "      <td>12100</td>\n",
       "      <td>968</td>\n",
       "      <td>2226400.00</td>\n",
       "      <td>1936000.0</td>\n",
       "      <td>363000</td>\n",
       "      <td>-72600.00</td>\n",
       "    </tr>\n",
       "    <tr>\n",
       "      <th>15</th>\n",
       "      <td>4</td>\n",
       "      <td>Contigo B</td>\n",
       "      <td>13310</td>\n",
       "      <td>1064</td>\n",
       "      <td>2449040.00</td>\n",
       "      <td>2128000.0</td>\n",
       "      <td>399300</td>\n",
       "      <td>-78260.00</td>\n",
       "    </tr>\n",
       "    <tr>\n",
       "      <th>16</th>\n",
       "      <td>5</td>\n",
       "      <td>Contigo B</td>\n",
       "      <td>14641</td>\n",
       "      <td>1171</td>\n",
       "      <td>2693944.00</td>\n",
       "      <td>2342000.0</td>\n",
       "      <td>439230</td>\n",
       "      <td>-87286.00</td>\n",
       "    </tr>\n",
       "    <tr>\n",
       "      <th>17</th>\n",
       "      <td>6</td>\n",
       "      <td>Contigo B</td>\n",
       "      <td>16105</td>\n",
       "      <td>1288</td>\n",
       "      <td>2963320.00</td>\n",
       "      <td>2576000.0</td>\n",
       "      <td>483150</td>\n",
       "      <td>-95830.00</td>\n",
       "    </tr>\n",
       "    <tr>\n",
       "      <th>18</th>\n",
       "      <td>7</td>\n",
       "      <td>Contigo B</td>\n",
       "      <td>17715</td>\n",
       "      <td>1417</td>\n",
       "      <td>3259560.00</td>\n",
       "      <td>2834000.0</td>\n",
       "      <td>531450</td>\n",
       "      <td>-105890.00</td>\n",
       "    </tr>\n",
       "    <tr>\n",
       "      <th>19</th>\n",
       "      <td>8</td>\n",
       "      <td>Contigo B</td>\n",
       "      <td>19487</td>\n",
       "      <td>1558</td>\n",
       "      <td>3585608.00</td>\n",
       "      <td>3116000.0</td>\n",
       "      <td>584610</td>\n",
       "      <td>-115002.00</td>\n",
       "    </tr>\n",
       "    <tr>\n",
       "      <th>20</th>\n",
       "      <td>9</td>\n",
       "      <td>Contigo B</td>\n",
       "      <td>21435</td>\n",
       "      <td>1714</td>\n",
       "      <td>3944040.00</td>\n",
       "      <td>3428000.0</td>\n",
       "      <td>643050</td>\n",
       "      <td>-127010.00</td>\n",
       "    </tr>\n",
       "    <tr>\n",
       "      <th>21</th>\n",
       "      <td>10</td>\n",
       "      <td>Contigo B</td>\n",
       "      <td>23579</td>\n",
       "      <td>1886</td>\n",
       "      <td>4338536.00</td>\n",
       "      <td>3772000.0</td>\n",
       "      <td>707370</td>\n",
       "      <td>-140834.00</td>\n",
       "    </tr>\n",
       "    <tr>\n",
       "      <th>22</th>\n",
       "      <td>11</td>\n",
       "      <td>Contigo B</td>\n",
       "      <td>25937</td>\n",
       "      <td>2074</td>\n",
       "      <td>4772408.00</td>\n",
       "      <td>4148000.0</td>\n",
       "      <td>778110</td>\n",
       "      <td>-153702.00</td>\n",
       "    </tr>\n",
       "    <tr>\n",
       "      <th>23</th>\n",
       "      <td>12</td>\n",
       "      <td>Contigo B</td>\n",
       "      <td>28531</td>\n",
       "      <td>2282</td>\n",
       "      <td>5249704.00</td>\n",
       "      <td>4564000.0</td>\n",
       "      <td>855930</td>\n",
       "      <td>-170226.00</td>\n",
       "    </tr>\n",
       "  </tbody>\n",
       "</table>\n",
       "</div>"
      ],
      "text/plain": [
       "    month  loan_type  accounts  delinquency_accounts  interest_revenue  \\\n",
       "0       1  Contigo A      5000                   675         648750.00   \n",
       "1       2  Contigo A      6250                   843         810937.50   \n",
       "2       3  Contigo A      7812                  1054        1013607.00   \n",
       "3       4  Contigo A      9765                  1318        1267008.75   \n",
       "4       5  Contigo A     12207                  1647        1583858.25   \n",
       "5       6  Contigo A     15258                  2059        1979725.50   \n",
       "6       7  Contigo A     19073                  2574        2474721.75   \n",
       "7       8  Contigo A     23841                  3218        3093369.75   \n",
       "8       9  Contigo A     29802                  4023        3866809.50   \n",
       "9      10  Contigo A     37252                  5029        4833447.00   \n",
       "10     11  Contigo A     46566                  6286        6041938.50   \n",
       "11     12  Contigo A     58207                  7857        7552358.25   \n",
       "12      1  Contigo B     10000                   800        1840000.00   \n",
       "13      2  Contigo B     11000                   880        2024000.00   \n",
       "14      3  Contigo B     12100                   968        2226400.00   \n",
       "15      4  Contigo B     13310                  1064        2449040.00   \n",
       "16      5  Contigo B     14641                  1171        2693944.00   \n",
       "17      6  Contigo B     16105                  1288        2963320.00   \n",
       "18      7  Contigo B     17715                  1417        3259560.00   \n",
       "19      8  Contigo B     19487                  1558        3585608.00   \n",
       "20      9  Contigo B     21435                  1714        3944040.00   \n",
       "21     10  Contigo B     23579                  1886        4338536.00   \n",
       "22     11  Contigo B     25937                  2074        4772408.00   \n",
       "23     12  Contigo B     28531                  2282        5249704.00   \n",
       "\n",
       "    delinquency_loss  operative_costs  net_income  \n",
       "0           675000.0           150000  -176250.00  \n",
       "1           843000.0           187500  -219562.50  \n",
       "2          1054000.0           234360  -274753.00  \n",
       "3          1318000.0           292950  -343941.25  \n",
       "4          1647000.0           366210  -429351.75  \n",
       "5          2059000.0           457740  -537014.50  \n",
       "6          2574000.0           572190  -671468.25  \n",
       "7          3218000.0           715230  -839860.25  \n",
       "8          4023000.0           894060 -1050250.50  \n",
       "9          5029000.0          1117560 -1313113.00  \n",
       "10         6286000.0          1396980 -1641041.50  \n",
       "11         7857000.0          1746210 -2050851.75  \n",
       "12         1600000.0           300000   -60000.00  \n",
       "13         1760000.0           330000   -66000.00  \n",
       "14         1936000.0           363000   -72600.00  \n",
       "15         2128000.0           399300   -78260.00  \n",
       "16         2342000.0           439230   -87286.00  \n",
       "17         2576000.0           483150   -95830.00  \n",
       "18         2834000.0           531450  -105890.00  \n",
       "19         3116000.0           584610  -115002.00  \n",
       "20         3428000.0           643050  -127010.00  \n",
       "21         3772000.0           707370  -140834.00  \n",
       "22         4148000.0           778110  -153702.00  \n",
       "23         4564000.0           855930  -170226.00  "
      ]
     },
     "execution_count": 708,
     "metadata": {},
     "output_type": "execute_result"
    }
   ],
   "source": [
    "collection_results"
   ]
  },
  {
   "attachments": {},
   "cell_type": "markdown",
   "metadata": {},
   "source": [
    "## Exporting Results"
   ]
  },
  {
   "cell_type": "code",
   "execution_count": 709,
   "metadata": {},
   "outputs": [],
   "source": [
    "# Export results to a CSV file\n",
    "collection_results.to_csv(\"./collection_results.csv\", index=False)\n",
    "\n",
    "# Export results to an Excel file\n",
    "collection_results.to_excel(\"./collection_results.xlsx\", index=False)"
   ]
  },
  {
   "attachments": {},
   "cell_type": "markdown",
   "metadata": {},
   "source": [
    "## Visualizing Results"
   ]
  },
  {
   "cell_type": "code",
   "execution_count": 710,
   "metadata": {},
   "outputs": [
    {
     "data": {
      "image/svg+xml": "<svg class=\"main-svg\" xmlns=\"http://www.w3.org/2000/svg\" xmlns:xlink=\"http://www.w3.org/1999/xlink\" width=\"700\" height=\"500\" style=\"\" viewBox=\"0 0 700 500\"><rect x=\"0\" y=\"0\" width=\"700\" height=\"500\" style=\"fill: rgb(255, 255, 255); fill-opacity: 1;\"/><defs id=\"defs-7e026c\"><g class=\"clips\"><clipPath id=\"clip7e026cxyplot\" class=\"plotclip\"><rect width=\"494\" height=\"320\"/></clipPath><clipPath class=\"axesclip\" id=\"clip7e026cx\"><rect x=\"80\" y=\"0\" width=\"494\" height=\"500\"/></clipPath><clipPath class=\"axesclip\" id=\"clip7e026cy\"><rect x=\"0\" y=\"100\" width=\"700\" height=\"320\"/></clipPath><clipPath class=\"axesclip\" id=\"clip7e026cxy\"><rect x=\"80\" y=\"100\" width=\"494\" height=\"320\"/></clipPath></g><g class=\"gradients\"/><g class=\"patterns\"/></defs><g class=\"bglayer\"><rect class=\"bg\" x=\"80\" y=\"100\" width=\"494\" height=\"320\" style=\"fill: rgb(229, 236, 246); fill-opacity: 1; stroke-width: 0;\"/></g><g class=\"layer-below\"><g class=\"imagelayer\"/><g class=\"shapelayer\"/></g><g class=\"cartesianlayer\"><g class=\"subplot xy\"><g class=\"layer-subplot\"><g class=\"shapelayer\"/><g class=\"imagelayer\"/></g><g class=\"minor-gridlayer\"><g class=\"x\"/><g class=\"y\"/></g><g class=\"gridlayer\"><g class=\"x\"><path class=\"xgrid crisp\" transform=\"translate(108.45,0)\" d=\"M0,100v320\" style=\"stroke: rgb(255, 255, 255); stroke-opacity: 1; stroke-width: 1px;\"/><path class=\"xgrid crisp\" transform=\"translate(148.19,0)\" d=\"M0,100v320\" style=\"stroke: rgb(255, 255, 255); stroke-opacity: 1; stroke-width: 1px;\"/><path class=\"xgrid crisp\" transform=\"translate(187.92000000000002,0)\" d=\"M0,100v320\" style=\"stroke: rgb(255, 255, 255); stroke-opacity: 1; stroke-width: 1px;\"/><path class=\"xgrid crisp\" transform=\"translate(227.66,0)\" d=\"M0,100v320\" style=\"stroke: rgb(255, 255, 255); stroke-opacity: 1; stroke-width: 1px;\"/><path class=\"xgrid crisp\" transform=\"translate(267.4,0)\" d=\"M0,100v320\" style=\"stroke: rgb(255, 255, 255); stroke-opacity: 1; stroke-width: 1px;\"/><path class=\"xgrid crisp\" transform=\"translate(307.13,0)\" d=\"M0,100v320\" style=\"stroke: rgb(255, 255, 255); stroke-opacity: 1; stroke-width: 1px;\"/><path class=\"xgrid crisp\" transform=\"translate(346.87,0)\" d=\"M0,100v320\" style=\"stroke: rgb(255, 255, 255); stroke-opacity: 1; stroke-width: 1px;\"/><path class=\"xgrid crisp\" transform=\"translate(386.6,0)\" d=\"M0,100v320\" style=\"stroke: rgb(255, 255, 255); stroke-opacity: 1; stroke-width: 1px;\"/><path class=\"xgrid crisp\" transform=\"translate(426.34,0)\" d=\"M0,100v320\" style=\"stroke: rgb(255, 255, 255); stroke-opacity: 1; stroke-width: 1px;\"/><path class=\"xgrid crisp\" transform=\"translate(466.08,0)\" d=\"M0,100v320\" style=\"stroke: rgb(255, 255, 255); stroke-opacity: 1; stroke-width: 1px;\"/><path class=\"xgrid crisp\" transform=\"translate(505.81,0)\" d=\"M0,100v320\" style=\"stroke: rgb(255, 255, 255); stroke-opacity: 1; stroke-width: 1px;\"/><path class=\"xgrid crisp\" transform=\"translate(545.55,0)\" d=\"M0,100v320\" style=\"stroke: rgb(255, 255, 255); stroke-opacity: 1; stroke-width: 1px;\"/></g><g class=\"y\"><path class=\"ygrid crisp\" transform=\"translate(0,368.42)\" d=\"M80,0h494\" style=\"stroke: rgb(255, 255, 255); stroke-opacity: 1; stroke-width: 1px;\"/><path class=\"ygrid crisp\" transform=\"translate(0,316.83000000000004)\" d=\"M80,0h494\" style=\"stroke: rgb(255, 255, 255); stroke-opacity: 1; stroke-width: 1px;\"/><path class=\"ygrid crisp\" transform=\"translate(0,265.25)\" d=\"M80,0h494\" style=\"stroke: rgb(255, 255, 255); stroke-opacity: 1; stroke-width: 1px;\"/><path class=\"ygrid crisp\" transform=\"translate(0,213.67000000000002)\" d=\"M80,0h494\" style=\"stroke: rgb(255, 255, 255); stroke-opacity: 1; stroke-width: 1px;\"/><path class=\"ygrid crisp\" transform=\"translate(0,162.07999999999998)\" d=\"M80,0h494\" style=\"stroke: rgb(255, 255, 255); stroke-opacity: 1; stroke-width: 1px;\"/><path class=\"ygrid crisp\" transform=\"translate(0,110.5)\" d=\"M80,0h494\" style=\"stroke: rgb(255, 255, 255); stroke-opacity: 1; stroke-width: 1px;\"/></g></g><g class=\"zerolinelayer\"><path class=\"yzl zl crisp\" transform=\"translate(0,420)\" d=\"M80,0h494\" style=\"stroke: rgb(255, 255, 255); stroke-opacity: 1; stroke-width: 2px;\"/></g><path class=\"xlines-below\"/><path class=\"ylines-below\"/><g class=\"overlines-below\"/><g class=\"xaxislayer-below\"/><g class=\"yaxislayer-below\"/><g class=\"overaxes-below\"/><g class=\"plot\" transform=\"translate(80,100)\" clip-path=\"url(#clip7e026cxyplot)\"><g class=\"scatterlayer mlayer\"><g class=\"trace scatter trace8f473e\" style=\"stroke-miterlimit: 2; opacity: 1;\"><g class=\"fills\"/><g class=\"errorbars\"/><g class=\"lines\"><path class=\"js-line\" d=\"M28.45,294.21L68.19,287.76L107.92,279.7L147.66,269.63L187.4,257.03L227.13,241.29L266.87,221.62L306.6,197.02L346.34,166.27L386.08,127.84L425.81,79.8L465.55,19.75\" style=\"vector-effect: none; fill: none; stroke: rgb(99, 110, 250); stroke-opacity: 1; stroke-width: 2px; opacity: 1;\"/></g><g class=\"points\"><path class=\"point\" transform=\"translate(28.45,294.21)\" d=\"M3,0A3,3 0 1,1 0,-3A3,3 0 0,1 3,0Z\" style=\"opacity: 1; stroke-width: 0px; fill: rgb(99, 110, 250); fill-opacity: 1;\"/><path class=\"point\" transform=\"translate(68.19,287.76)\" d=\"M3,0A3,3 0 1,1 0,-3A3,3 0 0,1 3,0Z\" style=\"opacity: 1; stroke-width: 0px; fill: rgb(99, 110, 250); fill-opacity: 1;\"/><path class=\"point\" transform=\"translate(107.92,279.7)\" d=\"M3,0A3,3 0 1,1 0,-3A3,3 0 0,1 3,0Z\" style=\"opacity: 1; stroke-width: 0px; fill: rgb(99, 110, 250); fill-opacity: 1;\"/><path class=\"point\" transform=\"translate(147.66,269.63)\" d=\"M3,0A3,3 0 1,1 0,-3A3,3 0 0,1 3,0Z\" style=\"opacity: 1; stroke-width: 0px; fill: rgb(99, 110, 250); fill-opacity: 1;\"/><path class=\"point\" transform=\"translate(187.4,257.03)\" d=\"M3,0A3,3 0 1,1 0,-3A3,3 0 0,1 3,0Z\" style=\"opacity: 1; stroke-width: 0px; fill: rgb(99, 110, 250); fill-opacity: 1;\"/><path class=\"point\" transform=\"translate(227.13,241.29)\" d=\"M3,0A3,3 0 1,1 0,-3A3,3 0 0,1 3,0Z\" style=\"opacity: 1; stroke-width: 0px; fill: rgb(99, 110, 250); fill-opacity: 1;\"/><path class=\"point\" transform=\"translate(266.87,221.62)\" d=\"M3,0A3,3 0 1,1 0,-3A3,3 0 0,1 3,0Z\" style=\"opacity: 1; stroke-width: 0px; fill: rgb(99, 110, 250); fill-opacity: 1;\"/><path class=\"point\" transform=\"translate(306.6,197.02)\" d=\"M3,0A3,3 0 1,1 0,-3A3,3 0 0,1 3,0Z\" style=\"opacity: 1; stroke-width: 0px; fill: rgb(99, 110, 250); fill-opacity: 1;\"/><path class=\"point\" transform=\"translate(346.34,166.27)\" d=\"M3,0A3,3 0 1,1 0,-3A3,3 0 0,1 3,0Z\" style=\"opacity: 1; stroke-width: 0px; fill: rgb(99, 110, 250); fill-opacity: 1;\"/><path class=\"point\" transform=\"translate(386.08,127.84)\" d=\"M3,0A3,3 0 1,1 0,-3A3,3 0 0,1 3,0Z\" style=\"opacity: 1; stroke-width: 0px; fill: rgb(99, 110, 250); fill-opacity: 1;\"/><path class=\"point\" transform=\"translate(425.81,79.8)\" d=\"M3,0A3,3 0 1,1 0,-3A3,3 0 0,1 3,0Z\" style=\"opacity: 1; stroke-width: 0px; fill: rgb(99, 110, 250); fill-opacity: 1;\"/><path class=\"point\" transform=\"translate(465.55,19.75)\" d=\"M3,0A3,3 0 1,1 0,-3A3,3 0 0,1 3,0Z\" style=\"opacity: 1; stroke-width: 0px; fill: rgb(99, 110, 250); fill-opacity: 1;\"/></g><g class=\"text\"/></g><g class=\"trace scatter traced3faf8\" style=\"stroke-miterlimit: 2; opacity: 1;\"><g class=\"fills\"/><g class=\"errorbars\"/><g class=\"lines\"><path class=\"js-line\" d=\"M28.45,268.42L107.92,257.58L147.66,251.34L227.13,236.93L266.87,228.62L306.6,219.48L346.34,209.43L386.08,198.37L425.81,186.21L465.55,172.83\" style=\"vector-effect: none; fill: none; stroke: rgb(239, 85, 59); stroke-opacity: 1; stroke-width: 2px; opacity: 1;\"/></g><g class=\"points\"><path class=\"point\" transform=\"translate(28.45,268.42)\" d=\"M3,0A3,3 0 1,1 0,-3A3,3 0 0,1 3,0Z\" style=\"opacity: 1; stroke-width: 0px; fill: rgb(239, 85, 59); fill-opacity: 1;\"/><path class=\"point\" transform=\"translate(68.19,263.26)\" d=\"M3,0A3,3 0 1,1 0,-3A3,3 0 0,1 3,0Z\" style=\"opacity: 1; stroke-width: 0px; fill: rgb(239, 85, 59); fill-opacity: 1;\"/><path class=\"point\" transform=\"translate(107.92,257.58)\" d=\"M3,0A3,3 0 1,1 0,-3A3,3 0 0,1 3,0Z\" style=\"opacity: 1; stroke-width: 0px; fill: rgb(239, 85, 59); fill-opacity: 1;\"/><path class=\"point\" transform=\"translate(147.66,251.34)\" d=\"M3,0A3,3 0 1,1 0,-3A3,3 0 0,1 3,0Z\" style=\"opacity: 1; stroke-width: 0px; fill: rgb(239, 85, 59); fill-opacity: 1;\"/><path class=\"point\" transform=\"translate(187.4,244.48)\" d=\"M3,0A3,3 0 1,1 0,-3A3,3 0 0,1 3,0Z\" style=\"opacity: 1; stroke-width: 0px; fill: rgb(239, 85, 59); fill-opacity: 1;\"/><path class=\"point\" transform=\"translate(227.13,236.93)\" d=\"M3,0A3,3 0 1,1 0,-3A3,3 0 0,1 3,0Z\" style=\"opacity: 1; stroke-width: 0px; fill: rgb(239, 85, 59); fill-opacity: 1;\"/><path class=\"point\" transform=\"translate(266.87,228.62)\" d=\"M3,0A3,3 0 1,1 0,-3A3,3 0 0,1 3,0Z\" style=\"opacity: 1; stroke-width: 0px; fill: rgb(239, 85, 59); fill-opacity: 1;\"/><path class=\"point\" transform=\"translate(306.6,219.48)\" d=\"M3,0A3,3 0 1,1 0,-3A3,3 0 0,1 3,0Z\" style=\"opacity: 1; stroke-width: 0px; fill: rgb(239, 85, 59); fill-opacity: 1;\"/><path class=\"point\" transform=\"translate(346.34,209.43)\" d=\"M3,0A3,3 0 1,1 0,-3A3,3 0 0,1 3,0Z\" style=\"opacity: 1; stroke-width: 0px; fill: rgb(239, 85, 59); fill-opacity: 1;\"/><path class=\"point\" transform=\"translate(386.08,198.37)\" d=\"M3,0A3,3 0 1,1 0,-3A3,3 0 0,1 3,0Z\" style=\"opacity: 1; stroke-width: 0px; fill: rgb(239, 85, 59); fill-opacity: 1;\"/><path class=\"point\" transform=\"translate(425.81,186.21)\" d=\"M3,0A3,3 0 1,1 0,-3A3,3 0 0,1 3,0Z\" style=\"opacity: 1; stroke-width: 0px; fill: rgb(239, 85, 59); fill-opacity: 1;\"/><path class=\"point\" transform=\"translate(465.55,172.83)\" d=\"M3,0A3,3 0 1,1 0,-3A3,3 0 0,1 3,0Z\" style=\"opacity: 1; stroke-width: 0px; fill: rgb(239, 85, 59); fill-opacity: 1;\"/></g><g class=\"text\"/></g></g></g><g class=\"overplot\"/><path class=\"xlines-above crisp\" d=\"M0,0\" style=\"fill: none;\"/><path class=\"ylines-above crisp\" d=\"M0,0\" style=\"fill: none;\"/><g class=\"overlines-above\"/><g class=\"xaxislayer-above\"><g class=\"xtick\"><text text-anchor=\"middle\" x=\"0\" y=\"433\" transform=\"translate(108.45,0)\" style=\"font-family: 'Open Sans', verdana, arial, sans-serif; font-size: 12px; fill: rgb(42, 63, 95); fill-opacity: 1; white-space: pre; opacity: 1;\">1</text></g><g class=\"xtick\"><text text-anchor=\"middle\" x=\"0\" y=\"433\" style=\"font-family: 'Open Sans', verdana, arial, sans-serif; font-size: 12px; fill: rgb(42, 63, 95); fill-opacity: 1; white-space: pre; opacity: 1;\" transform=\"translate(148.19,0)\">2</text></g><g class=\"xtick\"><text text-anchor=\"middle\" x=\"0\" y=\"433\" style=\"font-family: 'Open Sans', verdana, arial, sans-serif; font-size: 12px; fill: rgb(42, 63, 95); fill-opacity: 1; white-space: pre; opacity: 1;\" transform=\"translate(187.92000000000002,0)\">3</text></g><g class=\"xtick\"><text text-anchor=\"middle\" x=\"0\" y=\"433\" style=\"font-family: 'Open Sans', verdana, arial, sans-serif; font-size: 12px; fill: rgb(42, 63, 95); fill-opacity: 1; white-space: pre; opacity: 1;\" transform=\"translate(227.66,0)\">4</text></g><g class=\"xtick\"><text text-anchor=\"middle\" x=\"0\" y=\"433\" style=\"font-family: 'Open Sans', verdana, arial, sans-serif; font-size: 12px; fill: rgb(42, 63, 95); fill-opacity: 1; white-space: pre; opacity: 1;\" transform=\"translate(267.4,0)\">5</text></g><g class=\"xtick\"><text text-anchor=\"middle\" x=\"0\" y=\"433\" style=\"font-family: 'Open Sans', verdana, arial, sans-serif; font-size: 12px; fill: rgb(42, 63, 95); fill-opacity: 1; white-space: pre; opacity: 1;\" transform=\"translate(307.13,0)\">6</text></g><g class=\"xtick\"><text text-anchor=\"middle\" x=\"0\" y=\"433\" style=\"font-family: 'Open Sans', verdana, arial, sans-serif; font-size: 12px; fill: rgb(42, 63, 95); fill-opacity: 1; white-space: pre; opacity: 1;\" transform=\"translate(346.87,0)\">7</text></g><g class=\"xtick\"><text text-anchor=\"middle\" x=\"0\" y=\"433\" style=\"font-family: 'Open Sans', verdana, arial, sans-serif; font-size: 12px; fill: rgb(42, 63, 95); fill-opacity: 1; white-space: pre; opacity: 1;\" transform=\"translate(386.6,0)\">8</text></g><g class=\"xtick\"><text text-anchor=\"middle\" x=\"0\" y=\"433\" style=\"font-family: 'Open Sans', verdana, arial, sans-serif; font-size: 12px; fill: rgb(42, 63, 95); fill-opacity: 1; white-space: pre; opacity: 1;\" transform=\"translate(426.34,0)\">9</text></g><g class=\"xtick\"><text text-anchor=\"middle\" x=\"0\" y=\"433\" style=\"font-family: 'Open Sans', verdana, arial, sans-serif; font-size: 12px; fill: rgb(42, 63, 95); fill-opacity: 1; white-space: pre; opacity: 1;\" transform=\"translate(466.08,0)\">10</text></g><g class=\"xtick\"><text text-anchor=\"middle\" x=\"0\" y=\"433\" style=\"font-family: 'Open Sans', verdana, arial, sans-serif; font-size: 12px; fill: rgb(42, 63, 95); fill-opacity: 1; white-space: pre; opacity: 1;\" transform=\"translate(505.81,0)\">11</text></g><g class=\"xtick\"><text text-anchor=\"middle\" x=\"0\" y=\"433\" style=\"font-family: 'Open Sans', verdana, arial, sans-serif; font-size: 12px; fill: rgb(42, 63, 95); fill-opacity: 1; white-space: pre; opacity: 1;\" transform=\"translate(545.55,0)\">12</text></g></g><g class=\"yaxislayer-above\"><g class=\"ytick\"><text text-anchor=\"end\" x=\"79\" y=\"4.199999999999999\" transform=\"translate(0,420)\" style=\"font-family: 'Open Sans', verdana, arial, sans-serif; font-size: 12px; fill: rgb(42, 63, 95); fill-opacity: 1; white-space: pre; opacity: 1;\">0</text></g><g class=\"ytick\"><text text-anchor=\"end\" x=\"79\" y=\"4.199999999999999\" style=\"font-family: 'Open Sans', verdana, arial, sans-serif; font-size: 12px; fill: rgb(42, 63, 95); fill-opacity: 1; white-space: pre; opacity: 1;\" transform=\"translate(0,368.42)\">10k</text></g><g class=\"ytick\"><text text-anchor=\"end\" x=\"79\" y=\"4.199999999999999\" style=\"font-family: 'Open Sans', verdana, arial, sans-serif; font-size: 12px; fill: rgb(42, 63, 95); fill-opacity: 1; white-space: pre; opacity: 1;\" transform=\"translate(0,316.83000000000004)\">20k</text></g><g class=\"ytick\"><text text-anchor=\"end\" x=\"79\" y=\"4.199999999999999\" style=\"font-family: 'Open Sans', verdana, arial, sans-serif; font-size: 12px; fill: rgb(42, 63, 95); fill-opacity: 1; white-space: pre; opacity: 1;\" transform=\"translate(0,265.25)\">30k</text></g><g class=\"ytick\"><text text-anchor=\"end\" x=\"79\" y=\"4.199999999999999\" style=\"font-family: 'Open Sans', verdana, arial, sans-serif; font-size: 12px; fill: rgb(42, 63, 95); fill-opacity: 1; white-space: pre; opacity: 1;\" transform=\"translate(0,213.67000000000002)\">40k</text></g><g class=\"ytick\"><text text-anchor=\"end\" x=\"79\" y=\"4.199999999999999\" style=\"font-family: 'Open Sans', verdana, arial, sans-serif; font-size: 12px; fill: rgb(42, 63, 95); fill-opacity: 1; white-space: pre; opacity: 1;\" transform=\"translate(0,162.07999999999998)\">50k</text></g><g class=\"ytick\"><text text-anchor=\"end\" x=\"79\" y=\"4.199999999999999\" style=\"font-family: 'Open Sans', verdana, arial, sans-serif; font-size: 12px; fill: rgb(42, 63, 95); fill-opacity: 1; white-space: pre; opacity: 1;\" transform=\"translate(0,110.5)\">60k</text></g></g><g class=\"overaxes-above\"/></g></g><g class=\"polarlayer\"/><g class=\"smithlayer\"/><g class=\"ternarylayer\"/><g class=\"geolayer\"/><g class=\"funnelarealayer\"/><g class=\"pielayer\"/><g class=\"iciclelayer\"/><g class=\"treemaplayer\"/><g class=\"sunburstlayer\"/><g class=\"glimages\"/><defs id=\"topdefs-7e026c\"><g class=\"clips\"/><clipPath id=\"legend7e026c\"><rect width=\"104\" height=\"67\" x=\"0\" y=\"0\"/></clipPath></defs><g class=\"layer-above\"><g class=\"imagelayer\"/><g class=\"shapelayer\"/></g><g class=\"infolayer\"><g class=\"legend\" pointer-events=\"all\" transform=\"translate(583.88,100)\"><rect class=\"bg\" shape-rendering=\"crispEdges\" width=\"104\" height=\"67\" x=\"0\" y=\"0\" style=\"stroke: rgb(68, 68, 68); stroke-opacity: 1; fill: rgb(255, 255, 255); fill-opacity: 1; stroke-width: 0px;\"/><g class=\"scrollbox\" transform=\"\" clip-path=\"url(#legend7e026c)\"><text class=\"legendtitletext\" text-anchor=\"start\" x=\"2\" y=\"18.2\" style=\"font-family: 'Open Sans', verdana, arial, sans-serif; font-size: 14px; fill: rgb(42, 63, 95); fill-opacity: 1; white-space: pre;\">Loan Type</text><g class=\"groups\" transform=\"\"><g class=\"traces\" transform=\"translate(0,32.7)\" style=\"opacity: 1;\"><text class=\"legendtext\" text-anchor=\"start\" x=\"40\" y=\"4.680000000000001\" style=\"font-family: 'Open Sans', verdana, arial, sans-serif; font-size: 12px; fill: rgb(42, 63, 95); fill-opacity: 1; white-space: pre;\">Contigo A</text><g class=\"layers\" style=\"opacity: 1;\"><g class=\"legendfill\"/><g class=\"legendlines\"><path class=\"js-line\" d=\"M5,0h30\" style=\"fill: none; stroke: rgb(99, 110, 250); stroke-opacity: 1; stroke-width: 2px;\"/></g><g class=\"legendsymbols\"><g class=\"legendpoints\"><path class=\"scatterpts\" transform=\"translate(20,0)\" d=\"M3,0A3,3 0 1,1 0,-3A3,3 0 0,1 3,0Z\" style=\"opacity: 1; stroke-width: 0px; fill: rgb(99, 110, 250); fill-opacity: 1;\"/></g></g></g><rect class=\"legendtoggle\" x=\"0\" y=\"-9.5\" width=\"98.484375\" height=\"19\" style=\"fill: rgb(0, 0, 0); fill-opacity: 0;\"/></g></g><g class=\"groups\" transform=\"\"><g class=\"traces\" transform=\"translate(0,51.7)\" style=\"opacity: 1;\"><text class=\"legendtext\" text-anchor=\"start\" x=\"40\" y=\"4.680000000000001\" style=\"font-family: 'Open Sans', verdana, arial, sans-serif; font-size: 12px; fill: rgb(42, 63, 95); fill-opacity: 1; white-space: pre;\">Contigo B</text><g class=\"layers\" style=\"opacity: 1;\"><g class=\"legendfill\"/><g class=\"legendlines\"><path class=\"js-line\" d=\"M5,0h30\" style=\"fill: none; stroke: rgb(239, 85, 59); stroke-opacity: 1; stroke-width: 2px;\"/></g><g class=\"legendsymbols\"><g class=\"legendpoints\"><path class=\"scatterpts\" transform=\"translate(20,0)\" d=\"M3,0A3,3 0 1,1 0,-3A3,3 0 0,1 3,0Z\" style=\"opacity: 1; stroke-width: 0px; fill: rgb(239, 85, 59); fill-opacity: 1;\"/></g></g></g><rect class=\"legendtoggle\" x=\"0\" y=\"-9.5\" width=\"98.484375\" height=\"19\" style=\"fill: rgb(0, 0, 0); fill-opacity: 0;\"/></g></g></g><rect class=\"scrollbar\" rx=\"20\" ry=\"3\" width=\"0\" height=\"0\" x=\"0\" y=\"0\" style=\"fill: rgb(128, 139, 164); fill-opacity: 1;\"/></g><g class=\"g-gtitle\"><text class=\"gtitle\" x=\"35\" y=\"50\" text-anchor=\"start\" dy=\"0em\" style=\"font-family: 'Open Sans', verdana, arial, sans-serif; font-size: 17px; fill: rgb(42, 63, 95); opacity: 1; font-weight: normal; white-space: pre;\">Number of Accounts per Month</text></g><g class=\"g-xtitle\"><text class=\"xtitle\" x=\"327\" y=\"459.8\" text-anchor=\"middle\" style=\"font-family: 'Open Sans', verdana, arial, sans-serif; font-size: 14px; fill: rgb(42, 63, 95); opacity: 1; font-weight: normal; white-space: pre;\">Month Number</text></g><g class=\"g-ytitle\"><text class=\"ytitle\" transform=\"rotate(-90,32.340625,260)\" x=\"32.340625\" y=\"260\" text-anchor=\"middle\" style=\"font-family: 'Open Sans', verdana, arial, sans-serif; font-size: 14px; fill: rgb(42, 63, 95); opacity: 1; font-weight: normal; white-space: pre;\">Number of Accounts (in thousands)</text></g></g></svg>"
     },
     "metadata": {},
     "output_type": "display_data"
    }
   ],
   "source": [
    "accts_lin_plot = px.line(collection_results,\n",
    "                         x=\"month\",\n",
    "                         y=\"accounts\",\n",
    "                         color=\"loan_type\",\n",
    "                         markers=True,\n",
    "                         title=\"Number of Accounts per Month\")\n",
    "\n",
    "# Update figure layout\n",
    "accts_lin_plot.update_layout(xaxis_title=\"Month Number\",\n",
    "                             yaxis_title=\"Number of Accounts (in thousands)\",\n",
    "                             legend_title=\"Loan Type\")\n",
    "\n",
    "# Set y-axis to start at 0\n",
    "accts_lin_plot.update_yaxes(rangemode=\"tozero\")\n",
    "\n",
    "# Set the steps between ticks to 1\n",
    "accts_lin_plot.update_xaxes(dtick=1)\n",
    "\n",
    "# Show figure in svg format\n",
    "accts_lin_plot.show(\"svg\")"
   ]
  },
  {
   "attachments": {},
   "cell_type": "markdown",
   "metadata": {},
   "source": [
    "> **Observation**: The number of accounts of Contigo A becomes higher that Contigo B after the sixth month."
   ]
  },
  {
   "cell_type": "code",
   "execution_count": 711,
   "metadata": {},
   "outputs": [
    {
     "data": {
      "image/svg+xml": "<svg class=\"main-svg\" xmlns=\"http://www.w3.org/2000/svg\" xmlns:xlink=\"http://www.w3.org/1999/xlink\" width=\"700\" height=\"500\" style=\"\" viewBox=\"0 0 700 500\"><rect x=\"0\" y=\"0\" width=\"700\" height=\"500\" style=\"fill: rgb(255, 255, 255); fill-opacity: 1;\"/><defs id=\"defs-25eba5\"><g class=\"clips\"><clipPath id=\"clip25eba5xyplot\" class=\"plotclip\"><rect width=\"494\" height=\"320\"/></clipPath><clipPath class=\"axesclip\" id=\"clip25eba5x\"><rect x=\"80\" y=\"0\" width=\"494\" height=\"500\"/></clipPath><clipPath class=\"axesclip\" id=\"clip25eba5y\"><rect x=\"0\" y=\"100\" width=\"700\" height=\"320\"/></clipPath><clipPath class=\"axesclip\" id=\"clip25eba5xy\"><rect x=\"80\" y=\"100\" width=\"494\" height=\"320\"/></clipPath></g><g class=\"gradients\"/><g class=\"patterns\"/></defs><g class=\"bglayer\"><rect class=\"bg\" x=\"80\" y=\"100\" width=\"494\" height=\"320\" style=\"fill: rgb(229, 236, 246); fill-opacity: 1; stroke-width: 0;\"/></g><g class=\"layer-below\"><g class=\"imagelayer\"/><g class=\"shapelayer\"/></g><g class=\"cartesianlayer\"><g class=\"subplot xy\"><g class=\"layer-subplot\"><g class=\"shapelayer\"/><g class=\"imagelayer\"/></g><g class=\"minor-gridlayer\"><g class=\"x\"/><g class=\"y\"/></g><g class=\"gridlayer\"><g class=\"x\"/><g class=\"y\"><path class=\"ygrid crisp\" transform=\"translate(0,396.46)\" d=\"M80,0h494\" style=\"stroke: rgb(255, 255, 255); stroke-opacity: 1; stroke-width: 1px;\"/><path class=\"ygrid crisp\" transform=\"translate(0,322.35)\" d=\"M80,0h494\" style=\"stroke: rgb(255, 255, 255); stroke-opacity: 1; stroke-width: 1px;\"/><path class=\"ygrid crisp\" transform=\"translate(0,248.23)\" d=\"M80,0h494\" style=\"stroke: rgb(255, 255, 255); stroke-opacity: 1; stroke-width: 1px;\"/><path class=\"ygrid crisp\" transform=\"translate(0,174.12)\" d=\"M80,0h494\" style=\"stroke: rgb(255, 255, 255); stroke-opacity: 1; stroke-width: 1px;\"/></g></g><g class=\"zerolinelayer\"><path class=\"yzl zl crisp\" transform=\"translate(0,100)\" d=\"M80,0h494\" style=\"stroke: rgb(255, 255, 255); stroke-opacity: 1; stroke-width: 2px;\"/></g><path class=\"xlines-below\"/><path class=\"ylines-below\"/><g class=\"overlines-below\"/><g class=\"xaxislayer-below\"/><g class=\"yaxislayer-below\"/><g class=\"overaxes-below\"/><g class=\"plot\" transform=\"translate(80,100)\" clip-path=\"url(#clip25eba5xyplot)\"><g class=\"barlayer mlayer\"><g class=\"trace bars\" style=\"opacity: 1;\"><g class=\"points\"><g class=\"point\"><path d=\"M4.12,0V26.13H20.58V0Z\" style=\"vector-effect: none; opacity: 1; stroke-width: 0.5px; fill: rgb(99, 110, 250); fill-opacity: 1; stroke: rgb(229, 236, 246); stroke-opacity: 1;\"/></g><g class=\"point\"><path d=\"M45.28,0V32.55H61.75V0Z\" style=\"vector-effect: none; opacity: 1; stroke-width: 0.5px; fill: rgb(99, 110, 250); fill-opacity: 1; stroke: rgb(229, 236, 246); stroke-opacity: 1;\"/></g><g class=\"point\"><path d=\"M86.45,0V40.73H102.92V0Z\" style=\"vector-effect: none; opacity: 1; stroke-width: 0.5px; fill: rgb(99, 110, 250); fill-opacity: 1; stroke: rgb(229, 236, 246); stroke-opacity: 1;\"/></g><g class=\"point\"><path d=\"M127.62,0V50.98H144.08V0Z\" style=\"vector-effect: none; opacity: 1; stroke-width: 0.5px; fill: rgb(99, 110, 250); fill-opacity: 1; stroke: rgb(229, 236, 246); stroke-opacity: 1;\"/></g><g class=\"point\"><path d=\"M168.78,0V63.64H185.25V0Z\" style=\"vector-effect: none; opacity: 1; stroke-width: 0.5px; fill: rgb(99, 110, 250); fill-opacity: 1; stroke: rgb(229, 236, 246); stroke-opacity: 1;\"/></g><g class=\"point\"><path d=\"M209.95,0V79.6H226.42V0Z\" style=\"vector-effect: none; opacity: 1; stroke-width: 0.5px; fill: rgb(99, 110, 250); fill-opacity: 1; stroke: rgb(229, 236, 246); stroke-opacity: 1;\"/></g><g class=\"point\"><path d=\"M251.12,0V99.53H267.58V0Z\" style=\"vector-effect: none; opacity: 1; stroke-width: 0.5px; fill: rgb(99, 110, 250); fill-opacity: 1; stroke: rgb(229, 236, 246); stroke-opacity: 1;\"/></g><g class=\"point\"><path d=\"M292.28,0V124.49H308.75V0Z\" style=\"vector-effect: none; opacity: 1; stroke-width: 0.5px; fill: rgb(99, 110, 250); fill-opacity: 1; stroke: rgb(229, 236, 246); stroke-opacity: 1;\"/></g><g class=\"point\"><path d=\"M333.45,0V155.68H349.92V0Z\" style=\"vector-effect: none; opacity: 1; stroke-width: 0.5px; fill: rgb(99, 110, 250); fill-opacity: 1; stroke: rgb(229, 236, 246); stroke-opacity: 1;\"/></g><g class=\"point\"><path d=\"M374.62,0V194.64H391.08V0Z\" style=\"vector-effect: none; opacity: 1; stroke-width: 0.5px; fill: rgb(99, 110, 250); fill-opacity: 1; stroke: rgb(229, 236, 246); stroke-opacity: 1;\"/></g><g class=\"point\"><path d=\"M415.78,0V243.25H432.25V0Z\" style=\"vector-effect: none; opacity: 1; stroke-width: 0.5px; fill: rgb(99, 110, 250); fill-opacity: 1; stroke: rgb(229, 236, 246); stroke-opacity: 1;\"/></g><g class=\"point\"><path d=\"M456.95,0V304H473.42V0Z\" style=\"vector-effect: none; opacity: 1; stroke-width: 0.5px; fill: rgb(99, 110, 250); fill-opacity: 1; stroke: rgb(229, 236, 246); stroke-opacity: 1;\"/></g></g></g><g class=\"trace bars\" style=\"opacity: 1;\"><g class=\"points\"><g class=\"point\"><path d=\"M20.58,0V8.89H37.05V0Z\" style=\"vector-effect: none; opacity: 1; stroke-width: 0.5px; fill: rgb(239, 85, 59); fill-opacity: 1; stroke: rgb(229, 236, 246); stroke-opacity: 1;\"/></g><g class=\"point\"><path d=\"M61.75,0V9.78H78.22V0Z\" style=\"vector-effect: none; opacity: 1; stroke-width: 0.5px; fill: rgb(239, 85, 59); fill-opacity: 1; stroke: rgb(229, 236, 246); stroke-opacity: 1;\"/></g><g class=\"point\"><path d=\"M102.92,0V10.76H119.38V0Z\" style=\"vector-effect: none; opacity: 1; stroke-width: 0.5px; fill: rgb(239, 85, 59); fill-opacity: 1; stroke: rgb(229, 236, 246); stroke-opacity: 1;\"/></g><g class=\"point\"><path d=\"M144.08,0V11.6H160.55V0Z\" style=\"vector-effect: none; opacity: 1; stroke-width: 0.5px; fill: rgb(239, 85, 59); fill-opacity: 1; stroke: rgb(229, 236, 246); stroke-opacity: 1;\"/></g><g class=\"point\"><path d=\"M185.25,0V12.94H201.72V0Z\" style=\"vector-effect: none; opacity: 1; stroke-width: 0.5px; fill: rgb(239, 85, 59); fill-opacity: 1; stroke: rgb(229, 236, 246); stroke-opacity: 1;\"/></g><g class=\"point\"><path d=\"M226.42,0V14.2H242.88V0Z\" style=\"vector-effect: none; opacity: 1; stroke-width: 0.5px; fill: rgb(239, 85, 59); fill-opacity: 1; stroke: rgb(229, 236, 246); stroke-opacity: 1;\"/></g><g class=\"point\"><path d=\"M267.58,0V15.7H284.05V0Z\" style=\"vector-effect: none; opacity: 1; stroke-width: 0.5px; fill: rgb(239, 85, 59); fill-opacity: 1; stroke: rgb(229, 236, 246); stroke-opacity: 1;\"/></g><g class=\"point\"><path d=\"M308.75,0V17.05H325.22V0Z\" style=\"vector-effect: none; opacity: 1; stroke-width: 0.5px; fill: rgb(239, 85, 59); fill-opacity: 1; stroke: rgb(229, 236, 246); stroke-opacity: 1;\"/></g><g class=\"point\"><path d=\"M349.92,0V18.83H366.38V0Z\" style=\"vector-effect: none; opacity: 1; stroke-width: 0.5px; fill: rgb(239, 85, 59); fill-opacity: 1; stroke: rgb(229, 236, 246); stroke-opacity: 1;\"/></g><g class=\"point\"><path d=\"M391.08,0V20.88H407.55V0Z\" style=\"vector-effect: none; opacity: 1; stroke-width: 0.5px; fill: rgb(239, 85, 59); fill-opacity: 1; stroke: rgb(229, 236, 246); stroke-opacity: 1;\"/></g><g class=\"point\"><path d=\"M432.25,0V22.78H448.72V0Z\" style=\"vector-effect: none; opacity: 1; stroke-width: 0.5px; fill: rgb(239, 85, 59); fill-opacity: 1; stroke: rgb(229, 236, 246); stroke-opacity: 1;\"/></g><g class=\"point\"><path d=\"M473.42,0V25.23H489.88V0Z\" style=\"vector-effect: none; opacity: 1; stroke-width: 0.5px; fill: rgb(239, 85, 59); fill-opacity: 1; stroke: rgb(229, 236, 246); stroke-opacity: 1;\"/></g></g></g></g></g><g class=\"overplot\"/><path class=\"xlines-above crisp\" d=\"M0,0\" style=\"fill: none;\"/><path class=\"ylines-above crisp\" d=\"M0,0\" style=\"fill: none;\"/><g class=\"overlines-above\"/><g class=\"xaxislayer-above\"><g class=\"xtick\"><text text-anchor=\"middle\" x=\"0\" y=\"433\" transform=\"translate(100.58,0)\" style=\"font-family: 'Open Sans', verdana, arial, sans-serif; font-size: 12px; fill: rgb(42, 63, 95); fill-opacity: 1; white-space: pre; opacity: 1;\">1</text></g><g class=\"xtick\"><text text-anchor=\"middle\" x=\"0\" y=\"433\" style=\"font-family: 'Open Sans', verdana, arial, sans-serif; font-size: 12px; fill: rgb(42, 63, 95); fill-opacity: 1; white-space: pre; opacity: 1;\" transform=\"translate(141.75,0)\">2</text></g><g class=\"xtick\"><text text-anchor=\"middle\" x=\"0\" y=\"433\" style=\"font-family: 'Open Sans', verdana, arial, sans-serif; font-size: 12px; fill: rgb(42, 63, 95); fill-opacity: 1; white-space: pre; opacity: 1;\" transform=\"translate(182.92000000000002,0)\">3</text></g><g class=\"xtick\"><text text-anchor=\"middle\" x=\"0\" y=\"433\" style=\"font-family: 'Open Sans', verdana, arial, sans-serif; font-size: 12px; fill: rgb(42, 63, 95); fill-opacity: 1; white-space: pre; opacity: 1;\" transform=\"translate(224.08,0)\">4</text></g><g class=\"xtick\"><text text-anchor=\"middle\" x=\"0\" y=\"433\" style=\"font-family: 'Open Sans', verdana, arial, sans-serif; font-size: 12px; fill: rgb(42, 63, 95); fill-opacity: 1; white-space: pre; opacity: 1;\" transform=\"translate(265.25,0)\">5</text></g><g class=\"xtick\"><text text-anchor=\"middle\" x=\"0\" y=\"433\" style=\"font-family: 'Open Sans', verdana, arial, sans-serif; font-size: 12px; fill: rgb(42, 63, 95); fill-opacity: 1; white-space: pre; opacity: 1;\" transform=\"translate(306.41999999999996,0)\">6</text></g><g class=\"xtick\"><text text-anchor=\"middle\" x=\"0\" y=\"433\" style=\"font-family: 'Open Sans', verdana, arial, sans-serif; font-size: 12px; fill: rgb(42, 63, 95); fill-opacity: 1; white-space: pre; opacity: 1;\" transform=\"translate(347.58,0)\">7</text></g><g class=\"xtick\"><text text-anchor=\"middle\" x=\"0\" y=\"433\" style=\"font-family: 'Open Sans', verdana, arial, sans-serif; font-size: 12px; fill: rgb(42, 63, 95); fill-opacity: 1; white-space: pre; opacity: 1;\" transform=\"translate(388.75,0)\">8</text></g><g class=\"xtick\"><text text-anchor=\"middle\" x=\"0\" y=\"433\" style=\"font-family: 'Open Sans', verdana, arial, sans-serif; font-size: 12px; fill: rgb(42, 63, 95); fill-opacity: 1; white-space: pre; opacity: 1;\" transform=\"translate(429.92,0)\">9</text></g><g class=\"xtick\"><text text-anchor=\"middle\" x=\"0\" y=\"433\" style=\"font-family: 'Open Sans', verdana, arial, sans-serif; font-size: 12px; fill: rgb(42, 63, 95); fill-opacity: 1; white-space: pre; opacity: 1;\" transform=\"translate(471.08,0)\">10</text></g><g class=\"xtick\"><text text-anchor=\"middle\" x=\"0\" y=\"433\" style=\"font-family: 'Open Sans', verdana, arial, sans-serif; font-size: 12px; fill: rgb(42, 63, 95); fill-opacity: 1; white-space: pre; opacity: 1;\" transform=\"translate(512.25,0)\">11</text></g><g class=\"xtick\"><text text-anchor=\"middle\" x=\"0\" y=\"433\" style=\"font-family: 'Open Sans', verdana, arial, sans-serif; font-size: 12px; fill: rgb(42, 63, 95); fill-opacity: 1; white-space: pre; opacity: 1;\" transform=\"translate(553.4200000000001,0)\">12</text></g></g><g class=\"yaxislayer-above\"><g class=\"ytick\"><text text-anchor=\"end\" x=\"79\" y=\"4.199999999999999\" transform=\"translate(0,396.46)\" style=\"font-family: 'Open Sans', verdana, arial, sans-serif; font-size: 12px; fill: rgb(42, 63, 95); fill-opacity: 1; white-space: pre; opacity: 1;\">−2M</text></g><g class=\"ytick\"><text text-anchor=\"end\" x=\"79\" y=\"4.199999999999999\" style=\"font-family: 'Open Sans', verdana, arial, sans-serif; font-size: 12px; fill: rgb(42, 63, 95); fill-opacity: 1; white-space: pre; opacity: 1;\" transform=\"translate(0,322.35)\">−1.5M</text></g><g class=\"ytick\"><text text-anchor=\"end\" x=\"79\" y=\"4.199999999999999\" style=\"font-family: 'Open Sans', verdana, arial, sans-serif; font-size: 12px; fill: rgb(42, 63, 95); fill-opacity: 1; white-space: pre; opacity: 1;\" transform=\"translate(0,248.23)\">−1M</text></g><g class=\"ytick\"><text text-anchor=\"end\" x=\"79\" y=\"4.199999999999999\" style=\"font-family: 'Open Sans', verdana, arial, sans-serif; font-size: 12px; fill: rgb(42, 63, 95); fill-opacity: 1; white-space: pre; opacity: 1;\" transform=\"translate(0,174.12)\">−0.5M</text></g><g class=\"ytick\"><text text-anchor=\"end\" x=\"79\" y=\"4.199999999999999\" style=\"font-family: 'Open Sans', verdana, arial, sans-serif; font-size: 12px; fill: rgb(42, 63, 95); fill-opacity: 1; white-space: pre; opacity: 1;\" transform=\"translate(0,100)\">0</text></g></g><g class=\"overaxes-above\"/></g></g><g class=\"polarlayer\"/><g class=\"smithlayer\"/><g class=\"ternarylayer\"/><g class=\"geolayer\"/><g class=\"funnelarealayer\"/><g class=\"pielayer\"/><g class=\"iciclelayer\"/><g class=\"treemaplayer\"/><g class=\"sunburstlayer\"/><g class=\"glimages\"/><defs id=\"topdefs-25eba5\"><g class=\"clips\"/><clipPath id=\"legend25eba5\"><rect width=\"104\" height=\"67\" x=\"0\" y=\"0\"/></clipPath></defs><g class=\"layer-above\"><g class=\"imagelayer\"/><g class=\"shapelayer\"/></g><g class=\"infolayer\"><g class=\"legend\" pointer-events=\"all\" transform=\"translate(583.88,100)\"><rect class=\"bg\" shape-rendering=\"crispEdges\" width=\"104\" height=\"67\" x=\"0\" y=\"0\" style=\"stroke: rgb(68, 68, 68); stroke-opacity: 1; fill: rgb(255, 255, 255); fill-opacity: 1; stroke-width: 0px;\"/><g class=\"scrollbox\" transform=\"\" clip-path=\"url(#legend25eba5)\"><text class=\"legendtitletext\" text-anchor=\"start\" x=\"2\" y=\"18.2\" style=\"font-family: 'Open Sans', verdana, arial, sans-serif; font-size: 14px; fill: rgb(42, 63, 95); fill-opacity: 1; white-space: pre;\">Loan Type</text><g class=\"groups\" transform=\"\"><g class=\"traces\" transform=\"translate(0,32.7)\" style=\"opacity: 1;\"><text class=\"legendtext\" text-anchor=\"start\" x=\"40\" y=\"4.680000000000001\" style=\"font-family: 'Open Sans', verdana, arial, sans-serif; font-size: 12px; fill: rgb(42, 63, 95); fill-opacity: 1; white-space: pre;\">Contigo A</text><g class=\"layers\" style=\"opacity: 1;\"><g class=\"legendfill\"/><g class=\"legendlines\"/><g class=\"legendsymbols\"><g class=\"legendpoints\"><path class=\"legendundefined\" d=\"M6,6H-6V-6H6Z\" transform=\"translate(20,0)\" style=\"stroke-width: 0.5px; fill: rgb(99, 110, 250); fill-opacity: 1; stroke: rgb(229, 236, 246); stroke-opacity: 1;\"/></g></g></g><rect class=\"legendtoggle\" x=\"0\" y=\"-9.5\" width=\"98.484375\" height=\"19\" style=\"fill: rgb(0, 0, 0); fill-opacity: 0;\"/></g></g><g class=\"groups\" transform=\"\"><g class=\"traces\" transform=\"translate(0,51.7)\" style=\"opacity: 1;\"><text class=\"legendtext\" text-anchor=\"start\" x=\"40\" y=\"4.680000000000001\" style=\"font-family: 'Open Sans', verdana, arial, sans-serif; font-size: 12px; fill: rgb(42, 63, 95); fill-opacity: 1; white-space: pre;\">Contigo B</text><g class=\"layers\" style=\"opacity: 1;\"><g class=\"legendfill\"/><g class=\"legendlines\"/><g class=\"legendsymbols\"><g class=\"legendpoints\"><path class=\"legendundefined\" d=\"M6,6H-6V-6H6Z\" transform=\"translate(20,0)\" style=\"stroke-width: 0.5px; fill: rgb(239, 85, 59); fill-opacity: 1; stroke: rgb(229, 236, 246); stroke-opacity: 1;\"/></g></g></g><rect class=\"legendtoggle\" x=\"0\" y=\"-9.5\" width=\"98.484375\" height=\"19\" style=\"fill: rgb(0, 0, 0); fill-opacity: 0;\"/></g></g></g><rect class=\"scrollbar\" rx=\"20\" ry=\"3\" width=\"0\" height=\"0\" x=\"0\" y=\"0\" style=\"fill: rgb(128, 139, 164); fill-opacity: 1;\"/></g><g class=\"g-gtitle\"><text class=\"gtitle\" x=\"35\" y=\"50\" text-anchor=\"start\" dy=\"0em\" style=\"font-family: 'Open Sans', verdana, arial, sans-serif; font-size: 17px; fill: rgb(42, 63, 95); opacity: 1; font-weight: normal; white-space: pre;\">Net Income by Loan Type</text></g><g class=\"g-xtitle\"><text class=\"xtitle\" x=\"327\" y=\"459.8\" text-anchor=\"middle\" style=\"font-family: 'Open Sans', verdana, arial, sans-serif; font-size: 14px; fill: rgb(42, 63, 95); opacity: 1; font-weight: normal; white-space: pre;\">Month Number</text></g><g class=\"g-ytitle\"><text class=\"ytitle\" transform=\"rotate(-90,15.137500000000003,260)\" x=\"15.137500000000003\" y=\"260\" text-anchor=\"middle\" style=\"font-family: 'Open Sans', verdana, arial, sans-serif; font-size: 14px; fill: rgb(42, 63, 95); opacity: 1; font-weight: normal; white-space: pre;\">Net Income (in million pesos)</text></g></g></svg>"
     },
     "metadata": {},
     "output_type": "display_data"
    }
   ],
   "source": [
    "gross_income_barplot = px.bar(collection_results,\n",
    "                               x=\"month\",\n",
    "                               y=\"net_income\",\n",
    "                               color=\"loan_type\",\n",
    "                               barmode=\"group\",\n",
    "                               title=\"Net Income by Loan Type\")\n",
    "\n",
    "# Update figure layout\n",
    "gross_income_barplot.update_layout(xaxis_title=\"Month Number\",\n",
    "                             yaxis_title=\"Net Income (in mexican pesos)\",\n",
    "                             legend_title=\"Loan Type\")\n",
    "\n",
    "# Set the steps between ticks to 1\n",
    "gross_income_barplot.update_xaxes(dtick=1)\n",
    "\n",
    "# Show figure in svg format\n",
    "gross_income_barplot.show(\"svg\")"
   ]
  },
  {
   "attachments": {},
   "cell_type": "markdown",
   "metadata": {},
   "source": [
    "> **Note**: The y-axis of the previous plot abbreviates millions as \"M\" and thousands as \"K\"."
   ]
  },
  {
   "attachments": {},
   "cell_type": "markdown",
   "metadata": {},
   "source": [
    "## Questions"
   ]
  },
  {
   "attachments": {},
   "cell_type": "markdown",
   "metadata": {},
   "source": [
    "> **Question 1**: What factors may be against the profitability of the startup? What should we look at in an analysis of the net income for the following months?"
   ]
  },
  {
   "attachments": {},
   "cell_type": "markdown",
   "metadata": {},
   "source": [
    "### Factors Against Profitability\n",
    "\n",
    "1. Given that delinquency rates determine the interest rate of Contigo's products, if **delinquency rates are higher than interest rates** the startup would have a **negative gross margin** due to a lower amount of interests collected every month. This scenario would lead to a decrease in the profitability.\n",
    "\n",
    "2. An **increase in operating costs per account** could also decrease the profitability of the startup. Some examples are: \n",
    "    - Spending too much on collection efforts: Using unnecesarry or expensive communication channels with customers.\n",
    "    \n",
    "    - A higher inflation that leads an increase in the prices of the software that is required to maintain the software for account management.\n",
    "\n",
    "3. An **increase in the reference rate by the Central Bank** could increase the probability of more customers not paying on time, raising delinquency rates of Contigo's products. If the the reference rate raise is significant or happens too fast, delinquency rates could grow at a higher pace than the interest rates of Contigo's products.\n",
    "\n",
    "### Look Up for Following Months\n",
    "1. At first hand, the startup should never allow to have lower interest rates for products that are riskier. \n",
    "\n",
    "2. They should also track the growth rates of delinquency and interest rates, trying to keep a lower growth in delinquency rates than interest rates. \n",
    "\n",
    "3. Last but not least, the startup should focus on a strategy to diversify the income, to relative frequency of interest income."
   ]
  },
  {
   "attachments": {},
   "cell_type": "markdown",
   "metadata": {},
   "source": [
    "> **Question 2**: Is this startup going to be profitable during the next 12 months? What are the major trends driving changes in net income? \n",
    ">\n",
    "> Provide a model for net income and forecast it for the next 12 months. \n",
    ">> **Note**: Consider that losses come from the total debt not being repaid, and revenue comes from collected interest. We will only consider operation costs as expenses."
   ]
  },
  {
   "attachments": {},
   "cell_type": "markdown",
   "metadata": {},
   "source": [
    "> **Question 3**: What changes are required to sustain the business not only throughout the year but in the long run?\n",
    ">\n",
    "> Build a proposal of changes to main startup KPIs to achieve this goal. Discuss what difficulties the startup may find in applying your recommendation."
   ]
  }
 ],
 "metadata": {
  "kernelspec": {
   "display_name": "storis-ba-assessment",
   "language": "python",
   "name": "python3"
  },
  "language_info": {
   "codemirror_mode": {
    "name": "ipython",
    "version": 3
   },
   "file_extension": ".py",
   "mimetype": "text/x-python",
   "name": "python",
   "nbconvert_exporter": "python",
   "pygments_lexer": "ipython3",
   "version": "3.11.0"
  },
  "orig_nbformat": 4,
  "vscode": {
   "interpreter": {
    "hash": "87d9e5e2413174db98a5b704a9599a6a00bdd2de178b3b9621c98a6e834be606"
   }
  }
 },
 "nbformat": 4,
 "nbformat_minor": 2
}

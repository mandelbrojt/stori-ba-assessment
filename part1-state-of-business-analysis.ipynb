{
 "cells": [
  {
   "attachments": {},
   "cell_type": "markdown",
   "metadata": {},
   "source": [
    "# Analysis of the State of the Business"
   ]
  },
  {
   "attachments": {},
   "cell_type": "markdown",
   "metadata": {},
   "source": [
    "## Credit Product Diagram\n",
    "\n",
    "![](./contigo_loan_types_diagram.png)"
   ]
  },
  {
   "attachments": {},
   "cell_type": "markdown",
   "metadata": {},
   "source": [
    "> **Note**: Past debt delinquency (DQ) rates have determined the interest rates for the Contigo product. However, it is estimated that the monthly DQ rate for Contigo A will be 13.5% and 8% for Contigo B, throughout this year."
   ]
  },
  {
   "cell_type": "code",
   "execution_count": 1,
   "metadata": {},
   "outputs": [],
   "source": [
    "# Dict of dicts containing loan features\n",
    "contigo_loan_types = {\n",
    "    \"Contigo_A\":{\n",
    "        \"loan_amount_mxn\":1000,\n",
    "        \"payment_term_in_months\":1,\n",
    "        \"interest_rate\":0.15,\n",
    "        \"monthly_dq_rate\":0.135\n",
    "    },\n",
    "    \"Contigo_B\":{\n",
    "        \"loan_amount_mxn\":2000,\n",
    "        \"payment_term_in_months\":1,\n",
    "        \"interest_rate\":0.1,\n",
    "        \"monthly_dq_rate\":0.08\n",
    "    }\n",
    "}"
   ]
  },
  {
   "cell_type": "code",
   "execution_count": 2,
   "metadata": {},
   "outputs": [],
   "source": [
    "# Amount of customers per product on the first month\n",
    "contigo_customers_first_month = {\n",
    "    \"Contigo_A\":5000,\n",
    "    \"Contigo_B\":10000\n",
    "}"
   ]
  },
  {
   "cell_type": "code",
   "execution_count": null,
   "metadata": {},
   "outputs": [],
   "source": [
    "# Estimated growth rates per product"
   ]
  }
 ],
 "metadata": {
  "kernelspec": {
   "display_name": "Python 3",
   "language": "python",
   "name": "python3"
  },
  "language_info": {
   "codemirror_mode": {
    "name": "ipython",
    "version": 3
   },
   "file_extension": ".py",
   "mimetype": "text/x-python",
   "name": "python",
   "nbconvert_exporter": "python",
   "pygments_lexer": "ipython3",
   "version": "3.9.7"
  },
  "orig_nbformat": 4,
  "vscode": {
   "interpreter": {
    "hash": "aee8b7b246df8f9039afb4144a1f6fd8d2ca17a180786b69acc140d282b71a49"
   }
  }
 },
 "nbformat": 4,
 "nbformat_minor": 2
}

{
 "cells": [
  {
   "attachments": {},
   "cell_type": "markdown",
   "metadata": {},
   "source": [
    "# Analysis of the State of the Business"
   ]
  },
  {
   "attachments": {},
   "cell_type": "markdown",
   "metadata": {},
   "source": [
    "## Loan Types Diagram\n",
    "\n",
    "<img src=\"https://i.imgur.com/B7NvEKb.png\">"
   ]
  },
  {
   "attachments": {},
   "cell_type": "markdown",
   "metadata": {},
   "source": [
    "> **Note**: Past debt delinquency rates (DQ) have determined the interest rates for the Contigo product. \n",
    ">\n",
    "> The monthly DQ rates for each Contigo loan type is an estimation that holds throught this year."
   ]
  },
  {
   "attachments": {},
   "cell_type": "markdown",
   "metadata": {},
   "source": [
    "## Importing Libraries and Modules"
   ]
  },
  {
   "cell_type": "code",
   "execution_count": 78,
   "metadata": {},
   "outputs": [],
   "source": [
    "import numpy as np\n",
    "import math\n",
    "import pandas as pd"
   ]
  },
  {
   "attachments": {},
   "cell_type": "markdown",
   "metadata": {},
   "source": [
    "## Setting Variables"
   ]
  },
  {
   "cell_type": "code",
   "execution_count": 6,
   "metadata": {},
   "outputs": [],
   "source": [
    "# Contigo A loan features\n",
    "CA_features = {\n",
    "    \"loan_amount\":1000,\n",
    "    \"term\":1,\n",
    "    \"interest_rate\":0.15,\n",
    "    \"delinquency_rate\":0.135\n",
    "}\n",
    "\n",
    "# Contigo B loan features\n",
    "CB_features = {\n",
    "    \"loan_amount\":2000,\n",
    "    \"term\":1,\n",
    "    \"interest_rate\":0.1,\n",
    "    \"delinquency_rate\":0.08\n",
    "}"
   ]
  },
  {
   "attachments": {},
   "cell_type": "markdown",
   "metadata": {},
   "source": [
    "> **Note**: Payment term, interest rate and delinquency rate will be assumed to have a monthly frequency."
   ]
  },
  {
   "cell_type": "code",
   "execution_count": 77,
   "metadata": {},
   "outputs": [],
   "source": [
    "# Amount of accounts per loan type on the first month\n",
    "CA_accounts = 5000\n",
    "CB_accounts = 10000"
   ]
  },
  {
   "cell_type": "code",
   "execution_count": 14,
   "metadata": {},
   "outputs": [],
   "source": [
    "# Estimated month-over-month growth rates per loan type\n",
    "CA_growth_rate_MoM = 0.25\n",
    "CB_growth_rate_MoM = 0.1"
   ]
  },
  {
   "cell_type": "code",
   "execution_count": 79,
   "metadata": {},
   "outputs": [],
   "source": [
    "# Monthly operating cost per account\n",
    "monthly_operating_cost_pa = 30"
   ]
  },
  {
   "attachments": {},
   "cell_type": "markdown",
   "metadata": {},
   "source": [
    "> **Task**: The startup is concerned that the change in DQ rates and the aggressive expansion may reduce\n",
    "profitability in the following months, so they asked you to **make a forecast on the net income of its\n",
    "operation (ignoring taxes) in the next 12 months**."
   ]
  },
  {
   "attachments": {},
   "cell_type": "markdown",
   "metadata": {},
   "source": [
    "## Calculating Gross Income per Account"
   ]
  },
  {
   "attachments": {},
   "cell_type": "markdown",
   "metadata": {},
   "source": [
    "<img src=\"https://i.imgur.com/INJUZZY.png\">"
   ]
  },
  {
   "cell_type": "code",
   "execution_count": 9,
   "metadata": {},
   "outputs": [],
   "source": [
    "# Compute the monthly gross income per account for Contigo A\n",
    "CA_gross_income_pa = CA_features[\"loan_amount\"]*CA_features[\"term\"]*CA_features[\"interest_rate\"]*(1-CA_features[\"delinquency_rate\"])\n",
    "\n",
    "# Compute the monthly gross income per account for Contigo B\n",
    "CB_gross_income_pa = CB_features[\"loan_amount\"]*CB_features[\"term\"]*CB_features[\"interest_rate\"]*(1-CB_features[\"delinquency_rate\"])"
   ]
  },
  {
   "cell_type": "code",
   "execution_count": 13,
   "metadata": {},
   "outputs": [
    {
     "name": "stdout",
     "output_type": "stream",
     "text": [
      "The monthly gross income per account for Contigo A is: 129.75 MXN\n",
      "The monthly gross income per account for Contigo B is: 184.0 MXN\n"
     ]
    }
   ],
   "source": [
    "print(f\"The monthly gross income per account for Contigo A is: {CA_gross_income_pa} MXN\")\n",
    "print(f\"The monthly gross income per account for Contigo B is: {CB_gross_income_pa} MXN\")"
   ]
  },
  {
   "attachments": {},
   "cell_type": "markdown",
   "metadata": {},
   "source": [
    "## Computing Accounts Month-over-Month"
   ]
  },
  {
   "cell_type": "code",
   "execution_count": 61,
   "metadata": {},
   "outputs": [],
   "source": [
    "def compute_accounts(initial_accounts: int, growth_rate: float, num_months=12):\n",
    "    \"\"\"Computes the number of accounts during 12 months based on a specific MoM growth rate\"\"\"\n",
    "    return [math.floor(initial_accounts * (1+ growth_rate) ** i) for i in range(num_months)]    "
   ]
  },
  {
   "cell_type": "code",
   "execution_count": 73,
   "metadata": {},
   "outputs": [],
   "source": [
    "CA_accounts_MoM = np.array(compute_accounts(CA_accounts, CA_growth_rate_MoM))\n",
    "CB_accounts_MoM = np.array(compute_accounts(CB_accounts, CB_growth_rate_MoM))"
   ]
  },
  {
   "cell_type": "code",
   "execution_count": 90,
   "metadata": {},
   "outputs": [],
   "source": [
    "total_accounts_MoM = CA_accounts_MoM + CB_accounts_MoM"
   ]
  },
  {
   "attachments": {},
   "cell_type": "markdown",
   "metadata": {},
   "source": [
    "## Calculating Total Gross Income Month-over-Month"
   ]
  },
  {
   "cell_type": "code",
   "execution_count": 74,
   "metadata": {},
   "outputs": [],
   "source": [
    "CA_gross_income_MoM = CA_accounts_MoM * CA_gross_income_pa\n",
    "CB_gross_income_MoM = CB_accounts_MoM * CB_gross_income_pa"
   ]
  },
  {
   "cell_type": "code",
   "execution_count": 91,
   "metadata": {},
   "outputs": [],
   "source": [
    "total_gross_income_MoM = CA_gross_income_MoM + CB_gross_income_MoM"
   ]
  },
  {
   "cell_type": "code",
   "execution_count": 80,
   "metadata": {},
   "outputs": [],
   "source": [
    "CA_operating_costs_MoM = CA_accounts_MoM * monthly_operating_cost_pa\n",
    "CB_operating_costs_MoM = CB_accounts_MoM * monthly_operating_cost_pa"
   ]
  },
  {
   "cell_type": "code",
   "execution_count": 89,
   "metadata": {},
   "outputs": [],
   "source": [
    "total_operating_costs_MoM = CA_operating_costs_MoM + CB_operating_costs_MoM"
   ]
  },
  {
   "attachments": {},
   "cell_type": "markdown",
   "metadata": {},
   "source": [
    "## Calculating Total Net Income Month-over-Month"
   ]
  },
  {
   "cell_type": "code",
   "execution_count": 83,
   "metadata": {},
   "outputs": [],
   "source": [
    "CA_net_income_MoM = CA_gross_income_MoM - CA_operating_costs_MoM\n",
    "CB_net_income_MoM = CB_gross_income_MoM - CB_operating_costs_MoM"
   ]
  },
  {
   "cell_type": "code",
   "execution_count": 85,
   "metadata": {},
   "outputs": [],
   "source": [
    "total_net_income_MoM = CA_net_income_MoM + CB_net_income_MoM"
   ]
  },
  {
   "attachments": {},
   "cell_type": "markdown",
   "metadata": {},
   "source": [
    "## Presenting Results in Tabular Format"
   ]
  },
  {
   "cell_type": "code",
   "execution_count": 99,
   "metadata": {},
   "outputs": [],
   "source": [
    "# Creates a sequence for every month number in a year\n",
    "month_nums = [i for i in range(1,13)]\n",
    "\n",
    "results_per_loan_dict = {\n",
    "    \"month_num\":month_nums,\n",
    "    \"Contigo_A_accounts\":CA_accounts_MoM,\n",
    "    \"Contigo_B_accounts\":CB_accounts_MoM,\n",
    "    \"Contigo_A_gross_income\":CA_gross_income_MoM,\n",
    "    \"Contigo_B_gross_income\":CB_gross_income_MoM,\n",
    "    \"Contigo_A_operating_costs\":CA_operating_costs_MoM,\n",
    "    \"Contigo_B_operating_costs\":CB_operating_costs_MoM,\n",
    "    \"Contigo_A_net_income\":CA_net_income_MoM,\n",
    "    \"Contigo_B_net_income\":CB_net_income_MoM,\n",
    "}\n",
    "\n",
    "total_results_dict = {\n",
    "    \"month_num\":month_nums,\n",
    "    \"total_accounts\":total_accounts_MoM,\n",
    "    \"total_gross_income\":total_gross_income_MoM,\n",
    "    \"total_operating_costs\":total_operating_costs_MoM,\n",
    "    \"total_net_income\":total_net_income_MoM\n",
    "}"
   ]
  },
  {
   "cell_type": "code",
   "execution_count": 100,
   "metadata": {},
   "outputs": [],
   "source": [
    "results_per_loan = pd.DataFrame(results_per_loan_dict)"
   ]
  },
  {
   "cell_type": "code",
   "execution_count": 101,
   "metadata": {},
   "outputs": [
    {
     "data": {
      "text/html": [
       "<div>\n",
       "<style scoped>\n",
       "    .dataframe tbody tr th:only-of-type {\n",
       "        vertical-align: middle;\n",
       "    }\n",
       "\n",
       "    .dataframe tbody tr th {\n",
       "        vertical-align: top;\n",
       "    }\n",
       "\n",
       "    .dataframe thead th {\n",
       "        text-align: right;\n",
       "    }\n",
       "</style>\n",
       "<table border=\"1\" class=\"dataframe\">\n",
       "  <thead>\n",
       "    <tr style=\"text-align: right;\">\n",
       "      <th></th>\n",
       "      <th>month_num</th>\n",
       "      <th>Contigo_A_accounts</th>\n",
       "      <th>Contigo_B_accounts</th>\n",
       "      <th>Contigo_A_gross_income</th>\n",
       "      <th>Contigo_B_gross_income</th>\n",
       "      <th>Contigo_A_operating_costs</th>\n",
       "      <th>Contigo_B_operating_costs</th>\n",
       "      <th>Contigo_A_net_income</th>\n",
       "      <th>Contigo_B_net_income</th>\n",
       "    </tr>\n",
       "  </thead>\n",
       "  <tbody>\n",
       "    <tr>\n",
       "      <th>0</th>\n",
       "      <td>1</td>\n",
       "      <td>5000</td>\n",
       "      <td>10000</td>\n",
       "      <td>648750.00</td>\n",
       "      <td>1840000.0</td>\n",
       "      <td>150000</td>\n",
       "      <td>300000</td>\n",
       "      <td>498750.00</td>\n",
       "      <td>1540000.0</td>\n",
       "    </tr>\n",
       "    <tr>\n",
       "      <th>1</th>\n",
       "      <td>2</td>\n",
       "      <td>6250</td>\n",
       "      <td>11000</td>\n",
       "      <td>810937.50</td>\n",
       "      <td>2024000.0</td>\n",
       "      <td>187500</td>\n",
       "      <td>330000</td>\n",
       "      <td>623437.50</td>\n",
       "      <td>1694000.0</td>\n",
       "    </tr>\n",
       "    <tr>\n",
       "      <th>2</th>\n",
       "      <td>3</td>\n",
       "      <td>7812</td>\n",
       "      <td>12100</td>\n",
       "      <td>1013607.00</td>\n",
       "      <td>2226400.0</td>\n",
       "      <td>234360</td>\n",
       "      <td>363000</td>\n",
       "      <td>779247.00</td>\n",
       "      <td>1863400.0</td>\n",
       "    </tr>\n",
       "    <tr>\n",
       "      <th>3</th>\n",
       "      <td>4</td>\n",
       "      <td>9765</td>\n",
       "      <td>13310</td>\n",
       "      <td>1267008.75</td>\n",
       "      <td>2449040.0</td>\n",
       "      <td>292950</td>\n",
       "      <td>399300</td>\n",
       "      <td>974058.75</td>\n",
       "      <td>2049740.0</td>\n",
       "    </tr>\n",
       "    <tr>\n",
       "      <th>4</th>\n",
       "      <td>5</td>\n",
       "      <td>12207</td>\n",
       "      <td>14641</td>\n",
       "      <td>1583858.25</td>\n",
       "      <td>2693944.0</td>\n",
       "      <td>366210</td>\n",
       "      <td>439230</td>\n",
       "      <td>1217648.25</td>\n",
       "      <td>2254714.0</td>\n",
       "    </tr>\n",
       "    <tr>\n",
       "      <th>5</th>\n",
       "      <td>6</td>\n",
       "      <td>15258</td>\n",
       "      <td>16105</td>\n",
       "      <td>1979725.50</td>\n",
       "      <td>2963320.0</td>\n",
       "      <td>457740</td>\n",
       "      <td>483150</td>\n",
       "      <td>1521985.50</td>\n",
       "      <td>2480170.0</td>\n",
       "    </tr>\n",
       "    <tr>\n",
       "      <th>6</th>\n",
       "      <td>7</td>\n",
       "      <td>19073</td>\n",
       "      <td>17715</td>\n",
       "      <td>2474721.75</td>\n",
       "      <td>3259560.0</td>\n",
       "      <td>572190</td>\n",
       "      <td>531450</td>\n",
       "      <td>1902531.75</td>\n",
       "      <td>2728110.0</td>\n",
       "    </tr>\n",
       "    <tr>\n",
       "      <th>7</th>\n",
       "      <td>8</td>\n",
       "      <td>23841</td>\n",
       "      <td>19487</td>\n",
       "      <td>3093369.75</td>\n",
       "      <td>3585608.0</td>\n",
       "      <td>715230</td>\n",
       "      <td>584610</td>\n",
       "      <td>2378139.75</td>\n",
       "      <td>3000998.0</td>\n",
       "    </tr>\n",
       "    <tr>\n",
       "      <th>8</th>\n",
       "      <td>9</td>\n",
       "      <td>29802</td>\n",
       "      <td>21435</td>\n",
       "      <td>3866809.50</td>\n",
       "      <td>3944040.0</td>\n",
       "      <td>894060</td>\n",
       "      <td>643050</td>\n",
       "      <td>2972749.50</td>\n",
       "      <td>3300990.0</td>\n",
       "    </tr>\n",
       "    <tr>\n",
       "      <th>9</th>\n",
       "      <td>10</td>\n",
       "      <td>37252</td>\n",
       "      <td>23579</td>\n",
       "      <td>4833447.00</td>\n",
       "      <td>4338536.0</td>\n",
       "      <td>1117560</td>\n",
       "      <td>707370</td>\n",
       "      <td>3715887.00</td>\n",
       "      <td>3631166.0</td>\n",
       "    </tr>\n",
       "    <tr>\n",
       "      <th>10</th>\n",
       "      <td>11</td>\n",
       "      <td>46566</td>\n",
       "      <td>25937</td>\n",
       "      <td>6041938.50</td>\n",
       "      <td>4772408.0</td>\n",
       "      <td>1396980</td>\n",
       "      <td>778110</td>\n",
       "      <td>4644958.50</td>\n",
       "      <td>3994298.0</td>\n",
       "    </tr>\n",
       "    <tr>\n",
       "      <th>11</th>\n",
       "      <td>12</td>\n",
       "      <td>58207</td>\n",
       "      <td>28531</td>\n",
       "      <td>7552358.25</td>\n",
       "      <td>5249704.0</td>\n",
       "      <td>1746210</td>\n",
       "      <td>855930</td>\n",
       "      <td>5806148.25</td>\n",
       "      <td>4393774.0</td>\n",
       "    </tr>\n",
       "  </tbody>\n",
       "</table>\n",
       "</div>"
      ],
      "text/plain": [
       "    month_num  Contigo_A_accounts  Contigo_B_accounts  Contigo_A_gross_income  \\\n",
       "0           1                5000               10000               648750.00   \n",
       "1           2                6250               11000               810937.50   \n",
       "2           3                7812               12100              1013607.00   \n",
       "3           4                9765               13310              1267008.75   \n",
       "4           5               12207               14641              1583858.25   \n",
       "5           6               15258               16105              1979725.50   \n",
       "6           7               19073               17715              2474721.75   \n",
       "7           8               23841               19487              3093369.75   \n",
       "8           9               29802               21435              3866809.50   \n",
       "9          10               37252               23579              4833447.00   \n",
       "10         11               46566               25937              6041938.50   \n",
       "11         12               58207               28531              7552358.25   \n",
       "\n",
       "    Contigo_B_gross_income  Contigo_A_operating_costs  \\\n",
       "0                1840000.0                     150000   \n",
       "1                2024000.0                     187500   \n",
       "2                2226400.0                     234360   \n",
       "3                2449040.0                     292950   \n",
       "4                2693944.0                     366210   \n",
       "5                2963320.0                     457740   \n",
       "6                3259560.0                     572190   \n",
       "7                3585608.0                     715230   \n",
       "8                3944040.0                     894060   \n",
       "9                4338536.0                    1117560   \n",
       "10               4772408.0                    1396980   \n",
       "11               5249704.0                    1746210   \n",
       "\n",
       "    Contigo_B_operating_costs  Contigo_A_net_income  Contigo_B_net_income  \n",
       "0                      300000             498750.00             1540000.0  \n",
       "1                      330000             623437.50             1694000.0  \n",
       "2                      363000             779247.00             1863400.0  \n",
       "3                      399300             974058.75             2049740.0  \n",
       "4                      439230            1217648.25             2254714.0  \n",
       "5                      483150            1521985.50             2480170.0  \n",
       "6                      531450            1902531.75             2728110.0  \n",
       "7                      584610            2378139.75             3000998.0  \n",
       "8                      643050            2972749.50             3300990.0  \n",
       "9                      707370            3715887.00             3631166.0  \n",
       "10                     778110            4644958.50             3994298.0  \n",
       "11                     855930            5806148.25             4393774.0  "
      ]
     },
     "execution_count": 101,
     "metadata": {},
     "output_type": "execute_result"
    }
   ],
   "source": [
    "results_per_loan"
   ]
  },
  {
   "cell_type": "code",
   "execution_count": 102,
   "metadata": {},
   "outputs": [],
   "source": [
    "total_results = pd.DataFrame(total_results_dict)"
   ]
  },
  {
   "cell_type": "code",
   "execution_count": 103,
   "metadata": {},
   "outputs": [
    {
     "data": {
      "text/html": [
       "<div>\n",
       "<style scoped>\n",
       "    .dataframe tbody tr th:only-of-type {\n",
       "        vertical-align: middle;\n",
       "    }\n",
       "\n",
       "    .dataframe tbody tr th {\n",
       "        vertical-align: top;\n",
       "    }\n",
       "\n",
       "    .dataframe thead th {\n",
       "        text-align: right;\n",
       "    }\n",
       "</style>\n",
       "<table border=\"1\" class=\"dataframe\">\n",
       "  <thead>\n",
       "    <tr style=\"text-align: right;\">\n",
       "      <th></th>\n",
       "      <th>month_num</th>\n",
       "      <th>total_accounts</th>\n",
       "      <th>total_gross_income</th>\n",
       "      <th>total_operating_costs</th>\n",
       "      <th>total_net_income</th>\n",
       "    </tr>\n",
       "  </thead>\n",
       "  <tbody>\n",
       "    <tr>\n",
       "      <th>0</th>\n",
       "      <td>1</td>\n",
       "      <td>15000</td>\n",
       "      <td>2488750.00</td>\n",
       "      <td>450000</td>\n",
       "      <td>2038750.00</td>\n",
       "    </tr>\n",
       "    <tr>\n",
       "      <th>1</th>\n",
       "      <td>2</td>\n",
       "      <td>17250</td>\n",
       "      <td>2834937.50</td>\n",
       "      <td>517500</td>\n",
       "      <td>2317437.50</td>\n",
       "    </tr>\n",
       "    <tr>\n",
       "      <th>2</th>\n",
       "      <td>3</td>\n",
       "      <td>19912</td>\n",
       "      <td>3240007.00</td>\n",
       "      <td>597360</td>\n",
       "      <td>2642647.00</td>\n",
       "    </tr>\n",
       "    <tr>\n",
       "      <th>3</th>\n",
       "      <td>4</td>\n",
       "      <td>23075</td>\n",
       "      <td>3716048.75</td>\n",
       "      <td>692250</td>\n",
       "      <td>3023798.75</td>\n",
       "    </tr>\n",
       "    <tr>\n",
       "      <th>4</th>\n",
       "      <td>5</td>\n",
       "      <td>26848</td>\n",
       "      <td>4277802.25</td>\n",
       "      <td>805440</td>\n",
       "      <td>3472362.25</td>\n",
       "    </tr>\n",
       "    <tr>\n",
       "      <th>5</th>\n",
       "      <td>6</td>\n",
       "      <td>31363</td>\n",
       "      <td>4943045.50</td>\n",
       "      <td>940890</td>\n",
       "      <td>4002155.50</td>\n",
       "    </tr>\n",
       "    <tr>\n",
       "      <th>6</th>\n",
       "      <td>7</td>\n",
       "      <td>36788</td>\n",
       "      <td>5734281.75</td>\n",
       "      <td>1103640</td>\n",
       "      <td>4630641.75</td>\n",
       "    </tr>\n",
       "    <tr>\n",
       "      <th>7</th>\n",
       "      <td>8</td>\n",
       "      <td>43328</td>\n",
       "      <td>6678977.75</td>\n",
       "      <td>1299840</td>\n",
       "      <td>5379137.75</td>\n",
       "    </tr>\n",
       "    <tr>\n",
       "      <th>8</th>\n",
       "      <td>9</td>\n",
       "      <td>51237</td>\n",
       "      <td>7810849.50</td>\n",
       "      <td>1537110</td>\n",
       "      <td>6273739.50</td>\n",
       "    </tr>\n",
       "    <tr>\n",
       "      <th>9</th>\n",
       "      <td>10</td>\n",
       "      <td>60831</td>\n",
       "      <td>9171983.00</td>\n",
       "      <td>1824930</td>\n",
       "      <td>7347053.00</td>\n",
       "    </tr>\n",
       "    <tr>\n",
       "      <th>10</th>\n",
       "      <td>11</td>\n",
       "      <td>72503</td>\n",
       "      <td>10814346.50</td>\n",
       "      <td>2175090</td>\n",
       "      <td>8639256.50</td>\n",
       "    </tr>\n",
       "    <tr>\n",
       "      <th>11</th>\n",
       "      <td>12</td>\n",
       "      <td>86738</td>\n",
       "      <td>12802062.25</td>\n",
       "      <td>2602140</td>\n",
       "      <td>10199922.25</td>\n",
       "    </tr>\n",
       "  </tbody>\n",
       "</table>\n",
       "</div>"
      ],
      "text/plain": [
       "    month_num  total_accounts  total_gross_income  total_operating_costs  \\\n",
       "0           1           15000          2488750.00                 450000   \n",
       "1           2           17250          2834937.50                 517500   \n",
       "2           3           19912          3240007.00                 597360   \n",
       "3           4           23075          3716048.75                 692250   \n",
       "4           5           26848          4277802.25                 805440   \n",
       "5           6           31363          4943045.50                 940890   \n",
       "6           7           36788          5734281.75                1103640   \n",
       "7           8           43328          6678977.75                1299840   \n",
       "8           9           51237          7810849.50                1537110   \n",
       "9          10           60831          9171983.00                1824930   \n",
       "10         11           72503         10814346.50                2175090   \n",
       "11         12           86738         12802062.25                2602140   \n",
       "\n",
       "    total_net_income  \n",
       "0         2038750.00  \n",
       "1         2317437.50  \n",
       "2         2642647.00  \n",
       "3         3023798.75  \n",
       "4         3472362.25  \n",
       "5         4002155.50  \n",
       "6         4630641.75  \n",
       "7         5379137.75  \n",
       "8         6273739.50  \n",
       "9         7347053.00  \n",
       "10        8639256.50  \n",
       "11       10199922.25  "
      ]
     },
     "execution_count": 103,
     "metadata": {},
     "output_type": "execute_result"
    }
   ],
   "source": [
    "total_results"
   ]
  }
 ],
 "metadata": {
  "kernelspec": {
   "display_name": "storis-ba-assessment",
   "language": "python",
   "name": "python3"
  },
  "language_info": {
   "codemirror_mode": {
    "name": "ipython",
    "version": 3
   },
   "file_extension": ".py",
   "mimetype": "text/x-python",
   "name": "python",
   "nbconvert_exporter": "python",
   "pygments_lexer": "ipython3",
   "version": "3.11.0"
  },
  "orig_nbformat": 4,
  "vscode": {
   "interpreter": {
    "hash": "87d9e5e2413174db98a5b704a9599a6a00bdd2de178b3b9621c98a6e834be606"
   }
  }
 },
 "nbformat": 4,
 "nbformat_minor": 2
}

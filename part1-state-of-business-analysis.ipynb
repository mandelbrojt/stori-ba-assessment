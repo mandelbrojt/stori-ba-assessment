{
 "cells": [
  {
   "attachments": {},
   "cell_type": "markdown",
   "metadata": {},
   "source": [
    "# State of the Business Analysis"
   ]
  },
  {
   "attachments": {},
   "cell_type": "markdown",
   "metadata": {},
   "source": [
    "## Case Description\n",
    "\n",
    "You are a BA working for a startup that has one credit product called **Contigo**. Depending on risk, the customer will receive:\n",
    "1. Contigo A, a 1,000 peso loan to be paid in full after one month with 15% interest. This product is given to high risk customers.\n",
    "2. Contigo B, a 2,000 peso loan to be paid in full after one month with 10% interest. This product is given to low risk customers.\n",
    "\n",
    "Past debt delinquency (DQ) rates have determined the interest rates for the Contigo product. However, it is estimated that the monthly DQ rate for Contigo A will be 13.5% and 8% for Contigo B, throughout this year.\n",
    "\n",
    "Ignoring the worsening of DQ rates, this startup has an ambitious growth plan for the year. At month 1,\n",
    "the company had a total of 5,000 Contigo A customers, expected to grow at a rate of 25% month over\n",
    "month. Contigo B has the largest share of customers, 10,000 in total. But with a very competitive market\n",
    "for premium loans, Contigo B is expected to grow at a 10% month over month rate throughout the year.\n",
    "\n",
    "The operation of this startup scales proportionately to its customer base, with negligible fixed expenses. The current operative monthly cost per account sits at 30 pesos.\n",
    "\n",
    "The startup is concerned that the change in DQ rates and the aggressive expansion may reduce profitability in the following months, so they asked you to make a forecast on the net income of its operation (ignoring taxes) in the next 12 months."
   ]
  },
  {
   "attachments": {},
   "cell_type": "markdown",
   "metadata": {},
   "source": [
    "### Loan Types Diagram\n",
    "\n",
    "<img \n",
    "    src=\"https://i.imgur.com/B7NvEKb.png\"\n",
    "    height=300\n",
    "    width=650\n",
    "/>"
   ]
  },
  {
   "cell_type": "code",
   "execution_count": 3,
   "metadata": {},
   "outputs": [],
   "source": [
    "# Contigo A loan features\n",
    "contigo_a_features = {\n",
    "    \"loan_amt\":1000, \"loan_term\":1, \"interest_rate\":0.15,\n",
    "    \"delinquency_rate\":0.135, \"initial_num_accounts\":5000,\n",
    "    \"account_growth_mom\":0.25, \"op_cost_per_acct\":30\n",
    "}\n",
    "\n",
    "# Contigo B loan features\n",
    "contigo_b_features = {\n",
    "    \"loan_amt\":2000, \"loan_term\":1, \"interest_rate\":0.10,\n",
    "    \"delinquency_rate\":0.08, \"initial_num_accounts\":10000,\n",
    "    \"account_growth_mom\":0.10, \"op_cost_per_acct\":30\n",
    "}"
   ]
  },
  {
   "attachments": {},
   "cell_type": "markdown",
   "metadata": {},
   "source": [
    "## Answering Questions"
   ]
  },
  {
   "attachments": {},
   "cell_type": "markdown",
   "metadata": {},
   "source": [
    "### Question 1\n",
    "\n",
    "> What factors may be against the profitability of the startup? What should we look at in an analysis of the net income for the following months?"
   ]
  },
  {
   "attachments": {},
   "cell_type": "markdown",
   "metadata": {},
   "source": [
    "1. **Delinquency Rates**: One of the main factors that can negatively impact the profitability of the startup is high delinquency rates of their products. The startup should aim to maintain a wide gap between interest rates and delinquency rates, ensuring that the delinquency rate never exceeds the interest rate.\n",
    "2. **Customer Growth Rate**: Adding more customers increases the risk exposure, so the startup should pursue aggressive growth strategies when delinquency rates are low and less aggressive growth strategies when delinquency rates are high.\n",
    "3. **Operating Expenses**: Another factor that can play against profitability is the expense of account management, such as spending too much on collection efforts due to unnecessary or expensive communication channels with customers or higher prices of required account management software.\n",
    "4. **Policy Rates**: A higher policy rate could reduce the demand for loans and potentially reduce the interest revenue for the startup. It could also negatively affect some customers as they will need to pay more for their loans, increasing the potential loss of principal and interest during each period. The startup could hedge against rate hikes by using interest rate swaps or interest rate futures."
   ]
  },
  {
   "attachments": {},
   "cell_type": "markdown",
   "metadata": {},
   "source": [
    "### Question 2"
   ]
  },
  {
   "attachments": {},
   "cell_type": "markdown",
   "metadata": {},
   "source": [
    "> Is this startup going to be profitable during the next 12 months? What are the major trends driving changes in net income? Provide a model for net income and forecast it for the next 12 months.\n",
    ">\n",
    ">> **Note**: Losses come from the total debt not being repaid, and revenue comes from collected interest. We will only consider operation costs as expenses."
   ]
  },
  {
   "attachments": {},
   "cell_type": "markdown",
   "metadata": {},
   "source": [
    "The full model can be found in the `income_model.py` file and all of the calculations are explained in `model-explanation.ipynb`."
   ]
  },
  {
   "cell_type": "code",
   "execution_count": 1,
   "metadata": {},
   "outputs": [],
   "source": [
    "import income_model as im"
   ]
  },
  {
   "attachments": {},
   "cell_type": "markdown",
   "metadata": {},
   "source": [
    "#### Initial State of the Business\n",
    "\n",
    "Based on the initial loan features for Contigo A and Contigo B loans, the startup is not profitable due to high delinquency rates for both types of loans as shown below:"
   ]
  },
  {
   "cell_type": "code",
   "execution_count": 4,
   "metadata": {},
   "outputs": [
    {
     "data": {
      "text/html": [
       "<div>\n",
       "<style scoped>\n",
       "    .dataframe tbody tr th:only-of-type {\n",
       "        vertical-align: middle;\n",
       "    }\n",
       "\n",
       "    .dataframe tbody tr th {\n",
       "        vertical-align: top;\n",
       "    }\n",
       "\n",
       "    .dataframe thead th {\n",
       "        text-align: right;\n",
       "    }\n",
       "</style>\n",
       "<table border=\"1\" class=\"dataframe\">\n",
       "  <thead>\n",
       "    <tr style=\"text-align: right;\">\n",
       "      <th>loan_type</th>\n",
       "      <th>Contigo A</th>\n",
       "      <th>Contigo B</th>\n",
       "      <th>Total</th>\n",
       "    </tr>\n",
       "  </thead>\n",
       "  <tbody>\n",
       "    <tr>\n",
       "      <th>interest_revenue</th>\n",
       "      <td>35,166,531.75</td>\n",
       "      <td>39,346,560.00</td>\n",
       "      <td>74,513,091.75</td>\n",
       "    </tr>\n",
       "    <tr>\n",
       "      <th>delinquency_loss</th>\n",
       "      <td>36,589,455.00</td>\n",
       "      <td>34,214,400.00</td>\n",
       "      <td>70,803,855.00</td>\n",
       "    </tr>\n",
       "    <tr>\n",
       "      <th>operative_costs</th>\n",
       "      <td>8,130,990.00</td>\n",
       "      <td>6,415,200.00</td>\n",
       "      <td>14,546,190.00</td>\n",
       "    </tr>\n",
       "    <tr>\n",
       "      <th>net_income</th>\n",
       "      <td>-9,553,913.25</td>\n",
       "      <td>-1,283,040.00</td>\n",
       "      <td>-10,836,953.25</td>\n",
       "    </tr>\n",
       "  </tbody>\n",
       "</table>\n",
       "</div>"
      ],
      "text/plain": [
       "loan_type             Contigo A      Contigo B           Total\n",
       "interest_revenue  35,166,531.75  39,346,560.00   74,513,091.75\n",
       "delinquency_loss  36,589,455.00  34,214,400.00   70,803,855.00\n",
       "operative_costs    8,130,990.00   6,415,200.00   14,546,190.00\n",
       "net_income        -9,553,913.25  -1,283,040.00  -10,836,953.25"
      ]
     },
     "execution_count": 4,
     "metadata": {},
     "output_type": "execute_result"
    }
   ],
   "source": [
    "im.overall_results(contigo_a_features,contigo_b_features)"
   ]
  },
  {
   "cell_type": "code",
   "execution_count": 5,
   "metadata": {},
   "outputs": [
    {
     "data": {
      "text/html": [
       "<div>\n",
       "<style scoped>\n",
       "    .dataframe tbody tr th:only-of-type {\n",
       "        vertical-align: middle;\n",
       "    }\n",
       "\n",
       "    .dataframe tbody tr th {\n",
       "        vertical-align: top;\n",
       "    }\n",
       "\n",
       "    .dataframe thead tr th {\n",
       "        text-align: left;\n",
       "    }\n",
       "</style>\n",
       "<table border=\"1\" class=\"dataframe\">\n",
       "  <thead>\n",
       "    <tr>\n",
       "      <th>loan_type</th>\n",
       "      <th colspan=\"4\" halign=\"left\">Contigo A</th>\n",
       "      <th colspan=\"4\" halign=\"left\">Contigo B</th>\n",
       "    </tr>\n",
       "    <tr>\n",
       "      <th>quarter</th>\n",
       "      <th>Q1</th>\n",
       "      <th>Q2</th>\n",
       "      <th>Q3</th>\n",
       "      <th>Q4</th>\n",
       "      <th>Q1</th>\n",
       "      <th>Q2</th>\n",
       "      <th>Q3</th>\n",
       "      <th>Q4</th>\n",
       "    </tr>\n",
       "  </thead>\n",
       "  <tbody>\n",
       "    <tr>\n",
       "      <th>interest_revenue</th>\n",
       "      <td>2,473,294.50</td>\n",
       "      <td>4,830,592.50</td>\n",
       "      <td>9,434,901.00</td>\n",
       "      <td>18,427,743.75</td>\n",
       "      <td>6,090,400.00</td>\n",
       "      <td>8,106,304.00</td>\n",
       "      <td>10,789,208.00</td>\n",
       "      <td>14,360,648.00</td>\n",
       "    </tr>\n",
       "    <tr>\n",
       "      <th>delinquency_loss</th>\n",
       "      <td>2,573,370.00</td>\n",
       "      <td>5,026,050.00</td>\n",
       "      <td>9,816,660.00</td>\n",
       "      <td>19,173,375.00</td>\n",
       "      <td>5,296,000.00</td>\n",
       "      <td>7,048,960.00</td>\n",
       "      <td>9,381,920.00</td>\n",
       "      <td>12,487,520.00</td>\n",
       "    </tr>\n",
       "    <tr>\n",
       "      <th>operative_costs</th>\n",
       "      <td>571,860.00</td>\n",
       "      <td>1,116,900.00</td>\n",
       "      <td>2,181,480.00</td>\n",
       "      <td>4,260,750.00</td>\n",
       "      <td>993,000.00</td>\n",
       "      <td>1,321,680.00</td>\n",
       "      <td>1,759,110.00</td>\n",
       "      <td>2,341,410.00</td>\n",
       "    </tr>\n",
       "    <tr>\n",
       "      <th>net_income</th>\n",
       "      <td>-671,935.50</td>\n",
       "      <td>-1,312,357.50</td>\n",
       "      <td>-2,563,239.00</td>\n",
       "      <td>-5,006,381.25</td>\n",
       "      <td>-198,600.00</td>\n",
       "      <td>-264,336.00</td>\n",
       "      <td>-351,822.00</td>\n",
       "      <td>-468,282.00</td>\n",
       "    </tr>\n",
       "  </tbody>\n",
       "</table>\n",
       "</div>"
      ],
      "text/plain": [
       "loan_type            Contigo A                                               \\\n",
       "quarter                     Q1             Q2             Q3             Q4   \n",
       "interest_revenue  2,473,294.50   4,830,592.50   9,434,901.00  18,427,743.75   \n",
       "delinquency_loss  2,573,370.00   5,026,050.00   9,816,660.00  19,173,375.00   \n",
       "operative_costs     571,860.00   1,116,900.00   2,181,480.00   4,260,750.00   \n",
       "net_income         -671,935.50  -1,312,357.50  -2,563,239.00  -5,006,381.25   \n",
       "\n",
       "loan_type            Contigo B                                              \n",
       "quarter                     Q1            Q2             Q3             Q4  \n",
       "interest_revenue  6,090,400.00  8,106,304.00  10,789,208.00  14,360,648.00  \n",
       "delinquency_loss  5,296,000.00  7,048,960.00   9,381,920.00  12,487,520.00  \n",
       "operative_costs     993,000.00  1,321,680.00   1,759,110.00   2,341,410.00  \n",
       "net_income         -198,600.00   -264,336.00    -351,822.00    -468,282.00  "
      ]
     },
     "execution_count": 5,
     "metadata": {},
     "output_type": "execute_result"
    }
   ],
   "source": [
    "im.quarterly_results(contigo_a_features,contigo_b_features)"
   ]
  },
  {
   "cell_type": "code",
   "execution_count": 6,
   "metadata": {},
   "outputs": [
    {
     "data": {
      "image/svg+xml": "<svg class=\"main-svg\" xmlns=\"http://www.w3.org/2000/svg\" xmlns:xlink=\"http://www.w3.org/1999/xlink\" width=\"850\" height=\"450\" style=\"\" viewBox=\"0 0 850 450\"><rect x=\"0\" y=\"0\" width=\"850\" height=\"450\" style=\"fill: rgb(255, 255, 255); fill-opacity: 1;\"/><defs id=\"defs-b4ceaf\"><g class=\"clips\"><clipPath id=\"clipb4ceafxyplot\" class=\"plotclip\"><rect width=\"288.45\" height=\"270\"/></clipPath><clipPath id=\"clipb4ceafx2y2plot\" class=\"plotclip\"><rect width=\"288.45\" height=\"270\"/></clipPath><clipPath class=\"axesclip\" id=\"clipb4ceafx\"><rect x=\"80\" y=\"0\" width=\"288.45\" height=\"450\"/></clipPath><clipPath class=\"axesclip\" id=\"clipb4ceafy\"><rect x=\"0\" y=\"100\" width=\"850\" height=\"270\"/></clipPath><clipPath class=\"axesclip\" id=\"clipb4ceafxy\"><rect x=\"80\" y=\"100\" width=\"288.45\" height=\"270\"/></clipPath><clipPath class=\"axesclip\" id=\"clipb4ceafy2\"><rect x=\"0\" y=\"100\" width=\"850\" height=\"270\"/></clipPath><clipPath class=\"axesclip\" id=\"clipb4ceafxy2\"><rect x=\"80\" y=\"100\" width=\"288.45\" height=\"270\"/></clipPath><clipPath class=\"axesclip\" id=\"clipb4ceafx2\"><rect x=\"432.55\" y=\"0\" width=\"288.45\" height=\"450\"/></clipPath><clipPath class=\"axesclip\" id=\"clipb4ceafx2y\"><rect x=\"432.55\" y=\"100\" width=\"288.45\" height=\"270\"/></clipPath><clipPath class=\"axesclip\" id=\"clipb4ceafx2y2\"><rect x=\"432.55\" y=\"100\" width=\"288.45\" height=\"270\"/></clipPath></g><g class=\"gradients\"/><g class=\"patterns\"/></defs><g class=\"bglayer\"><rect class=\"bg\" x=\"80\" y=\"100\" width=\"288.45\" height=\"270\" style=\"fill: rgb(229, 236, 246); fill-opacity: 1; stroke-width: 0;\"/><rect class=\"bg\" x=\"432.55\" y=\"100\" width=\"288.45\" height=\"270\" style=\"fill: rgb(229, 236, 246); fill-opacity: 1; stroke-width: 0;\"/></g><g class=\"layer-below\"><g class=\"imagelayer\"/><g class=\"shapelayer\"/></g><g class=\"cartesianlayer\"><g class=\"subplot xy\"><g class=\"layer-subplot\"><g class=\"shapelayer\"/><g class=\"imagelayer\"/></g><g class=\"minor-gridlayer\"><g class=\"x\"/><g class=\"y\"/></g><g class=\"gridlayer\"><g class=\"x\"/><g class=\"y\"><path class=\"ygrid crisp\" transform=\"translate(0,350.02)\" d=\"M80,0h288.45\" style=\"stroke: rgb(255, 255, 255); stroke-opacity: 1; stroke-width: 1px;\"/><path class=\"ygrid crisp\" transform=\"translate(0,287.52)\" d=\"M80,0h288.45\" style=\"stroke: rgb(255, 255, 255); stroke-opacity: 1; stroke-width: 1px;\"/><path class=\"ygrid crisp\" transform=\"translate(0,225.01)\" d=\"M80,0h288.45\" style=\"stroke: rgb(255, 255, 255); stroke-opacity: 1; stroke-width: 1px;\"/><path class=\"ygrid crisp\" transform=\"translate(0,162.51)\" d=\"M80,0h288.45\" style=\"stroke: rgb(255, 255, 255); stroke-opacity: 1; stroke-width: 1px;\"/></g></g><g class=\"zerolinelayer\"><path class=\"yzl zl crisp\" transform=\"translate(0,100)\" d=\"M80,0h288.45\" style=\"stroke: rgb(255, 255, 255); stroke-opacity: 1; stroke-width: 2px;\"/></g><path class=\"xlines-below\"/><path class=\"ylines-below\"/><g class=\"overlines-below\"/><g class=\"xaxislayer-below\"/><g class=\"yaxislayer-below\"/><g class=\"overaxes-below\"/><g class=\"plot\" transform=\"translate(80,100)\" clip-path=\"url(#clipb4ceafxyplot)\"><g class=\"barlayer mlayer\"><g class=\"trace bars\" style=\"opacity: 1;\"><g class=\"points\"><g class=\"point\"><path d=\"M6.01,0V22.03H18.03V0Z\" style=\"vector-effect: none; opacity: 1; stroke-width: 0.5px; fill: rgb(173, 216, 230); fill-opacity: 1; stroke: rgb(52, 73, 94); stroke-opacity: 1;\"/></g><g class=\"point\"><path d=\"M30.05,0V27.54H42.07V0Z\" style=\"vector-effect: none; opacity: 1; stroke-width: 0.5px; fill: rgb(173, 216, 230); fill-opacity: 1; stroke: rgb(52, 73, 94); stroke-opacity: 1;\"/></g><g class=\"point\"><path d=\"M54.08,0V34.43H66.1V0Z\" style=\"vector-effect: none; opacity: 1; stroke-width: 0.5px; fill: rgb(173, 216, 230); fill-opacity: 1; stroke: rgb(52, 73, 94); stroke-opacity: 1;\"/></g><g class=\"point\"><path d=\"M78.12,0V43.03H90.14V0Z\" style=\"vector-effect: none; opacity: 1; stroke-width: 0.5px; fill: rgb(173, 216, 230); fill-opacity: 1; stroke: rgb(52, 73, 94); stroke-opacity: 1;\"/></g><g class=\"point\"><path d=\"M102.16,0V53.79H114.18V0Z\" style=\"vector-effect: none; opacity: 1; stroke-width: 0.5px; fill: rgb(173, 216, 230); fill-opacity: 1; stroke: rgb(52, 73, 94); stroke-opacity: 1;\"/></g><g class=\"point\"><path d=\"M126.2,0V67.24H138.22V0Z\" style=\"vector-effect: none; opacity: 1; stroke-width: 0.5px; fill: rgb(173, 216, 230); fill-opacity: 1; stroke: rgb(52, 73, 94); stroke-opacity: 1;\"/></g><g class=\"point\"><path d=\"M150.23,0V84.05H162.25V0Z\" style=\"vector-effect: none; opacity: 1; stroke-width: 0.5px; fill: rgb(173, 216, 230); fill-opacity: 1; stroke: rgb(52, 73, 94); stroke-opacity: 1;\"/></g><g class=\"point\"><path d=\"M174.27,0V105.06H186.29V0Z\" style=\"vector-effect: none; opacity: 1; stroke-width: 0.5px; fill: rgb(173, 216, 230); fill-opacity: 1; stroke: rgb(52, 73, 94); stroke-opacity: 1;\"/></g><g class=\"point\"><path d=\"M198.31,0V131.33H210.33V0Z\" style=\"vector-effect: none; opacity: 1; stroke-width: 0.5px; fill: rgb(173, 216, 230); fill-opacity: 1; stroke: rgb(52, 73, 94); stroke-opacity: 1;\"/></g><g class=\"point\"><path d=\"M222.35,0V164.16H234.37V0Z\" style=\"vector-effect: none; opacity: 1; stroke-width: 0.5px; fill: rgb(173, 216, 230); fill-opacity: 1; stroke: rgb(52, 73, 94); stroke-opacity: 1;\"/></g><g class=\"point\"><path d=\"M246.38,0V205.2H258.4V0Z\" style=\"vector-effect: none; opacity: 1; stroke-width: 0.5px; fill: rgb(173, 216, 230); fill-opacity: 1; stroke: rgb(52, 73, 94); stroke-opacity: 1;\"/></g><g class=\"point\"><path d=\"M270.42,0V256.5H282.44V0Z\" style=\"vector-effect: none; opacity: 1; stroke-width: 0.5px; fill: rgb(173, 216, 230); fill-opacity: 1; stroke: rgb(52, 73, 94); stroke-opacity: 1;\"/></g></g></g></g></g><g class=\"overplot\"/><path class=\"xlines-above crisp\" d=\"M0,0\" style=\"fill: none;\"/><path class=\"ylines-above crisp\" d=\"M0,0\" style=\"fill: none;\"/><g class=\"overlines-above\"/><g class=\"xaxislayer-above\"><g class=\"xtick\"><text text-anchor=\"middle\" x=\"0\" y=\"383\" transform=\"translate(92.02,0)\" style=\"font-family: 'Open Sans', verdana, arial, sans-serif; font-size: 12px; fill: rgb(42, 63, 95); fill-opacity: 1; white-space: pre; opacity: 1;\">1</text></g><g class=\"xtick\"><text text-anchor=\"middle\" x=\"0\" y=\"383\" style=\"font-family: 'Open Sans', verdana, arial, sans-serif; font-size: 12px; fill: rgb(42, 63, 95); fill-opacity: 1; white-space: pre; opacity: 1;\" transform=\"translate(116.06,0)\">2</text></g><g class=\"xtick\"><text text-anchor=\"middle\" x=\"0\" y=\"383\" style=\"font-family: 'Open Sans', verdana, arial, sans-serif; font-size: 12px; fill: rgb(42, 63, 95); fill-opacity: 1; white-space: pre; opacity: 1;\" transform=\"translate(140.09,0)\">3</text></g><g class=\"xtick\"><text text-anchor=\"middle\" x=\"0\" y=\"383\" style=\"font-family: 'Open Sans', verdana, arial, sans-serif; font-size: 12px; fill: rgb(42, 63, 95); fill-opacity: 1; white-space: pre; opacity: 1;\" transform=\"translate(164.13,0)\">4</text></g><g class=\"xtick\"><text text-anchor=\"middle\" x=\"0\" y=\"383\" style=\"font-family: 'Open Sans', verdana, arial, sans-serif; font-size: 12px; fill: rgb(42, 63, 95); fill-opacity: 1; white-space: pre; opacity: 1;\" transform=\"translate(188.17000000000002,0)\">5</text></g><g class=\"xtick\"><text text-anchor=\"middle\" x=\"0\" y=\"383\" style=\"font-family: 'Open Sans', verdana, arial, sans-serif; font-size: 12px; fill: rgb(42, 63, 95); fill-opacity: 1; white-space: pre; opacity: 1;\" transform=\"translate(212.21,0)\">6</text></g><g class=\"xtick\"><text text-anchor=\"middle\" x=\"0\" y=\"383\" style=\"font-family: 'Open Sans', verdana, arial, sans-serif; font-size: 12px; fill: rgb(42, 63, 95); fill-opacity: 1; white-space: pre; opacity: 1;\" transform=\"translate(236.24,0)\">7</text></g><g class=\"xtick\"><text text-anchor=\"middle\" x=\"0\" y=\"383\" style=\"font-family: 'Open Sans', verdana, arial, sans-serif; font-size: 12px; fill: rgb(42, 63, 95); fill-opacity: 1; white-space: pre; opacity: 1;\" transform=\"translate(260.28,0)\">8</text></g><g class=\"xtick\"><text text-anchor=\"middle\" x=\"0\" y=\"383\" style=\"font-family: 'Open Sans', verdana, arial, sans-serif; font-size: 12px; fill: rgb(42, 63, 95); fill-opacity: 1; white-space: pre; opacity: 1;\" transform=\"translate(284.32,0)\">9</text></g><g class=\"xtick\"><text text-anchor=\"middle\" x=\"0\" y=\"383\" style=\"font-family: 'Open Sans', verdana, arial, sans-serif; font-size: 12px; fill: rgb(42, 63, 95); fill-opacity: 1; white-space: pre; opacity: 1;\" transform=\"translate(308.36,0)\">10</text></g><g class=\"xtick\"><text text-anchor=\"middle\" x=\"0\" y=\"383\" style=\"font-family: 'Open Sans', verdana, arial, sans-serif; font-size: 12px; fill: rgb(42, 63, 95); fill-opacity: 1; white-space: pre; opacity: 1;\" transform=\"translate(332.39,0)\">11</text></g><g class=\"xtick\"><text text-anchor=\"middle\" x=\"0\" y=\"383\" style=\"font-family: 'Open Sans', verdana, arial, sans-serif; font-size: 12px; fill: rgb(42, 63, 95); fill-opacity: 1; white-space: pre; opacity: 1;\" transform=\"translate(356.43,0)\">12</text></g></g><g class=\"yaxislayer-above\"><g class=\"ytick\"><text text-anchor=\"end\" x=\"79\" y=\"4.199999999999999\" transform=\"translate(0,350.02)\" style=\"font-family: 'Open Sans', verdana, arial, sans-serif; font-size: 12px; fill: rgb(42, 63, 95); fill-opacity: 1; white-space: pre; opacity: 1;\">−2M</text></g><g class=\"ytick\"><text text-anchor=\"end\" x=\"79\" y=\"4.199999999999999\" style=\"font-family: 'Open Sans', verdana, arial, sans-serif; font-size: 12px; fill: rgb(42, 63, 95); fill-opacity: 1; white-space: pre; opacity: 1;\" transform=\"translate(0,287.52)\">−1.5M</text></g><g class=\"ytick\"><text text-anchor=\"end\" x=\"79\" y=\"4.199999999999999\" style=\"font-family: 'Open Sans', verdana, arial, sans-serif; font-size: 12px; fill: rgb(42, 63, 95); fill-opacity: 1; white-space: pre; opacity: 1;\" transform=\"translate(0,225.01)\">−1M</text></g><g class=\"ytick\"><text text-anchor=\"end\" x=\"79\" y=\"4.199999999999999\" style=\"font-family: 'Open Sans', verdana, arial, sans-serif; font-size: 12px; fill: rgb(42, 63, 95); fill-opacity: 1; white-space: pre; opacity: 1;\" transform=\"translate(0,162.51)\">−0.5M</text></g><g class=\"ytick\"><text text-anchor=\"end\" x=\"79\" y=\"4.199999999999999\" style=\"font-family: 'Open Sans', verdana, arial, sans-serif; font-size: 12px; fill: rgb(42, 63, 95); fill-opacity: 1; white-space: pre; opacity: 1;\" transform=\"translate(0,100)\">0</text></g></g><g class=\"overaxes-above\"/></g><g class=\"subplot x2y2\"><g class=\"layer-subplot\"><g class=\"shapelayer\"/><g class=\"imagelayer\"/></g><g class=\"minor-gridlayer\"><g class=\"x2\"/><g class=\"y2\"/></g><g class=\"gridlayer\"><g class=\"x2\"/><g class=\"y2\"><path class=\"y2grid crisp\" transform=\"translate(0,324.76)\" d=\"M432.55,0h288.45\" style=\"stroke: rgb(255, 255, 255); stroke-opacity: 1; stroke-width: 1px;\"/><path class=\"y2grid crisp\" transform=\"translate(0,249.84)\" d=\"M432.55,0h288.45\" style=\"stroke: rgb(255, 255, 255); stroke-opacity: 1; stroke-width: 1px;\"/><path class=\"y2grid crisp\" transform=\"translate(0,174.92000000000002)\" d=\"M432.55,0h288.45\" style=\"stroke: rgb(255, 255, 255); stroke-opacity: 1; stroke-width: 1px;\"/></g></g><g class=\"zerolinelayer\"><path class=\"y2zl zl crisp\" transform=\"translate(0,100)\" d=\"M432.55,0h288.45\" style=\"stroke: rgb(255, 255, 255); stroke-opacity: 1; stroke-width: 2px;\"/></g><path class=\"xlines-below\"/><path class=\"ylines-below\"/><g class=\"overlines-below\"/><g class=\"xaxislayer-below\"/><g class=\"yaxislayer-below\"/><g class=\"overaxes-below\"/><g class=\"plot\" transform=\"translate(432.55,100)\" clip-path=\"url(#clipb4ceafx2y2plot)\"><g class=\"barlayer mlayer\"><g class=\"trace bars\" style=\"opacity: 1;\"><g class=\"points\"><g class=\"point\"><path d=\"M6.01,0V89.9H18.03V0Z\" style=\"vector-effect: none; opacity: 1; stroke-width: 0.5px; fill: rgb(170, 150, 218); fill-opacity: 1; stroke: rgb(52, 73, 94); stroke-opacity: 1;\"/></g><g class=\"point\"><path d=\"M30.05,0V98.89H42.07V0Z\" style=\"vector-effect: none; opacity: 1; stroke-width: 0.5px; fill: rgb(170, 150, 218); fill-opacity: 1; stroke: rgb(52, 73, 94); stroke-opacity: 1;\"/></g><g class=\"point\"><path d=\"M54.08,0V108.78H66.1V0Z\" style=\"vector-effect: none; opacity: 1; stroke-width: 0.5px; fill: rgb(170, 150, 218); fill-opacity: 1; stroke: rgb(52, 73, 94); stroke-opacity: 1;\"/></g><g class=\"point\"><path d=\"M78.12,0V119.66H90.14V0Z\" style=\"vector-effect: none; opacity: 1; stroke-width: 0.5px; fill: rgb(170, 150, 218); fill-opacity: 1; stroke: rgb(52, 73, 94); stroke-opacity: 1;\"/></g><g class=\"point\"><path d=\"M102.16,0V131.63H114.18V0Z\" style=\"vector-effect: none; opacity: 1; stroke-width: 0.5px; fill: rgb(170, 150, 218); fill-opacity: 1; stroke: rgb(52, 73, 94); stroke-opacity: 1;\"/></g><g class=\"point\"><path d=\"M126.2,0V144.79H138.22V0Z\" style=\"vector-effect: none; opacity: 1; stroke-width: 0.5px; fill: rgb(170, 150, 218); fill-opacity: 1; stroke: rgb(52, 73, 94); stroke-opacity: 1;\"/></g><g class=\"point\"><path d=\"M150.23,0V159.26H162.25V0Z\" style=\"vector-effect: none; opacity: 1; stroke-width: 0.5px; fill: rgb(170, 150, 218); fill-opacity: 1; stroke: rgb(52, 73, 94); stroke-opacity: 1;\"/></g><g class=\"point\"><path d=\"M174.27,0V175.19H186.29V0Z\" style=\"vector-effect: none; opacity: 1; stroke-width: 0.5px; fill: rgb(170, 150, 218); fill-opacity: 1; stroke: rgb(52, 73, 94); stroke-opacity: 1;\"/></g><g class=\"point\"><path d=\"M198.31,0V192.71H210.33V0Z\" style=\"vector-effect: none; opacity: 1; stroke-width: 0.5px; fill: rgb(170, 150, 218); fill-opacity: 1; stroke: rgb(52, 73, 94); stroke-opacity: 1;\"/></g><g class=\"point\"><path d=\"M222.35,0V211.98H234.37V0Z\" style=\"vector-effect: none; opacity: 1; stroke-width: 0.5px; fill: rgb(170, 150, 218); fill-opacity: 1; stroke: rgb(52, 73, 94); stroke-opacity: 1;\"/></g><g class=\"point\"><path d=\"M246.38,0V233.18H258.4V0Z\" style=\"vector-effect: none; opacity: 1; stroke-width: 0.5px; fill: rgb(170, 150, 218); fill-opacity: 1; stroke: rgb(52, 73, 94); stroke-opacity: 1;\"/></g><g class=\"point\"><path d=\"M270.42,0V256.5H282.44V0Z\" style=\"vector-effect: none; opacity: 1; stroke-width: 0.5px; fill: rgb(170, 150, 218); fill-opacity: 1; stroke: rgb(52, 73, 94); stroke-opacity: 1;\"/></g></g></g></g></g><g class=\"overplot\"/><path class=\"xlines-above crisp\" d=\"M0,0\" style=\"fill: none;\"/><path class=\"ylines-above crisp\" d=\"M0,0\" style=\"fill: none;\"/><g class=\"overlines-above\"/><g class=\"xaxislayer-above\"><g class=\"x2tick\"><text text-anchor=\"middle\" x=\"0\" y=\"383\" transform=\"translate(444.57,0)\" style=\"font-family: 'Open Sans', verdana, arial, sans-serif; font-size: 12px; fill: rgb(42, 63, 95); fill-opacity: 1; white-space: pre; opacity: 1;\">1</text></g><g class=\"x2tick\"><text text-anchor=\"middle\" x=\"0\" y=\"383\" style=\"font-family: 'Open Sans', verdana, arial, sans-serif; font-size: 12px; fill: rgb(42, 63, 95); fill-opacity: 1; white-space: pre; opacity: 1;\" transform=\"translate(468.61,0)\">2</text></g><g class=\"x2tick\"><text text-anchor=\"middle\" x=\"0\" y=\"383\" style=\"font-family: 'Open Sans', verdana, arial, sans-serif; font-size: 12px; fill: rgb(42, 63, 95); fill-opacity: 1; white-space: pre; opacity: 1;\" transform=\"translate(492.64,0)\">3</text></g><g class=\"x2tick\"><text text-anchor=\"middle\" x=\"0\" y=\"383\" style=\"font-family: 'Open Sans', verdana, arial, sans-serif; font-size: 12px; fill: rgb(42, 63, 95); fill-opacity: 1; white-space: pre; opacity: 1;\" transform=\"translate(516.6800000000001,0)\">4</text></g><g class=\"x2tick\"><text text-anchor=\"middle\" x=\"0\" y=\"383\" style=\"font-family: 'Open Sans', verdana, arial, sans-serif; font-size: 12px; fill: rgb(42, 63, 95); fill-opacity: 1; white-space: pre; opacity: 1;\" transform=\"translate(540.72,0)\">5</text></g><g class=\"x2tick\"><text text-anchor=\"middle\" x=\"0\" y=\"383\" style=\"font-family: 'Open Sans', verdana, arial, sans-serif; font-size: 12px; fill: rgb(42, 63, 95); fill-opacity: 1; white-space: pre; opacity: 1;\" transform=\"translate(564.76,0)\">6</text></g><g class=\"x2tick\"><text text-anchor=\"middle\" x=\"0\" y=\"383\" style=\"font-family: 'Open Sans', verdana, arial, sans-serif; font-size: 12px; fill: rgb(42, 63, 95); fill-opacity: 1; white-space: pre; opacity: 1;\" transform=\"translate(588.79,0)\">7</text></g><g class=\"x2tick\"><text text-anchor=\"middle\" x=\"0\" y=\"383\" style=\"font-family: 'Open Sans', verdana, arial, sans-serif; font-size: 12px; fill: rgb(42, 63, 95); fill-opacity: 1; white-space: pre; opacity: 1;\" transform=\"translate(612.83,0)\">8</text></g><g class=\"x2tick\"><text text-anchor=\"middle\" x=\"0\" y=\"383\" style=\"font-family: 'Open Sans', verdana, arial, sans-serif; font-size: 12px; fill: rgb(42, 63, 95); fill-opacity: 1; white-space: pre; opacity: 1;\" transform=\"translate(636.87,0)\">9</text></g><g class=\"x2tick\"><text text-anchor=\"middle\" x=\"0\" y=\"383\" style=\"font-family: 'Open Sans', verdana, arial, sans-serif; font-size: 12px; fill: rgb(42, 63, 95); fill-opacity: 1; white-space: pre; opacity: 1;\" transform=\"translate(660.9100000000001,0)\">10</text></g><g class=\"x2tick\"><text text-anchor=\"middle\" x=\"0\" y=\"383\" style=\"font-family: 'Open Sans', verdana, arial, sans-serif; font-size: 12px; fill: rgb(42, 63, 95); fill-opacity: 1; white-space: pre; opacity: 1;\" transform=\"translate(684.94,0)\">11</text></g><g class=\"x2tick\"><text text-anchor=\"middle\" x=\"0\" y=\"383\" style=\"font-family: 'Open Sans', verdana, arial, sans-serif; font-size: 12px; fill: rgb(42, 63, 95); fill-opacity: 1; white-space: pre; opacity: 1;\" transform=\"translate(708.98,0)\">12</text></g></g><g class=\"yaxislayer-above\"><g class=\"y2tick\"><text text-anchor=\"end\" x=\"431.55\" y=\"4.199999999999999\" transform=\"translate(0,324.76)\" style=\"font-family: 'Open Sans', verdana, arial, sans-serif; font-size: 12px; fill: rgb(42, 63, 95); fill-opacity: 1; white-space: pre; opacity: 1;\">−150k</text></g><g class=\"y2tick\"><text text-anchor=\"end\" x=\"431.55\" y=\"4.199999999999999\" style=\"font-family: 'Open Sans', verdana, arial, sans-serif; font-size: 12px; fill: rgb(42, 63, 95); fill-opacity: 1; white-space: pre; opacity: 1;\" transform=\"translate(0,249.84)\">−100k</text></g><g class=\"y2tick\"><text text-anchor=\"end\" x=\"431.55\" y=\"4.199999999999999\" style=\"font-family: 'Open Sans', verdana, arial, sans-serif; font-size: 12px; fill: rgb(42, 63, 95); fill-opacity: 1; white-space: pre; opacity: 1;\" transform=\"translate(0,174.92000000000002)\">−50k</text></g><g class=\"y2tick\"><text text-anchor=\"end\" x=\"431.55\" y=\"4.199999999999999\" style=\"font-family: 'Open Sans', verdana, arial, sans-serif; font-size: 12px; fill: rgb(42, 63, 95); fill-opacity: 1; white-space: pre; opacity: 1;\" transform=\"translate(0,100)\">0</text></g></g><g class=\"overaxes-above\"/></g></g><g class=\"polarlayer\"/><g class=\"smithlayer\"/><g class=\"ternarylayer\"/><g class=\"geolayer\"/><g class=\"funnelarealayer\"/><g class=\"pielayer\"/><g class=\"iciclelayer\"/><g class=\"treemaplayer\"/><g class=\"sunburstlayer\"/><g class=\"glimages\"/><defs id=\"topdefs-b4ceaf\"><g class=\"clips\"/><clipPath id=\"legendb4ceaf\"><rect width=\"104\" height=\"48\" x=\"0\" y=\"0\"/></clipPath></defs><g class=\"layer-above\"><g class=\"imagelayer\"/><g class=\"shapelayer\"/></g><g class=\"infolayer\"><g class=\"legend\" pointer-events=\"all\" transform=\"translate(733.82,100)\"><rect class=\"bg\" shape-rendering=\"crispEdges\" style=\"stroke: rgb(68, 68, 68); stroke-opacity: 1; fill: rgb(255, 255, 255); fill-opacity: 1; stroke-width: 0px;\" width=\"104\" height=\"48\" x=\"0\" y=\"0\"/><g class=\"scrollbox\" transform=\"\" clip-path=\"url(#legendb4ceaf)\"><g class=\"groups\"><g class=\"traces\" transform=\"translate(0,14.5)\" style=\"opacity: 1;\"><text class=\"legendtext\" text-anchor=\"start\" x=\"40\" y=\"4.680000000000001\" style=\"font-family: 'Open Sans', verdana, arial, sans-serif; font-size: 12px; fill: rgb(42, 63, 95); fill-opacity: 1; white-space: pre;\">Contigo A</text><g class=\"layers\" style=\"opacity: 1;\"><g class=\"legendfill\"/><g class=\"legendlines\"/><g class=\"legendsymbols\"><g class=\"legendpoints\"><path class=\"legendundefined\" d=\"M6,6H-6V-6H6Z\" transform=\"translate(20,0)\" style=\"stroke-width: 0.5px; fill: rgb(173, 216, 230); fill-opacity: 1; stroke: rgb(52, 73, 94); stroke-opacity: 1;\"/></g></g></g><rect class=\"legendtoggle\" x=\"0\" y=\"-9.5\" width=\"98.484375\" height=\"19\" style=\"fill: rgb(0, 0, 0); fill-opacity: 0;\"/></g><g class=\"traces\" transform=\"translate(0,33.5)\" style=\"opacity: 1;\"><text class=\"legendtext\" text-anchor=\"start\" x=\"40\" y=\"4.680000000000001\" style=\"font-family: 'Open Sans', verdana, arial, sans-serif; font-size: 12px; fill: rgb(42, 63, 95); fill-opacity: 1; white-space: pre;\">Contigo B</text><g class=\"layers\" style=\"opacity: 1;\"><g class=\"legendfill\"/><g class=\"legendlines\"/><g class=\"legendsymbols\"><g class=\"legendpoints\"><path class=\"legendundefined\" d=\"M6,6H-6V-6H6Z\" transform=\"translate(20,0)\" style=\"stroke-width: 0.5px; fill: rgb(170, 150, 218); fill-opacity: 1; stroke: rgb(52, 73, 94); stroke-opacity: 1;\"/></g></g></g><rect class=\"legendtoggle\" x=\"0\" y=\"-9.5\" width=\"98.484375\" height=\"19\" style=\"fill: rgb(0, 0, 0); fill-opacity: 0;\"/></g></g></g><rect class=\"scrollbar\" rx=\"20\" ry=\"3\" width=\"0\" height=\"0\" style=\"fill: rgb(128, 139, 164); fill-opacity: 1;\" x=\"0\" y=\"0\"/></g><g class=\"g-gtitle\"><text class=\"gtitle\" x=\"42.5\" y=\"50\" text-anchor=\"start\" dy=\"0em\" style=\"font-family: 'Open Sans', verdana, arial, sans-serif; font-size: 17px; fill: rgb(42, 63, 95); opacity: 1; font-weight: normal; white-space: pre;\">Net Income by Loan Type</text></g><g class=\"g-xtitle\"><text class=\"xtitle\" x=\"224.225\" y=\"409.8\" text-anchor=\"middle\" style=\"font-family: 'Open Sans', verdana, arial, sans-serif; font-size: 14px; fill: rgb(42, 63, 95); opacity: 1; font-weight: normal; white-space: pre;\">Month</text></g><g class=\"g-x2title\"><text class=\"x2title\" x=\"576.775\" y=\"409.8\" text-anchor=\"middle\" style=\"font-family: 'Open Sans', verdana, arial, sans-serif; font-size: 14px; fill: rgb(42, 63, 95); opacity: 1; font-weight: normal; white-space: pre;\">Month</text></g><g class=\"g-ytitle\"><text class=\"ytitle\" transform=\"rotate(-90,15.137500000000003,235)\" x=\"15.137500000000003\" y=\"235\" text-anchor=\"middle\" style=\"font-family: 'Open Sans', verdana, arial, sans-serif; font-size: 14px; fill: rgb(42, 63, 95); opacity: 1; font-weight: normal; white-space: pre;\">Net Income (in mexican pesos)</text></g><g class=\"g-y2title\"/></g></svg>"
     },
     "metadata": {},
     "output_type": "display_data"
    }
   ],
   "source": [
    "im.visualize_results(contigo_a_features,contigo_b_features)"
   ]
  },
  {
   "cell_type": "code",
   "execution_count": 7,
   "metadata": {},
   "outputs": [
    {
     "data": {
      "text/html": [
       "<div>\n",
       "<style scoped>\n",
       "    .dataframe tbody tr th:only-of-type {\n",
       "        vertical-align: middle;\n",
       "    }\n",
       "\n",
       "    .dataframe tbody tr th {\n",
       "        vertical-align: top;\n",
       "    }\n",
       "\n",
       "    .dataframe thead th {\n",
       "        text-align: right;\n",
       "    }\n",
       "</style>\n",
       "<table border=\"1\" class=\"dataframe\">\n",
       "  <thead>\n",
       "    <tr style=\"text-align: right;\">\n",
       "      <th></th>\n",
       "      <th>month</th>\n",
       "      <th>loan_type</th>\n",
       "      <th>accounts</th>\n",
       "      <th>delinquency_accounts</th>\n",
       "      <th>interest_revenue</th>\n",
       "      <th>delinquency_loss</th>\n",
       "      <th>operative_costs</th>\n",
       "      <th>net_income</th>\n",
       "    </tr>\n",
       "  </thead>\n",
       "  <tbody>\n",
       "    <tr>\n",
       "      <th>0</th>\n",
       "      <td>1</td>\n",
       "      <td>Contigo A</td>\n",
       "      <td>5000</td>\n",
       "      <td>675</td>\n",
       "      <td>648750.00</td>\n",
       "      <td>675000.0</td>\n",
       "      <td>150000</td>\n",
       "      <td>-176250.00</td>\n",
       "    </tr>\n",
       "    <tr>\n",
       "      <th>1</th>\n",
       "      <td>2</td>\n",
       "      <td>Contigo A</td>\n",
       "      <td>6250</td>\n",
       "      <td>843</td>\n",
       "      <td>810937.50</td>\n",
       "      <td>843750.0</td>\n",
       "      <td>187500</td>\n",
       "      <td>-220312.50</td>\n",
       "    </tr>\n",
       "    <tr>\n",
       "      <th>2</th>\n",
       "      <td>3</td>\n",
       "      <td>Contigo A</td>\n",
       "      <td>7812</td>\n",
       "      <td>1054</td>\n",
       "      <td>1013607.00</td>\n",
       "      <td>1054620.0</td>\n",
       "      <td>234360</td>\n",
       "      <td>-275373.00</td>\n",
       "    </tr>\n",
       "    <tr>\n",
       "      <th>3</th>\n",
       "      <td>4</td>\n",
       "      <td>Contigo A</td>\n",
       "      <td>9765</td>\n",
       "      <td>1318</td>\n",
       "      <td>1267008.75</td>\n",
       "      <td>1318275.0</td>\n",
       "      <td>292950</td>\n",
       "      <td>-344216.25</td>\n",
       "    </tr>\n",
       "    <tr>\n",
       "      <th>4</th>\n",
       "      <td>5</td>\n",
       "      <td>Contigo A</td>\n",
       "      <td>12207</td>\n",
       "      <td>1647</td>\n",
       "      <td>1583858.25</td>\n",
       "      <td>1647945.0</td>\n",
       "      <td>366210</td>\n",
       "      <td>-430296.75</td>\n",
       "    </tr>\n",
       "    <tr>\n",
       "      <th>5</th>\n",
       "      <td>6</td>\n",
       "      <td>Contigo A</td>\n",
       "      <td>15258</td>\n",
       "      <td>2059</td>\n",
       "      <td>1979725.50</td>\n",
       "      <td>2059830.0</td>\n",
       "      <td>457740</td>\n",
       "      <td>-537844.50</td>\n",
       "    </tr>\n",
       "    <tr>\n",
       "      <th>6</th>\n",
       "      <td>7</td>\n",
       "      <td>Contigo A</td>\n",
       "      <td>19073</td>\n",
       "      <td>2574</td>\n",
       "      <td>2474721.75</td>\n",
       "      <td>2574855.0</td>\n",
       "      <td>572190</td>\n",
       "      <td>-672323.25</td>\n",
       "    </tr>\n",
       "    <tr>\n",
       "      <th>7</th>\n",
       "      <td>8</td>\n",
       "      <td>Contigo A</td>\n",
       "      <td>23841</td>\n",
       "      <td>3218</td>\n",
       "      <td>3093369.75</td>\n",
       "      <td>3218535.0</td>\n",
       "      <td>715230</td>\n",
       "      <td>-840395.25</td>\n",
       "    </tr>\n",
       "    <tr>\n",
       "      <th>8</th>\n",
       "      <td>9</td>\n",
       "      <td>Contigo A</td>\n",
       "      <td>29802</td>\n",
       "      <td>4023</td>\n",
       "      <td>3866809.50</td>\n",
       "      <td>4023270.0</td>\n",
       "      <td>894060</td>\n",
       "      <td>-1050520.50</td>\n",
       "    </tr>\n",
       "    <tr>\n",
       "      <th>9</th>\n",
       "      <td>10</td>\n",
       "      <td>Contigo A</td>\n",
       "      <td>37252</td>\n",
       "      <td>5029</td>\n",
       "      <td>4833447.00</td>\n",
       "      <td>5029020.0</td>\n",
       "      <td>1117560</td>\n",
       "      <td>-1313133.00</td>\n",
       "    </tr>\n",
       "    <tr>\n",
       "      <th>10</th>\n",
       "      <td>11</td>\n",
       "      <td>Contigo A</td>\n",
       "      <td>46566</td>\n",
       "      <td>6286</td>\n",
       "      <td>6041938.50</td>\n",
       "      <td>6286410.0</td>\n",
       "      <td>1396980</td>\n",
       "      <td>-1641451.50</td>\n",
       "    </tr>\n",
       "    <tr>\n",
       "      <th>11</th>\n",
       "      <td>12</td>\n",
       "      <td>Contigo A</td>\n",
       "      <td>58207</td>\n",
       "      <td>7857</td>\n",
       "      <td>7552358.25</td>\n",
       "      <td>7857945.0</td>\n",
       "      <td>1746210</td>\n",
       "      <td>-2051796.75</td>\n",
       "    </tr>\n",
       "    <tr>\n",
       "      <th>12</th>\n",
       "      <td>1</td>\n",
       "      <td>Contigo B</td>\n",
       "      <td>10000</td>\n",
       "      <td>800</td>\n",
       "      <td>1840000.00</td>\n",
       "      <td>1600000.0</td>\n",
       "      <td>300000</td>\n",
       "      <td>-60000.00</td>\n",
       "    </tr>\n",
       "    <tr>\n",
       "      <th>13</th>\n",
       "      <td>2</td>\n",
       "      <td>Contigo B</td>\n",
       "      <td>11000</td>\n",
       "      <td>880</td>\n",
       "      <td>2024000.00</td>\n",
       "      <td>1760000.0</td>\n",
       "      <td>330000</td>\n",
       "      <td>-66000.00</td>\n",
       "    </tr>\n",
       "    <tr>\n",
       "      <th>14</th>\n",
       "      <td>3</td>\n",
       "      <td>Contigo B</td>\n",
       "      <td>12100</td>\n",
       "      <td>968</td>\n",
       "      <td>2226400.00</td>\n",
       "      <td>1936000.0</td>\n",
       "      <td>363000</td>\n",
       "      <td>-72600.00</td>\n",
       "    </tr>\n",
       "    <tr>\n",
       "      <th>15</th>\n",
       "      <td>4</td>\n",
       "      <td>Contigo B</td>\n",
       "      <td>13310</td>\n",
       "      <td>1064</td>\n",
       "      <td>2449040.00</td>\n",
       "      <td>2129600.0</td>\n",
       "      <td>399300</td>\n",
       "      <td>-79860.00</td>\n",
       "    </tr>\n",
       "    <tr>\n",
       "      <th>16</th>\n",
       "      <td>5</td>\n",
       "      <td>Contigo B</td>\n",
       "      <td>14641</td>\n",
       "      <td>1171</td>\n",
       "      <td>2693944.00</td>\n",
       "      <td>2342560.0</td>\n",
       "      <td>439230</td>\n",
       "      <td>-87846.00</td>\n",
       "    </tr>\n",
       "    <tr>\n",
       "      <th>17</th>\n",
       "      <td>6</td>\n",
       "      <td>Contigo B</td>\n",
       "      <td>16105</td>\n",
       "      <td>1288</td>\n",
       "      <td>2963320.00</td>\n",
       "      <td>2576800.0</td>\n",
       "      <td>483150</td>\n",
       "      <td>-96630.00</td>\n",
       "    </tr>\n",
       "    <tr>\n",
       "      <th>18</th>\n",
       "      <td>7</td>\n",
       "      <td>Contigo B</td>\n",
       "      <td>17715</td>\n",
       "      <td>1417</td>\n",
       "      <td>3259560.00</td>\n",
       "      <td>2834400.0</td>\n",
       "      <td>531450</td>\n",
       "      <td>-106290.00</td>\n",
       "    </tr>\n",
       "    <tr>\n",
       "      <th>19</th>\n",
       "      <td>8</td>\n",
       "      <td>Contigo B</td>\n",
       "      <td>19487</td>\n",
       "      <td>1558</td>\n",
       "      <td>3585608.00</td>\n",
       "      <td>3117920.0</td>\n",
       "      <td>584610</td>\n",
       "      <td>-116922.00</td>\n",
       "    </tr>\n",
       "    <tr>\n",
       "      <th>20</th>\n",
       "      <td>9</td>\n",
       "      <td>Contigo B</td>\n",
       "      <td>21435</td>\n",
       "      <td>1714</td>\n",
       "      <td>3944040.00</td>\n",
       "      <td>3429600.0</td>\n",
       "      <td>643050</td>\n",
       "      <td>-128610.00</td>\n",
       "    </tr>\n",
       "    <tr>\n",
       "      <th>21</th>\n",
       "      <td>10</td>\n",
       "      <td>Contigo B</td>\n",
       "      <td>23579</td>\n",
       "      <td>1886</td>\n",
       "      <td>4338536.00</td>\n",
       "      <td>3772640.0</td>\n",
       "      <td>707370</td>\n",
       "      <td>-141474.00</td>\n",
       "    </tr>\n",
       "    <tr>\n",
       "      <th>22</th>\n",
       "      <td>11</td>\n",
       "      <td>Contigo B</td>\n",
       "      <td>25937</td>\n",
       "      <td>2074</td>\n",
       "      <td>4772408.00</td>\n",
       "      <td>4149920.0</td>\n",
       "      <td>778110</td>\n",
       "      <td>-155622.00</td>\n",
       "    </tr>\n",
       "    <tr>\n",
       "      <th>23</th>\n",
       "      <td>12</td>\n",
       "      <td>Contigo B</td>\n",
       "      <td>28531</td>\n",
       "      <td>2282</td>\n",
       "      <td>5249704.00</td>\n",
       "      <td>4564960.0</td>\n",
       "      <td>855930</td>\n",
       "      <td>-171186.00</td>\n",
       "    </tr>\n",
       "  </tbody>\n",
       "</table>\n",
       "</div>"
      ],
      "text/plain": [
       "    month  loan_type  accounts  delinquency_accounts  interest_revenue  \\\n",
       "0       1  Contigo A      5000                   675         648750.00   \n",
       "1       2  Contigo A      6250                   843         810937.50   \n",
       "2       3  Contigo A      7812                  1054        1013607.00   \n",
       "3       4  Contigo A      9765                  1318        1267008.75   \n",
       "4       5  Contigo A     12207                  1647        1583858.25   \n",
       "5       6  Contigo A     15258                  2059        1979725.50   \n",
       "6       7  Contigo A     19073                  2574        2474721.75   \n",
       "7       8  Contigo A     23841                  3218        3093369.75   \n",
       "8       9  Contigo A     29802                  4023        3866809.50   \n",
       "9      10  Contigo A     37252                  5029        4833447.00   \n",
       "10     11  Contigo A     46566                  6286        6041938.50   \n",
       "11     12  Contigo A     58207                  7857        7552358.25   \n",
       "12      1  Contigo B     10000                   800        1840000.00   \n",
       "13      2  Contigo B     11000                   880        2024000.00   \n",
       "14      3  Contigo B     12100                   968        2226400.00   \n",
       "15      4  Contigo B     13310                  1064        2449040.00   \n",
       "16      5  Contigo B     14641                  1171        2693944.00   \n",
       "17      6  Contigo B     16105                  1288        2963320.00   \n",
       "18      7  Contigo B     17715                  1417        3259560.00   \n",
       "19      8  Contigo B     19487                  1558        3585608.00   \n",
       "20      9  Contigo B     21435                  1714        3944040.00   \n",
       "21     10  Contigo B     23579                  1886        4338536.00   \n",
       "22     11  Contigo B     25937                  2074        4772408.00   \n",
       "23     12  Contigo B     28531                  2282        5249704.00   \n",
       "\n",
       "    delinquency_loss  operative_costs  net_income  \n",
       "0           675000.0           150000  -176250.00  \n",
       "1           843750.0           187500  -220312.50  \n",
       "2          1054620.0           234360  -275373.00  \n",
       "3          1318275.0           292950  -344216.25  \n",
       "4          1647945.0           366210  -430296.75  \n",
       "5          2059830.0           457740  -537844.50  \n",
       "6          2574855.0           572190  -672323.25  \n",
       "7          3218535.0           715230  -840395.25  \n",
       "8          4023270.0           894060 -1050520.50  \n",
       "9          5029020.0          1117560 -1313133.00  \n",
       "10         6286410.0          1396980 -1641451.50  \n",
       "11         7857945.0          1746210 -2051796.75  \n",
       "12         1600000.0           300000   -60000.00  \n",
       "13         1760000.0           330000   -66000.00  \n",
       "14         1936000.0           363000   -72600.00  \n",
       "15         2129600.0           399300   -79860.00  \n",
       "16         2342560.0           439230   -87846.00  \n",
       "17         2576800.0           483150   -96630.00  \n",
       "18         2834400.0           531450  -106290.00  \n",
       "19         3117920.0           584610  -116922.00  \n",
       "20         3429600.0           643050  -128610.00  \n",
       "21         3772640.0           707370  -141474.00  \n",
       "22         4149920.0           778110  -155622.00  \n",
       "23         4564960.0           855930  -171186.00  "
      ]
     },
     "execution_count": 7,
     "metadata": {},
     "output_type": "execute_result"
    }
   ],
   "source": [
    "im.compute_results(contigo_a_features,contigo_b_features)"
   ]
  },
  {
   "attachments": {},
   "cell_type": "markdown",
   "metadata": {},
   "source": [
    "#### Profitable Scenarios\n",
    "\n",
    "The startup could reach profitability in the following scenarios:"
   ]
  },
  {
   "attachments": {},
   "cell_type": "markdown",
   "metadata": {},
   "source": [
    "- `Delinquency Rate <= 10.43%` for **Contigo A**, if everything else stays the same."
   ]
  },
  {
   "cell_type": "code",
   "execution_count": 30,
   "metadata": {},
   "outputs": [
    {
     "name": "stdout",
     "output_type": "stream",
     "text": [
      "loan_type             Contigo A      Contigo B          Total\n",
      "interest_revenue  36,414,638.71  39,346,560.00  75,761,198.72\n",
      "delinquency_loss  28,268,741.90  34,214,400.00  62,483,141.90\n",
      "operative_costs    8,130,990.00   6,415,200.00  14,546,190.00\n",
      "net_income            14,906.81  -1,283,040.00  -1,268,133.19\n"
     ]
    },
    {
     "data": {
      "image/svg+xml": "<svg class=\"main-svg\" xmlns=\"http://www.w3.org/2000/svg\" xmlns:xlink=\"http://www.w3.org/1999/xlink\" width=\"850\" height=\"450\" style=\"\" viewBox=\"0 0 850 450\"><rect x=\"0\" y=\"0\" width=\"850\" height=\"450\" style=\"fill: rgb(255, 255, 255); fill-opacity: 1;\"/><defs id=\"defs-046045\"><g class=\"clips\"><clipPath id=\"clip046045xyplot\" class=\"plotclip\"><rect width=\"288.45\" height=\"270\"/></clipPath><clipPath id=\"clip046045x2y2plot\" class=\"plotclip\"><rect width=\"288.45\" height=\"270\"/></clipPath><clipPath class=\"axesclip\" id=\"clip046045x\"><rect x=\"80\" y=\"0\" width=\"288.45\" height=\"450\"/></clipPath><clipPath class=\"axesclip\" id=\"clip046045y\"><rect x=\"0\" y=\"100\" width=\"850\" height=\"270\"/></clipPath><clipPath class=\"axesclip\" id=\"clip046045xy\"><rect x=\"80\" y=\"100\" width=\"288.45\" height=\"270\"/></clipPath><clipPath class=\"axesclip\" id=\"clip046045y2\"><rect x=\"0\" y=\"100\" width=\"850\" height=\"270\"/></clipPath><clipPath class=\"axesclip\" id=\"clip046045xy2\"><rect x=\"80\" y=\"100\" width=\"288.45\" height=\"270\"/></clipPath><clipPath class=\"axesclip\" id=\"clip046045x2\"><rect x=\"432.55\" y=\"0\" width=\"288.45\" height=\"450\"/></clipPath><clipPath class=\"axesclip\" id=\"clip046045x2y\"><rect x=\"432.55\" y=\"100\" width=\"288.45\" height=\"270\"/></clipPath><clipPath class=\"axesclip\" id=\"clip046045x2y2\"><rect x=\"432.55\" y=\"100\" width=\"288.45\" height=\"270\"/></clipPath></g><g class=\"gradients\"/><g class=\"patterns\"/></defs><g class=\"bglayer\"><rect class=\"bg\" x=\"80\" y=\"100\" width=\"288.45\" height=\"270\" style=\"fill: rgb(229, 236, 246); fill-opacity: 1; stroke-width: 0;\"/><rect class=\"bg\" x=\"432.55\" y=\"100\" width=\"288.45\" height=\"270\" style=\"fill: rgb(229, 236, 246); fill-opacity: 1; stroke-width: 0;\"/></g><g class=\"layer-below\"><g class=\"imagelayer\"/><g class=\"shapelayer\"/></g><g class=\"cartesianlayer\"><g class=\"subplot xy\"><g class=\"layer-subplot\"><g class=\"shapelayer\"/><g class=\"imagelayer\"/></g><g class=\"minor-gridlayer\"><g class=\"x\"/><g class=\"y\"/></g><g class=\"gridlayer\"><g class=\"x\"/><g class=\"y\"><path class=\"ygrid crisp\" transform=\"translate(0,329.94)\" d=\"M80,0h288.45\" style=\"stroke: rgb(255, 255, 255); stroke-opacity: 1; stroke-width: 1px;\"/><path class=\"ygrid crisp\" transform=\"translate(0,289.88)\" d=\"M80,0h288.45\" style=\"stroke: rgb(255, 255, 255); stroke-opacity: 1; stroke-width: 1px;\"/><path class=\"ygrid crisp\" transform=\"translate(0,249.82)\" d=\"M80,0h288.45\" style=\"stroke: rgb(255, 255, 255); stroke-opacity: 1; stroke-width: 1px;\"/><path class=\"ygrid crisp\" transform=\"translate(0,209.76)\" d=\"M80,0h288.45\" style=\"stroke: rgb(255, 255, 255); stroke-opacity: 1; stroke-width: 1px;\"/><path class=\"ygrid crisp\" transform=\"translate(0,169.7)\" d=\"M80,0h288.45\" style=\"stroke: rgb(255, 255, 255); stroke-opacity: 1; stroke-width: 1px;\"/><path class=\"ygrid crisp\" transform=\"translate(0,129.64)\" d=\"M80,0h288.45\" style=\"stroke: rgb(255, 255, 255); stroke-opacity: 1; stroke-width: 1px;\"/></g></g><g class=\"zerolinelayer\"><path class=\"yzl zl crisp\" transform=\"translate(0,370)\" d=\"M80,0h288.45\" style=\"stroke: rgb(255, 255, 255); stroke-opacity: 1; stroke-width: 2px;\"/></g><path class=\"xlines-below\"/><path class=\"ylines-below\"/><g class=\"overlines-below\"/><g class=\"xaxislayer-below\"/><g class=\"yaxislayer-below\"/><g class=\"overaxes-below\"/><g class=\"plot\" transform=\"translate(80,100)\" clip-path=\"url(#clip046045xyplot)\"><g class=\"barlayer mlayer\"><g class=\"trace bars\" style=\"opacity: 1;\"><g class=\"points\"><g class=\"point\"><path d=\"M6.01,270V247.97H18.03V270Z\" style=\"vector-effect: none; opacity: 1; stroke-width: 0.5px; fill: rgb(173, 216, 230); fill-opacity: 1; stroke: rgb(52, 73, 94); stroke-opacity: 1;\"/></g><g class=\"point\"><path d=\"M30.05,270V242.46H42.07V270Z\" style=\"vector-effect: none; opacity: 1; stroke-width: 0.5px; fill: rgb(173, 216, 230); fill-opacity: 1; stroke: rgb(52, 73, 94); stroke-opacity: 1;\"/></g><g class=\"point\"><path d=\"M54.08,270V235.57H66.1V270Z\" style=\"vector-effect: none; opacity: 1; stroke-width: 0.5px; fill: rgb(173, 216, 230); fill-opacity: 1; stroke: rgb(52, 73, 94); stroke-opacity: 1;\"/></g><g class=\"point\"><path d=\"M78.12,270V226.97H90.14V270Z\" style=\"vector-effect: none; opacity: 1; stroke-width: 0.5px; fill: rgb(173, 216, 230); fill-opacity: 1; stroke: rgb(52, 73, 94); stroke-opacity: 1;\"/></g><g class=\"point\"><path d=\"M102.16,270V216.21H114.18V270Z\" style=\"vector-effect: none; opacity: 1; stroke-width: 0.5px; fill: rgb(173, 216, 230); fill-opacity: 1; stroke: rgb(52, 73, 94); stroke-opacity: 1;\"/></g><g class=\"point\"><path d=\"M126.2,270V202.76H138.22V270Z\" style=\"vector-effect: none; opacity: 1; stroke-width: 0.5px; fill: rgb(173, 216, 230); fill-opacity: 1; stroke: rgb(52, 73, 94); stroke-opacity: 1;\"/></g><g class=\"point\"><path d=\"M150.23,270V185.95H162.25V270Z\" style=\"vector-effect: none; opacity: 1; stroke-width: 0.5px; fill: rgb(173, 216, 230); fill-opacity: 1; stroke: rgb(52, 73, 94); stroke-opacity: 1;\"/></g><g class=\"point\"><path d=\"M174.27,270V164.94H186.29V270Z\" style=\"vector-effect: none; opacity: 1; stroke-width: 0.5px; fill: rgb(173, 216, 230); fill-opacity: 1; stroke: rgb(52, 73, 94); stroke-opacity: 1;\"/></g><g class=\"point\"><path d=\"M198.31,270V138.67H210.33V270Z\" style=\"vector-effect: none; opacity: 1; stroke-width: 0.5px; fill: rgb(173, 216, 230); fill-opacity: 1; stroke: rgb(52, 73, 94); stroke-opacity: 1;\"/></g><g class=\"point\"><path d=\"M222.35,270V105.84H234.37V270Z\" style=\"vector-effect: none; opacity: 1; stroke-width: 0.5px; fill: rgb(173, 216, 230); fill-opacity: 1; stroke: rgb(52, 73, 94); stroke-opacity: 1;\"/></g><g class=\"point\"><path d=\"M246.38,270V64.8H258.4V270Z\" style=\"vector-effect: none; opacity: 1; stroke-width: 0.5px; fill: rgb(173, 216, 230); fill-opacity: 1; stroke: rgb(52, 73, 94); stroke-opacity: 1;\"/></g><g class=\"point\"><path d=\"M270.42,270V13.5H282.44V270Z\" style=\"vector-effect: none; opacity: 1; stroke-width: 0.5px; fill: rgb(173, 216, 230); fill-opacity: 1; stroke: rgb(52, 73, 94); stroke-opacity: 1;\"/></g></g></g></g></g><g class=\"overplot\"/><path class=\"xlines-above crisp\" d=\"M0,0\" style=\"fill: none;\"/><path class=\"ylines-above crisp\" d=\"M0,0\" style=\"fill: none;\"/><g class=\"overlines-above\"/><g class=\"xaxislayer-above\"><g class=\"xtick\"><text text-anchor=\"middle\" x=\"0\" y=\"383\" transform=\"translate(92.02,0)\" style=\"font-family: 'Open Sans', verdana, arial, sans-serif; font-size: 12px; fill: rgb(42, 63, 95); fill-opacity: 1; white-space: pre; opacity: 1;\">1</text></g><g class=\"xtick\"><text text-anchor=\"middle\" x=\"0\" y=\"383\" style=\"font-family: 'Open Sans', verdana, arial, sans-serif; font-size: 12px; fill: rgb(42, 63, 95); fill-opacity: 1; white-space: pre; opacity: 1;\" transform=\"translate(116.06,0)\">2</text></g><g class=\"xtick\"><text text-anchor=\"middle\" x=\"0\" y=\"383\" style=\"font-family: 'Open Sans', verdana, arial, sans-serif; font-size: 12px; fill: rgb(42, 63, 95); fill-opacity: 1; white-space: pre; opacity: 1;\" transform=\"translate(140.09,0)\">3</text></g><g class=\"xtick\"><text text-anchor=\"middle\" x=\"0\" y=\"383\" style=\"font-family: 'Open Sans', verdana, arial, sans-serif; font-size: 12px; fill: rgb(42, 63, 95); fill-opacity: 1; white-space: pre; opacity: 1;\" transform=\"translate(164.13,0)\">4</text></g><g class=\"xtick\"><text text-anchor=\"middle\" x=\"0\" y=\"383\" style=\"font-family: 'Open Sans', verdana, arial, sans-serif; font-size: 12px; fill: rgb(42, 63, 95); fill-opacity: 1; white-space: pre; opacity: 1;\" transform=\"translate(188.17000000000002,0)\">5</text></g><g class=\"xtick\"><text text-anchor=\"middle\" x=\"0\" y=\"383\" style=\"font-family: 'Open Sans', verdana, arial, sans-serif; font-size: 12px; fill: rgb(42, 63, 95); fill-opacity: 1; white-space: pre; opacity: 1;\" transform=\"translate(212.21,0)\">6</text></g><g class=\"xtick\"><text text-anchor=\"middle\" x=\"0\" y=\"383\" style=\"font-family: 'Open Sans', verdana, arial, sans-serif; font-size: 12px; fill: rgb(42, 63, 95); fill-opacity: 1; white-space: pre; opacity: 1;\" transform=\"translate(236.24,0)\">7</text></g><g class=\"xtick\"><text text-anchor=\"middle\" x=\"0\" y=\"383\" style=\"font-family: 'Open Sans', verdana, arial, sans-serif; font-size: 12px; fill: rgb(42, 63, 95); fill-opacity: 1; white-space: pre; opacity: 1;\" transform=\"translate(260.28,0)\">8</text></g><g class=\"xtick\"><text text-anchor=\"middle\" x=\"0\" y=\"383\" style=\"font-family: 'Open Sans', verdana, arial, sans-serif; font-size: 12px; fill: rgb(42, 63, 95); fill-opacity: 1; white-space: pre; opacity: 1;\" transform=\"translate(284.32,0)\">9</text></g><g class=\"xtick\"><text text-anchor=\"middle\" x=\"0\" y=\"383\" style=\"font-family: 'Open Sans', verdana, arial, sans-serif; font-size: 12px; fill: rgb(42, 63, 95); fill-opacity: 1; white-space: pre; opacity: 1;\" transform=\"translate(308.36,0)\">10</text></g><g class=\"xtick\"><text text-anchor=\"middle\" x=\"0\" y=\"383\" style=\"font-family: 'Open Sans', verdana, arial, sans-serif; font-size: 12px; fill: rgb(42, 63, 95); fill-opacity: 1; white-space: pre; opacity: 1;\" transform=\"translate(332.39,0)\">11</text></g><g class=\"xtick\"><text text-anchor=\"middle\" x=\"0\" y=\"383\" style=\"font-family: 'Open Sans', verdana, arial, sans-serif; font-size: 12px; fill: rgb(42, 63, 95); fill-opacity: 1; white-space: pre; opacity: 1;\" transform=\"translate(356.43,0)\">12</text></g></g><g class=\"yaxislayer-above\"><g class=\"ytick\"><text text-anchor=\"end\" x=\"79\" y=\"4.199999999999999\" transform=\"translate(0,370)\" style=\"font-family: 'Open Sans', verdana, arial, sans-serif; font-size: 12px; fill: rgb(42, 63, 95); fill-opacity: 1; white-space: pre; opacity: 1;\">0</text></g><g class=\"ytick\"><text text-anchor=\"end\" x=\"79\" y=\"4.199999999999999\" style=\"font-family: 'Open Sans', verdana, arial, sans-serif; font-size: 12px; fill: rgb(42, 63, 95); fill-opacity: 1; white-space: pre; opacity: 1;\" transform=\"translate(0,329.94)\">500</text></g><g class=\"ytick\"><text text-anchor=\"end\" x=\"79\" y=\"4.199999999999999\" style=\"font-family: 'Open Sans', verdana, arial, sans-serif; font-size: 12px; fill: rgb(42, 63, 95); fill-opacity: 1; white-space: pre; opacity: 1;\" transform=\"translate(0,289.88)\">1000</text></g><g class=\"ytick\"><text text-anchor=\"end\" x=\"79\" y=\"4.199999999999999\" style=\"font-family: 'Open Sans', verdana, arial, sans-serif; font-size: 12px; fill: rgb(42, 63, 95); fill-opacity: 1; white-space: pre; opacity: 1;\" transform=\"translate(0,249.82)\">1500</text></g><g class=\"ytick\"><text text-anchor=\"end\" x=\"79\" y=\"4.199999999999999\" style=\"font-family: 'Open Sans', verdana, arial, sans-serif; font-size: 12px; fill: rgb(42, 63, 95); fill-opacity: 1; white-space: pre; opacity: 1;\" transform=\"translate(0,209.76)\">2000</text></g><g class=\"ytick\"><text text-anchor=\"end\" x=\"79\" y=\"4.199999999999999\" style=\"font-family: 'Open Sans', verdana, arial, sans-serif; font-size: 12px; fill: rgb(42, 63, 95); fill-opacity: 1; white-space: pre; opacity: 1;\" transform=\"translate(0,169.7)\">2500</text></g><g class=\"ytick\"><text text-anchor=\"end\" x=\"79\" y=\"4.199999999999999\" style=\"font-family: 'Open Sans', verdana, arial, sans-serif; font-size: 12px; fill: rgb(42, 63, 95); fill-opacity: 1; white-space: pre; opacity: 1;\" transform=\"translate(0,129.64)\">3000</text></g></g><g class=\"overaxes-above\"/></g><g class=\"subplot x2y2\"><g class=\"layer-subplot\"><g class=\"shapelayer\"/><g class=\"imagelayer\"/></g><g class=\"minor-gridlayer\"><g class=\"x2\"/><g class=\"y2\"/></g><g class=\"gridlayer\"><g class=\"x2\"/><g class=\"y2\"><path class=\"y2grid crisp\" transform=\"translate(0,324.76)\" d=\"M432.55,0h288.45\" style=\"stroke: rgb(255, 255, 255); stroke-opacity: 1; stroke-width: 1px;\"/><path class=\"y2grid crisp\" transform=\"translate(0,249.84)\" d=\"M432.55,0h288.45\" style=\"stroke: rgb(255, 255, 255); stroke-opacity: 1; stroke-width: 1px;\"/><path class=\"y2grid crisp\" transform=\"translate(0,174.92000000000002)\" d=\"M432.55,0h288.45\" style=\"stroke: rgb(255, 255, 255); stroke-opacity: 1; stroke-width: 1px;\"/></g></g><g class=\"zerolinelayer\"><path class=\"y2zl zl crisp\" transform=\"translate(0,100)\" d=\"M432.55,0h288.45\" style=\"stroke: rgb(255, 255, 255); stroke-opacity: 1; stroke-width: 2px;\"/></g><path class=\"xlines-below\"/><path class=\"ylines-below\"/><g class=\"overlines-below\"/><g class=\"xaxislayer-below\"/><g class=\"yaxislayer-below\"/><g class=\"overaxes-below\"/><g class=\"plot\" transform=\"translate(432.55,100)\" clip-path=\"url(#clip046045x2y2plot)\"><g class=\"barlayer mlayer\"><g class=\"trace bars\" style=\"opacity: 1;\"><g class=\"points\"><g class=\"point\"><path d=\"M6.01,0V89.9H18.03V0Z\" style=\"vector-effect: none; opacity: 1; stroke-width: 0.5px; fill: rgb(170, 150, 218); fill-opacity: 1; stroke: rgb(52, 73, 94); stroke-opacity: 1;\"/></g><g class=\"point\"><path d=\"M30.05,0V98.89H42.07V0Z\" style=\"vector-effect: none; opacity: 1; stroke-width: 0.5px; fill: rgb(170, 150, 218); fill-opacity: 1; stroke: rgb(52, 73, 94); stroke-opacity: 1;\"/></g><g class=\"point\"><path d=\"M54.08,0V108.78H66.1V0Z\" style=\"vector-effect: none; opacity: 1; stroke-width: 0.5px; fill: rgb(170, 150, 218); fill-opacity: 1; stroke: rgb(52, 73, 94); stroke-opacity: 1;\"/></g><g class=\"point\"><path d=\"M78.12,0V119.66H90.14V0Z\" style=\"vector-effect: none; opacity: 1; stroke-width: 0.5px; fill: rgb(170, 150, 218); fill-opacity: 1; stroke: rgb(52, 73, 94); stroke-opacity: 1;\"/></g><g class=\"point\"><path d=\"M102.16,0V131.63H114.18V0Z\" style=\"vector-effect: none; opacity: 1; stroke-width: 0.5px; fill: rgb(170, 150, 218); fill-opacity: 1; stroke: rgb(52, 73, 94); stroke-opacity: 1;\"/></g><g class=\"point\"><path d=\"M126.2,0V144.79H138.22V0Z\" style=\"vector-effect: none; opacity: 1; stroke-width: 0.5px; fill: rgb(170, 150, 218); fill-opacity: 1; stroke: rgb(52, 73, 94); stroke-opacity: 1;\"/></g><g class=\"point\"><path d=\"M150.23,0V159.26H162.25V0Z\" style=\"vector-effect: none; opacity: 1; stroke-width: 0.5px; fill: rgb(170, 150, 218); fill-opacity: 1; stroke: rgb(52, 73, 94); stroke-opacity: 1;\"/></g><g class=\"point\"><path d=\"M174.27,0V175.19H186.29V0Z\" style=\"vector-effect: none; opacity: 1; stroke-width: 0.5px; fill: rgb(170, 150, 218); fill-opacity: 1; stroke: rgb(52, 73, 94); stroke-opacity: 1;\"/></g><g class=\"point\"><path d=\"M198.31,0V192.71H210.33V0Z\" style=\"vector-effect: none; opacity: 1; stroke-width: 0.5px; fill: rgb(170, 150, 218); fill-opacity: 1; stroke: rgb(52, 73, 94); stroke-opacity: 1;\"/></g><g class=\"point\"><path d=\"M222.35,0V211.98H234.37V0Z\" style=\"vector-effect: none; opacity: 1; stroke-width: 0.5px; fill: rgb(170, 150, 218); fill-opacity: 1; stroke: rgb(52, 73, 94); stroke-opacity: 1;\"/></g><g class=\"point\"><path d=\"M246.38,0V233.18H258.4V0Z\" style=\"vector-effect: none; opacity: 1; stroke-width: 0.5px; fill: rgb(170, 150, 218); fill-opacity: 1; stroke: rgb(52, 73, 94); stroke-opacity: 1;\"/></g><g class=\"point\"><path d=\"M270.42,0V256.5H282.44V0Z\" style=\"vector-effect: none; opacity: 1; stroke-width: 0.5px; fill: rgb(170, 150, 218); fill-opacity: 1; stroke: rgb(52, 73, 94); stroke-opacity: 1;\"/></g></g></g></g></g><g class=\"overplot\"/><path class=\"xlines-above crisp\" d=\"M0,0\" style=\"fill: none;\"/><path class=\"ylines-above crisp\" d=\"M0,0\" style=\"fill: none;\"/><g class=\"overlines-above\"/><g class=\"xaxislayer-above\"><g class=\"x2tick\"><text text-anchor=\"middle\" x=\"0\" y=\"383\" transform=\"translate(444.57,0)\" style=\"font-family: 'Open Sans', verdana, arial, sans-serif; font-size: 12px; fill: rgb(42, 63, 95); fill-opacity: 1; white-space: pre; opacity: 1;\">1</text></g><g class=\"x2tick\"><text text-anchor=\"middle\" x=\"0\" y=\"383\" style=\"font-family: 'Open Sans', verdana, arial, sans-serif; font-size: 12px; fill: rgb(42, 63, 95); fill-opacity: 1; white-space: pre; opacity: 1;\" transform=\"translate(468.61,0)\">2</text></g><g class=\"x2tick\"><text text-anchor=\"middle\" x=\"0\" y=\"383\" style=\"font-family: 'Open Sans', verdana, arial, sans-serif; font-size: 12px; fill: rgb(42, 63, 95); fill-opacity: 1; white-space: pre; opacity: 1;\" transform=\"translate(492.64,0)\">3</text></g><g class=\"x2tick\"><text text-anchor=\"middle\" x=\"0\" y=\"383\" style=\"font-family: 'Open Sans', verdana, arial, sans-serif; font-size: 12px; fill: rgb(42, 63, 95); fill-opacity: 1; white-space: pre; opacity: 1;\" transform=\"translate(516.6800000000001,0)\">4</text></g><g class=\"x2tick\"><text text-anchor=\"middle\" x=\"0\" y=\"383\" style=\"font-family: 'Open Sans', verdana, arial, sans-serif; font-size: 12px; fill: rgb(42, 63, 95); fill-opacity: 1; white-space: pre; opacity: 1;\" transform=\"translate(540.72,0)\">5</text></g><g class=\"x2tick\"><text text-anchor=\"middle\" x=\"0\" y=\"383\" style=\"font-family: 'Open Sans', verdana, arial, sans-serif; font-size: 12px; fill: rgb(42, 63, 95); fill-opacity: 1; white-space: pre; opacity: 1;\" transform=\"translate(564.76,0)\">6</text></g><g class=\"x2tick\"><text text-anchor=\"middle\" x=\"0\" y=\"383\" style=\"font-family: 'Open Sans', verdana, arial, sans-serif; font-size: 12px; fill: rgb(42, 63, 95); fill-opacity: 1; white-space: pre; opacity: 1;\" transform=\"translate(588.79,0)\">7</text></g><g class=\"x2tick\"><text text-anchor=\"middle\" x=\"0\" y=\"383\" style=\"font-family: 'Open Sans', verdana, arial, sans-serif; font-size: 12px; fill: rgb(42, 63, 95); fill-opacity: 1; white-space: pre; opacity: 1;\" transform=\"translate(612.83,0)\">8</text></g><g class=\"x2tick\"><text text-anchor=\"middle\" x=\"0\" y=\"383\" style=\"font-family: 'Open Sans', verdana, arial, sans-serif; font-size: 12px; fill: rgb(42, 63, 95); fill-opacity: 1; white-space: pre; opacity: 1;\" transform=\"translate(636.87,0)\">9</text></g><g class=\"x2tick\"><text text-anchor=\"middle\" x=\"0\" y=\"383\" style=\"font-family: 'Open Sans', verdana, arial, sans-serif; font-size: 12px; fill: rgb(42, 63, 95); fill-opacity: 1; white-space: pre; opacity: 1;\" transform=\"translate(660.9100000000001,0)\">10</text></g><g class=\"x2tick\"><text text-anchor=\"middle\" x=\"0\" y=\"383\" style=\"font-family: 'Open Sans', verdana, arial, sans-serif; font-size: 12px; fill: rgb(42, 63, 95); fill-opacity: 1; white-space: pre; opacity: 1;\" transform=\"translate(684.94,0)\">11</text></g><g class=\"x2tick\"><text text-anchor=\"middle\" x=\"0\" y=\"383\" style=\"font-family: 'Open Sans', verdana, arial, sans-serif; font-size: 12px; fill: rgb(42, 63, 95); fill-opacity: 1; white-space: pre; opacity: 1;\" transform=\"translate(708.98,0)\">12</text></g></g><g class=\"yaxislayer-above\"><g class=\"y2tick\"><text text-anchor=\"end\" x=\"431.55\" y=\"4.199999999999999\" transform=\"translate(0,324.76)\" style=\"font-family: 'Open Sans', verdana, arial, sans-serif; font-size: 12px; fill: rgb(42, 63, 95); fill-opacity: 1; white-space: pre; opacity: 1;\">−150k</text></g><g class=\"y2tick\"><text text-anchor=\"end\" x=\"431.55\" y=\"4.199999999999999\" style=\"font-family: 'Open Sans', verdana, arial, sans-serif; font-size: 12px; fill: rgb(42, 63, 95); fill-opacity: 1; white-space: pre; opacity: 1;\" transform=\"translate(0,249.84)\">−100k</text></g><g class=\"y2tick\"><text text-anchor=\"end\" x=\"431.55\" y=\"4.199999999999999\" style=\"font-family: 'Open Sans', verdana, arial, sans-serif; font-size: 12px; fill: rgb(42, 63, 95); fill-opacity: 1; white-space: pre; opacity: 1;\" transform=\"translate(0,174.92000000000002)\">−50k</text></g><g class=\"y2tick\"><text text-anchor=\"end\" x=\"431.55\" y=\"4.199999999999999\" style=\"font-family: 'Open Sans', verdana, arial, sans-serif; font-size: 12px; fill: rgb(42, 63, 95); fill-opacity: 1; white-space: pre; opacity: 1;\" transform=\"translate(0,100)\">0</text></g></g><g class=\"overaxes-above\"/></g></g><g class=\"polarlayer\"/><g class=\"smithlayer\"/><g class=\"ternarylayer\"/><g class=\"geolayer\"/><g class=\"funnelarealayer\"/><g class=\"pielayer\"/><g class=\"iciclelayer\"/><g class=\"treemaplayer\"/><g class=\"sunburstlayer\"/><g class=\"glimages\"/><defs id=\"topdefs-046045\"><g class=\"clips\"/><clipPath id=\"legend046045\"><rect width=\"104\" height=\"48\" x=\"0\" y=\"0\"/></clipPath></defs><g class=\"layer-above\"><g class=\"imagelayer\"/><g class=\"shapelayer\"/></g><g class=\"infolayer\"><g class=\"legend\" pointer-events=\"all\" transform=\"translate(733.82,100)\"><rect class=\"bg\" shape-rendering=\"crispEdges\" width=\"104\" height=\"48\" x=\"0\" y=\"0\" style=\"stroke: rgb(68, 68, 68); stroke-opacity: 1; fill: rgb(255, 255, 255); fill-opacity: 1; stroke-width: 0px;\"/><g class=\"scrollbox\" transform=\"\" clip-path=\"url(#legend046045)\"><g class=\"groups\"><g class=\"traces\" transform=\"translate(0,14.5)\" style=\"opacity: 1;\"><text class=\"legendtext\" text-anchor=\"start\" x=\"40\" y=\"4.680000000000001\" style=\"font-family: 'Open Sans', verdana, arial, sans-serif; font-size: 12px; fill: rgb(42, 63, 95); fill-opacity: 1; white-space: pre;\">Contigo A</text><g class=\"layers\" style=\"opacity: 1;\"><g class=\"legendfill\"/><g class=\"legendlines\"/><g class=\"legendsymbols\"><g class=\"legendpoints\"><path class=\"legendundefined\" d=\"M6,6H-6V-6H6Z\" transform=\"translate(20,0)\" style=\"stroke-width: 0.5px; fill: rgb(173, 216, 230); fill-opacity: 1; stroke: rgb(52, 73, 94); stroke-opacity: 1;\"/></g></g></g><rect class=\"legendtoggle\" x=\"0\" y=\"-9.5\" width=\"98.484375\" height=\"19\" style=\"fill: rgb(0, 0, 0); fill-opacity: 0;\"/></g><g class=\"traces\" transform=\"translate(0,33.5)\" style=\"opacity: 1;\"><text class=\"legendtext\" text-anchor=\"start\" x=\"40\" y=\"4.680000000000001\" style=\"font-family: 'Open Sans', verdana, arial, sans-serif; font-size: 12px; fill: rgb(42, 63, 95); fill-opacity: 1; white-space: pre;\">Contigo B</text><g class=\"layers\" style=\"opacity: 1;\"><g class=\"legendfill\"/><g class=\"legendlines\"/><g class=\"legendsymbols\"><g class=\"legendpoints\"><path class=\"legendundefined\" d=\"M6,6H-6V-6H6Z\" transform=\"translate(20,0)\" style=\"stroke-width: 0.5px; fill: rgb(170, 150, 218); fill-opacity: 1; stroke: rgb(52, 73, 94); stroke-opacity: 1;\"/></g></g></g><rect class=\"legendtoggle\" x=\"0\" y=\"-9.5\" width=\"98.484375\" height=\"19\" style=\"fill: rgb(0, 0, 0); fill-opacity: 0;\"/></g></g></g><rect class=\"scrollbar\" rx=\"20\" ry=\"3\" width=\"0\" height=\"0\" x=\"0\" y=\"0\" style=\"fill: rgb(128, 139, 164); fill-opacity: 1;\"/></g><g class=\"g-gtitle\"><text class=\"gtitle\" x=\"42.5\" y=\"50\" text-anchor=\"start\" dy=\"0em\" style=\"font-family: 'Open Sans', verdana, arial, sans-serif; font-size: 17px; fill: rgb(42, 63, 95); opacity: 1; font-weight: normal; white-space: pre;\">Net Income by Loan Type</text></g><g class=\"g-xtitle\"><text class=\"xtitle\" x=\"224.225\" y=\"409.8\" text-anchor=\"middle\" style=\"font-family: 'Open Sans', verdana, arial, sans-serif; font-size: 14px; fill: rgb(42, 63, 95); opacity: 1; font-weight: normal; white-space: pre;\">Month</text></g><g class=\"g-x2title\"><text class=\"x2title\" x=\"576.775\" y=\"409.8\" text-anchor=\"middle\" style=\"font-family: 'Open Sans', verdana, arial, sans-serif; font-size: 14px; fill: rgb(42, 63, 95); opacity: 1; font-weight: normal; white-space: pre;\">Month</text></g><g class=\"g-ytitle\"><text class=\"ytitle\" transform=\"rotate(-90,24.184375000000003,235)\" x=\"24.184375000000003\" y=\"235\" text-anchor=\"middle\" style=\"font-family: 'Open Sans', verdana, arial, sans-serif; font-size: 14px; fill: rgb(42, 63, 95); opacity: 1; font-weight: normal; white-space: pre;\">Net Income (in mexican pesos)</text></g><g class=\"g-y2title\"/></g></svg>"
     },
     "metadata": {},
     "output_type": "display_data"
    }
   ],
   "source": [
    "loan_a = contigo_a_features.copy()\n",
    "loan_b = contigo_b_features.copy()\n",
    "\n",
    "loan_a[\"delinquency_rate\"] = 0.1043\n",
    "\n",
    "print(im.overall_results(loan_a,loan_b))\n",
    "im.visualize_results(loan_a,loan_b)"
   ]
  },
  {
   "attachments": {},
   "cell_type": "markdown",
   "metadata": {},
   "source": [
    "- `Delinquency Rate <= 7.7%` for **Contigo B**, if everything else stays the same."
   ]
  },
  {
   "cell_type": "code",
   "execution_count": 32,
   "metadata": {},
   "outputs": [
    {
     "name": "stdout",
     "output_type": "stream",
     "text": [
      "loan_type             Contigo A      Contigo B          Total\n",
      "interest_revenue  35,166,531.75  39,474,864.00  74,641,395.75\n",
      "delinquency_loss  36,589,455.00  32,931,360.00  69,520,815.00\n",
      "operative_costs    8,130,990.00   6,415,200.00  14,546,190.00\n",
      "net_income        -9,553,913.25     128,304.00  -9,425,609.25\n"
     ]
    },
    {
     "data": {
      "image/svg+xml": "<svg class=\"main-svg\" xmlns=\"http://www.w3.org/2000/svg\" xmlns:xlink=\"http://www.w3.org/1999/xlink\" width=\"850\" height=\"450\" style=\"\" viewBox=\"0 0 850 450\"><rect x=\"0\" y=\"0\" width=\"850\" height=\"450\" style=\"fill: rgb(255, 255, 255); fill-opacity: 1;\"/><defs id=\"defs-f2900d\"><g class=\"clips\"><clipPath id=\"clipf2900dxyplot\" class=\"plotclip\"><rect width=\"288.45\" height=\"270\"/></clipPath><clipPath id=\"clipf2900dx2y2plot\" class=\"plotclip\"><rect width=\"288.45\" height=\"270\"/></clipPath><clipPath class=\"axesclip\" id=\"clipf2900dx\"><rect x=\"80\" y=\"0\" width=\"288.45\" height=\"450\"/></clipPath><clipPath class=\"axesclip\" id=\"clipf2900dy\"><rect x=\"0\" y=\"100\" width=\"850\" height=\"270\"/></clipPath><clipPath class=\"axesclip\" id=\"clipf2900dxy\"><rect x=\"80\" y=\"100\" width=\"288.45\" height=\"270\"/></clipPath><clipPath class=\"axesclip\" id=\"clipf2900dy2\"><rect x=\"0\" y=\"100\" width=\"850\" height=\"270\"/></clipPath><clipPath class=\"axesclip\" id=\"clipf2900dxy2\"><rect x=\"80\" y=\"100\" width=\"288.45\" height=\"270\"/></clipPath><clipPath class=\"axesclip\" id=\"clipf2900dx2\"><rect x=\"432.55\" y=\"0\" width=\"288.45\" height=\"450\"/></clipPath><clipPath class=\"axesclip\" id=\"clipf2900dx2y\"><rect x=\"432.55\" y=\"100\" width=\"288.45\" height=\"270\"/></clipPath><clipPath class=\"axesclip\" id=\"clipf2900dx2y2\"><rect x=\"432.55\" y=\"100\" width=\"288.45\" height=\"270\"/></clipPath></g><g class=\"gradients\"/><g class=\"patterns\"/></defs><g class=\"bglayer\"><rect class=\"bg\" x=\"80\" y=\"100\" width=\"288.45\" height=\"270\" style=\"fill: rgb(229, 236, 246); fill-opacity: 1; stroke-width: 0;\"/><rect class=\"bg\" x=\"432.55\" y=\"100\" width=\"288.45\" height=\"270\" style=\"fill: rgb(229, 236, 246); fill-opacity: 1; stroke-width: 0;\"/></g><g class=\"layer-below\"><g class=\"imagelayer\"/><g class=\"shapelayer\"/></g><g class=\"cartesianlayer\"><g class=\"subplot xy\"><g class=\"layer-subplot\"><g class=\"shapelayer\"/><g class=\"imagelayer\"/></g><g class=\"minor-gridlayer\"><g class=\"x\"/><g class=\"y\"/></g><g class=\"gridlayer\"><g class=\"x\"/><g class=\"y\"><path class=\"ygrid crisp\" transform=\"translate(0,350.02)\" d=\"M80,0h288.45\" style=\"stroke: rgb(255, 255, 255); stroke-opacity: 1; stroke-width: 1px;\"/><path class=\"ygrid crisp\" transform=\"translate(0,287.52)\" d=\"M80,0h288.45\" style=\"stroke: rgb(255, 255, 255); stroke-opacity: 1; stroke-width: 1px;\"/><path class=\"ygrid crisp\" transform=\"translate(0,225.01)\" d=\"M80,0h288.45\" style=\"stroke: rgb(255, 255, 255); stroke-opacity: 1; stroke-width: 1px;\"/><path class=\"ygrid crisp\" transform=\"translate(0,162.51)\" d=\"M80,0h288.45\" style=\"stroke: rgb(255, 255, 255); stroke-opacity: 1; stroke-width: 1px;\"/></g></g><g class=\"zerolinelayer\"><path class=\"yzl zl crisp\" transform=\"translate(0,100)\" d=\"M80,0h288.45\" style=\"stroke: rgb(255, 255, 255); stroke-opacity: 1; stroke-width: 2px;\"/></g><path class=\"xlines-below\"/><path class=\"ylines-below\"/><g class=\"overlines-below\"/><g class=\"xaxislayer-below\"/><g class=\"yaxislayer-below\"/><g class=\"overaxes-below\"/><g class=\"plot\" transform=\"translate(80,100)\" clip-path=\"url(#clipf2900dxyplot)\"><g class=\"barlayer mlayer\"><g class=\"trace bars\" style=\"opacity: 1;\"><g class=\"points\"><g class=\"point\"><path d=\"M6.01,0V22.03H18.03V0Z\" style=\"vector-effect: none; opacity: 1; stroke-width: 0.5px; fill: rgb(173, 216, 230); fill-opacity: 1; stroke: rgb(52, 73, 94); stroke-opacity: 1;\"/></g><g class=\"point\"><path d=\"M30.05,0V27.54H42.07V0Z\" style=\"vector-effect: none; opacity: 1; stroke-width: 0.5px; fill: rgb(173, 216, 230); fill-opacity: 1; stroke: rgb(52, 73, 94); stroke-opacity: 1;\"/></g><g class=\"point\"><path d=\"M54.08,0V34.43H66.1V0Z\" style=\"vector-effect: none; opacity: 1; stroke-width: 0.5px; fill: rgb(173, 216, 230); fill-opacity: 1; stroke: rgb(52, 73, 94); stroke-opacity: 1;\"/></g><g class=\"point\"><path d=\"M78.12,0V43.03H90.14V0Z\" style=\"vector-effect: none; opacity: 1; stroke-width: 0.5px; fill: rgb(173, 216, 230); fill-opacity: 1; stroke: rgb(52, 73, 94); stroke-opacity: 1;\"/></g><g class=\"point\"><path d=\"M102.16,0V53.79H114.18V0Z\" style=\"vector-effect: none; opacity: 1; stroke-width: 0.5px; fill: rgb(173, 216, 230); fill-opacity: 1; stroke: rgb(52, 73, 94); stroke-opacity: 1;\"/></g><g class=\"point\"><path d=\"M126.2,0V67.24H138.22V0Z\" style=\"vector-effect: none; opacity: 1; stroke-width: 0.5px; fill: rgb(173, 216, 230); fill-opacity: 1; stroke: rgb(52, 73, 94); stroke-opacity: 1;\"/></g><g class=\"point\"><path d=\"M150.23,0V84.05H162.25V0Z\" style=\"vector-effect: none; opacity: 1; stroke-width: 0.5px; fill: rgb(173, 216, 230); fill-opacity: 1; stroke: rgb(52, 73, 94); stroke-opacity: 1;\"/></g><g class=\"point\"><path d=\"M174.27,0V105.06H186.29V0Z\" style=\"vector-effect: none; opacity: 1; stroke-width: 0.5px; fill: rgb(173, 216, 230); fill-opacity: 1; stroke: rgb(52, 73, 94); stroke-opacity: 1;\"/></g><g class=\"point\"><path d=\"M198.31,0V131.33H210.33V0Z\" style=\"vector-effect: none; opacity: 1; stroke-width: 0.5px; fill: rgb(173, 216, 230); fill-opacity: 1; stroke: rgb(52, 73, 94); stroke-opacity: 1;\"/></g><g class=\"point\"><path d=\"M222.35,0V164.16H234.37V0Z\" style=\"vector-effect: none; opacity: 1; stroke-width: 0.5px; fill: rgb(173, 216, 230); fill-opacity: 1; stroke: rgb(52, 73, 94); stroke-opacity: 1;\"/></g><g class=\"point\"><path d=\"M246.38,0V205.2H258.4V0Z\" style=\"vector-effect: none; opacity: 1; stroke-width: 0.5px; fill: rgb(173, 216, 230); fill-opacity: 1; stroke: rgb(52, 73, 94); stroke-opacity: 1;\"/></g><g class=\"point\"><path d=\"M270.42,0V256.5H282.44V0Z\" style=\"vector-effect: none; opacity: 1; stroke-width: 0.5px; fill: rgb(173, 216, 230); fill-opacity: 1; stroke: rgb(52, 73, 94); stroke-opacity: 1;\"/></g></g></g></g></g><g class=\"overplot\"/><path class=\"xlines-above crisp\" d=\"M0,0\" style=\"fill: none;\"/><path class=\"ylines-above crisp\" d=\"M0,0\" style=\"fill: none;\"/><g class=\"overlines-above\"/><g class=\"xaxislayer-above\"><g class=\"xtick\"><text text-anchor=\"middle\" x=\"0\" y=\"383\" transform=\"translate(92.02,0)\" style=\"font-family: 'Open Sans', verdana, arial, sans-serif; font-size: 12px; fill: rgb(42, 63, 95); fill-opacity: 1; white-space: pre; opacity: 1;\">1</text></g><g class=\"xtick\"><text text-anchor=\"middle\" x=\"0\" y=\"383\" style=\"font-family: 'Open Sans', verdana, arial, sans-serif; font-size: 12px; fill: rgb(42, 63, 95); fill-opacity: 1; white-space: pre; opacity: 1;\" transform=\"translate(116.06,0)\">2</text></g><g class=\"xtick\"><text text-anchor=\"middle\" x=\"0\" y=\"383\" style=\"font-family: 'Open Sans', verdana, arial, sans-serif; font-size: 12px; fill: rgb(42, 63, 95); fill-opacity: 1; white-space: pre; opacity: 1;\" transform=\"translate(140.09,0)\">3</text></g><g class=\"xtick\"><text text-anchor=\"middle\" x=\"0\" y=\"383\" style=\"font-family: 'Open Sans', verdana, arial, sans-serif; font-size: 12px; fill: rgb(42, 63, 95); fill-opacity: 1; white-space: pre; opacity: 1;\" transform=\"translate(164.13,0)\">4</text></g><g class=\"xtick\"><text text-anchor=\"middle\" x=\"0\" y=\"383\" style=\"font-family: 'Open Sans', verdana, arial, sans-serif; font-size: 12px; fill: rgb(42, 63, 95); fill-opacity: 1; white-space: pre; opacity: 1;\" transform=\"translate(188.17000000000002,0)\">5</text></g><g class=\"xtick\"><text text-anchor=\"middle\" x=\"0\" y=\"383\" style=\"font-family: 'Open Sans', verdana, arial, sans-serif; font-size: 12px; fill: rgb(42, 63, 95); fill-opacity: 1; white-space: pre; opacity: 1;\" transform=\"translate(212.21,0)\">6</text></g><g class=\"xtick\"><text text-anchor=\"middle\" x=\"0\" y=\"383\" style=\"font-family: 'Open Sans', verdana, arial, sans-serif; font-size: 12px; fill: rgb(42, 63, 95); fill-opacity: 1; white-space: pre; opacity: 1;\" transform=\"translate(236.24,0)\">7</text></g><g class=\"xtick\"><text text-anchor=\"middle\" x=\"0\" y=\"383\" style=\"font-family: 'Open Sans', verdana, arial, sans-serif; font-size: 12px; fill: rgb(42, 63, 95); fill-opacity: 1; white-space: pre; opacity: 1;\" transform=\"translate(260.28,0)\">8</text></g><g class=\"xtick\"><text text-anchor=\"middle\" x=\"0\" y=\"383\" style=\"font-family: 'Open Sans', verdana, arial, sans-serif; font-size: 12px; fill: rgb(42, 63, 95); fill-opacity: 1; white-space: pre; opacity: 1;\" transform=\"translate(284.32,0)\">9</text></g><g class=\"xtick\"><text text-anchor=\"middle\" x=\"0\" y=\"383\" style=\"font-family: 'Open Sans', verdana, arial, sans-serif; font-size: 12px; fill: rgb(42, 63, 95); fill-opacity: 1; white-space: pre; opacity: 1;\" transform=\"translate(308.36,0)\">10</text></g><g class=\"xtick\"><text text-anchor=\"middle\" x=\"0\" y=\"383\" style=\"font-family: 'Open Sans', verdana, arial, sans-serif; font-size: 12px; fill: rgb(42, 63, 95); fill-opacity: 1; white-space: pre; opacity: 1;\" transform=\"translate(332.39,0)\">11</text></g><g class=\"xtick\"><text text-anchor=\"middle\" x=\"0\" y=\"383\" style=\"font-family: 'Open Sans', verdana, arial, sans-serif; font-size: 12px; fill: rgb(42, 63, 95); fill-opacity: 1; white-space: pre; opacity: 1;\" transform=\"translate(356.43,0)\">12</text></g></g><g class=\"yaxislayer-above\"><g class=\"ytick\"><text text-anchor=\"end\" x=\"79\" y=\"4.199999999999999\" transform=\"translate(0,350.02)\" style=\"font-family: 'Open Sans', verdana, arial, sans-serif; font-size: 12px; fill: rgb(42, 63, 95); fill-opacity: 1; white-space: pre; opacity: 1;\">−2M</text></g><g class=\"ytick\"><text text-anchor=\"end\" x=\"79\" y=\"4.199999999999999\" style=\"font-family: 'Open Sans', verdana, arial, sans-serif; font-size: 12px; fill: rgb(42, 63, 95); fill-opacity: 1; white-space: pre; opacity: 1;\" transform=\"translate(0,287.52)\">−1.5M</text></g><g class=\"ytick\"><text text-anchor=\"end\" x=\"79\" y=\"4.199999999999999\" style=\"font-family: 'Open Sans', verdana, arial, sans-serif; font-size: 12px; fill: rgb(42, 63, 95); fill-opacity: 1; white-space: pre; opacity: 1;\" transform=\"translate(0,225.01)\">−1M</text></g><g class=\"ytick\"><text text-anchor=\"end\" x=\"79\" y=\"4.199999999999999\" style=\"font-family: 'Open Sans', verdana, arial, sans-serif; font-size: 12px; fill: rgb(42, 63, 95); fill-opacity: 1; white-space: pre; opacity: 1;\" transform=\"translate(0,162.51)\">−0.5M</text></g><g class=\"ytick\"><text text-anchor=\"end\" x=\"79\" y=\"4.199999999999999\" style=\"font-family: 'Open Sans', verdana, arial, sans-serif; font-size: 12px; fill: rgb(42, 63, 95); fill-opacity: 1; white-space: pre; opacity: 1;\" transform=\"translate(0,100)\">0</text></g></g><g class=\"overaxes-above\"/></g><g class=\"subplot x2y2\"><g class=\"layer-subplot\"><g class=\"shapelayer\"/><g class=\"imagelayer\"/></g><g class=\"minor-gridlayer\"><g class=\"x2\"/><g class=\"y2\"/></g><g class=\"gridlayer\"><g class=\"x2\"/><g class=\"y2\"><path class=\"y2grid crisp\" transform=\"translate(0,295.08000000000004)\" d=\"M432.55,0h288.45\" style=\"stroke: rgb(255, 255, 255); stroke-opacity: 1; stroke-width: 1px;\"/><path class=\"y2grid crisp\" transform=\"translate(0,220.16)\" d=\"M432.55,0h288.45\" style=\"stroke: rgb(255, 255, 255); stroke-opacity: 1; stroke-width: 1px;\"/><path class=\"y2grid crisp\" transform=\"translate(0,145.24)\" d=\"M432.55,0h288.45\" style=\"stroke: rgb(255, 255, 255); stroke-opacity: 1; stroke-width: 1px;\"/></g></g><g class=\"zerolinelayer\"><path class=\"y2zl zl crisp\" transform=\"translate(0,370)\" d=\"M432.55,0h288.45\" style=\"stroke: rgb(255, 255, 255); stroke-opacity: 1; stroke-width: 2px;\"/></g><path class=\"xlines-below\"/><path class=\"ylines-below\"/><g class=\"overlines-below\"/><g class=\"xaxislayer-below\"/><g class=\"yaxislayer-below\"/><g class=\"overaxes-below\"/><g class=\"plot\" transform=\"translate(432.55,100)\" clip-path=\"url(#clipf2900dx2y2plot)\"><g class=\"barlayer mlayer\"><g class=\"trace bars\" style=\"opacity: 1;\"><g class=\"points\"><g class=\"point\"><path d=\"M6.01,270V180.1H18.03V270Z\" style=\"vector-effect: none; opacity: 1; stroke-width: 0.5px; fill: rgb(170, 150, 218); fill-opacity: 1; stroke: rgb(52, 73, 94); stroke-opacity: 1;\"/></g><g class=\"point\"><path d=\"M30.05,270V171.11H42.07V270Z\" style=\"vector-effect: none; opacity: 1; stroke-width: 0.5px; fill: rgb(170, 150, 218); fill-opacity: 1; stroke: rgb(52, 73, 94); stroke-opacity: 1;\"/></g><g class=\"point\"><path d=\"M54.08,270V161.22H66.1V270Z\" style=\"vector-effect: none; opacity: 1; stroke-width: 0.5px; fill: rgb(170, 150, 218); fill-opacity: 1; stroke: rgb(52, 73, 94); stroke-opacity: 1;\"/></g><g class=\"point\"><path d=\"M78.12,270V150.34H90.14V270Z\" style=\"vector-effect: none; opacity: 1; stroke-width: 0.5px; fill: rgb(170, 150, 218); fill-opacity: 1; stroke: rgb(52, 73, 94); stroke-opacity: 1;\"/></g><g class=\"point\"><path d=\"M102.16,270V138.37H114.18V270Z\" style=\"vector-effect: none; opacity: 1; stroke-width: 0.5px; fill: rgb(170, 150, 218); fill-opacity: 1; stroke: rgb(52, 73, 94); stroke-opacity: 1;\"/></g><g class=\"point\"><path d=\"M126.2,270V125.21H138.22V270Z\" style=\"vector-effect: none; opacity: 1; stroke-width: 0.5px; fill: rgb(170, 150, 218); fill-opacity: 1; stroke: rgb(52, 73, 94); stroke-opacity: 1;\"/></g><g class=\"point\"><path d=\"M150.23,270V110.74H162.25V270Z\" style=\"vector-effect: none; opacity: 1; stroke-width: 0.5px; fill: rgb(170, 150, 218); fill-opacity: 1; stroke: rgb(52, 73, 94); stroke-opacity: 1;\"/></g><g class=\"point\"><path d=\"M174.27,270V94.81H186.29V270Z\" style=\"vector-effect: none; opacity: 1; stroke-width: 0.5px; fill: rgb(170, 150, 218); fill-opacity: 1; stroke: rgb(52, 73, 94); stroke-opacity: 1;\"/></g><g class=\"point\"><path d=\"M198.31,270V77.29H210.33V270Z\" style=\"vector-effect: none; opacity: 1; stroke-width: 0.5px; fill: rgb(170, 150, 218); fill-opacity: 1; stroke: rgb(52, 73, 94); stroke-opacity: 1;\"/></g><g class=\"point\"><path d=\"M222.35,270V58.02H234.37V270Z\" style=\"vector-effect: none; opacity: 1; stroke-width: 0.5px; fill: rgb(170, 150, 218); fill-opacity: 1; stroke: rgb(52, 73, 94); stroke-opacity: 1;\"/></g><g class=\"point\"><path d=\"M246.38,270V36.82H258.4V270Z\" style=\"vector-effect: none; opacity: 1; stroke-width: 0.5px; fill: rgb(170, 150, 218); fill-opacity: 1; stroke: rgb(52, 73, 94); stroke-opacity: 1;\"/></g><g class=\"point\"><path d=\"M270.42,270V13.5H282.44V270Z\" style=\"vector-effect: none; opacity: 1; stroke-width: 0.5px; fill: rgb(170, 150, 218); fill-opacity: 1; stroke: rgb(52, 73, 94); stroke-opacity: 1;\"/></g></g></g></g></g><g class=\"overplot\"/><path class=\"xlines-above crisp\" d=\"M0,0\" style=\"fill: none;\"/><path class=\"ylines-above crisp\" d=\"M0,0\" style=\"fill: none;\"/><g class=\"overlines-above\"/><g class=\"xaxislayer-above\"><g class=\"x2tick\"><text text-anchor=\"middle\" x=\"0\" y=\"383\" transform=\"translate(444.57,0)\" style=\"font-family: 'Open Sans', verdana, arial, sans-serif; font-size: 12px; fill: rgb(42, 63, 95); fill-opacity: 1; white-space: pre; opacity: 1;\">1</text></g><g class=\"x2tick\"><text text-anchor=\"middle\" x=\"0\" y=\"383\" style=\"font-family: 'Open Sans', verdana, arial, sans-serif; font-size: 12px; fill: rgb(42, 63, 95); fill-opacity: 1; white-space: pre; opacity: 1;\" transform=\"translate(468.61,0)\">2</text></g><g class=\"x2tick\"><text text-anchor=\"middle\" x=\"0\" y=\"383\" style=\"font-family: 'Open Sans', verdana, arial, sans-serif; font-size: 12px; fill: rgb(42, 63, 95); fill-opacity: 1; white-space: pre; opacity: 1;\" transform=\"translate(492.64,0)\">3</text></g><g class=\"x2tick\"><text text-anchor=\"middle\" x=\"0\" y=\"383\" style=\"font-family: 'Open Sans', verdana, arial, sans-serif; font-size: 12px; fill: rgb(42, 63, 95); fill-opacity: 1; white-space: pre; opacity: 1;\" transform=\"translate(516.6800000000001,0)\">4</text></g><g class=\"x2tick\"><text text-anchor=\"middle\" x=\"0\" y=\"383\" style=\"font-family: 'Open Sans', verdana, arial, sans-serif; font-size: 12px; fill: rgb(42, 63, 95); fill-opacity: 1; white-space: pre; opacity: 1;\" transform=\"translate(540.72,0)\">5</text></g><g class=\"x2tick\"><text text-anchor=\"middle\" x=\"0\" y=\"383\" style=\"font-family: 'Open Sans', verdana, arial, sans-serif; font-size: 12px; fill: rgb(42, 63, 95); fill-opacity: 1; white-space: pre; opacity: 1;\" transform=\"translate(564.76,0)\">6</text></g><g class=\"x2tick\"><text text-anchor=\"middle\" x=\"0\" y=\"383\" style=\"font-family: 'Open Sans', verdana, arial, sans-serif; font-size: 12px; fill: rgb(42, 63, 95); fill-opacity: 1; white-space: pre; opacity: 1;\" transform=\"translate(588.79,0)\">7</text></g><g class=\"x2tick\"><text text-anchor=\"middle\" x=\"0\" y=\"383\" style=\"font-family: 'Open Sans', verdana, arial, sans-serif; font-size: 12px; fill: rgb(42, 63, 95); fill-opacity: 1; white-space: pre; opacity: 1;\" transform=\"translate(612.83,0)\">8</text></g><g class=\"x2tick\"><text text-anchor=\"middle\" x=\"0\" y=\"383\" style=\"font-family: 'Open Sans', verdana, arial, sans-serif; font-size: 12px; fill: rgb(42, 63, 95); fill-opacity: 1; white-space: pre; opacity: 1;\" transform=\"translate(636.87,0)\">9</text></g><g class=\"x2tick\"><text text-anchor=\"middle\" x=\"0\" y=\"383\" style=\"font-family: 'Open Sans', verdana, arial, sans-serif; font-size: 12px; fill: rgb(42, 63, 95); fill-opacity: 1; white-space: pre; opacity: 1;\" transform=\"translate(660.9100000000001,0)\">10</text></g><g class=\"x2tick\"><text text-anchor=\"middle\" x=\"0\" y=\"383\" style=\"font-family: 'Open Sans', verdana, arial, sans-serif; font-size: 12px; fill: rgb(42, 63, 95); fill-opacity: 1; white-space: pre; opacity: 1;\" transform=\"translate(684.94,0)\">11</text></g><g class=\"x2tick\"><text text-anchor=\"middle\" x=\"0\" y=\"383\" style=\"font-family: 'Open Sans', verdana, arial, sans-serif; font-size: 12px; fill: rgb(42, 63, 95); fill-opacity: 1; white-space: pre; opacity: 1;\" transform=\"translate(708.98,0)\">12</text></g></g><g class=\"yaxislayer-above\"><g class=\"y2tick\"><text text-anchor=\"end\" x=\"431.55\" y=\"4.199999999999999\" transform=\"translate(0,370)\" style=\"font-family: 'Open Sans', verdana, arial, sans-serif; font-size: 12px; fill: rgb(42, 63, 95); fill-opacity: 1; white-space: pre; opacity: 1;\">0</text></g><g class=\"y2tick\"><text text-anchor=\"end\" x=\"431.55\" y=\"4.199999999999999\" style=\"font-family: 'Open Sans', verdana, arial, sans-serif; font-size: 12px; fill: rgb(42, 63, 95); fill-opacity: 1; white-space: pre; opacity: 1;\" transform=\"translate(0,295.08000000000004)\">5k</text></g><g class=\"y2tick\"><text text-anchor=\"end\" x=\"431.55\" y=\"4.199999999999999\" style=\"font-family: 'Open Sans', verdana, arial, sans-serif; font-size: 12px; fill: rgb(42, 63, 95); fill-opacity: 1; white-space: pre; opacity: 1;\" transform=\"translate(0,220.16)\">10k</text></g><g class=\"y2tick\"><text text-anchor=\"end\" x=\"431.55\" y=\"4.199999999999999\" style=\"font-family: 'Open Sans', verdana, arial, sans-serif; font-size: 12px; fill: rgb(42, 63, 95); fill-opacity: 1; white-space: pre; opacity: 1;\" transform=\"translate(0,145.24)\">15k</text></g></g><g class=\"overaxes-above\"/></g></g><g class=\"polarlayer\"/><g class=\"smithlayer\"/><g class=\"ternarylayer\"/><g class=\"geolayer\"/><g class=\"funnelarealayer\"/><g class=\"pielayer\"/><g class=\"iciclelayer\"/><g class=\"treemaplayer\"/><g class=\"sunburstlayer\"/><g class=\"glimages\"/><defs id=\"topdefs-f2900d\"><g class=\"clips\"/><clipPath id=\"legendf2900d\"><rect width=\"104\" height=\"48\" x=\"0\" y=\"0\"/></clipPath></defs><g class=\"layer-above\"><g class=\"imagelayer\"/><g class=\"shapelayer\"/></g><g class=\"infolayer\"><g class=\"legend\" pointer-events=\"all\" transform=\"translate(733.82,100)\"><rect class=\"bg\" shape-rendering=\"crispEdges\" width=\"104\" height=\"48\" x=\"0\" y=\"0\" style=\"stroke: rgb(68, 68, 68); stroke-opacity: 1; fill: rgb(255, 255, 255); fill-opacity: 1; stroke-width: 0px;\"/><g class=\"scrollbox\" transform=\"\" clip-path=\"url(#legendf2900d)\"><g class=\"groups\"><g class=\"traces\" transform=\"translate(0,14.5)\" style=\"opacity: 1;\"><text class=\"legendtext\" text-anchor=\"start\" x=\"40\" y=\"4.680000000000001\" style=\"font-family: 'Open Sans', verdana, arial, sans-serif; font-size: 12px; fill: rgb(42, 63, 95); fill-opacity: 1; white-space: pre;\">Contigo A</text><g class=\"layers\" style=\"opacity: 1;\"><g class=\"legendfill\"/><g class=\"legendlines\"/><g class=\"legendsymbols\"><g class=\"legendpoints\"><path class=\"legendundefined\" d=\"M6,6H-6V-6H6Z\" transform=\"translate(20,0)\" style=\"stroke-width: 0.5px; fill: rgb(173, 216, 230); fill-opacity: 1; stroke: rgb(52, 73, 94); stroke-opacity: 1;\"/></g></g></g><rect class=\"legendtoggle\" x=\"0\" y=\"-9.5\" width=\"98.484375\" height=\"19\" style=\"fill: rgb(0, 0, 0); fill-opacity: 0;\"/></g><g class=\"traces\" transform=\"translate(0,33.5)\" style=\"opacity: 1;\"><text class=\"legendtext\" text-anchor=\"start\" x=\"40\" y=\"4.680000000000001\" style=\"font-family: 'Open Sans', verdana, arial, sans-serif; font-size: 12px; fill: rgb(42, 63, 95); fill-opacity: 1; white-space: pre;\">Contigo B</text><g class=\"layers\" style=\"opacity: 1;\"><g class=\"legendfill\"/><g class=\"legendlines\"/><g class=\"legendsymbols\"><g class=\"legendpoints\"><path class=\"legendundefined\" d=\"M6,6H-6V-6H6Z\" transform=\"translate(20,0)\" style=\"stroke-width: 0.5px; fill: rgb(170, 150, 218); fill-opacity: 1; stroke: rgb(52, 73, 94); stroke-opacity: 1;\"/></g></g></g><rect class=\"legendtoggle\" x=\"0\" y=\"-9.5\" width=\"98.484375\" height=\"19\" style=\"fill: rgb(0, 0, 0); fill-opacity: 0;\"/></g></g></g><rect class=\"scrollbar\" rx=\"20\" ry=\"3\" width=\"0\" height=\"0\" x=\"0\" y=\"0\" style=\"fill: rgb(128, 139, 164); fill-opacity: 1;\"/></g><g class=\"g-gtitle\"><text class=\"gtitle\" x=\"42.5\" y=\"50\" text-anchor=\"start\" dy=\"0em\" style=\"font-family: 'Open Sans', verdana, arial, sans-serif; font-size: 17px; fill: rgb(42, 63, 95); opacity: 1; font-weight: normal; white-space: pre;\">Net Income by Loan Type</text></g><g class=\"g-xtitle\"><text class=\"xtitle\" x=\"224.225\" y=\"409.8\" text-anchor=\"middle\" style=\"font-family: 'Open Sans', verdana, arial, sans-serif; font-size: 14px; fill: rgb(42, 63, 95); opacity: 1; font-weight: normal; white-space: pre;\">Month</text></g><g class=\"g-x2title\"><text class=\"x2title\" x=\"576.775\" y=\"409.8\" text-anchor=\"middle\" style=\"font-family: 'Open Sans', verdana, arial, sans-serif; font-size: 14px; fill: rgb(42, 63, 95); opacity: 1; font-weight: normal; white-space: pre;\">Month</text></g><g class=\"g-ytitle\"><text class=\"ytitle\" transform=\"rotate(-90,15.137500000000003,235)\" x=\"15.137500000000003\" y=\"235\" text-anchor=\"middle\" style=\"font-family: 'Open Sans', verdana, arial, sans-serif; font-size: 14px; fill: rgb(42, 63, 95); opacity: 1; font-weight: normal; white-space: pre;\">Net Income (in mexican pesos)</text></g><g class=\"g-y2title\"/></g></svg>"
     },
     "metadata": {},
     "output_type": "display_data"
    }
   ],
   "source": [
    "loan_a = contigo_a_features.copy()\n",
    "loan_b = contigo_b_features.copy()\n",
    "\n",
    "loan_b[\"delinquency_rate\"] = 0.077\n",
    "\n",
    "print(im.overall_results(loan_a,loan_b))\n",
    "im.visualize_results(loan_a,loan_b)"
   ]
  },
  {
   "attachments": {},
   "cell_type": "markdown",
   "metadata": {},
   "source": [
    "- `Interest Rate >= 19.10%` for **Contigo A**, if everything else stays the same."
   ]
  },
  {
   "cell_type": "code",
   "execution_count": 33,
   "metadata": {},
   "outputs": [
    {
     "name": "stdout",
     "output_type": "stream",
     "text": [
      "loan_type             Contigo A      Contigo B          Total\n",
      "interest_revenue  44,778,717.09  39,346,560.00  84,125,277.09\n",
      "delinquency_loss  36,589,455.00  34,214,400.00  70,803,855.00\n",
      "operative_costs    8,130,990.00   6,415,200.00  14,546,190.00\n",
      "net_income            58,272.09  -1,283,040.00  -1,224,767.91\n"
     ]
    },
    {
     "data": {
      "image/svg+xml": "<svg class=\"main-svg\" xmlns=\"http://www.w3.org/2000/svg\" xmlns:xlink=\"http://www.w3.org/1999/xlink\" width=\"850\" height=\"450\" style=\"\" viewBox=\"0 0 850 450\"><rect x=\"0\" y=\"0\" width=\"850\" height=\"450\" style=\"fill: rgb(255, 255, 255); fill-opacity: 1;\"/><defs id=\"defs-7a1e41\"><g class=\"clips\"><clipPath id=\"clip7a1e41xyplot\" class=\"plotclip\"><rect width=\"288.45\" height=\"270\"/></clipPath><clipPath id=\"clip7a1e41x2y2plot\" class=\"plotclip\"><rect width=\"288.45\" height=\"270\"/></clipPath><clipPath class=\"axesclip\" id=\"clip7a1e41x\"><rect x=\"80\" y=\"0\" width=\"288.45\" height=\"450\"/></clipPath><clipPath class=\"axesclip\" id=\"clip7a1e41y\"><rect x=\"0\" y=\"100\" width=\"850\" height=\"270\"/></clipPath><clipPath class=\"axesclip\" id=\"clip7a1e41xy\"><rect x=\"80\" y=\"100\" width=\"288.45\" height=\"270\"/></clipPath><clipPath class=\"axesclip\" id=\"clip7a1e41y2\"><rect x=\"0\" y=\"100\" width=\"850\" height=\"270\"/></clipPath><clipPath class=\"axesclip\" id=\"clip7a1e41xy2\"><rect x=\"80\" y=\"100\" width=\"288.45\" height=\"270\"/></clipPath><clipPath class=\"axesclip\" id=\"clip7a1e41x2\"><rect x=\"432.55\" y=\"0\" width=\"288.45\" height=\"450\"/></clipPath><clipPath class=\"axesclip\" id=\"clip7a1e41x2y\"><rect x=\"432.55\" y=\"100\" width=\"288.45\" height=\"270\"/></clipPath><clipPath class=\"axesclip\" id=\"clip7a1e41x2y2\"><rect x=\"432.55\" y=\"100\" width=\"288.45\" height=\"270\"/></clipPath></g><g class=\"gradients\"/><g class=\"patterns\"/></defs><g class=\"bglayer\"><rect class=\"bg\" x=\"80\" y=\"100\" width=\"288.45\" height=\"270\" style=\"fill: rgb(229, 236, 246); fill-opacity: 1; stroke-width: 0;\"/><rect class=\"bg\" x=\"432.55\" y=\"100\" width=\"288.45\" height=\"270\" style=\"fill: rgb(229, 236, 246); fill-opacity: 1; stroke-width: 0;\"/></g><g class=\"layer-below\"><g class=\"imagelayer\"/><g class=\"shapelayer\"/></g><g class=\"cartesianlayer\"><g class=\"subplot xy\"><g class=\"layer-subplot\"><g class=\"shapelayer\"/><g class=\"imagelayer\"/></g><g class=\"minor-gridlayer\"><g class=\"x\"/><g class=\"y\"/></g><g class=\"gridlayer\"><g class=\"x\"/><g class=\"y\"><path class=\"ygrid crisp\" transform=\"translate(0,329.01)\" d=\"M80,0h288.45\" style=\"stroke: rgb(255, 255, 255); stroke-opacity: 1; stroke-width: 1px;\"/><path class=\"ygrid crisp\" transform=\"translate(0,288.02)\" d=\"M80,0h288.45\" style=\"stroke: rgb(255, 255, 255); stroke-opacity: 1; stroke-width: 1px;\"/><path class=\"ygrid crisp\" transform=\"translate(0,247.02)\" d=\"M80,0h288.45\" style=\"stroke: rgb(255, 255, 255); stroke-opacity: 1; stroke-width: 1px;\"/><path class=\"ygrid crisp\" transform=\"translate(0,206.03)\" d=\"M80,0h288.45\" style=\"stroke: rgb(255, 255, 255); stroke-opacity: 1; stroke-width: 1px;\"/><path class=\"ygrid crisp\" transform=\"translate(0,165.04000000000002)\" d=\"M80,0h288.45\" style=\"stroke: rgb(255, 255, 255); stroke-opacity: 1; stroke-width: 1px;\"/><path class=\"ygrid crisp\" transform=\"translate(0,124.05)\" d=\"M80,0h288.45\" style=\"stroke: rgb(255, 255, 255); stroke-opacity: 1; stroke-width: 1px;\"/></g></g><g class=\"zerolinelayer\"><path class=\"yzl zl crisp\" transform=\"translate(0,370)\" d=\"M80,0h288.45\" style=\"stroke: rgb(255, 255, 255); stroke-opacity: 1; stroke-width: 2px;\"/></g><path class=\"xlines-below\"/><path class=\"ylines-below\"/><g class=\"overlines-below\"/><g class=\"xaxislayer-below\"/><g class=\"yaxislayer-below\"/><g class=\"overaxes-below\"/><g class=\"plot\" transform=\"translate(80,100)\" clip-path=\"url(#clip7a1e41xyplot)\"><g class=\"barlayer mlayer\"><g class=\"trace bars\" style=\"opacity: 1;\"><g class=\"points\"><g class=\"point\"><path d=\"M6.01,270V247.97H18.03V270Z\" style=\"vector-effect: none; opacity: 1; stroke-width: 0.5px; fill: rgb(173, 216, 230); fill-opacity: 1; stroke: rgb(52, 73, 94); stroke-opacity: 1;\"/></g><g class=\"point\"><path d=\"M30.05,270V242.46H42.07V270Z\" style=\"vector-effect: none; opacity: 1; stroke-width: 0.5px; fill: rgb(173, 216, 230); fill-opacity: 1; stroke: rgb(52, 73, 94); stroke-opacity: 1;\"/></g><g class=\"point\"><path d=\"M54.08,270V235.57H66.1V270Z\" style=\"vector-effect: none; opacity: 1; stroke-width: 0.5px; fill: rgb(173, 216, 230); fill-opacity: 1; stroke: rgb(52, 73, 94); stroke-opacity: 1;\"/></g><g class=\"point\"><path d=\"M78.12,270V226.97H90.14V270Z\" style=\"vector-effect: none; opacity: 1; stroke-width: 0.5px; fill: rgb(173, 216, 230); fill-opacity: 1; stroke: rgb(52, 73, 94); stroke-opacity: 1;\"/></g><g class=\"point\"><path d=\"M102.16,270V216.21H114.18V270Z\" style=\"vector-effect: none; opacity: 1; stroke-width: 0.5px; fill: rgb(173, 216, 230); fill-opacity: 1; stroke: rgb(52, 73, 94); stroke-opacity: 1;\"/></g><g class=\"point\"><path d=\"M126.2,270V202.76H138.22V270Z\" style=\"vector-effect: none; opacity: 1; stroke-width: 0.5px; fill: rgb(173, 216, 230); fill-opacity: 1; stroke: rgb(52, 73, 94); stroke-opacity: 1;\"/></g><g class=\"point\"><path d=\"M150.23,270V185.95H162.25V270Z\" style=\"vector-effect: none; opacity: 1; stroke-width: 0.5px; fill: rgb(173, 216, 230); fill-opacity: 1; stroke: rgb(52, 73, 94); stroke-opacity: 1;\"/></g><g class=\"point\"><path d=\"M174.27,270V164.94H186.29V270Z\" style=\"vector-effect: none; opacity: 1; stroke-width: 0.5px; fill: rgb(173, 216, 230); fill-opacity: 1; stroke: rgb(52, 73, 94); stroke-opacity: 1;\"/></g><g class=\"point\"><path d=\"M198.31,270V138.67H210.33V270Z\" style=\"vector-effect: none; opacity: 1; stroke-width: 0.5px; fill: rgb(173, 216, 230); fill-opacity: 1; stroke: rgb(52, 73, 94); stroke-opacity: 1;\"/></g><g class=\"point\"><path d=\"M222.35,270V105.84H234.37V270Z\" style=\"vector-effect: none; opacity: 1; stroke-width: 0.5px; fill: rgb(173, 216, 230); fill-opacity: 1; stroke: rgb(52, 73, 94); stroke-opacity: 1;\"/></g><g class=\"point\"><path d=\"M246.38,270V64.8H258.4V270Z\" style=\"vector-effect: none; opacity: 1; stroke-width: 0.5px; fill: rgb(173, 216, 230); fill-opacity: 1; stroke: rgb(52, 73, 94); stroke-opacity: 1;\"/></g><g class=\"point\"><path d=\"M270.42,270V13.5H282.44V270Z\" style=\"vector-effect: none; opacity: 1; stroke-width: 0.5px; fill: rgb(173, 216, 230); fill-opacity: 1; stroke: rgb(52, 73, 94); stroke-opacity: 1;\"/></g></g></g></g></g><g class=\"overplot\"/><path class=\"xlines-above crisp\" d=\"M0,0\" style=\"fill: none;\"/><path class=\"ylines-above crisp\" d=\"M0,0\" style=\"fill: none;\"/><g class=\"overlines-above\"/><g class=\"xaxislayer-above\"><g class=\"xtick\"><text text-anchor=\"middle\" x=\"0\" y=\"383\" transform=\"translate(92.02,0)\" style=\"font-family: 'Open Sans', verdana, arial, sans-serif; font-size: 12px; fill: rgb(42, 63, 95); fill-opacity: 1; white-space: pre; opacity: 1;\">1</text></g><g class=\"xtick\"><text text-anchor=\"middle\" x=\"0\" y=\"383\" style=\"font-family: 'Open Sans', verdana, arial, sans-serif; font-size: 12px; fill: rgb(42, 63, 95); fill-opacity: 1; white-space: pre; opacity: 1;\" transform=\"translate(116.06,0)\">2</text></g><g class=\"xtick\"><text text-anchor=\"middle\" x=\"0\" y=\"383\" style=\"font-family: 'Open Sans', verdana, arial, sans-serif; font-size: 12px; fill: rgb(42, 63, 95); fill-opacity: 1; white-space: pre; opacity: 1;\" transform=\"translate(140.09,0)\">3</text></g><g class=\"xtick\"><text text-anchor=\"middle\" x=\"0\" y=\"383\" style=\"font-family: 'Open Sans', verdana, arial, sans-serif; font-size: 12px; fill: rgb(42, 63, 95); fill-opacity: 1; white-space: pre; opacity: 1;\" transform=\"translate(164.13,0)\">4</text></g><g class=\"xtick\"><text text-anchor=\"middle\" x=\"0\" y=\"383\" style=\"font-family: 'Open Sans', verdana, arial, sans-serif; font-size: 12px; fill: rgb(42, 63, 95); fill-opacity: 1; white-space: pre; opacity: 1;\" transform=\"translate(188.17000000000002,0)\">5</text></g><g class=\"xtick\"><text text-anchor=\"middle\" x=\"0\" y=\"383\" style=\"font-family: 'Open Sans', verdana, arial, sans-serif; font-size: 12px; fill: rgb(42, 63, 95); fill-opacity: 1; white-space: pre; opacity: 1;\" transform=\"translate(212.21,0)\">6</text></g><g class=\"xtick\"><text text-anchor=\"middle\" x=\"0\" y=\"383\" style=\"font-family: 'Open Sans', verdana, arial, sans-serif; font-size: 12px; fill: rgb(42, 63, 95); fill-opacity: 1; white-space: pre; opacity: 1;\" transform=\"translate(236.24,0)\">7</text></g><g class=\"xtick\"><text text-anchor=\"middle\" x=\"0\" y=\"383\" style=\"font-family: 'Open Sans', verdana, arial, sans-serif; font-size: 12px; fill: rgb(42, 63, 95); fill-opacity: 1; white-space: pre; opacity: 1;\" transform=\"translate(260.28,0)\">8</text></g><g class=\"xtick\"><text text-anchor=\"middle\" x=\"0\" y=\"383\" style=\"font-family: 'Open Sans', verdana, arial, sans-serif; font-size: 12px; fill: rgb(42, 63, 95); fill-opacity: 1; white-space: pre; opacity: 1;\" transform=\"translate(284.32,0)\">9</text></g><g class=\"xtick\"><text text-anchor=\"middle\" x=\"0\" y=\"383\" style=\"font-family: 'Open Sans', verdana, arial, sans-serif; font-size: 12px; fill: rgb(42, 63, 95); fill-opacity: 1; white-space: pre; opacity: 1;\" transform=\"translate(308.36,0)\">10</text></g><g class=\"xtick\"><text text-anchor=\"middle\" x=\"0\" y=\"383\" style=\"font-family: 'Open Sans', verdana, arial, sans-serif; font-size: 12px; fill: rgb(42, 63, 95); fill-opacity: 1; white-space: pre; opacity: 1;\" transform=\"translate(332.39,0)\">11</text></g><g class=\"xtick\"><text text-anchor=\"middle\" x=\"0\" y=\"383\" style=\"font-family: 'Open Sans', verdana, arial, sans-serif; font-size: 12px; fill: rgb(42, 63, 95); fill-opacity: 1; white-space: pre; opacity: 1;\" transform=\"translate(356.43,0)\">12</text></g></g><g class=\"yaxislayer-above\"><g class=\"ytick\"><text text-anchor=\"end\" x=\"79\" y=\"4.199999999999999\" transform=\"translate(0,370)\" style=\"font-family: 'Open Sans', verdana, arial, sans-serif; font-size: 12px; fill: rgb(42, 63, 95); fill-opacity: 1; white-space: pre; opacity: 1;\">0</text></g><g class=\"ytick\"><text text-anchor=\"end\" x=\"79\" y=\"4.199999999999999\" style=\"font-family: 'Open Sans', verdana, arial, sans-serif; font-size: 12px; fill: rgb(42, 63, 95); fill-opacity: 1; white-space: pre; opacity: 1;\" transform=\"translate(0,329.01)\">2k</text></g><g class=\"ytick\"><text text-anchor=\"end\" x=\"79\" y=\"4.199999999999999\" style=\"font-family: 'Open Sans', verdana, arial, sans-serif; font-size: 12px; fill: rgb(42, 63, 95); fill-opacity: 1; white-space: pre; opacity: 1;\" transform=\"translate(0,288.02)\">4k</text></g><g class=\"ytick\"><text text-anchor=\"end\" x=\"79\" y=\"4.199999999999999\" style=\"font-family: 'Open Sans', verdana, arial, sans-serif; font-size: 12px; fill: rgb(42, 63, 95); fill-opacity: 1; white-space: pre; opacity: 1;\" transform=\"translate(0,247.02)\">6k</text></g><g class=\"ytick\"><text text-anchor=\"end\" x=\"79\" y=\"4.199999999999999\" style=\"font-family: 'Open Sans', verdana, arial, sans-serif; font-size: 12px; fill: rgb(42, 63, 95); fill-opacity: 1; white-space: pre; opacity: 1;\" transform=\"translate(0,206.03)\">8k</text></g><g class=\"ytick\"><text text-anchor=\"end\" x=\"79\" y=\"4.199999999999999\" style=\"font-family: 'Open Sans', verdana, arial, sans-serif; font-size: 12px; fill: rgb(42, 63, 95); fill-opacity: 1; white-space: pre; opacity: 1;\" transform=\"translate(0,165.04000000000002)\">10k</text></g><g class=\"ytick\"><text text-anchor=\"end\" x=\"79\" y=\"4.199999999999999\" style=\"font-family: 'Open Sans', verdana, arial, sans-serif; font-size: 12px; fill: rgb(42, 63, 95); fill-opacity: 1; white-space: pre; opacity: 1;\" transform=\"translate(0,124.05)\">12k</text></g></g><g class=\"overaxes-above\"/></g><g class=\"subplot x2y2\"><g class=\"layer-subplot\"><g class=\"shapelayer\"/><g class=\"imagelayer\"/></g><g class=\"minor-gridlayer\"><g class=\"x2\"/><g class=\"y2\"/></g><g class=\"gridlayer\"><g class=\"x2\"/><g class=\"y2\"><path class=\"y2grid crisp\" transform=\"translate(0,324.76)\" d=\"M432.55,0h288.45\" style=\"stroke: rgb(255, 255, 255); stroke-opacity: 1; stroke-width: 1px;\"/><path class=\"y2grid crisp\" transform=\"translate(0,249.84)\" d=\"M432.55,0h288.45\" style=\"stroke: rgb(255, 255, 255); stroke-opacity: 1; stroke-width: 1px;\"/><path class=\"y2grid crisp\" transform=\"translate(0,174.92000000000002)\" d=\"M432.55,0h288.45\" style=\"stroke: rgb(255, 255, 255); stroke-opacity: 1; stroke-width: 1px;\"/></g></g><g class=\"zerolinelayer\"><path class=\"y2zl zl crisp\" transform=\"translate(0,100)\" d=\"M432.55,0h288.45\" style=\"stroke: rgb(255, 255, 255); stroke-opacity: 1; stroke-width: 2px;\"/></g><path class=\"xlines-below\"/><path class=\"ylines-below\"/><g class=\"overlines-below\"/><g class=\"xaxislayer-below\"/><g class=\"yaxislayer-below\"/><g class=\"overaxes-below\"/><g class=\"plot\" transform=\"translate(432.55,100)\" clip-path=\"url(#clip7a1e41x2y2plot)\"><g class=\"barlayer mlayer\"><g class=\"trace bars\" style=\"opacity: 1;\"><g class=\"points\"><g class=\"point\"><path d=\"M6.01,0V89.9H18.03V0Z\" style=\"vector-effect: none; opacity: 1; stroke-width: 0.5px; fill: rgb(170, 150, 218); fill-opacity: 1; stroke: rgb(52, 73, 94); stroke-opacity: 1;\"/></g><g class=\"point\"><path d=\"M30.05,0V98.89H42.07V0Z\" style=\"vector-effect: none; opacity: 1; stroke-width: 0.5px; fill: rgb(170, 150, 218); fill-opacity: 1; stroke: rgb(52, 73, 94); stroke-opacity: 1;\"/></g><g class=\"point\"><path d=\"M54.08,0V108.78H66.1V0Z\" style=\"vector-effect: none; opacity: 1; stroke-width: 0.5px; fill: rgb(170, 150, 218); fill-opacity: 1; stroke: rgb(52, 73, 94); stroke-opacity: 1;\"/></g><g class=\"point\"><path d=\"M78.12,0V119.66H90.14V0Z\" style=\"vector-effect: none; opacity: 1; stroke-width: 0.5px; fill: rgb(170, 150, 218); fill-opacity: 1; stroke: rgb(52, 73, 94); stroke-opacity: 1;\"/></g><g class=\"point\"><path d=\"M102.16,0V131.63H114.18V0Z\" style=\"vector-effect: none; opacity: 1; stroke-width: 0.5px; fill: rgb(170, 150, 218); fill-opacity: 1; stroke: rgb(52, 73, 94); stroke-opacity: 1;\"/></g><g class=\"point\"><path d=\"M126.2,0V144.79H138.22V0Z\" style=\"vector-effect: none; opacity: 1; stroke-width: 0.5px; fill: rgb(170, 150, 218); fill-opacity: 1; stroke: rgb(52, 73, 94); stroke-opacity: 1;\"/></g><g class=\"point\"><path d=\"M150.23,0V159.26H162.25V0Z\" style=\"vector-effect: none; opacity: 1; stroke-width: 0.5px; fill: rgb(170, 150, 218); fill-opacity: 1; stroke: rgb(52, 73, 94); stroke-opacity: 1;\"/></g><g class=\"point\"><path d=\"M174.27,0V175.19H186.29V0Z\" style=\"vector-effect: none; opacity: 1; stroke-width: 0.5px; fill: rgb(170, 150, 218); fill-opacity: 1; stroke: rgb(52, 73, 94); stroke-opacity: 1;\"/></g><g class=\"point\"><path d=\"M198.31,0V192.71H210.33V0Z\" style=\"vector-effect: none; opacity: 1; stroke-width: 0.5px; fill: rgb(170, 150, 218); fill-opacity: 1; stroke: rgb(52, 73, 94); stroke-opacity: 1;\"/></g><g class=\"point\"><path d=\"M222.35,0V211.98H234.37V0Z\" style=\"vector-effect: none; opacity: 1; stroke-width: 0.5px; fill: rgb(170, 150, 218); fill-opacity: 1; stroke: rgb(52, 73, 94); stroke-opacity: 1;\"/></g><g class=\"point\"><path d=\"M246.38,0V233.18H258.4V0Z\" style=\"vector-effect: none; opacity: 1; stroke-width: 0.5px; fill: rgb(170, 150, 218); fill-opacity: 1; stroke: rgb(52, 73, 94); stroke-opacity: 1;\"/></g><g class=\"point\"><path d=\"M270.42,0V256.5H282.44V0Z\" style=\"vector-effect: none; opacity: 1; stroke-width: 0.5px; fill: rgb(170, 150, 218); fill-opacity: 1; stroke: rgb(52, 73, 94); stroke-opacity: 1;\"/></g></g></g></g></g><g class=\"overplot\"/><path class=\"xlines-above crisp\" d=\"M0,0\" style=\"fill: none;\"/><path class=\"ylines-above crisp\" d=\"M0,0\" style=\"fill: none;\"/><g class=\"overlines-above\"/><g class=\"xaxislayer-above\"><g class=\"x2tick\"><text text-anchor=\"middle\" x=\"0\" y=\"383\" transform=\"translate(444.57,0)\" style=\"font-family: 'Open Sans', verdana, arial, sans-serif; font-size: 12px; fill: rgb(42, 63, 95); fill-opacity: 1; white-space: pre; opacity: 1;\">1</text></g><g class=\"x2tick\"><text text-anchor=\"middle\" x=\"0\" y=\"383\" style=\"font-family: 'Open Sans', verdana, arial, sans-serif; font-size: 12px; fill: rgb(42, 63, 95); fill-opacity: 1; white-space: pre; opacity: 1;\" transform=\"translate(468.61,0)\">2</text></g><g class=\"x2tick\"><text text-anchor=\"middle\" x=\"0\" y=\"383\" style=\"font-family: 'Open Sans', verdana, arial, sans-serif; font-size: 12px; fill: rgb(42, 63, 95); fill-opacity: 1; white-space: pre; opacity: 1;\" transform=\"translate(492.64,0)\">3</text></g><g class=\"x2tick\"><text text-anchor=\"middle\" x=\"0\" y=\"383\" style=\"font-family: 'Open Sans', verdana, arial, sans-serif; font-size: 12px; fill: rgb(42, 63, 95); fill-opacity: 1; white-space: pre; opacity: 1;\" transform=\"translate(516.6800000000001,0)\">4</text></g><g class=\"x2tick\"><text text-anchor=\"middle\" x=\"0\" y=\"383\" style=\"font-family: 'Open Sans', verdana, arial, sans-serif; font-size: 12px; fill: rgb(42, 63, 95); fill-opacity: 1; white-space: pre; opacity: 1;\" transform=\"translate(540.72,0)\">5</text></g><g class=\"x2tick\"><text text-anchor=\"middle\" x=\"0\" y=\"383\" style=\"font-family: 'Open Sans', verdana, arial, sans-serif; font-size: 12px; fill: rgb(42, 63, 95); fill-opacity: 1; white-space: pre; opacity: 1;\" transform=\"translate(564.76,0)\">6</text></g><g class=\"x2tick\"><text text-anchor=\"middle\" x=\"0\" y=\"383\" style=\"font-family: 'Open Sans', verdana, arial, sans-serif; font-size: 12px; fill: rgb(42, 63, 95); fill-opacity: 1; white-space: pre; opacity: 1;\" transform=\"translate(588.79,0)\">7</text></g><g class=\"x2tick\"><text text-anchor=\"middle\" x=\"0\" y=\"383\" style=\"font-family: 'Open Sans', verdana, arial, sans-serif; font-size: 12px; fill: rgb(42, 63, 95); fill-opacity: 1; white-space: pre; opacity: 1;\" transform=\"translate(612.83,0)\">8</text></g><g class=\"x2tick\"><text text-anchor=\"middle\" x=\"0\" y=\"383\" style=\"font-family: 'Open Sans', verdana, arial, sans-serif; font-size: 12px; fill: rgb(42, 63, 95); fill-opacity: 1; white-space: pre; opacity: 1;\" transform=\"translate(636.87,0)\">9</text></g><g class=\"x2tick\"><text text-anchor=\"middle\" x=\"0\" y=\"383\" style=\"font-family: 'Open Sans', verdana, arial, sans-serif; font-size: 12px; fill: rgb(42, 63, 95); fill-opacity: 1; white-space: pre; opacity: 1;\" transform=\"translate(660.9100000000001,0)\">10</text></g><g class=\"x2tick\"><text text-anchor=\"middle\" x=\"0\" y=\"383\" style=\"font-family: 'Open Sans', verdana, arial, sans-serif; font-size: 12px; fill: rgb(42, 63, 95); fill-opacity: 1; white-space: pre; opacity: 1;\" transform=\"translate(684.94,0)\">11</text></g><g class=\"x2tick\"><text text-anchor=\"middle\" x=\"0\" y=\"383\" style=\"font-family: 'Open Sans', verdana, arial, sans-serif; font-size: 12px; fill: rgb(42, 63, 95); fill-opacity: 1; white-space: pre; opacity: 1;\" transform=\"translate(708.98,0)\">12</text></g></g><g class=\"yaxislayer-above\"><g class=\"y2tick\"><text text-anchor=\"end\" x=\"431.55\" y=\"4.199999999999999\" transform=\"translate(0,324.76)\" style=\"font-family: 'Open Sans', verdana, arial, sans-serif; font-size: 12px; fill: rgb(42, 63, 95); fill-opacity: 1; white-space: pre; opacity: 1;\">−150k</text></g><g class=\"y2tick\"><text text-anchor=\"end\" x=\"431.55\" y=\"4.199999999999999\" style=\"font-family: 'Open Sans', verdana, arial, sans-serif; font-size: 12px; fill: rgb(42, 63, 95); fill-opacity: 1; white-space: pre; opacity: 1;\" transform=\"translate(0,249.84)\">−100k</text></g><g class=\"y2tick\"><text text-anchor=\"end\" x=\"431.55\" y=\"4.199999999999999\" style=\"font-family: 'Open Sans', verdana, arial, sans-serif; font-size: 12px; fill: rgb(42, 63, 95); fill-opacity: 1; white-space: pre; opacity: 1;\" transform=\"translate(0,174.92000000000002)\">−50k</text></g><g class=\"y2tick\"><text text-anchor=\"end\" x=\"431.55\" y=\"4.199999999999999\" style=\"font-family: 'Open Sans', verdana, arial, sans-serif; font-size: 12px; fill: rgb(42, 63, 95); fill-opacity: 1; white-space: pre; opacity: 1;\" transform=\"translate(0,100)\">0</text></g></g><g class=\"overaxes-above\"/></g></g><g class=\"polarlayer\"/><g class=\"smithlayer\"/><g class=\"ternarylayer\"/><g class=\"geolayer\"/><g class=\"funnelarealayer\"/><g class=\"pielayer\"/><g class=\"iciclelayer\"/><g class=\"treemaplayer\"/><g class=\"sunburstlayer\"/><g class=\"glimages\"/><defs id=\"topdefs-7a1e41\"><g class=\"clips\"/><clipPath id=\"legend7a1e41\"><rect width=\"104\" height=\"48\" x=\"0\" y=\"0\"/></clipPath></defs><g class=\"layer-above\"><g class=\"imagelayer\"/><g class=\"shapelayer\"/></g><g class=\"infolayer\"><g class=\"legend\" pointer-events=\"all\" transform=\"translate(733.82,100)\"><rect class=\"bg\" shape-rendering=\"crispEdges\" width=\"104\" height=\"48\" x=\"0\" y=\"0\" style=\"stroke: rgb(68, 68, 68); stroke-opacity: 1; fill: rgb(255, 255, 255); fill-opacity: 1; stroke-width: 0px;\"/><g class=\"scrollbox\" transform=\"\" clip-path=\"url(#legend7a1e41)\"><g class=\"groups\"><g class=\"traces\" transform=\"translate(0,14.5)\" style=\"opacity: 1;\"><text class=\"legendtext\" text-anchor=\"start\" x=\"40\" y=\"4.680000000000001\" style=\"font-family: 'Open Sans', verdana, arial, sans-serif; font-size: 12px; fill: rgb(42, 63, 95); fill-opacity: 1; white-space: pre;\">Contigo A</text><g class=\"layers\" style=\"opacity: 1;\"><g class=\"legendfill\"/><g class=\"legendlines\"/><g class=\"legendsymbols\"><g class=\"legendpoints\"><path class=\"legendundefined\" d=\"M6,6H-6V-6H6Z\" transform=\"translate(20,0)\" style=\"stroke-width: 0.5px; fill: rgb(173, 216, 230); fill-opacity: 1; stroke: rgb(52, 73, 94); stroke-opacity: 1;\"/></g></g></g><rect class=\"legendtoggle\" x=\"0\" y=\"-9.5\" width=\"98.484375\" height=\"19\" style=\"fill: rgb(0, 0, 0); fill-opacity: 0;\"/></g><g class=\"traces\" transform=\"translate(0,33.5)\" style=\"opacity: 1;\"><text class=\"legendtext\" text-anchor=\"start\" x=\"40\" y=\"4.680000000000001\" style=\"font-family: 'Open Sans', verdana, arial, sans-serif; font-size: 12px; fill: rgb(42, 63, 95); fill-opacity: 1; white-space: pre;\">Contigo B</text><g class=\"layers\" style=\"opacity: 1;\"><g class=\"legendfill\"/><g class=\"legendlines\"/><g class=\"legendsymbols\"><g class=\"legendpoints\"><path class=\"legendundefined\" d=\"M6,6H-6V-6H6Z\" transform=\"translate(20,0)\" style=\"stroke-width: 0.5px; fill: rgb(170, 150, 218); fill-opacity: 1; stroke: rgb(52, 73, 94); stroke-opacity: 1;\"/></g></g></g><rect class=\"legendtoggle\" x=\"0\" y=\"-9.5\" width=\"98.484375\" height=\"19\" style=\"fill: rgb(0, 0, 0); fill-opacity: 0;\"/></g></g></g><rect class=\"scrollbar\" rx=\"20\" ry=\"3\" width=\"0\" height=\"0\" x=\"0\" y=\"0\" style=\"fill: rgb(128, 139, 164); fill-opacity: 1;\"/></g><g class=\"g-gtitle\"><text class=\"gtitle\" x=\"42.5\" y=\"50\" text-anchor=\"start\" dy=\"0em\" style=\"font-family: 'Open Sans', verdana, arial, sans-serif; font-size: 17px; fill: rgb(42, 63, 95); opacity: 1; font-weight: normal; white-space: pre;\">Net Income by Loan Type</text></g><g class=\"g-xtitle\"><text class=\"xtitle\" x=\"224.225\" y=\"409.8\" text-anchor=\"middle\" style=\"font-family: 'Open Sans', verdana, arial, sans-serif; font-size: 14px; fill: rgb(42, 63, 95); opacity: 1; font-weight: normal; white-space: pre;\">Month</text></g><g class=\"g-x2title\"><text class=\"x2title\" x=\"576.775\" y=\"409.8\" text-anchor=\"middle\" style=\"font-family: 'Open Sans', verdana, arial, sans-serif; font-size: 14px; fill: rgb(42, 63, 95); opacity: 1; font-weight: normal; white-space: pre;\">Month</text></g><g class=\"g-ytitle\"><text class=\"ytitle\" transform=\"rotate(-90,32.340625,235)\" x=\"32.340625\" y=\"235\" text-anchor=\"middle\" style=\"font-family: 'Open Sans', verdana, arial, sans-serif; font-size: 14px; fill: rgb(42, 63, 95); opacity: 1; font-weight: normal; white-space: pre;\">Net Income (in mexican pesos)</text></g><g class=\"g-y2title\"/></g></svg>"
     },
     "metadata": {},
     "output_type": "display_data"
    }
   ],
   "source": [
    "loan_a = contigo_a_features.copy()\n",
    "loan_b = contigo_b_features.copy()\n",
    "\n",
    "loan_a[\"interest_rate\"] = 0.191\n",
    "\n",
    "print(im.overall_results(loan_a,loan_b))\n",
    "im.visualize_results(loan_a,loan_b)"
   ]
  },
  {
   "attachments": {},
   "cell_type": "markdown",
   "metadata": {},
   "source": [
    "- `Interest Rate >= 10.33%` for **Contigo B**, if everything else stays the same."
   ]
  },
  {
   "cell_type": "code",
   "execution_count": 40,
   "metadata": {},
   "outputs": [
    {
     "name": "stdout",
     "output_type": "stream",
     "text": [
      "loan_type             Contigo A      Contigo B          Total\n",
      "interest_revenue  35,166,531.75  40,644,996.48  75,811,528.23\n",
      "delinquency_loss  36,589,455.00  34,214,400.00  70,803,855.00\n",
      "operative_costs    8,130,990.00   6,415,200.00  14,546,190.00\n",
      "net_income        -9,553,913.25      15,396.48  -9,538,516.77\n"
     ]
    },
    {
     "data": {
      "image/svg+xml": "<svg class=\"main-svg\" xmlns=\"http://www.w3.org/2000/svg\" xmlns:xlink=\"http://www.w3.org/1999/xlink\" width=\"850\" height=\"450\" style=\"\" viewBox=\"0 0 850 450\"><rect x=\"0\" y=\"0\" width=\"850\" height=\"450\" style=\"fill: rgb(255, 255, 255); fill-opacity: 1;\"/><defs id=\"defs-321ceb\"><g class=\"clips\"><clipPath id=\"clip321cebxyplot\" class=\"plotclip\"><rect width=\"288.45\" height=\"270\"/></clipPath><clipPath id=\"clip321cebx2y2plot\" class=\"plotclip\"><rect width=\"288.45\" height=\"270\"/></clipPath><clipPath class=\"axesclip\" id=\"clip321cebx\"><rect x=\"80\" y=\"0\" width=\"288.45\" height=\"450\"/></clipPath><clipPath class=\"axesclip\" id=\"clip321ceby\"><rect x=\"0\" y=\"100\" width=\"850\" height=\"270\"/></clipPath><clipPath class=\"axesclip\" id=\"clip321cebxy\"><rect x=\"80\" y=\"100\" width=\"288.45\" height=\"270\"/></clipPath><clipPath class=\"axesclip\" id=\"clip321ceby2\"><rect x=\"0\" y=\"100\" width=\"850\" height=\"270\"/></clipPath><clipPath class=\"axesclip\" id=\"clip321cebxy2\"><rect x=\"80\" y=\"100\" width=\"288.45\" height=\"270\"/></clipPath><clipPath class=\"axesclip\" id=\"clip321cebx2\"><rect x=\"432.55\" y=\"0\" width=\"288.45\" height=\"450\"/></clipPath><clipPath class=\"axesclip\" id=\"clip321cebx2y\"><rect x=\"432.55\" y=\"100\" width=\"288.45\" height=\"270\"/></clipPath><clipPath class=\"axesclip\" id=\"clip321cebx2y2\"><rect x=\"432.55\" y=\"100\" width=\"288.45\" height=\"270\"/></clipPath></g><g class=\"gradients\"/><g class=\"patterns\"/></defs><g class=\"bglayer\"><rect class=\"bg\" x=\"80\" y=\"100\" width=\"288.45\" height=\"270\" style=\"fill: rgb(229, 236, 246); fill-opacity: 1; stroke-width: 0;\"/><rect class=\"bg\" x=\"432.55\" y=\"100\" width=\"288.45\" height=\"270\" style=\"fill: rgb(229, 236, 246); fill-opacity: 1; stroke-width: 0;\"/></g><g class=\"layer-below\"><g class=\"imagelayer\"/><g class=\"shapelayer\"/></g><g class=\"cartesianlayer\"><g class=\"subplot xy\"><g class=\"layer-subplot\"><g class=\"shapelayer\"/><g class=\"imagelayer\"/></g><g class=\"minor-gridlayer\"><g class=\"x\"/><g class=\"y\"/></g><g class=\"gridlayer\"><g class=\"x\"/><g class=\"y\"><path class=\"ygrid crisp\" transform=\"translate(0,350.02)\" d=\"M80,0h288.45\" style=\"stroke: rgb(255, 255, 255); stroke-opacity: 1; stroke-width: 1px;\"/><path class=\"ygrid crisp\" transform=\"translate(0,287.52)\" d=\"M80,0h288.45\" style=\"stroke: rgb(255, 255, 255); stroke-opacity: 1; stroke-width: 1px;\"/><path class=\"ygrid crisp\" transform=\"translate(0,225.01)\" d=\"M80,0h288.45\" style=\"stroke: rgb(255, 255, 255); stroke-opacity: 1; stroke-width: 1px;\"/><path class=\"ygrid crisp\" transform=\"translate(0,162.51)\" d=\"M80,0h288.45\" style=\"stroke: rgb(255, 255, 255); stroke-opacity: 1; stroke-width: 1px;\"/></g></g><g class=\"zerolinelayer\"><path class=\"yzl zl crisp\" transform=\"translate(0,100)\" d=\"M80,0h288.45\" style=\"stroke: rgb(255, 255, 255); stroke-opacity: 1; stroke-width: 2px;\"/></g><path class=\"xlines-below\"/><path class=\"ylines-below\"/><g class=\"overlines-below\"/><g class=\"xaxislayer-below\"/><g class=\"yaxislayer-below\"/><g class=\"overaxes-below\"/><g class=\"plot\" transform=\"translate(80,100)\" clip-path=\"url(#clip321cebxyplot)\"><g class=\"barlayer mlayer\"><g class=\"trace bars\" style=\"opacity: 1;\"><g class=\"points\"><g class=\"point\"><path d=\"M6.01,0V22.03H18.03V0Z\" style=\"vector-effect: none; opacity: 1; stroke-width: 0.5px; fill: rgb(173, 216, 230); fill-opacity: 1; stroke: rgb(52, 73, 94); stroke-opacity: 1;\"/></g><g class=\"point\"><path d=\"M30.05,0V27.54H42.07V0Z\" style=\"vector-effect: none; opacity: 1; stroke-width: 0.5px; fill: rgb(173, 216, 230); fill-opacity: 1; stroke: rgb(52, 73, 94); stroke-opacity: 1;\"/></g><g class=\"point\"><path d=\"M54.08,0V34.43H66.1V0Z\" style=\"vector-effect: none; opacity: 1; stroke-width: 0.5px; fill: rgb(173, 216, 230); fill-opacity: 1; stroke: rgb(52, 73, 94); stroke-opacity: 1;\"/></g><g class=\"point\"><path d=\"M78.12,0V43.03H90.14V0Z\" style=\"vector-effect: none; opacity: 1; stroke-width: 0.5px; fill: rgb(173, 216, 230); fill-opacity: 1; stroke: rgb(52, 73, 94); stroke-opacity: 1;\"/></g><g class=\"point\"><path d=\"M102.16,0V53.79H114.18V0Z\" style=\"vector-effect: none; opacity: 1; stroke-width: 0.5px; fill: rgb(173, 216, 230); fill-opacity: 1; stroke: rgb(52, 73, 94); stroke-opacity: 1;\"/></g><g class=\"point\"><path d=\"M126.2,0V67.24H138.22V0Z\" style=\"vector-effect: none; opacity: 1; stroke-width: 0.5px; fill: rgb(173, 216, 230); fill-opacity: 1; stroke: rgb(52, 73, 94); stroke-opacity: 1;\"/></g><g class=\"point\"><path d=\"M150.23,0V84.05H162.25V0Z\" style=\"vector-effect: none; opacity: 1; stroke-width: 0.5px; fill: rgb(173, 216, 230); fill-opacity: 1; stroke: rgb(52, 73, 94); stroke-opacity: 1;\"/></g><g class=\"point\"><path d=\"M174.27,0V105.06H186.29V0Z\" style=\"vector-effect: none; opacity: 1; stroke-width: 0.5px; fill: rgb(173, 216, 230); fill-opacity: 1; stroke: rgb(52, 73, 94); stroke-opacity: 1;\"/></g><g class=\"point\"><path d=\"M198.31,0V131.33H210.33V0Z\" style=\"vector-effect: none; opacity: 1; stroke-width: 0.5px; fill: rgb(173, 216, 230); fill-opacity: 1; stroke: rgb(52, 73, 94); stroke-opacity: 1;\"/></g><g class=\"point\"><path d=\"M222.35,0V164.16H234.37V0Z\" style=\"vector-effect: none; opacity: 1; stroke-width: 0.5px; fill: rgb(173, 216, 230); fill-opacity: 1; stroke: rgb(52, 73, 94); stroke-opacity: 1;\"/></g><g class=\"point\"><path d=\"M246.38,0V205.2H258.4V0Z\" style=\"vector-effect: none; opacity: 1; stroke-width: 0.5px; fill: rgb(173, 216, 230); fill-opacity: 1; stroke: rgb(52, 73, 94); stroke-opacity: 1;\"/></g><g class=\"point\"><path d=\"M270.42,0V256.5H282.44V0Z\" style=\"vector-effect: none; opacity: 1; stroke-width: 0.5px; fill: rgb(173, 216, 230); fill-opacity: 1; stroke: rgb(52, 73, 94); stroke-opacity: 1;\"/></g></g></g></g></g><g class=\"overplot\"/><path class=\"xlines-above crisp\" d=\"M0,0\" style=\"fill: none;\"/><path class=\"ylines-above crisp\" d=\"M0,0\" style=\"fill: none;\"/><g class=\"overlines-above\"/><g class=\"xaxislayer-above\"><g class=\"xtick\"><text text-anchor=\"middle\" x=\"0\" y=\"383\" transform=\"translate(92.02,0)\" style=\"font-family: 'Open Sans', verdana, arial, sans-serif; font-size: 12px; fill: rgb(42, 63, 95); fill-opacity: 1; white-space: pre; opacity: 1;\">1</text></g><g class=\"xtick\"><text text-anchor=\"middle\" x=\"0\" y=\"383\" style=\"font-family: 'Open Sans', verdana, arial, sans-serif; font-size: 12px; fill: rgb(42, 63, 95); fill-opacity: 1; white-space: pre; opacity: 1;\" transform=\"translate(116.06,0)\">2</text></g><g class=\"xtick\"><text text-anchor=\"middle\" x=\"0\" y=\"383\" style=\"font-family: 'Open Sans', verdana, arial, sans-serif; font-size: 12px; fill: rgb(42, 63, 95); fill-opacity: 1; white-space: pre; opacity: 1;\" transform=\"translate(140.09,0)\">3</text></g><g class=\"xtick\"><text text-anchor=\"middle\" x=\"0\" y=\"383\" style=\"font-family: 'Open Sans', verdana, arial, sans-serif; font-size: 12px; fill: rgb(42, 63, 95); fill-opacity: 1; white-space: pre; opacity: 1;\" transform=\"translate(164.13,0)\">4</text></g><g class=\"xtick\"><text text-anchor=\"middle\" x=\"0\" y=\"383\" style=\"font-family: 'Open Sans', verdana, arial, sans-serif; font-size: 12px; fill: rgb(42, 63, 95); fill-opacity: 1; white-space: pre; opacity: 1;\" transform=\"translate(188.17000000000002,0)\">5</text></g><g class=\"xtick\"><text text-anchor=\"middle\" x=\"0\" y=\"383\" style=\"font-family: 'Open Sans', verdana, arial, sans-serif; font-size: 12px; fill: rgb(42, 63, 95); fill-opacity: 1; white-space: pre; opacity: 1;\" transform=\"translate(212.21,0)\">6</text></g><g class=\"xtick\"><text text-anchor=\"middle\" x=\"0\" y=\"383\" style=\"font-family: 'Open Sans', verdana, arial, sans-serif; font-size: 12px; fill: rgb(42, 63, 95); fill-opacity: 1; white-space: pre; opacity: 1;\" transform=\"translate(236.24,0)\">7</text></g><g class=\"xtick\"><text text-anchor=\"middle\" x=\"0\" y=\"383\" style=\"font-family: 'Open Sans', verdana, arial, sans-serif; font-size: 12px; fill: rgb(42, 63, 95); fill-opacity: 1; white-space: pre; opacity: 1;\" transform=\"translate(260.28,0)\">8</text></g><g class=\"xtick\"><text text-anchor=\"middle\" x=\"0\" y=\"383\" style=\"font-family: 'Open Sans', verdana, arial, sans-serif; font-size: 12px; fill: rgb(42, 63, 95); fill-opacity: 1; white-space: pre; opacity: 1;\" transform=\"translate(284.32,0)\">9</text></g><g class=\"xtick\"><text text-anchor=\"middle\" x=\"0\" y=\"383\" style=\"font-family: 'Open Sans', verdana, arial, sans-serif; font-size: 12px; fill: rgb(42, 63, 95); fill-opacity: 1; white-space: pre; opacity: 1;\" transform=\"translate(308.36,0)\">10</text></g><g class=\"xtick\"><text text-anchor=\"middle\" x=\"0\" y=\"383\" style=\"font-family: 'Open Sans', verdana, arial, sans-serif; font-size: 12px; fill: rgb(42, 63, 95); fill-opacity: 1; white-space: pre; opacity: 1;\" transform=\"translate(332.39,0)\">11</text></g><g class=\"xtick\"><text text-anchor=\"middle\" x=\"0\" y=\"383\" style=\"font-family: 'Open Sans', verdana, arial, sans-serif; font-size: 12px; fill: rgb(42, 63, 95); fill-opacity: 1; white-space: pre; opacity: 1;\" transform=\"translate(356.43,0)\">12</text></g></g><g class=\"yaxislayer-above\"><g class=\"ytick\"><text text-anchor=\"end\" x=\"79\" y=\"4.199999999999999\" transform=\"translate(0,350.02)\" style=\"font-family: 'Open Sans', verdana, arial, sans-serif; font-size: 12px; fill: rgb(42, 63, 95); fill-opacity: 1; white-space: pre; opacity: 1;\">−2M</text></g><g class=\"ytick\"><text text-anchor=\"end\" x=\"79\" y=\"4.199999999999999\" style=\"font-family: 'Open Sans', verdana, arial, sans-serif; font-size: 12px; fill: rgb(42, 63, 95); fill-opacity: 1; white-space: pre; opacity: 1;\" transform=\"translate(0,287.52)\">−1.5M</text></g><g class=\"ytick\"><text text-anchor=\"end\" x=\"79\" y=\"4.199999999999999\" style=\"font-family: 'Open Sans', verdana, arial, sans-serif; font-size: 12px; fill: rgb(42, 63, 95); fill-opacity: 1; white-space: pre; opacity: 1;\" transform=\"translate(0,225.01)\">−1M</text></g><g class=\"ytick\"><text text-anchor=\"end\" x=\"79\" y=\"4.199999999999999\" style=\"font-family: 'Open Sans', verdana, arial, sans-serif; font-size: 12px; fill: rgb(42, 63, 95); fill-opacity: 1; white-space: pre; opacity: 1;\" transform=\"translate(0,162.51)\">−0.5M</text></g><g class=\"ytick\"><text text-anchor=\"end\" x=\"79\" y=\"4.199999999999999\" style=\"font-family: 'Open Sans', verdana, arial, sans-serif; font-size: 12px; fill: rgb(42, 63, 95); fill-opacity: 1; white-space: pre; opacity: 1;\" transform=\"translate(0,100)\">0</text></g></g><g class=\"overaxes-above\"/></g><g class=\"subplot x2y2\"><g class=\"layer-subplot\"><g class=\"shapelayer\"/><g class=\"imagelayer\"/></g><g class=\"minor-gridlayer\"><g class=\"x2\"/><g class=\"y2\"/></g><g class=\"gridlayer\"><g class=\"x2\"/><g class=\"y2\"><path class=\"y2grid crisp\" transform=\"translate(0,307.57)\" d=\"M432.55,0h288.45\" style=\"stroke: rgb(255, 255, 255); stroke-opacity: 1; stroke-width: 1px;\"/><path class=\"y2grid crisp\" transform=\"translate(0,245.14)\" d=\"M432.55,0h288.45\" style=\"stroke: rgb(255, 255, 255); stroke-opacity: 1; stroke-width: 1px;\"/><path class=\"y2grid crisp\" transform=\"translate(0,182.7)\" d=\"M432.55,0h288.45\" style=\"stroke: rgb(255, 255, 255); stroke-opacity: 1; stroke-width: 1px;\"/><path class=\"y2grid crisp\" transform=\"translate(0,120.27)\" d=\"M432.55,0h288.45\" style=\"stroke: rgb(255, 255, 255); stroke-opacity: 1; stroke-width: 1px;\"/></g></g><g class=\"zerolinelayer\"><path class=\"y2zl zl crisp\" transform=\"translate(0,370)\" d=\"M432.55,0h288.45\" style=\"stroke: rgb(255, 255, 255); stroke-opacity: 1; stroke-width: 2px;\"/></g><path class=\"xlines-below\"/><path class=\"ylines-below\"/><g class=\"overlines-below\"/><g class=\"xaxislayer-below\"/><g class=\"yaxislayer-below\"/><g class=\"overaxes-below\"/><g class=\"plot\" transform=\"translate(432.55,100)\" clip-path=\"url(#clip321cebx2y2plot)\"><g class=\"barlayer mlayer\"><g class=\"trace bars\" style=\"opacity: 1;\"><g class=\"points\"><g class=\"point\"><path d=\"M6.01,270V180.1H18.03V270Z\" style=\"vector-effect: none; opacity: 1; stroke-width: 0.5px; fill: rgb(170, 150, 218); fill-opacity: 1; stroke: rgb(52, 73, 94); stroke-opacity: 1;\"/></g><g class=\"point\"><path d=\"M30.05,270V171.11H42.07V270Z\" style=\"vector-effect: none; opacity: 1; stroke-width: 0.5px; fill: rgb(170, 150, 218); fill-opacity: 1; stroke: rgb(52, 73, 94); stroke-opacity: 1;\"/></g><g class=\"point\"><path d=\"M54.08,270V161.22H66.1V270Z\" style=\"vector-effect: none; opacity: 1; stroke-width: 0.5px; fill: rgb(170, 150, 218); fill-opacity: 1; stroke: rgb(52, 73, 94); stroke-opacity: 1;\"/></g><g class=\"point\"><path d=\"M78.12,270V150.34H90.14V270Z\" style=\"vector-effect: none; opacity: 1; stroke-width: 0.5px; fill: rgb(170, 150, 218); fill-opacity: 1; stroke: rgb(52, 73, 94); stroke-opacity: 1;\"/></g><g class=\"point\"><path d=\"M102.16,270V138.37H114.18V270Z\" style=\"vector-effect: none; opacity: 1; stroke-width: 0.5px; fill: rgb(170, 150, 218); fill-opacity: 1; stroke: rgb(52, 73, 94); stroke-opacity: 1;\"/></g><g class=\"point\"><path d=\"M126.2,270V125.21H138.22V270Z\" style=\"vector-effect: none; opacity: 1; stroke-width: 0.5px; fill: rgb(170, 150, 218); fill-opacity: 1; stroke: rgb(52, 73, 94); stroke-opacity: 1;\"/></g><g class=\"point\"><path d=\"M150.23,270V110.74H162.25V270Z\" style=\"vector-effect: none; opacity: 1; stroke-width: 0.5px; fill: rgb(170, 150, 218); fill-opacity: 1; stroke: rgb(52, 73, 94); stroke-opacity: 1;\"/></g><g class=\"point\"><path d=\"M174.27,270V94.81H186.29V270Z\" style=\"vector-effect: none; opacity: 1; stroke-width: 0.5px; fill: rgb(170, 150, 218); fill-opacity: 1; stroke: rgb(52, 73, 94); stroke-opacity: 1;\"/></g><g class=\"point\"><path d=\"M198.31,270V77.29H210.33V270Z\" style=\"vector-effect: none; opacity: 1; stroke-width: 0.5px; fill: rgb(170, 150, 218); fill-opacity: 1; stroke: rgb(52, 73, 94); stroke-opacity: 1;\"/></g><g class=\"point\"><path d=\"M222.35,270V58.02H234.37V270Z\" style=\"vector-effect: none; opacity: 1; stroke-width: 0.5px; fill: rgb(170, 150, 218); fill-opacity: 1; stroke: rgb(52, 73, 94); stroke-opacity: 1;\"/></g><g class=\"point\"><path d=\"M246.38,270V36.82H258.4V270Z\" style=\"vector-effect: none; opacity: 1; stroke-width: 0.5px; fill: rgb(170, 150, 218); fill-opacity: 1; stroke: rgb(52, 73, 94); stroke-opacity: 1;\"/></g><g class=\"point\"><path d=\"M270.42,270V13.5H282.44V270Z\" style=\"vector-effect: none; opacity: 1; stroke-width: 0.5px; fill: rgb(170, 150, 218); fill-opacity: 1; stroke: rgb(52, 73, 94); stroke-opacity: 1;\"/></g></g></g></g></g><g class=\"overplot\"/><path class=\"xlines-above crisp\" d=\"M0,0\" style=\"fill: none;\"/><path class=\"ylines-above crisp\" d=\"M0,0\" style=\"fill: none;\"/><g class=\"overlines-above\"/><g class=\"xaxislayer-above\"><g class=\"x2tick\"><text text-anchor=\"middle\" x=\"0\" y=\"383\" transform=\"translate(444.57,0)\" style=\"font-family: 'Open Sans', verdana, arial, sans-serif; font-size: 12px; fill: rgb(42, 63, 95); fill-opacity: 1; white-space: pre; opacity: 1;\">1</text></g><g class=\"x2tick\"><text text-anchor=\"middle\" x=\"0\" y=\"383\" style=\"font-family: 'Open Sans', verdana, arial, sans-serif; font-size: 12px; fill: rgb(42, 63, 95); fill-opacity: 1; white-space: pre; opacity: 1;\" transform=\"translate(468.61,0)\">2</text></g><g class=\"x2tick\"><text text-anchor=\"middle\" x=\"0\" y=\"383\" style=\"font-family: 'Open Sans', verdana, arial, sans-serif; font-size: 12px; fill: rgb(42, 63, 95); fill-opacity: 1; white-space: pre; opacity: 1;\" transform=\"translate(492.64,0)\">3</text></g><g class=\"x2tick\"><text text-anchor=\"middle\" x=\"0\" y=\"383\" style=\"font-family: 'Open Sans', verdana, arial, sans-serif; font-size: 12px; fill: rgb(42, 63, 95); fill-opacity: 1; white-space: pre; opacity: 1;\" transform=\"translate(516.6800000000001,0)\">4</text></g><g class=\"x2tick\"><text text-anchor=\"middle\" x=\"0\" y=\"383\" style=\"font-family: 'Open Sans', verdana, arial, sans-serif; font-size: 12px; fill: rgb(42, 63, 95); fill-opacity: 1; white-space: pre; opacity: 1;\" transform=\"translate(540.72,0)\">5</text></g><g class=\"x2tick\"><text text-anchor=\"middle\" x=\"0\" y=\"383\" style=\"font-family: 'Open Sans', verdana, arial, sans-serif; font-size: 12px; fill: rgb(42, 63, 95); fill-opacity: 1; white-space: pre; opacity: 1;\" transform=\"translate(564.76,0)\">6</text></g><g class=\"x2tick\"><text text-anchor=\"middle\" x=\"0\" y=\"383\" style=\"font-family: 'Open Sans', verdana, arial, sans-serif; font-size: 12px; fill: rgb(42, 63, 95); fill-opacity: 1; white-space: pre; opacity: 1;\" transform=\"translate(588.79,0)\">7</text></g><g class=\"x2tick\"><text text-anchor=\"middle\" x=\"0\" y=\"383\" style=\"font-family: 'Open Sans', verdana, arial, sans-serif; font-size: 12px; fill: rgb(42, 63, 95); fill-opacity: 1; white-space: pre; opacity: 1;\" transform=\"translate(612.83,0)\">8</text></g><g class=\"x2tick\"><text text-anchor=\"middle\" x=\"0\" y=\"383\" style=\"font-family: 'Open Sans', verdana, arial, sans-serif; font-size: 12px; fill: rgb(42, 63, 95); fill-opacity: 1; white-space: pre; opacity: 1;\" transform=\"translate(636.87,0)\">9</text></g><g class=\"x2tick\"><text text-anchor=\"middle\" x=\"0\" y=\"383\" style=\"font-family: 'Open Sans', verdana, arial, sans-serif; font-size: 12px; fill: rgb(42, 63, 95); fill-opacity: 1; white-space: pre; opacity: 1;\" transform=\"translate(660.9100000000001,0)\">10</text></g><g class=\"x2tick\"><text text-anchor=\"middle\" x=\"0\" y=\"383\" style=\"font-family: 'Open Sans', verdana, arial, sans-serif; font-size: 12px; fill: rgb(42, 63, 95); fill-opacity: 1; white-space: pre; opacity: 1;\" transform=\"translate(684.94,0)\">11</text></g><g class=\"x2tick\"><text text-anchor=\"middle\" x=\"0\" y=\"383\" style=\"font-family: 'Open Sans', verdana, arial, sans-serif; font-size: 12px; fill: rgb(42, 63, 95); fill-opacity: 1; white-space: pre; opacity: 1;\" transform=\"translate(708.98,0)\">12</text></g></g><g class=\"yaxislayer-above\"><g class=\"y2tick\"><text text-anchor=\"end\" x=\"431.55\" y=\"4.199999999999999\" transform=\"translate(0,370)\" style=\"font-family: 'Open Sans', verdana, arial, sans-serif; font-size: 12px; fill: rgb(42, 63, 95); fill-opacity: 1; white-space: pre; opacity: 1;\">0</text></g><g class=\"y2tick\"><text text-anchor=\"end\" x=\"431.55\" y=\"4.199999999999999\" style=\"font-family: 'Open Sans', verdana, arial, sans-serif; font-size: 12px; fill: rgb(42, 63, 95); fill-opacity: 1; white-space: pre; opacity: 1;\" transform=\"translate(0,307.57)\">500</text></g><g class=\"y2tick\"><text text-anchor=\"end\" x=\"431.55\" y=\"4.199999999999999\" style=\"font-family: 'Open Sans', verdana, arial, sans-serif; font-size: 12px; fill: rgb(42, 63, 95); fill-opacity: 1; white-space: pre; opacity: 1;\" transform=\"translate(0,245.14)\">1000</text></g><g class=\"y2tick\"><text text-anchor=\"end\" x=\"431.55\" y=\"4.199999999999999\" style=\"font-family: 'Open Sans', verdana, arial, sans-serif; font-size: 12px; fill: rgb(42, 63, 95); fill-opacity: 1; white-space: pre; opacity: 1;\" transform=\"translate(0,182.7)\">1500</text></g><g class=\"y2tick\"><text text-anchor=\"end\" x=\"431.55\" y=\"4.199999999999999\" style=\"font-family: 'Open Sans', verdana, arial, sans-serif; font-size: 12px; fill: rgb(42, 63, 95); fill-opacity: 1; white-space: pre; opacity: 1;\" transform=\"translate(0,120.27)\">2000</text></g></g><g class=\"overaxes-above\"/></g></g><g class=\"polarlayer\"/><g class=\"smithlayer\"/><g class=\"ternarylayer\"/><g class=\"geolayer\"/><g class=\"funnelarealayer\"/><g class=\"pielayer\"/><g class=\"iciclelayer\"/><g class=\"treemaplayer\"/><g class=\"sunburstlayer\"/><g class=\"glimages\"/><defs id=\"topdefs-321ceb\"><g class=\"clips\"/><clipPath id=\"legend321ceb\"><rect width=\"104\" height=\"48\" x=\"0\" y=\"0\"/></clipPath></defs><g class=\"layer-above\"><g class=\"imagelayer\"/><g class=\"shapelayer\"/></g><g class=\"infolayer\"><g class=\"legend\" pointer-events=\"all\" transform=\"translate(733.82,100)\"><rect class=\"bg\" shape-rendering=\"crispEdges\" width=\"104\" height=\"48\" x=\"0\" y=\"0\" style=\"stroke: rgb(68, 68, 68); stroke-opacity: 1; fill: rgb(255, 255, 255); fill-opacity: 1; stroke-width: 0px;\"/><g class=\"scrollbox\" transform=\"\" clip-path=\"url(#legend321ceb)\"><g class=\"groups\"><g class=\"traces\" transform=\"translate(0,14.5)\" style=\"opacity: 1;\"><text class=\"legendtext\" text-anchor=\"start\" x=\"40\" y=\"4.680000000000001\" style=\"font-family: 'Open Sans', verdana, arial, sans-serif; font-size: 12px; fill: rgb(42, 63, 95); fill-opacity: 1; white-space: pre;\">Contigo A</text><g class=\"layers\" style=\"opacity: 1;\"><g class=\"legendfill\"/><g class=\"legendlines\"/><g class=\"legendsymbols\"><g class=\"legendpoints\"><path class=\"legendundefined\" d=\"M6,6H-6V-6H6Z\" transform=\"translate(20,0)\" style=\"stroke-width: 0.5px; fill: rgb(173, 216, 230); fill-opacity: 1; stroke: rgb(52, 73, 94); stroke-opacity: 1;\"/></g></g></g><rect class=\"legendtoggle\" x=\"0\" y=\"-9.5\" width=\"98.484375\" height=\"19\" style=\"fill: rgb(0, 0, 0); fill-opacity: 0;\"/></g><g class=\"traces\" transform=\"translate(0,33.5)\" style=\"opacity: 1;\"><text class=\"legendtext\" text-anchor=\"start\" x=\"40\" y=\"4.680000000000001\" style=\"font-family: 'Open Sans', verdana, arial, sans-serif; font-size: 12px; fill: rgb(42, 63, 95); fill-opacity: 1; white-space: pre;\">Contigo B</text><g class=\"layers\" style=\"opacity: 1;\"><g class=\"legendfill\"/><g class=\"legendlines\"/><g class=\"legendsymbols\"><g class=\"legendpoints\"><path class=\"legendundefined\" d=\"M6,6H-6V-6H6Z\" transform=\"translate(20,0)\" style=\"stroke-width: 0.5px; fill: rgb(170, 150, 218); fill-opacity: 1; stroke: rgb(52, 73, 94); stroke-opacity: 1;\"/></g></g></g><rect class=\"legendtoggle\" x=\"0\" y=\"-9.5\" width=\"98.484375\" height=\"19\" style=\"fill: rgb(0, 0, 0); fill-opacity: 0;\"/></g></g></g><rect class=\"scrollbar\" rx=\"20\" ry=\"3\" width=\"0\" height=\"0\" x=\"0\" y=\"0\" style=\"fill: rgb(128, 139, 164); fill-opacity: 1;\"/></g><g class=\"g-gtitle\"><text class=\"gtitle\" x=\"42.5\" y=\"50\" text-anchor=\"start\" dy=\"0em\" style=\"font-family: 'Open Sans', verdana, arial, sans-serif; font-size: 17px; fill: rgb(42, 63, 95); opacity: 1; font-weight: normal; white-space: pre;\">Net Income by Loan Type</text></g><g class=\"g-xtitle\"><text class=\"xtitle\" x=\"224.225\" y=\"409.8\" text-anchor=\"middle\" style=\"font-family: 'Open Sans', verdana, arial, sans-serif; font-size: 14px; fill: rgb(42, 63, 95); opacity: 1; font-weight: normal; white-space: pre;\">Month</text></g><g class=\"g-x2title\"><text class=\"x2title\" x=\"576.775\" y=\"409.8\" text-anchor=\"middle\" style=\"font-family: 'Open Sans', verdana, arial, sans-serif; font-size: 14px; fill: rgb(42, 63, 95); opacity: 1; font-weight: normal; white-space: pre;\">Month</text></g><g class=\"g-ytitle\"><text class=\"ytitle\" transform=\"rotate(-90,15.137500000000003,235)\" x=\"15.137500000000003\" y=\"235\" text-anchor=\"middle\" style=\"font-family: 'Open Sans', verdana, arial, sans-serif; font-size: 14px; fill: rgb(42, 63, 95); opacity: 1; font-weight: normal; white-space: pre;\">Net Income (in mexican pesos)</text></g><g class=\"g-y2title\"/></g></svg>"
     },
     "metadata": {},
     "output_type": "display_data"
    }
   ],
   "source": [
    "loan_a = contigo_a_features.copy()\n",
    "loan_b = contigo_b_features.copy()\n",
    "\n",
    "loan_b[\"interest_rate\"] = 0.1033\n",
    "\n",
    "print(im.overall_results(loan_a,loan_b))\n",
    "im.visualize_results(loan_a,loan_b)"
   ]
  },
  {
   "attachments": {},
   "cell_type": "markdown",
   "metadata": {},
   "source": [
    "### Question 3"
   ]
  },
  {
   "attachments": {},
   "cell_type": "markdown",
   "metadata": {},
   "source": [
    "> What changes are required to sustain the business not only throughout the year but in the long run? Build a proposal of changes to main startup KPIs to achieve this goal. Discuss what difficulties the startup may find in applying your recommendation."
   ]
  },
  {
   "attachments": {},
   "cell_type": "markdown",
   "metadata": {},
   "source": [
    "To sustain the business not only throughout the year but in the long run, the startup should focus on:\n",
    "- Improving the credit risk assessment process to reduce the DQ rates.\n",
    "- Diversify the revenue stream and reduce reliance on a single product.\n",
    "\n",
    "Overall, the startup should aim to diversify their income to prevent dependence on a single product for their income.\n",
    "\n",
    "KPI:\n",
    "- Interest-to-Delinquency:\n",
    "\n",
    "    * $\\frac {InterestRate}{DelinquencyRate} \\ge 1.24$ for Contigo A\n",
    "\n",
    "    * $\\frac {InterestRate}{DelinquencyRate} \\ge 1.30$ for Contigo B"
   ]
  }
 ],
 "metadata": {
  "kernelspec": {
   "display_name": "storis-ba-assessment",
   "language": "python",
   "name": "python3"
  },
  "language_info": {
   "codemirror_mode": {
    "name": "ipython",
    "version": 3
   },
   "file_extension": ".py",
   "mimetype": "text/x-python",
   "name": "python",
   "nbconvert_exporter": "python",
   "pygments_lexer": "ipython3",
   "version": "3.11.0"
  },
  "orig_nbformat": 4,
  "vscode": {
   "interpreter": {
    "hash": "87d9e5e2413174db98a5b704a9599a6a00bdd2de178b3b9621c98a6e834be606"
   }
  }
 },
 "nbformat": 4,
 "nbformat_minor": 2
}

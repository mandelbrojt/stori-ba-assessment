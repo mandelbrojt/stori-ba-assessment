{
 "cells": [
  {
   "attachments": {},
   "cell_type": "markdown",
   "metadata": {},
   "source": [
    "# Analysis of the State of the Business"
   ]
  },
  {
   "attachments": {},
   "cell_type": "markdown",
   "metadata": {},
   "source": [
    "## Credit Product Diagram\n",
    "\n",
    "<img src=\"https://i.imgur.com/B7NvEKb.png\">"
   ]
  },
  {
   "attachments": {},
   "cell_type": "markdown",
   "metadata": {},
   "source": [
    "> **Note**: Past debt delinquency rates (DQ) have determined the interest rates for the Contigo product. \n",
    ">\n",
    "> The monthly DQ rates for each Contigo loan type is an estimation that holds throught this year."
   ]
  },
  {
   "cell_type": "code",
   "execution_count": 5,
   "metadata": {},
   "outputs": [],
   "source": [
    "# Contigo A loan features\n",
    "CA_features = {\n",
    "    \"loan_amount_mxn\":1000,\n",
    "    \"payment_term_in_months\":1,\n",
    "    \"monthly_interest_rate\":0.15,\n",
    "    \"monthly_dq_rate\":0.135\n",
    "}\n",
    "\n",
    "# Contigo B loan features\n",
    "CB_features = {\n",
    "    \"loan_amount_mxn\":2000,\n",
    "    \"payment_term_in_months\":1,\n",
    "    \"monthly_interest_rate\":0.1,\n",
    "    \"monthly_dq_rate\":0.08\n",
    "}"
   ]
  },
  {
   "cell_type": "code",
   "execution_count": 6,
   "metadata": {},
   "outputs": [],
   "source": [
    "# Amount of customers/accounts per loan type on the first month\n",
    "CA_accounts = 5000\n",
    "\n",
    "CB_accounts = 10000"
   ]
  },
  {
   "cell_type": "code",
   "execution_count": 7,
   "metadata": {},
   "outputs": [],
   "source": [
    "# Estimated growth rates per loan type\n",
    "CA_growth_rate_mom = 0.25\n",
    "\n",
    "CB_growth_rate_mom = 0.1"
   ]
  }
 ],
 "metadata": {
  "kernelspec": {
   "display_name": "Python 3",
   "language": "python",
   "name": "python3"
  },
  "language_info": {
   "codemirror_mode": {
    "name": "ipython",
    "version": 3
   },
   "file_extension": ".py",
   "mimetype": "text/x-python",
   "name": "python",
   "nbconvert_exporter": "python",
   "pygments_lexer": "ipython3",
   "version": "3.9.7"
  },
  "orig_nbformat": 4,
  "vscode": {
   "interpreter": {
    "hash": "aee8b7b246df8f9039afb4144a1f6fd8d2ca17a180786b69acc140d282b71a49"
   }
  }
 },
 "nbformat": 4,
 "nbformat_minor": 2
}

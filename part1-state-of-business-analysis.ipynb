{
 "cells": [
  {
   "attachments": {},
   "cell_type": "markdown",
   "metadata": {},
   "source": [
    "# Analysis of the State of the Business"
   ]
  },
  {
   "attachments": {},
   "cell_type": "markdown",
   "metadata": {},
   "source": [
    "## Credit Product Diagram\n",
    "\n",
    "<img src=\"https://i.imgur.com/B7NvEKb.png\">"
   ]
  },
  {
   "attachments": {},
   "cell_type": "markdown",
   "metadata": {},
   "source": [
    "> **Note**: Past debt delinquency rates (DQ) have determined the interest rates for the Contigo product. \n",
    ">\n",
    "> The monthly DQ rates for each Contigo loan type is an estimation that holds throught this year."
   ]
  },
  {
   "cell_type": "code",
   "execution_count": 6,
   "metadata": {},
   "outputs": [],
   "source": [
    "# Contigo A loan features\n",
    "CA_features = {\n",
    "    \"loan_amount\":1000,\n",
    "    \"term\":1,\n",
    "    \"interest_rate\":0.15,\n",
    "    \"delinquency_rate\":0.135\n",
    "}\n",
    "\n",
    "# Contigo B loan features\n",
    "CB_features = {\n",
    "    \"loan_amount\":2000,\n",
    "    \"term\":1,\n",
    "    \"interest_rate\":0.1,\n",
    "    \"delinquency_rate\":0.08\n",
    "}"
   ]
  },
  {
   "attachments": {},
   "cell_type": "markdown",
   "metadata": {},
   "source": [
    "> **Note**: Payment term, interest rate and delinquency rate have a monthly frequency."
   ]
  },
  {
   "cell_type": "code",
   "execution_count": 2,
   "metadata": {},
   "outputs": [],
   "source": [
    "# Amount of customers/accounts per loan type on the first month\n",
    "CA_accounts = 5000\n",
    "CB_accounts = 10000"
   ]
  },
  {
   "cell_type": "code",
   "execution_count": 14,
   "metadata": {},
   "outputs": [],
   "source": [
    "# Estimated month-over-month growth rates per loan type\n",
    "CA_growth_rate_MoM = 0.25\n",
    "CB_growth_rate_MoM = 0.1"
   ]
  },
  {
   "attachments": {},
   "cell_type": "markdown",
   "metadata": {},
   "source": [
    "> **Task**: The startup is concerned that the change in DQ rates and the aggressive expansion may reduce\n",
    "profitability in the following months, so they asked you to **make a forecast on the net income of its\n",
    "operation (ignoring taxes) in the next 12 months**."
   ]
  },
  {
   "attachments": {},
   "cell_type": "markdown",
   "metadata": {},
   "source": [
    "<img src=\"https://i.imgur.com/INJUZZY.png\">"
   ]
  },
  {
   "cell_type": "code",
   "execution_count": 9,
   "metadata": {},
   "outputs": [],
   "source": [
    "# Compute the monthly gross income per account for Contigo A\n",
    "CA_gross_income_pa = CA_features[\"loan_amount\"]*CA_features[\"term\"]*CA_features[\"interest_rate\"]*(1-CA_features[\"delinquency_rate\"])\n",
    "\n",
    "# Compute the monthly gross income per account for Contigo B\n",
    "CB_gross_income_pa = CB_features[\"loan_amount\"]*CB_features[\"term\"]*CB_features[\"interest_rate\"]*(1-CB_features[\"delinquency_rate\"])"
   ]
  },
  {
   "cell_type": "code",
   "execution_count": 13,
   "metadata": {},
   "outputs": [
    {
     "name": "stdout",
     "output_type": "stream",
     "text": [
      "The monthly gross income per account for Contigo A is: 129.75 MXN\n",
      "The monthly gross income per account for Contigo B is: 184.0 MXN\n"
     ]
    }
   ],
   "source": [
    "print(f\"The monthly gross income per account for Contigo A is: {CA_gross_income_pa} MXN\")\n",
    "print(f\"The monthly gross income per account for Contigo B is: {CB_gross_income_pa} MXN\")"
   ]
  },
  {
   "cell_type": "code",
   "execution_count": 59,
   "metadata": {},
   "outputs": [],
   "source": [
    "import numpy as np\n",
    "import math"
   ]
  },
  {
   "cell_type": "code",
   "execution_count": 61,
   "metadata": {},
   "outputs": [],
   "source": [
    "def compute_accounts(initial_accounts: int, growth_rate: float, num_months=12):\n",
    "    \"\"\"Computes the number of accounts during 12 months based on a specific MoM growth rate\"\"\"\n",
    "    return [math.floor(initial_accounts * (1+ growth_rate) ** i) for i in range(num_months)]    "
   ]
  },
  {
   "cell_type": "code",
   "execution_count": 73,
   "metadata": {},
   "outputs": [],
   "source": [
    "CA_accounts_MoM = np.array(compute_accounts(CA_accounts, CA_growth_rate_MoM))\n",
    "CB_accounts_MoM = np.array(compute_accounts(CB_accounts, CB_growth_rate_MoM))"
   ]
  },
  {
   "cell_type": "code",
   "execution_count": 74,
   "metadata": {},
   "outputs": [],
   "source": [
    "CA_gross_income_MoM = CA_accounts_MoM * CA_gross_income_pa\n",
    "CB_gross_income_MoM = CB_accounts_MoM * CB_gross_income_pa"
   ]
  },
  {
   "cell_type": "code",
   "execution_count": 75,
   "metadata": {},
   "outputs": [
    {
     "data": {
      "text/plain": [
       "array([ 648750.  ,  810937.5 , 1013607.  , 1267008.75, 1583858.25,\n",
       "       1979725.5 , 2474721.75, 3093369.75, 3866809.5 , 4833447.  ,\n",
       "       6041938.5 , 7552358.25])"
      ]
     },
     "execution_count": 75,
     "metadata": {},
     "output_type": "execute_result"
    }
   ],
   "source": [
    "CA_gross_income_MoM"
   ]
  },
  {
   "cell_type": "code",
   "execution_count": 76,
   "metadata": {},
   "outputs": [
    {
     "data": {
      "text/plain": [
       "array([1840000., 2024000., 2226400., 2449040., 2693944., 2963320.,\n",
       "       3259560., 3585608., 3944040., 4338536., 4772408., 5249704.])"
      ]
     },
     "execution_count": 76,
     "metadata": {},
     "output_type": "execute_result"
    }
   ],
   "source": [
    "CB_gross_income_MoM"
   ]
  }
 ],
 "metadata": {
  "kernelspec": {
   "display_name": "storis-ba-assessment",
   "language": "python",
   "name": "python3"
  },
  "language_info": {
   "codemirror_mode": {
    "name": "ipython",
    "version": 3
   },
   "file_extension": ".py",
   "mimetype": "text/x-python",
   "name": "python",
   "nbconvert_exporter": "python",
   "pygments_lexer": "ipython3",
   "version": "3.11.0"
  },
  "orig_nbformat": 4,
  "vscode": {
   "interpreter": {
    "hash": "87d9e5e2413174db98a5b704a9599a6a00bdd2de178b3b9621c98a6e834be606"
   }
  }
 },
 "nbformat": 4,
 "nbformat_minor": 2
}

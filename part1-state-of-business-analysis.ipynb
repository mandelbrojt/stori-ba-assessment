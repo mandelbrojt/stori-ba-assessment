{
 "cells": [
  {
   "attachments": {},
   "cell_type": "markdown",
   "metadata": {},
   "source": [
    "# State of the Business Analysis"
   ]
  },
  {
   "attachments": {},
   "cell_type": "markdown",
   "metadata": {},
   "source": [
    "## Case Description\n",
    "\n",
    "You are a BA working for a startup that has one credit product called **Contigo**. Depending on risk, the customer will receive:\n",
    "1. Contigo A, a 1,000 peso loan to be paid in full after one month with 15% interest. This product is given to high risk customers.\n",
    "2. Contigo B, a 2,000 peso loan to be paid in full after one month with 10% interest. This product is given to low risk customers.\n",
    "\n",
    "Past debt delinquency (DQ) rates have determined the interest rates for the Contigo product. However, it is estimated that the monthly DQ rate for Contigo A will be 13.5% and 8% for Contigo B, throughout this year.\n",
    "\n",
    "Ignoring the worsening of DQ rates, this startup has an ambitious growth plan for the year. At month 1,\n",
    "the company had a total of 5,000 Contigo A customers, expected to grow at a rate of 25% month over\n",
    "month. Contigo B has the largest share of customers, 10,000 in total. But with a very competitive market\n",
    "for premium loans, Contigo B is expected to grow at a 10% month over month rate throughout the year.\n",
    "\n",
    "The operation of this startup scales proportionately to its customer base, with negligible fixed expenses. The current operative monthly cost per account sits at 30 pesos.\n",
    "\n",
    "The startup is concerned that the change in DQ rates and the aggressive expansion may reduce profitability in the following months, so they asked you to make a forecast on the net income of its operation (ignoring taxes) in the next 12 months."
   ]
  },
  {
   "attachments": {},
   "cell_type": "markdown",
   "metadata": {},
   "source": [
    "### Loan Types Diagram\n",
    "\n",
    "<img \n",
    "    src=\"https://i.imgur.com/B7NvEKb.png\"\n",
    "    height=300\n",
    "    width=650\n",
    "/>"
   ]
  },
  {
   "attachments": {},
   "cell_type": "markdown",
   "metadata": {},
   "source": [
    "## Calculations"
   ]
  },
  {
   "attachments": {},
   "cell_type": "markdown",
   "metadata": {},
   "source": [
    "The following sections shows the calculations that were done on every step to forecast the net income during the next 12 months."
   ]
  },
  {
   "cell_type": "code",
   "execution_count": 996,
   "metadata": {},
   "outputs": [],
   "source": [
    "# Import required libraries and modules\n",
    "import numpy as np\n",
    "import math\n",
    "import pandas as pd\n",
    "import plotly.express as px"
   ]
  },
  {
   "attachments": {},
   "cell_type": "markdown",
   "metadata": {},
   "source": [
    "The `contigo_a_features` and `contigo_b_features` are Python dictionaries that store all the features for Contigo A and B, respectively. By modifying theses features the user can run the whole notebook and see the changes on the net income."
   ]
  },
  {
   "cell_type": "code",
   "execution_count": 997,
   "metadata": {},
   "outputs": [],
   "source": [
    "# Contigo A loan features\n",
    "contigo_a_features = {\n",
    "    \"loan_amt\":1000,\n",
    "    \"loan_term\":1,\n",
    "    \"interest_rate\":0.15,\n",
    "    \"delinquency_rate\":0.135,\n",
    "    \"initial_num_accounts\":5000,\n",
    "    \"account_growth_mom\":0.25,\n",
    "    \"op_cost_per_acct\":10\n",
    "}\n",
    "\n",
    "# Contigo B loan features\n",
    "contigo_b_features = {\n",
    "    \"loan_amt\":2000,\n",
    "    \"loan_term\":1,\n",
    "    \"interest_rate\":0.10,\n",
    "    \"delinquency_rate\":0.08,\n",
    "    \"initial_num_accounts\":10000,\n",
    "    \"account_growth_mom\":0.10,\n",
    "    \"op_cost_per_acct\":30\n",
    "}"
   ]
  },
  {
   "attachments": {},
   "cell_type": "markdown",
   "metadata": {},
   "source": [
    "Where:\n",
    "\n",
    "- **loan_amt**: The loan amount in mexican pesos.\n",
    "- **loan_term**: The number of months to pay the loan amount in full.\n",
    "- **interest_rate**: The monthly interest rate.\n",
    "- **delinquency_rate**: The monthly estimated delinquency rate throughout the year.\n",
    "- **initial_num_accounts**: The number of accounts/customers for the first month.\n",
    "- **account_growth_mom**: The estimated growth rate for the accounts month-over-month.\n",
    "- **op_cost_per_acct**: The current operative monthly cost per account in mexican pesos."
   ]
  },
  {
   "attachments": {},
   "cell_type": "markdown",
   "metadata": {},
   "source": [
    "### Step 1: Calculating Accounts\n",
    "\n",
    "The following function simplifies the calculations to get the total number of accounts for each month during the next 12 months. \n",
    "\n",
    "It uses `math.floor` to round down the accounts to the nearest whole number because the number of accounts is a **discrete variable**.\n",
    "\n",
    "> **Note**: The goal of using this function is to reduce the amount of lines of codes."
   ]
  },
  {
   "cell_type": "code",
   "execution_count": 998,
   "metadata": {},
   "outputs": [],
   "source": [
    "def compute_accounts(initial_accounts: int, growth_rate: float, num_months=12):\n",
    "    \"\"\"Computes the number of accounts by each month during a period of 12 months given a MoM growth rate\"\"\"\n",
    "    return [math.floor(initial_accounts * (1+ growth_rate) ** i) for i in range(num_months)]    "
   ]
  },
  {
   "attachments": {},
   "cell_type": "markdown",
   "metadata": {},
   "source": [
    "The total number of accounts for Contigo A and B are stored as **numpy** arrays to allow for **element-wise operations**."
   ]
  },
  {
   "cell_type": "code",
   "execution_count": 999,
   "metadata": {},
   "outputs": [],
   "source": [
    "# Number of accounts month-over-month of Contigo A\n",
    "contigo_a_accounts_mom = \\\n",
    "    np.array(compute_accounts(contigo_a_features[\"initial_num_accounts\"], contigo_a_features[\"account_growth_mom\"]))\n",
    "\n",
    "# Number of accounts month-over-month of Contigo B\n",
    "contigo_b_accounts_mom = \\\n",
    "    np.array(compute_accounts(contigo_b_features[\"initial_num_accounts\"], contigo_b_features[\"account_growth_mom\"]))"
   ]
  },
  {
   "attachments": {},
   "cell_type": "markdown",
   "metadata": {},
   "source": [
    "### Step 2: Claculating Delinquency Accounts\n",
    "\n",
    "The number of delinquency accounts are calculated by multiplying the number of accounts of each month by the delinquency rate.\n",
    "\n",
    "The delinquency accounts represent the number of accounts whose payments were not made.\n",
    "\n",
    "**Formula**:\n",
    "$$DelinquencyAccounts = NumberOfAccounts \\times DelinquencyRate$$"
   ]
  },
  {
   "cell_type": "code",
   "execution_count": 1000,
   "metadata": {},
   "outputs": [],
   "source": [
    "# Number of delinquency accounts month-over-month of Contigo A\n",
    "contigo_a_delinq_accts_mom = contigo_a_accounts_mom * contigo_a_features[\"delinquency_rate\"]\n",
    "\n",
    "# Round down every element in the array to the nearest whole number\n",
    "contigo_a_delinq_accts_mom = np.floor(contigo_a_delinq_accts_mom)\n",
    "\n",
    "# Number of delinquency accounts month-over-month of Contigo B\n",
    "contigo_b_delinq_accts_mom = contigo_b_accounts_mom * contigo_b_features[\"delinquency_rate\"]\n",
    "\n",
    "# Round down every element in the array to the nearest whole number\n",
    "contigo_b_delinq_accts_mom = np.floor(contigo_b_delinq_accts_mom)"
   ]
  },
  {
   "attachments": {},
   "cell_type": "markdown",
   "metadata": {},
   "source": [
    "### Step 3: Interest Revenue\n",
    "\n",
    "In this step a function is defined to first calculate the interest revenue **per account** (without considering the customers whose payments were not made), and then multiplies this value by each number of accounts on every month.\n",
    "\n",
    "The interest revenue represent the amount of interests that were collected from the customers whose payments were made.\n",
    "\n",
    "**Formula**:\n",
    "$$InterestRevenuePerAccount = LoanAmount \\times InterestRate \\times LoanTerm \\times (1 - DelinquencyRate)$$\n",
    "\n",
    "$$TotalInterestRevenue = NumberOfAccounts \\times InterestRevenuePerAccount$$\n",
    "\n",
    "> **Note**: The goal of using this function is to reduce the amount of lines of codes."
   ]
  },
  {
   "cell_type": "code",
   "execution_count": 1001,
   "metadata": {},
   "outputs": [],
   "source": [
    "def compute_interest_rev(loan_feats: dict, loan_accounts_mom):\n",
    "    \"\"\"Computes the interest revenue by each month during a period of 12 months\"\"\"\n",
    "    interest_revenue_per_account = \\\n",
    "        loan_feats[\"loan_amt\"]*loan_feats[\"interest_rate\"]*loan_feats[\"loan_term\"]*(1-loan_feats[\"delinquency_rate\"])\n",
    "    return loan_accounts_mom * interest_revenue_per_account"
   ]
  },
  {
   "cell_type": "code",
   "execution_count": 1002,
   "metadata": {},
   "outputs": [],
   "source": [
    "# Interest revenue month-over-month of Contigo A\n",
    "contigo_a_interest_rev_mom = compute_interest_rev(contigo_a_features, contigo_a_accounts_mom)\n",
    "\n",
    "# Interest revenue month-over-month of Contigo B\n",
    "contigo_b_interest_rev_mom = compute_interest_rev(contigo_b_features, contigo_b_accounts_mom)"
   ]
  },
  {
   "attachments": {},
   "cell_type": "markdown",
   "metadata": {},
   "source": [
    "### Step 4: Delinquency Losses\n",
    "\n",
    "The delinquency losses are calculated by multiplying the number of delinquent accounts per month by the loan amount.\n",
    "\n",
    "The delinquency loss represents the loan amount that was uncollected during the month.\n",
    "\n",
    "**Formula**:\n",
    "$$DelinquencyLoss = DelinquentAccounts \\times LoanAmount$$"
   ]
  },
  {
   "cell_type": "code",
   "execution_count": 1003,
   "metadata": {},
   "outputs": [],
   "source": [
    "# Delinquency loss month-over-month of Contigo A\n",
    "contigo_a_delinq_loss_mom = contigo_a_delinq_accts_mom * contigo_a_features[\"loan_amt\"]\n",
    "\n",
    "# Delinquency loss month-over-month of Contigo B\n",
    "contigo_b_delinq_loss_mom = contigo_b_delinq_accts_mom * contigo_b_features[\"loan_amt\"]"
   ]
  },
  {
   "attachments": {},
   "cell_type": "markdown",
   "metadata": {},
   "source": [
    "### Step 5: Operative Cost\n",
    "\n",
    "The operative cost is calculated by multiplying the number of accounts of each month by the operating cost of the loan product.\n",
    "\n",
    "The operative cost for this startup represents the expenses incurred to maintain the loan accounts.\n",
    "\n",
    "**Formula**:\n",
    "$$OperativeCost = TotalAccounts \\times CostPerAccount$$"
   ]
  },
  {
   "cell_type": "code",
   "execution_count": 1004,
   "metadata": {},
   "outputs": [],
   "source": [
    "# Operative cost month-over-month of Contigo A\n",
    "contigo_a_op_cost_mom = contigo_a_accounts_mom * contigo_a_features[\"op_cost_per_acct\"]\n",
    "\n",
    "# Operative cost month-over-month of Contigo B\n",
    "contigo_b_op_cost_mom = contigo_b_accounts_mom * contigo_b_features[\"op_cost_per_acct\"]"
   ]
  },
  {
   "attachments": {},
   "cell_type": "markdown",
   "metadata": {},
   "source": [
    "### Step 6: Net Income\n",
    "\n",
    "The net income is calculated by subtracting the total operative costs and delinquency losses from the interest collected from customers whose payments were made.\n",
    "\n",
    "For this startup, the net income represents the amount of money that the startup has after paying all of its costs and expenses but before paying taxes.\n",
    "\n",
    "**Formula**:\n",
    "\n",
    "$$NetIncome = InterestRevenue - OperativeCost - DelinquencyLoss$$"
   ]
  },
  {
   "cell_type": "code",
   "execution_count": 1005,
   "metadata": {},
   "outputs": [],
   "source": [
    "# Net income month-over-month of Contigo A\n",
    "contigo_a_net_income_mom = contigo_a_interest_rev_mom - contigo_a_op_cost_mom - contigo_a_delinq_loss_mom\n",
    "\n",
    "# Net income month-over-month of Contigo B\n",
    "contigo_b_net_income_mom = contigo_b_interest_rev_mom - contigo_b_op_cost_mom - contigo_b_delinq_loss_mom"
   ]
  },
  {
   "attachments": {},
   "cell_type": "markdown",
   "metadata": {},
   "source": [
    "### Step 7: Showing Results in Tabular Format\n",
    "\n",
    "In this step all of the previous variables are used to create a table by using pandas `DataFrame`."
   ]
  },
  {
   "cell_type": "code",
   "execution_count": 1006,
   "metadata": {},
   "outputs": [],
   "source": [
    "# Maps column names to values\n",
    "cols_to_values = {\n",
    "    \"month\":np.concatenate((np.arange(1,13), np.arange(1,13))),\n",
    "    \"loan_type\":[\"Contigo A\"] * 12 + [\"Contigo B\"] * 12,\n",
    "    \"accounts\":np.concatenate((contigo_a_accounts_mom, contigo_b_accounts_mom)),\n",
    "    \"delinquency_accounts\":np.concatenate((contigo_a_delinq_accts_mom, contigo_b_delinq_accts_mom)),\n",
    "    \"interest_revenue\":np.concatenate((contigo_a_interest_rev_mom, contigo_b_interest_rev_mom)),\n",
    "    \"delinquency_loss\":np.concatenate((contigo_a_delinq_loss_mom, contigo_b_delinq_loss_mom)),\n",
    "    \"operative_costs\":np.concatenate((contigo_a_op_cost_mom, contigo_b_op_cost_mom)),\n",
    "    \"net_income\":np.concatenate((contigo_a_net_income_mom, contigo_b_net_income_mom))\n",
    "}\n",
    "\n",
    "# Creates a DataFrame with the results of Contigo loans\n",
    "income_results = pd.DataFrame(cols_to_values)\n",
    "\n",
    "# Converts loan type column to a categorical data type\n",
    "income_results[\"loan_type\"] = pd.Categorical(income_results.loan_type)\n",
    "\n",
    "# Converts delinquency accounts to an integer data type\n",
    "income_results[\"delinquency_accounts\"] = income_results.delinquency_accounts.astype(\"int\")"
   ]
  },
  {
   "cell_type": "code",
   "execution_count": 1007,
   "metadata": {},
   "outputs": [
    {
     "name": "stdout",
     "output_type": "stream",
     "text": [
      "<class 'pandas.core.frame.DataFrame'>\n",
      "RangeIndex: 24 entries, 0 to 23\n",
      "Data columns (total 8 columns):\n",
      " #   Column                Non-Null Count  Dtype   \n",
      "---  ------                --------------  -----   \n",
      " 0   month                 24 non-null     int64   \n",
      " 1   loan_type             24 non-null     category\n",
      " 2   accounts              24 non-null     int64   \n",
      " 3   delinquency_accounts  24 non-null     int64   \n",
      " 4   interest_revenue      24 non-null     float64 \n",
      " 5   delinquency_loss      24 non-null     float64 \n",
      " 6   operative_costs       24 non-null     int64   \n",
      " 7   net_income            24 non-null     float64 \n",
      "dtypes: category(1), float64(3), int64(4)\n",
      "memory usage: 1.6 KB\n"
     ]
    }
   ],
   "source": [
    "income_results.info()"
   ]
  },
  {
   "attachments": {},
   "cell_type": "markdown",
   "metadata": {},
   "source": [
    "### Step 8: Exporting Results\n",
    "\n",
    "In this step the previous table is exported to a `.csv` file in case the user needs to share the results."
   ]
  },
  {
   "cell_type": "code",
   "execution_count": 1008,
   "metadata": {},
   "outputs": [],
   "source": [
    "# Export results to a CSV file\n",
    "income_results.to_csv(\"./income_results.csv\", index=False)"
   ]
  },
  {
   "attachments": {},
   "cell_type": "markdown",
   "metadata": {},
   "source": [
    "## Answering Questions"
   ]
  },
  {
   "cell_type": "code",
   "execution_count": 1009,
   "metadata": {},
   "outputs": [],
   "source": [
    "# Create a column with the quarter number based on the month number\n",
    "income_results[\"quarter\"] = pd.PeriodIndex(pd.to_datetime(income_results[\"month\"], format=\"%m\"), freq=\"Q\").strftime(\"Q%q\")"
   ]
  },
  {
   "attachments": {},
   "cell_type": "markdown",
   "metadata": {},
   "source": [
    "### Question 1\n",
    "\n",
    "> What factors may be against the profitability of the startup? What should we look at in an analysis of the net income for the following months?"
   ]
  },
  {
   "attachments": {},
   "cell_type": "markdown",
   "metadata": {},
   "source": [
    "#### Factors Against Profitability\n",
    "\n",
    "1. **Delinquency Rates**: One of the main factors that can negatively impact the profitability of the startup is high delinquency rates of their products. The startup should aim to maintain a wide gap between interest rates and delinquency rates, ensuring that the delinquency rate never exceeds the interest rate.\n",
    "2. **Customer Growth Rate**: Adding more customers increases the risk exposure, so the startup should pursue aggressive growth strategies when delinquency rates are low and less aggressive growth strategies when delinquency rates are high.\n",
    "3. **Operating Expenses**: Another factor that can play against profitability is the expense of account management, such as spending too much on collection efforts due to unnecessary or expensive communication channels with customers or higher prices of required account management software.\n",
    "4. **Policy Rates**: A higher policy rate could reduce the demand for loans and potentially reduce the interest revenue for the startup. It could also negatively affect some customers as they will need to pay more for their loans, increasing the potential loss of principal and interest during each period. The startup could hedge against rate hikes by using interest rate swaps or interest rate futures.\n",
    "\n",
    "Overall, the startup should aim to diversify their income to prevent dependence on a single product for their income."
   ]
  },
  {
   "attachments": {},
   "cell_type": "markdown",
   "metadata": {},
   "source": [
    "### Question 2"
   ]
  },
  {
   "attachments": {},
   "cell_type": "markdown",
   "metadata": {},
   "source": [
    "> Is this startup going to be profitable during the next 12 months? \n",
    ">\n",
    "> What are the major trends driving changes in net income? \n",
    ">\n",
    "> Provide a model for net income and forecast it for the next 12 months. \n",
    ">\n",
    ">> **Note**: Losses come from the total debt not being repaid, and revenue comes from collected interest. We will only consider operation costs as expenses."
   ]
  },
  {
   "attachments": {},
   "cell_type": "markdown",
   "metadata": {},
   "source": [
    "Based on the initial loan features for Contigo A and Contigo B loans, the startup is not profitable due to high delinquency rates for both types of loans.\n",
    "\n",
    "The startup could reach profitability in the following scenarios:\n",
    "- `Delinquency Rate <= 12.3%` for Contigo A, with a net income of **$234,371.05**, if everything else stays the same.\n",
    "- `Delinquency Rate <= 7.7%` for Contigo B, with a net income of **$137,664.00**, if everything else stays the same.\n",
    "- `Interest Rate >= 16.80%` for Contigo A, with a net income of **$93,185.56**, if everything else stays the same.\n",
    "- `Interest Rate >= 10.40%` for Contigo B, with a net income of **$301,222.40**, if everything else stays the same."
   ]
  },
  {
   "attachments": {},
   "cell_type": "markdown",
   "metadata": {},
   "source": [
    "#### Total Results"
   ]
  },
  {
   "cell_type": "code",
   "execution_count": 1010,
   "metadata": {},
   "outputs": [
    {
     "data": {
      "text/html": [
       "<div>\n",
       "<style scoped>\n",
       "    .dataframe tbody tr th:only-of-type {\n",
       "        vertical-align: middle;\n",
       "    }\n",
       "\n",
       "    .dataframe tbody tr th {\n",
       "        vertical-align: top;\n",
       "    }\n",
       "\n",
       "    .dataframe thead th {\n",
       "        text-align: right;\n",
       "    }\n",
       "</style>\n",
       "<table border=\"1\" class=\"dataframe\">\n",
       "  <thead>\n",
       "    <tr style=\"text-align: right;\">\n",
       "      <th>loan_type</th>\n",
       "      <th>Contigo A</th>\n",
       "      <th>Contigo B</th>\n",
       "      <th>Total</th>\n",
       "    </tr>\n",
       "  </thead>\n",
       "  <tbody>\n",
       "    <tr>\n",
       "      <th>interest_revenue</th>\n",
       "      <td>35,166,531.75</td>\n",
       "      <td>39,346,560.00</td>\n",
       "      <td>74,513,091.75</td>\n",
       "    </tr>\n",
       "    <tr>\n",
       "      <th>delinquency_loss</th>\n",
       "      <td>36,583,000.00</td>\n",
       "      <td>34,204,000.00</td>\n",
       "      <td>70,787,000.00</td>\n",
       "    </tr>\n",
       "    <tr>\n",
       "      <th>operative_costs</th>\n",
       "      <td>2,710,330.00</td>\n",
       "      <td>6,415,200.00</td>\n",
       "      <td>9,125,530.00</td>\n",
       "    </tr>\n",
       "    <tr>\n",
       "      <th>net_income</th>\n",
       "      <td>-4,126,798.25</td>\n",
       "      <td>-1,272,640.00</td>\n",
       "      <td>-5,399,438.25</td>\n",
       "    </tr>\n",
       "  </tbody>\n",
       "</table>\n",
       "</div>"
      ],
      "text/plain": [
       "loan_type             Contigo A      Contigo B          Total\n",
       "interest_revenue  35,166,531.75  39,346,560.00  74,513,091.75\n",
       "delinquency_loss  36,583,000.00  34,204,000.00  70,787,000.00\n",
       "operative_costs    2,710,330.00   6,415,200.00   9,125,530.00\n",
       "net_income        -4,126,798.25  -1,272,640.00  -5,399,438.25"
      ]
     },
     "execution_count": 1010,
     "metadata": {},
     "output_type": "execute_result"
    }
   ],
   "source": [
    "# Select financial metrics from startup results\n",
    "selected_cols = [\"loan_type\",\"interest_revenue\",\"delinquency_loss\",\"operative_costs\",\"net_income\"]\n",
    "\n",
    "# Group income_results by loan_type, sum columns, and transpose the result\n",
    "results_by_loan_type = income_results[selected_cols].groupby(\"loan_type\").sum().T\n",
    "\n",
    "# Add a new column \"Total\" by summing results from Contigo A and Contigo B\n",
    "results_by_loan_type[\"Total\"] = results_by_loan_type[\"Contigo A\"] + results_by_loan_type[\"Contigo B\"]\n",
    "\n",
    "# Format numbers to have commas per thousand and two decimals\n",
    "results_by_loan_type = results_by_loan_type.applymap(lambda x: \"{:,.2f}\".format(x))\n",
    "\n",
    "# Print table\n",
    "results_by_loan_type"
   ]
  },
  {
   "attachments": {},
   "cell_type": "markdown",
   "metadata": {},
   "source": [
    "#### Quarterly Results"
   ]
  },
  {
   "cell_type": "code",
   "execution_count": 1011,
   "metadata": {},
   "outputs": [
    {
     "data": {
      "text/html": [
       "<div>\n",
       "<style scoped>\n",
       "    .dataframe tbody tr th:only-of-type {\n",
       "        vertical-align: middle;\n",
       "    }\n",
       "\n",
       "    .dataframe tbody tr th {\n",
       "        vertical-align: top;\n",
       "    }\n",
       "\n",
       "    .dataframe thead tr th {\n",
       "        text-align: left;\n",
       "    }\n",
       "</style>\n",
       "<table border=\"1\" class=\"dataframe\">\n",
       "  <thead>\n",
       "    <tr>\n",
       "      <th>loan_type</th>\n",
       "      <th colspan=\"4\" halign=\"left\">Contigo A</th>\n",
       "      <th colspan=\"4\" halign=\"left\">Contigo B</th>\n",
       "    </tr>\n",
       "    <tr>\n",
       "      <th>quarter</th>\n",
       "      <th>Q1</th>\n",
       "      <th>Q2</th>\n",
       "      <th>Q3</th>\n",
       "      <th>Q4</th>\n",
       "      <th>Q1</th>\n",
       "      <th>Q2</th>\n",
       "      <th>Q3</th>\n",
       "      <th>Q4</th>\n",
       "    </tr>\n",
       "  </thead>\n",
       "  <tbody>\n",
       "    <tr>\n",
       "      <th>interest_revenue</th>\n",
       "      <td>2,473,294.50</td>\n",
       "      <td>4,830,592.50</td>\n",
       "      <td>9,434,901.00</td>\n",
       "      <td>18,427,743.75</td>\n",
       "      <td>6,090,400.00</td>\n",
       "      <td>8,106,304.00</td>\n",
       "      <td>10,789,208.00</td>\n",
       "      <td>14,360,648.00</td>\n",
       "    </tr>\n",
       "    <tr>\n",
       "      <th>delinquency_loss</th>\n",
       "      <td>2,572,000.00</td>\n",
       "      <td>5,024,000.00</td>\n",
       "      <td>9,815,000.00</td>\n",
       "      <td>19,172,000.00</td>\n",
       "      <td>5,296,000.00</td>\n",
       "      <td>7,046,000.00</td>\n",
       "      <td>9,378,000.00</td>\n",
       "      <td>12,484,000.00</td>\n",
       "    </tr>\n",
       "    <tr>\n",
       "      <th>operative_costs</th>\n",
       "      <td>190,620.00</td>\n",
       "      <td>372,300.00</td>\n",
       "      <td>727,160.00</td>\n",
       "      <td>1,420,250.00</td>\n",
       "      <td>993,000.00</td>\n",
       "      <td>1,321,680.00</td>\n",
       "      <td>1,759,110.00</td>\n",
       "      <td>2,341,410.00</td>\n",
       "    </tr>\n",
       "    <tr>\n",
       "      <th>net_income</th>\n",
       "      <td>-289,325.50</td>\n",
       "      <td>-565,707.50</td>\n",
       "      <td>-1,107,259.00</td>\n",
       "      <td>-2,164,506.25</td>\n",
       "      <td>-198,600.00</td>\n",
       "      <td>-261,376.00</td>\n",
       "      <td>-347,902.00</td>\n",
       "      <td>-464,762.00</td>\n",
       "    </tr>\n",
       "  </tbody>\n",
       "</table>\n",
       "</div>"
      ],
      "text/plain": [
       "loan_type            Contigo A                                              \\\n",
       "quarter                     Q1            Q2             Q3             Q4   \n",
       "interest_revenue  2,473,294.50  4,830,592.50   9,434,901.00  18,427,743.75   \n",
       "delinquency_loss  2,572,000.00  5,024,000.00   9,815,000.00  19,172,000.00   \n",
       "operative_costs     190,620.00    372,300.00     727,160.00   1,420,250.00   \n",
       "net_income         -289,325.50   -565,707.50  -1,107,259.00  -2,164,506.25   \n",
       "\n",
       "loan_type            Contigo B                                              \n",
       "quarter                     Q1            Q2             Q3             Q4  \n",
       "interest_revenue  6,090,400.00  8,106,304.00  10,789,208.00  14,360,648.00  \n",
       "delinquency_loss  5,296,000.00  7,046,000.00   9,378,000.00  12,484,000.00  \n",
       "operative_costs     993,000.00  1,321,680.00   1,759,110.00   2,341,410.00  \n",
       "net_income         -198,600.00   -261,376.00    -347,902.00    -464,762.00  "
      ]
     },
     "execution_count": 1011,
     "metadata": {},
     "output_type": "execute_result"
    }
   ],
   "source": [
    "# Select financial metrics from startup results\n",
    "selected_cols = [\"loan_type\",\"quarter\",\"interest_revenue\",\"delinquency_loss\",\"operative_costs\",\"net_income\"]\n",
    "\n",
    "# Group \"income_results\" by \"loan_type\" and \"quarter\", sum columns, and transpose the result\n",
    "quarterly_results_by_loan_type = income_results[selected_cols].groupby([\"loan_type\",\"quarter\"]).sum().T\n",
    "\n",
    "# Format numbers to have commas per thousand and two decimals\n",
    "quarterly_results_by_loan_type = quarterly_results_by_loan_type.applymap(lambda x: \"{:,.2f}\".format(x))\n",
    "\n",
    "# Print table\n",
    "quarterly_results_by_loan_type"
   ]
  },
  {
   "attachments": {},
   "cell_type": "markdown",
   "metadata": {},
   "source": [
    "#### Monthly Results"
   ]
  },
  {
   "cell_type": "code",
   "execution_count": 1012,
   "metadata": {},
   "outputs": [
    {
     "data": {
      "image/svg+xml": "<svg class=\"main-svg\" xmlns=\"http://www.w3.org/2000/svg\" xmlns:xlink=\"http://www.w3.org/1999/xlink\" width=\"700\" height=\"500\" style=\"\" viewBox=\"0 0 700 500\"><rect x=\"0\" y=\"0\" width=\"700\" height=\"500\" style=\"fill: rgb(255, 255, 255); fill-opacity: 1;\"/><defs id=\"defs-86381f\"><g class=\"clips\"><clipPath id=\"clip86381fxyplot\" class=\"plotclip\"><rect width=\"494\" height=\"320\"/></clipPath><clipPath class=\"axesclip\" id=\"clip86381fx\"><rect x=\"80\" y=\"0\" width=\"494\" height=\"500\"/></clipPath><clipPath class=\"axesclip\" id=\"clip86381fy\"><rect x=\"0\" y=\"100\" width=\"700\" height=\"320\"/></clipPath><clipPath class=\"axesclip\" id=\"clip86381fxy\"><rect x=\"80\" y=\"100\" width=\"494\" height=\"320\"/></clipPath></g><g class=\"gradients\"/><g class=\"patterns\"/></defs><g class=\"bglayer\"><rect class=\"bg\" x=\"80\" y=\"100\" width=\"494\" height=\"320\" style=\"fill: rgb(229, 236, 246); fill-opacity: 1; stroke-width: 0;\"/></g><g class=\"layer-below\"><g class=\"imagelayer\"/><g class=\"shapelayer\"/></g><g class=\"cartesianlayer\"><g class=\"subplot xy\"><g class=\"layer-subplot\"><g class=\"shapelayer\"/><g class=\"imagelayer\"/></g><g class=\"minor-gridlayer\"><g class=\"x\"/><g class=\"y\"/></g><g class=\"gridlayer\"><g class=\"x\"/><g class=\"y\"><path class=\"ygrid crisp\" transform=\"translate(0,374.27)\" d=\"M80,0h494\" style=\"stroke: rgb(255, 255, 255); stroke-opacity: 1; stroke-width: 1px;\"/><path class=\"ygrid crisp\" transform=\"translate(0,305.7)\" d=\"M80,0h494\" style=\"stroke: rgb(255, 255, 255); stroke-opacity: 1; stroke-width: 1px;\"/><path class=\"ygrid crisp\" transform=\"translate(0,237.14)\" d=\"M80,0h494\" style=\"stroke: rgb(255, 255, 255); stroke-opacity: 1; stroke-width: 1px;\"/><path class=\"ygrid crisp\" transform=\"translate(0,168.57)\" d=\"M80,0h494\" style=\"stroke: rgb(255, 255, 255); stroke-opacity: 1; stroke-width: 1px;\"/></g></g><g class=\"zerolinelayer\"><path class=\"yzl zl crisp\" transform=\"translate(0,100)\" d=\"M80,0h494\" style=\"stroke: rgb(255, 255, 255); stroke-opacity: 1; stroke-width: 2px;\"/></g><path class=\"xlines-below\"/><path class=\"ylines-below\"/><g class=\"overlines-below\"/><g class=\"xaxislayer-below\"/><g class=\"yaxislayer-below\"/><g class=\"overaxes-below\"/><g class=\"plot\" transform=\"translate(80,100)\" clip-path=\"url(#clip86381fxyplot)\"><g class=\"barlayer mlayer\"><g class=\"trace bars\" style=\"opacity: 1;\"><g class=\"points\"><g class=\"point\"><path d=\"M4.12,0V26.14H20.58V0Z\" style=\"vector-effect: none; opacity: 1; stroke-width: 0.5px; fill: rgb(99, 110, 250); fill-opacity: 1; stroke: rgb(229, 236, 246); stroke-opacity: 1;\"/></g><g class=\"point\"><path d=\"M45.28,0V32.42H61.75V0Z\" style=\"vector-effect: none; opacity: 1; stroke-width: 0.5px; fill: rgb(99, 110, 250); fill-opacity: 1; stroke: rgb(229, 236, 246); stroke-opacity: 1;\"/></g><g class=\"point\"><path d=\"M86.45,0V40.63H102.92V0Z\" style=\"vector-effect: none; opacity: 1; stroke-width: 0.5px; fill: rgb(99, 110, 250); fill-opacity: 1; stroke: rgb(229, 236, 246); stroke-opacity: 1;\"/></g><g class=\"point\"><path d=\"M127.62,0V50.96H144.08V0Z\" style=\"vector-effect: none; opacity: 1; stroke-width: 0.5px; fill: rgb(99, 110, 250); fill-opacity: 1; stroke: rgb(229, 236, 246); stroke-opacity: 1;\"/></g><g class=\"point\"><path d=\"M168.78,0V63.5H185.25V0Z\" style=\"vector-effect: none; opacity: 1; stroke-width: 0.5px; fill: rgb(99, 110, 250); fill-opacity: 1; stroke: rgb(229, 236, 246); stroke-opacity: 1;\"/></g><g class=\"point\"><path d=\"M209.95,0V79.49H226.42V0Z\" style=\"vector-effect: none; opacity: 1; stroke-width: 0.5px; fill: rgb(99, 110, 250); fill-opacity: 1; stroke: rgb(229, 236, 246); stroke-opacity: 1;\"/></g><g class=\"point\"><path d=\"M251.12,0V99.43H267.58V0Z\" style=\"vector-effect: none; opacity: 1; stroke-width: 0.5px; fill: rgb(99, 110, 250); fill-opacity: 1; stroke: rgb(229, 236, 246); stroke-opacity: 1;\"/></g><g class=\"point\"><path d=\"M292.28,0V124.46H308.75V0Z\" style=\"vector-effect: none; opacity: 1; stroke-width: 0.5px; fill: rgb(99, 110, 250); fill-opacity: 1; stroke: rgb(229, 236, 246); stroke-opacity: 1;\"/></g><g class=\"point\"><path d=\"M333.45,0V155.72H349.92V0Z\" style=\"vector-effect: none; opacity: 1; stroke-width: 0.5px; fill: rgb(99, 110, 250); fill-opacity: 1; stroke: rgb(229, 236, 246); stroke-opacity: 1;\"/></g><g class=\"point\"><path d=\"M374.62,0V194.76H391.08V0Z\" style=\"vector-effect: none; opacity: 1; stroke-width: 0.5px; fill: rgb(99, 110, 250); fill-opacity: 1; stroke: rgb(229, 236, 246); stroke-opacity: 1;\"/></g><g class=\"point\"><path d=\"M415.78,0V243.32H432.25V0Z\" style=\"vector-effect: none; opacity: 1; stroke-width: 0.5px; fill: rgb(99, 110, 250); fill-opacity: 1; stroke: rgb(229, 236, 246); stroke-opacity: 1;\"/></g><g class=\"point\"><path d=\"M456.95,0V304H473.42V0Z\" style=\"vector-effect: none; opacity: 1; stroke-width: 0.5px; fill: rgb(99, 110, 250); fill-opacity: 1; stroke: rgb(229, 236, 246); stroke-opacity: 1;\"/></g></g></g><g class=\"trace bars\" style=\"opacity: 1;\"><g class=\"points\"><g class=\"point\"><path d=\"M20.58,0V20.57H37.05V0Z\" style=\"vector-effect: none; opacity: 1; stroke-width: 0.5px; fill: rgb(239, 85, 59); fill-opacity: 1; stroke: rgb(229, 236, 246); stroke-opacity: 1;\"/></g><g class=\"point\"><path d=\"M61.75,0V22.63H78.22V0Z\" style=\"vector-effect: none; opacity: 1; stroke-width: 0.5px; fill: rgb(239, 85, 59); fill-opacity: 1; stroke: rgb(229, 236, 246); stroke-opacity: 1;\"/></g><g class=\"point\"><path d=\"M102.92,0V24.89H119.38V0Z\" style=\"vector-effect: none; opacity: 1; stroke-width: 0.5px; fill: rgb(239, 85, 59); fill-opacity: 1; stroke: rgb(229, 236, 246); stroke-opacity: 1;\"/></g><g class=\"point\"><path d=\"M144.08,0V26.83H160.55V0Z\" style=\"vector-effect: none; opacity: 1; stroke-width: 0.5px; fill: rgb(239, 85, 59); fill-opacity: 1; stroke: rgb(229, 236, 246); stroke-opacity: 1;\"/></g><g class=\"point\"><path d=\"M185.25,0V29.93H201.72V0Z\" style=\"vector-effect: none; opacity: 1; stroke-width: 0.5px; fill: rgb(239, 85, 59); fill-opacity: 1; stroke: rgb(229, 236, 246); stroke-opacity: 1;\"/></g><g class=\"point\"><path d=\"M226.42,0V32.85H242.88V0Z\" style=\"vector-effect: none; opacity: 1; stroke-width: 0.5px; fill: rgb(239, 85, 59); fill-opacity: 1; stroke: rgb(229, 236, 246); stroke-opacity: 1;\"/></g><g class=\"point\"><path d=\"M267.58,0V36.3H284.05V0Z\" style=\"vector-effect: none; opacity: 1; stroke-width: 0.5px; fill: rgb(239, 85, 59); fill-opacity: 1; stroke: rgb(229, 236, 246); stroke-opacity: 1;\"/></g><g class=\"point\"><path d=\"M308.75,0V39.43H325.22V0Z\" style=\"vector-effect: none; opacity: 1; stroke-width: 0.5px; fill: rgb(239, 85, 59); fill-opacity: 1; stroke: rgb(229, 236, 246); stroke-opacity: 1;\"/></g><g class=\"point\"><path d=\"M349.92,0V43.54H366.38V0Z\" style=\"vector-effect: none; opacity: 1; stroke-width: 0.5px; fill: rgb(239, 85, 59); fill-opacity: 1; stroke: rgb(229, 236, 246); stroke-opacity: 1;\"/></g><g class=\"point\"><path d=\"M391.08,0V48.28H407.55V0Z\" style=\"vector-effect: none; opacity: 1; stroke-width: 0.5px; fill: rgb(239, 85, 59); fill-opacity: 1; stroke: rgb(229, 236, 246); stroke-opacity: 1;\"/></g><g class=\"point\"><path d=\"M432.25,0V52.7H448.72V0Z\" style=\"vector-effect: none; opacity: 1; stroke-width: 0.5px; fill: rgb(239, 85, 59); fill-opacity: 1; stroke: rgb(229, 236, 246); stroke-opacity: 1;\"/></g><g class=\"point\"><path d=\"M473.42,0V58.36H489.88V0Z\" style=\"vector-effect: none; opacity: 1; stroke-width: 0.5px; fill: rgb(239, 85, 59); fill-opacity: 1; stroke: rgb(229, 236, 246); stroke-opacity: 1;\"/></g></g></g></g></g><g class=\"overplot\"/><path class=\"xlines-above crisp\" d=\"M0,0\" style=\"fill: none;\"/><path class=\"ylines-above crisp\" d=\"M0,0\" style=\"fill: none;\"/><g class=\"overlines-above\"/><g class=\"xaxislayer-above\"><g class=\"xtick\"><text text-anchor=\"middle\" x=\"0\" y=\"433\" transform=\"translate(100.58,0)\" style=\"font-family: 'Open Sans', verdana, arial, sans-serif; font-size: 12px; fill: rgb(42, 63, 95); fill-opacity: 1; white-space: pre; opacity: 1;\">1</text></g><g class=\"xtick\"><text text-anchor=\"middle\" x=\"0\" y=\"433\" style=\"font-family: 'Open Sans', verdana, arial, sans-serif; font-size: 12px; fill: rgb(42, 63, 95); fill-opacity: 1; white-space: pre; opacity: 1;\" transform=\"translate(141.75,0)\">2</text></g><g class=\"xtick\"><text text-anchor=\"middle\" x=\"0\" y=\"433\" style=\"font-family: 'Open Sans', verdana, arial, sans-serif; font-size: 12px; fill: rgb(42, 63, 95); fill-opacity: 1; white-space: pre; opacity: 1;\" transform=\"translate(182.92000000000002,0)\">3</text></g><g class=\"xtick\"><text text-anchor=\"middle\" x=\"0\" y=\"433\" style=\"font-family: 'Open Sans', verdana, arial, sans-serif; font-size: 12px; fill: rgb(42, 63, 95); fill-opacity: 1; white-space: pre; opacity: 1;\" transform=\"translate(224.08,0)\">4</text></g><g class=\"xtick\"><text text-anchor=\"middle\" x=\"0\" y=\"433\" style=\"font-family: 'Open Sans', verdana, arial, sans-serif; font-size: 12px; fill: rgb(42, 63, 95); fill-opacity: 1; white-space: pre; opacity: 1;\" transform=\"translate(265.25,0)\">5</text></g><g class=\"xtick\"><text text-anchor=\"middle\" x=\"0\" y=\"433\" style=\"font-family: 'Open Sans', verdana, arial, sans-serif; font-size: 12px; fill: rgb(42, 63, 95); fill-opacity: 1; white-space: pre; opacity: 1;\" transform=\"translate(306.41999999999996,0)\">6</text></g><g class=\"xtick\"><text text-anchor=\"middle\" x=\"0\" y=\"433\" style=\"font-family: 'Open Sans', verdana, arial, sans-serif; font-size: 12px; fill: rgb(42, 63, 95); fill-opacity: 1; white-space: pre; opacity: 1;\" transform=\"translate(347.58,0)\">7</text></g><g class=\"xtick\"><text text-anchor=\"middle\" x=\"0\" y=\"433\" style=\"font-family: 'Open Sans', verdana, arial, sans-serif; font-size: 12px; fill: rgb(42, 63, 95); fill-opacity: 1; white-space: pre; opacity: 1;\" transform=\"translate(388.75,0)\">8</text></g><g class=\"xtick\"><text text-anchor=\"middle\" x=\"0\" y=\"433\" style=\"font-family: 'Open Sans', verdana, arial, sans-serif; font-size: 12px; fill: rgb(42, 63, 95); fill-opacity: 1; white-space: pre; opacity: 1;\" transform=\"translate(429.92,0)\">9</text></g><g class=\"xtick\"><text text-anchor=\"middle\" x=\"0\" y=\"433\" style=\"font-family: 'Open Sans', verdana, arial, sans-serif; font-size: 12px; fill: rgb(42, 63, 95); fill-opacity: 1; white-space: pre; opacity: 1;\" transform=\"translate(471.08,0)\">10</text></g><g class=\"xtick\"><text text-anchor=\"middle\" x=\"0\" y=\"433\" style=\"font-family: 'Open Sans', verdana, arial, sans-serif; font-size: 12px; fill: rgb(42, 63, 95); fill-opacity: 1; white-space: pre; opacity: 1;\" transform=\"translate(512.25,0)\">11</text></g><g class=\"xtick\"><text text-anchor=\"middle\" x=\"0\" y=\"433\" style=\"font-family: 'Open Sans', verdana, arial, sans-serif; font-size: 12px; fill: rgb(42, 63, 95); fill-opacity: 1; white-space: pre; opacity: 1;\" transform=\"translate(553.4200000000001,0)\">12</text></g></g><g class=\"yaxislayer-above\"><g class=\"ytick\"><text text-anchor=\"end\" x=\"79\" y=\"4.199999999999999\" transform=\"translate(0,374.27)\" style=\"font-family: 'Open Sans', verdana, arial, sans-serif; font-size: 12px; fill: rgb(42, 63, 95); fill-opacity: 1; white-space: pre; opacity: 1;\">−800k</text></g><g class=\"ytick\"><text text-anchor=\"end\" x=\"79\" y=\"4.199999999999999\" style=\"font-family: 'Open Sans', verdana, arial, sans-serif; font-size: 12px; fill: rgb(42, 63, 95); fill-opacity: 1; white-space: pre; opacity: 1;\" transform=\"translate(0,305.7)\">−600k</text></g><g class=\"ytick\"><text text-anchor=\"end\" x=\"79\" y=\"4.199999999999999\" style=\"font-family: 'Open Sans', verdana, arial, sans-serif; font-size: 12px; fill: rgb(42, 63, 95); fill-opacity: 1; white-space: pre; opacity: 1;\" transform=\"translate(0,237.14)\">−400k</text></g><g class=\"ytick\"><text text-anchor=\"end\" x=\"79\" y=\"4.199999999999999\" style=\"font-family: 'Open Sans', verdana, arial, sans-serif; font-size: 12px; fill: rgb(42, 63, 95); fill-opacity: 1; white-space: pre; opacity: 1;\" transform=\"translate(0,168.57)\">−200k</text></g><g class=\"ytick\"><text text-anchor=\"end\" x=\"79\" y=\"4.199999999999999\" style=\"font-family: 'Open Sans', verdana, arial, sans-serif; font-size: 12px; fill: rgb(42, 63, 95); fill-opacity: 1; white-space: pre; opacity: 1;\" transform=\"translate(0,100)\">0</text></g></g><g class=\"overaxes-above\"/></g></g><g class=\"polarlayer\"/><g class=\"smithlayer\"/><g class=\"ternarylayer\"/><g class=\"geolayer\"/><g class=\"funnelarealayer\"/><g class=\"pielayer\"/><g class=\"iciclelayer\"/><g class=\"treemaplayer\"/><g class=\"sunburstlayer\"/><g class=\"glimages\"/><defs id=\"topdefs-86381f\"><g class=\"clips\"/><clipPath id=\"legend86381f\"><rect width=\"104\" height=\"67\" x=\"0\" y=\"0\"/></clipPath></defs><g class=\"layer-above\"><g class=\"imagelayer\"/><g class=\"shapelayer\"/></g><g class=\"infolayer\"><g class=\"legend\" pointer-events=\"all\" transform=\"translate(583.88,100)\"><rect class=\"bg\" shape-rendering=\"crispEdges\" width=\"104\" height=\"67\" x=\"0\" y=\"0\" style=\"stroke: rgb(68, 68, 68); stroke-opacity: 1; fill: rgb(255, 255, 255); fill-opacity: 1; stroke-width: 0px;\"/><g class=\"scrollbox\" transform=\"\" clip-path=\"url(#legend86381f)\"><text class=\"legendtitletext\" text-anchor=\"start\" x=\"2\" y=\"18.2\" style=\"font-family: 'Open Sans', verdana, arial, sans-serif; font-size: 14px; fill: rgb(42, 63, 95); fill-opacity: 1; white-space: pre;\">Loan Type</text><g class=\"groups\" transform=\"\"><g class=\"traces\" transform=\"translate(0,32.7)\" style=\"opacity: 1;\"><text class=\"legendtext\" text-anchor=\"start\" x=\"40\" y=\"4.680000000000001\" style=\"font-family: 'Open Sans', verdana, arial, sans-serif; font-size: 12px; fill: rgb(42, 63, 95); fill-opacity: 1; white-space: pre;\">Contigo A</text><g class=\"layers\" style=\"opacity: 1;\"><g class=\"legendfill\"/><g class=\"legendlines\"/><g class=\"legendsymbols\"><g class=\"legendpoints\"><path class=\"legendundefined\" d=\"M6,6H-6V-6H6Z\" transform=\"translate(20,0)\" style=\"stroke-width: 0.5px; fill: rgb(99, 110, 250); fill-opacity: 1; stroke: rgb(229, 236, 246); stroke-opacity: 1;\"/></g></g></g><rect class=\"legendtoggle\" x=\"0\" y=\"-9.5\" width=\"98.484375\" height=\"19\" style=\"fill: rgb(0, 0, 0); fill-opacity: 0;\"/></g></g><g class=\"groups\" transform=\"\"><g class=\"traces\" transform=\"translate(0,51.7)\" style=\"opacity: 1;\"><text class=\"legendtext\" text-anchor=\"start\" x=\"40\" y=\"4.680000000000001\" style=\"font-family: 'Open Sans', verdana, arial, sans-serif; font-size: 12px; fill: rgb(42, 63, 95); fill-opacity: 1; white-space: pre;\">Contigo B</text><g class=\"layers\" style=\"opacity: 1;\"><g class=\"legendfill\"/><g class=\"legendlines\"/><g class=\"legendsymbols\"><g class=\"legendpoints\"><path class=\"legendundefined\" d=\"M6,6H-6V-6H6Z\" transform=\"translate(20,0)\" style=\"stroke-width: 0.5px; fill: rgb(239, 85, 59); fill-opacity: 1; stroke: rgb(229, 236, 246); stroke-opacity: 1;\"/></g></g></g><rect class=\"legendtoggle\" x=\"0\" y=\"-9.5\" width=\"98.484375\" height=\"19\" style=\"fill: rgb(0, 0, 0); fill-opacity: 0;\"/></g></g></g><rect class=\"scrollbar\" rx=\"20\" ry=\"3\" width=\"0\" height=\"0\" x=\"0\" y=\"0\" style=\"fill: rgb(128, 139, 164); fill-opacity: 1;\"/></g><g class=\"g-gtitle\"><text class=\"gtitle\" x=\"35\" y=\"50\" text-anchor=\"start\" dy=\"0em\" style=\"font-family: 'Open Sans', verdana, arial, sans-serif; font-size: 17px; fill: rgb(42, 63, 95); opacity: 1; font-weight: normal; white-space: pre;\">Net Income by Loan Type</text></g><g class=\"g-xtitle\"><text class=\"xtitle\" x=\"327\" y=\"459.8\" text-anchor=\"middle\" style=\"font-family: 'Open Sans', verdana, arial, sans-serif; font-size: 14px; fill: rgb(42, 63, 95); opacity: 1; font-weight: normal; white-space: pre;\">Month Number</text></g><g class=\"g-ytitle\"><text class=\"ytitle\" transform=\"rotate(-90,14.887500000000003,260)\" x=\"14.887500000000003\" y=\"260\" text-anchor=\"middle\" style=\"font-family: 'Open Sans', verdana, arial, sans-serif; font-size: 14px; fill: rgb(42, 63, 95); opacity: 1; font-weight: normal; white-space: pre;\">Net Income (in mexican pesos)</text></g></g></svg>"
     },
     "metadata": {},
     "output_type": "display_data"
    }
   ],
   "source": [
    "net_income_barplot = px.bar(income_results,\n",
    "                               x=\"month\",\n",
    "                               y=\"net_income\",\n",
    "                               color=\"loan_type\",\n",
    "                               barmode=\"group\",\n",
    "                               title=\"Net Income by Loan Type\")\n",
    "\n",
    "# Update figure layout\n",
    "net_income_barplot.update_layout(xaxis_title=\"Month Number\",\n",
    "                             yaxis_title=\"Net Income (in mexican pesos)\",\n",
    "                             legend_title=\"Loan Type\")\n",
    "\n",
    "# Set the steps between ticks to 1\n",
    "net_income_barplot.update_xaxes(dtick=1)\n",
    "\n",
    "# Show figure in svg format\n",
    "net_income_barplot.show(\"svg\")"
   ]
  },
  {
   "attachments": {},
   "cell_type": "markdown",
   "metadata": {},
   "source": [
    "> **Question 3**: What changes are required to sustain the business not only throughout the year but in the long run?\n",
    ">\n",
    "> Build a proposal of changes to main startup KPIs to achieve this goal. \n",
    ">\n",
    ">Discuss what difficulties the startup may find in applying your recommendation."
   ]
  },
  {
   "attachments": {},
   "cell_type": "markdown",
   "metadata": {},
   "source": [
    "To sustain the business not only throughout the year but in the long run, the startup should focus on:\n",
    "- Improving the credit risk assessment process to reduce the DQ rates and minimize losses.\n",
    "- Exploring other credit products or services to diversify the revenue stream and reduce reliance on a single product.\n",
    "- Optimizing the growth plan to balance the expansion with the ability to manage delinquencies and operational costs effectively.\n",
    "\n",
    "KPI:\n",
    "- Interest-to-Delinquency:\n",
    "\n",
    "    * $\\frac {InterestRate}{DelinquencyRate} \\ge 1.24$ for Contigo A (or 1.42?)\n",
    "\n",
    "    * $\\frac {InterestRate}{DelinquencyRate} \\ge 1.30$ for Contigo B"
   ]
  }
 ],
 "metadata": {
  "kernelspec": {
   "display_name": "storis-ba-assessment",
   "language": "python",
   "name": "python3"
  },
  "language_info": {
   "codemirror_mode": {
    "name": "ipython",
    "version": 3
   },
   "file_extension": ".py",
   "mimetype": "text/x-python",
   "name": "python",
   "nbconvert_exporter": "python",
   "pygments_lexer": "ipython3",
   "version": "3.11.0"
  },
  "orig_nbformat": 4,
  "vscode": {
   "interpreter": {
    "hash": "87d9e5e2413174db98a5b704a9599a6a00bdd2de178b3b9621c98a6e834be606"
   }
  }
 },
 "nbformat": 4,
 "nbformat_minor": 2
}

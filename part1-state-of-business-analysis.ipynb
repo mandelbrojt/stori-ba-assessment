{
 "cells": [
  {
   "attachments": {},
   "cell_type": "markdown",
   "metadata": {},
   "source": [
    "# State of the Business Analysis"
   ]
  },
  {
   "attachments": {},
   "cell_type": "markdown",
   "metadata": {},
   "source": [
    "## Case Description\n",
    "\n",
    "You are a BA working for a startup that has one credit product called **Contigo**. Depending on risk, the customer will receive:\n",
    "1. Contigo A, a 1,000 peso loan to be paid in full after one month with 15% interest. This product is given to high risk customers.\n",
    "2. Contigo B, a 2,000 peso loan to be paid in full after one month with 10% interest. This product is given to low risk customers.\n",
    "\n",
    "Past debt delinquency (DQ) rates have determined the interest rates for the Contigo product. However, it is estimated that the monthly DQ rate for Contigo A will be 13.5% and 8% for Contigo B, throughout this year.\n",
    "\n",
    "Ignoring the worsening of DQ rates, this startup has an ambitious growth plan for the year. At month 1,\n",
    "the company had a total of 5,000 Contigo A customers, expected to grow at a rate of 25% month over\n",
    "month. Contigo B has the largest share of customers, 10,000 in total. But with a very competitive market\n",
    "for premium loans, Contigo B is expected to grow at a 10% month over month rate throughout the year.\n",
    "\n",
    "The operation of this startup scales proportionately to its customer base, with negligible fixed expenses. The current operative monthly cost per account sits at 30 pesos.\n",
    "\n",
    "The startup is concerned that the change in DQ rates and the aggressive expansion may reduce profitability in the following months, so they asked you to make a forecast on the net income of its operation (ignoring taxes) in the next 12 months."
   ]
  },
  {
   "attachments": {},
   "cell_type": "markdown",
   "metadata": {},
   "source": [
    "### Loan Types Diagram\n",
    "\n",
    "<img \n",
    "    src=\"https://i.imgur.com/B7NvEKb.png\"\n",
    "    height=300\n",
    "    width=650\n",
    "/>"
   ]
  },
  {
   "cell_type": "code",
   "execution_count": 1355,
   "metadata": {},
   "outputs": [],
   "source": [
    "# Contigo A loan features\n",
    "contigo_a_features = {\n",
    "    \"loan_amt\":1000, \"loan_term\":1, \"interest_rate\":0.15,\n",
    "    \"delinquency_rate\":0.135, \"initial_num_accounts\":5000,\n",
    "    \"account_growth_mom\":0.25, \"op_cost_per_acct\":30\n",
    "}\n",
    "\n",
    "# Contigo B loan features\n",
    "contigo_b_features = {\n",
    "    \"loan_amt\":2000, \"loan_term\":1, \"interest_rate\":0.10,\n",
    "    \"delinquency_rate\":0.08, \"initial_num_accounts\":10000,\n",
    "    \"account_growth_mom\":0.10, \"op_cost_per_acct\":30\n",
    "}"
   ]
  },
  {
   "attachments": {},
   "cell_type": "markdown",
   "metadata": {},
   "source": [
    "## Answering Questions"
   ]
  },
  {
   "attachments": {},
   "cell_type": "markdown",
   "metadata": {},
   "source": [
    "### Question 1\n",
    "\n",
    "> What factors may be against the profitability of the startup? What should we look at in an analysis of the net income for the following months?"
   ]
  },
  {
   "attachments": {},
   "cell_type": "markdown",
   "metadata": {},
   "source": [
    "#### Factors Against Profitability\n",
    "\n",
    "1. **Delinquency Rates**: One of the main factors that can negatively impact the profitability of the startup is high delinquency rates of their products. The startup should aim to maintain a wide gap between interest rates and delinquency rates, ensuring that the delinquency rate never exceeds the interest rate.\n",
    "2. **Customer Growth Rate**: Adding more customers increases the risk exposure, so the startup should pursue aggressive growth strategies when delinquency rates are low and less aggressive growth strategies when delinquency rates are high.\n",
    "3. **Operating Expenses**: Another factor that can play against profitability is the expense of account management, such as spending too much on collection efforts due to unnecessary or expensive communication channels with customers or higher prices of required account management software.\n",
    "4. **Policy Rates**: A higher policy rate could reduce the demand for loans and potentially reduce the interest revenue for the startup. It could also negatively affect some customers as they will need to pay more for their loans, increasing the potential loss of principal and interest during each period. The startup could hedge against rate hikes by using interest rate swaps or interest rate futures.\n",
    "\n",
    "Overall, the startup should aim to diversify their income to prevent dependence on a single product for their income."
   ]
  },
  {
   "attachments": {},
   "cell_type": "markdown",
   "metadata": {},
   "source": [
    "### Question 2"
   ]
  },
  {
   "attachments": {},
   "cell_type": "markdown",
   "metadata": {},
   "source": [
    "> Is this startup going to be profitable during the next 12 months? \n",
    ">\n",
    "> What are the major trends driving changes in net income? \n",
    ">\n",
    "> Provide a model for net income and forecast it for the next 12 months. \n",
    ">\n",
    ">> **Note**: Losses come from the total debt not being repaid, and revenue comes from collected interest. We will only consider operation costs as expenses."
   ]
  },
  {
   "cell_type": "code",
   "execution_count": 1356,
   "metadata": {},
   "outputs": [],
   "source": [
    "from net_income_model import financial_results"
   ]
  },
  {
   "attachments": {},
   "cell_type": "markdown",
   "metadata": {},
   "source": [
    "Based on the initial loan features for Contigo A and Contigo B loans, the startup is not profitable due to high delinquency rates for both types of loans:"
   ]
  },
  {
   "cell_type": "code",
   "execution_count": 1357,
   "metadata": {},
   "outputs": [
    {
     "data": {
      "text/html": [
       "<div>\n",
       "<style scoped>\n",
       "    .dataframe tbody tr th:only-of-type {\n",
       "        vertical-align: middle;\n",
       "    }\n",
       "\n",
       "    .dataframe tbody tr th {\n",
       "        vertical-align: top;\n",
       "    }\n",
       "\n",
       "    .dataframe thead th {\n",
       "        text-align: right;\n",
       "    }\n",
       "</style>\n",
       "<table border=\"1\" class=\"dataframe\">\n",
       "  <thead>\n",
       "    <tr style=\"text-align: right;\">\n",
       "      <th>loan_type</th>\n",
       "      <th>Contigo A</th>\n",
       "      <th>Contigo B</th>\n",
       "      <th>Total</th>\n",
       "    </tr>\n",
       "  </thead>\n",
       "  <tbody>\n",
       "    <tr>\n",
       "      <th>interest_revenue</th>\n",
       "      <td>35,166,531.75</td>\n",
       "      <td>39,346,560.00</td>\n",
       "      <td>74,513,091.75</td>\n",
       "    </tr>\n",
       "    <tr>\n",
       "      <th>delinquency_loss</th>\n",
       "      <td>36,583,000.00</td>\n",
       "      <td>34,204,000.00</td>\n",
       "      <td>70,787,000.00</td>\n",
       "    </tr>\n",
       "    <tr>\n",
       "      <th>operative_costs</th>\n",
       "      <td>8,130,990.00</td>\n",
       "      <td>6,415,200.00</td>\n",
       "      <td>14,546,190.00</td>\n",
       "    </tr>\n",
       "    <tr>\n",
       "      <th>net_income</th>\n",
       "      <td>-9,547,458.25</td>\n",
       "      <td>-1,272,640.00</td>\n",
       "      <td>-10,820,098.25</td>\n",
       "    </tr>\n",
       "  </tbody>\n",
       "</table>\n",
       "</div>"
      ],
      "text/plain": [
       "loan_type             Contigo A      Contigo B           Total\n",
       "interest_revenue  35,166,531.75  39,346,560.00   74,513,091.75\n",
       "delinquency_loss  36,583,000.00  34,204,000.00   70,787,000.00\n",
       "operative_costs    8,130,990.00   6,415,200.00   14,546,190.00\n",
       "net_income        -9,547,458.25  -1,272,640.00  -10,820,098.25"
      ]
     },
     "execution_count": 1357,
     "metadata": {},
     "output_type": "execute_result"
    }
   ],
   "source": [
    "financial_results(contigo_a_features, contigo_b_features)"
   ]
  },
  {
   "attachments": {},
   "cell_type": "markdown",
   "metadata": {},
   "source": [
    "The startup could reach profitability in the following scenarios:\n",
    "- `Delinquency Rate <= 10.40%` for **Contigo A**, with a net income of **$113,845.20**, if everything else stays the same."
   ]
  },
  {
   "cell_type": "code",
   "execution_count": 1366,
   "metadata": {},
   "outputs": [
    {
     "data": {
      "text/html": [
       "<div>\n",
       "<style scoped>\n",
       "    .dataframe tbody tr th:only-of-type {\n",
       "        vertical-align: middle;\n",
       "    }\n",
       "\n",
       "    .dataframe tbody tr th {\n",
       "        vertical-align: top;\n",
       "    }\n",
       "\n",
       "    .dataframe thead th {\n",
       "        text-align: right;\n",
       "    }\n",
       "</style>\n",
       "<table border=\"1\" class=\"dataframe\">\n",
       "  <thead>\n",
       "    <tr style=\"text-align: right;\">\n",
       "      <th>loan_type</th>\n",
       "      <th>Contigo A</th>\n",
       "      <th>Contigo B</th>\n",
       "      <th>Total</th>\n",
       "    </tr>\n",
       "  </thead>\n",
       "  <tbody>\n",
       "    <tr>\n",
       "      <th>interest_revenue</th>\n",
       "      <td>36,414,638.71</td>\n",
       "      <td>39,346,560.00</td>\n",
       "      <td>75,761,198.72</td>\n",
       "    </tr>\n",
       "    <tr>\n",
       "      <th>delinquency_loss</th>\n",
       "      <td>28,262,000.00</td>\n",
       "      <td>34,204,000.00</td>\n",
       "      <td>62,466,000.00</td>\n",
       "    </tr>\n",
       "    <tr>\n",
       "      <th>operative_costs</th>\n",
       "      <td>8,130,990.00</td>\n",
       "      <td>6,415,200.00</td>\n",
       "      <td>14,546,190.00</td>\n",
       "    </tr>\n",
       "    <tr>\n",
       "      <th>net_income</th>\n",
       "      <td>21,648.71</td>\n",
       "      <td>-1,272,640.00</td>\n",
       "      <td>-1,250,991.29</td>\n",
       "    </tr>\n",
       "  </tbody>\n",
       "</table>\n",
       "</div>"
      ],
      "text/plain": [
       "loan_type             Contigo A      Contigo B          Total\n",
       "interest_revenue  36,414,638.71  39,346,560.00  75,761,198.72\n",
       "delinquency_loss  28,262,000.00  34,204,000.00  62,466,000.00\n",
       "operative_costs    8,130,990.00   6,415,200.00  14,546,190.00\n",
       "net_income            21,648.71  -1,272,640.00  -1,250,991.29"
      ]
     },
     "execution_count": 1366,
     "metadata": {},
     "output_type": "execute_result"
    }
   ],
   "source": [
    "contigo_a_features[\"delinquency_rate\"] = 0.1043\n",
    "\n",
    "financial_results(contigo_a_features, contigo_b_features)"
   ]
  },
  {
   "attachments": {},
   "cell_type": "markdown",
   "metadata": {},
   "source": [
    "- `Delinquency Rate <= 7.7%` for Contigo B, with a net income of **$137,664.00**, if everything else stays the same."
   ]
  },
  {
   "cell_type": "code",
   "execution_count": 1374,
   "metadata": {},
   "outputs": [
    {
     "data": {
      "text/html": [
       "<div>\n",
       "<style scoped>\n",
       "    .dataframe tbody tr th:only-of-type {\n",
       "        vertical-align: middle;\n",
       "    }\n",
       "\n",
       "    .dataframe tbody tr th {\n",
       "        vertical-align: top;\n",
       "    }\n",
       "\n",
       "    .dataframe thead th {\n",
       "        text-align: right;\n",
       "    }\n",
       "</style>\n",
       "<table border=\"1\" class=\"dataframe\">\n",
       "  <thead>\n",
       "    <tr style=\"text-align: right;\">\n",
       "      <th>loan_type</th>\n",
       "      <th>Contigo A</th>\n",
       "      <th>Contigo B</th>\n",
       "      <th>Total</th>\n",
       "    </tr>\n",
       "  </thead>\n",
       "  <tbody>\n",
       "    <tr>\n",
       "      <th>interest_revenue</th>\n",
       "      <td>36,414,638.71</td>\n",
       "      <td>39,474,864.00</td>\n",
       "      <td>75,889,502.72</td>\n",
       "    </tr>\n",
       "    <tr>\n",
       "      <th>delinquency_loss</th>\n",
       "      <td>28,262,000.00</td>\n",
       "      <td>32,922,000.00</td>\n",
       "      <td>61,184,000.00</td>\n",
       "    </tr>\n",
       "    <tr>\n",
       "      <th>operative_costs</th>\n",
       "      <td>8,130,990.00</td>\n",
       "      <td>6,415,200.00</td>\n",
       "      <td>14,546,190.00</td>\n",
       "    </tr>\n",
       "    <tr>\n",
       "      <th>net_income</th>\n",
       "      <td>21,648.71</td>\n",
       "      <td>137,664.00</td>\n",
       "      <td>159,312.72</td>\n",
       "    </tr>\n",
       "  </tbody>\n",
       "</table>\n",
       "</div>"
      ],
      "text/plain": [
       "loan_type             Contigo A      Contigo B          Total\n",
       "interest_revenue  36,414,638.71  39,474,864.00  75,889,502.72\n",
       "delinquency_loss  28,262,000.00  32,922,000.00  61,184,000.00\n",
       "operative_costs    8,130,990.00   6,415,200.00  14,546,190.00\n",
       "net_income            21,648.71     137,664.00     159,312.72"
      ]
     },
     "execution_count": 1374,
     "metadata": {},
     "output_type": "execute_result"
    }
   ],
   "source": [
    "contigo_b_features[\"delinquency_rate\"] = 0.077\n",
    "\n",
    "financial_results(contigo_a_features, contigo_b_features)"
   ]
  },
  {
   "attachments": {},
   "cell_type": "markdown",
   "metadata": {},
   "source": [
    "- `Interest Rate >= 16.80%` for Contigo A, with a net income of **$93,185.56**, if everything else stays the same."
   ]
  },
  {
   "attachments": {},
   "cell_type": "markdown",
   "metadata": {},
   "source": [
    "- `Interest Rate >= 10.40%` for Contigo B, with a net income of **$301,222.40**, if everything else stays the same."
   ]
  },
  {
   "attachments": {},
   "cell_type": "markdown",
   "metadata": {},
   "source": [
    "#### Total Results"
   ]
  },
  {
   "attachments": {},
   "cell_type": "markdown",
   "metadata": {},
   "source": [
    "> **Question 3**: What changes are required to sustain the business not only throughout the year but in the long run?\n",
    ">\n",
    "> Build a proposal of changes to main startup KPIs to achieve this goal. \n",
    ">\n",
    ">Discuss what difficulties the startup may find in applying your recommendation."
   ]
  },
  {
   "attachments": {},
   "cell_type": "markdown",
   "metadata": {},
   "source": [
    "To sustain the business not only throughout the year but in the long run, the startup should focus on:\n",
    "- Improving the credit risk assessment process to reduce the DQ rates.\n",
    "- Diversify the revenue stream and reduce reliance on a single product.\n",
    "\n",
    "KPI:\n",
    "- Interest-to-Delinquency:\n",
    "\n",
    "    * $\\frac {InterestRate}{DelinquencyRate} \\ge 1.24$ for Contigo A\n",
    "\n",
    "    * $\\frac {InterestRate}{DelinquencyRate} \\ge 1.30$ for Contigo B"
   ]
  }
 ],
 "metadata": {
  "kernelspec": {
   "display_name": "storis-ba-assessment",
   "language": "python",
   "name": "python3"
  },
  "language_info": {
   "codemirror_mode": {
    "name": "ipython",
    "version": 3
   },
   "file_extension": ".py",
   "mimetype": "text/x-python",
   "name": "python",
   "nbconvert_exporter": "python",
   "pygments_lexer": "ipython3",
   "version": "3.11.0"
  },
  "orig_nbformat": 4,
  "vscode": {
   "interpreter": {
    "hash": "87d9e5e2413174db98a5b704a9599a6a00bdd2de178b3b9621c98a6e834be606"
   }
  }
 },
 "nbformat": 4,
 "nbformat_minor": 2
}

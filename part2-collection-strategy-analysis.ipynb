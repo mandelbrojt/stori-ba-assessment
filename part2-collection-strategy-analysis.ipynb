{
 "cells": [
  {
   "attachments": {},
   "cell_type": "markdown",
   "metadata": {},
   "source": [
    "# Collection Strategy Analysis"
   ]
  },
  {
   "attachments": {},
   "cell_type": "markdown",
   "metadata": {},
   "source": [
    "## Case Description"
   ]
  },
  {
   "attachments": {},
   "cell_type": "markdown",
   "metadata": {},
   "source": [
    "The Credit department has decided to prioritize collections on Contigo A customers, since they have the largest DQ rate. A collections analyst has determined that a DQ rate of 10% will be enough to render this customer segment profitable. The team has decided to apply immediate action from month 1 and is looking for a collection strategy to recover (at least!) 175 of the 675 accounts that went delinquent, out of the starting 5,000 Contigo A accounts.\n",
    "\n",
    "One idea is to collect by calling the customer. Using the previous collection results, the data science team has created a model to estimate contactability (i.e. the probability of reaching the customer successfully by calling) and has delivered their calculations to you (please, consult the spreadsheet called contactabilty_scores). The collections team estimates that the customer will pay around three quarters of\n",
    "the time after being contacted, and it has no chance to pay if they never connect the call. Calling the customer is quite expensive! Operations has determined that a phone call campaign costs around 30 pesos per DQ customer, regardless of the contact result."
   ]
  },
  {
   "attachments": {},
   "cell_type": "markdown",
   "metadata": {},
   "source": [
    "### Probability Diagram"
   ]
  },
  {
   "attachments": {},
   "cell_type": "markdown",
   "metadata": {},
   "source": [
    "<img \n",
    "    src=\"https://i.imgur.com/ZKsCGqI.png\"\n",
    "    height=300\n",
    "    width=650\n",
    "/>"
   ]
  },
  {
   "attachments": {},
   "cell_type": "markdown",
   "metadata": {},
   "source": [
    "## Answering Questions"
   ]
  },
  {
   "cell_type": "code",
   "execution_count": 19,
   "metadata": {},
   "outputs": [],
   "source": [
    "import pandas as pd"
   ]
  },
  {
   "cell_type": "code",
   "execution_count": 20,
   "metadata": {},
   "outputs": [],
   "source": [
    "# Loads the dataset containing aggregated results\n",
    "agg_results = pd.read_csv(\"./collections_results.csv\")\n",
    "# Format numbers to have commas per thousand and two decimals\n",
    "agg_results = agg_results.applymap(lambda x: \"{:,.2f}\".format(x))\n",
    "\n",
    "# Loads the dataset containing non-aggregated results\n",
    "non_agg_results = pd.read_csv(\"./collections_campaign.csv\")"
   ]
  },
  {
   "attachments": {},
   "cell_type": "markdown",
   "metadata": {},
   "source": [
    "### Question 1\n",
    "\n",
    "Assuming that we launch this campaign to all of the 675 DQ customers, a manager asks you to compute its probable result, asking you to deliver estimates on the following KPIs:"
   ]
  },
  {
   "attachments": {},
   "cell_type": "markdown",
   "metadata": {},
   "source": [
    "- Recovered accounts (accounts we get out of delinquency):"
   ]
  },
  {
   "cell_type": "code",
   "execution_count": 22,
   "metadata": {},
   "outputs": [
    {
     "name": "stdout",
     "output_type": "stream",
     "text": [
      "The total number of accounts recovered was: 212.00\n"
     ]
    }
   ],
   "source": [
    "print(f\"The total number of accounts recovered was: {agg_results.total_accounts_recovered[0]}\")"
   ]
  },
  {
   "attachments": {},
   "cell_type": "markdown",
   "metadata": {},
   "source": [
    "- Recovered total debt:"
   ]
  },
  {
   "cell_type": "code",
   "execution_count": 23,
   "metadata": {},
   "outputs": [
    {
     "name": "stdout",
     "output_type": "stream",
     "text": [
      "The total debt recovered was: 212,024.25\n"
     ]
    }
   ],
   "source": [
    "print(f\"The total debt recovered was: {agg_results.total_debt_recovered[0]}\")"
   ]
  },
  {
   "attachments": {},
   "cell_type": "markdown",
   "metadata": {},
   "source": [
    "- Revenue coming from collected interest:\n",
    "> **Note**: The total debt collected is not included in revenue, why?\n",
    "\n",
    "The total debt collected is not included in the revenue because it needs to be paid back to creditors. The revenue comes from any type of interest collected during the period (e.g. ordinary interest and late payment interest)."
   ]
  },
  {
   "cell_type": "code",
   "execution_count": 24,
   "metadata": {},
   "outputs": [
    {
     "name": "stdout",
     "output_type": "stream",
     "text": [
      "The total interest recovered was: 31,803.64\n"
     ]
    }
   ],
   "source": [
    "print(f\"The total interest recovered was: {agg_results.total_interest_recovered[0]}\")"
   ]
  },
  {
   "attachments": {},
   "cell_type": "markdown",
   "metadata": {},
   "source": [
    "- Total campaign cost:"
   ]
  },
  {
   "cell_type": "code",
   "execution_count": 26,
   "metadata": {},
   "outputs": [
    {
     "name": "stdout",
     "output_type": "stream",
     "text": [
      "The total campaign cost was: 20,250.00\n"
     ]
    }
   ],
   "source": [
    "print(f\"The total campaign cost was: {agg_results.total_campaign_cost[0]}\")"
   ]
  },
  {
   "attachments": {},
   "cell_type": "markdown",
   "metadata": {},
   "source": [
    "- DQ losses coming from uncollected total debt:"
   ]
  },
  {
   "cell_type": "code",
   "execution_count": 27,
   "metadata": {},
   "outputs": [
    {
     "name": "stdout",
     "output_type": "stream",
     "text": [
      "The total delinquency losses was: 462,975.75\n"
     ]
    }
   ],
   "source": [
    "print(f\"The total delinquency losses was: {agg_results.total_uncollected_debt[0]}\")"
   ]
  },
  {
   "attachments": {},
   "cell_type": "markdown",
   "metadata": {},
   "source": [
    "- Collections income:"
   ]
  },
  {
   "cell_type": "code",
   "execution_count": 29,
   "metadata": {},
   "outputs": [
    {
     "name": "stdout",
     "output_type": "stream",
     "text": [
      "The total collections income was: 223,577.89\n"
     ]
    }
   ],
   "source": [
    "print(f\"The total collections income was: {agg_results.collections_income[0]}\")"
   ]
  },
  {
   "attachments": {},
   "cell_type": "markdown",
   "metadata": {},
   "source": [
    "### Question 2\n",
    "\n",
    "What is the impact delivered on overall business performance by this campaign? To answer this question, we provide the results of month 1 without collections in the table below. \n",
    "\n",
    "**Table 1**. Performance of Contigo A at month 1.\n",
    "\n",
    "| **Month** | **Accounts** | **DQ Accounts** | **Interest Revenue** | **DQ Losses** | **Operative Cost** | **Net Income** |\n",
    "|:---------:|:------------:|:---------------:|:--------------------:|:-------------:|:------------------:|:--------------:|\n",
    "| 1         | 5,000        | 675             | $648,750.00          | $675,000.00   | $150,000           | -$176,250.00   |\n",
    "\n",
    "Using the results from the previous question and the data coming from the table, provide a justification for applying or not this collection strategy."
   ]
  },
  {
   "attachments": {},
   "cell_type": "markdown",
   "metadata": {},
   "source": [
    "The main results of the collection campaign were the following:\n",
    "\n",
    "- 21% more accounts recovered than the minimum established by the collection team (212 vs 174).\n",
    "- Positive net income of $47,327.89 during month 1.\n",
    "\n",
    "I consider that these results are a valid justification of executing this collection strategy for the first month."
   ]
  },
  {
   "attachments": {},
   "cell_type": "markdown",
   "metadata": {},
   "source": [
    "### Question 3\n",
    "\n",
    "Discuss some possible improvements to this campaign."
   ]
  },
  {
   "attachments": {},
   "cell_type": "markdown",
   "metadata": {},
   "source": [
    "To improve this collection strategy, we can utilize multiple communication channels, such as email, mobile app notifications, and SMS, to increase the chances of reaching the customer while reducing costs.\n",
    "\n",
    "To encourage action, we can inform the customer of the pros and cons of paying their debt. This can be achieved by creating a model that calculates how the current due debt impacts their credit score (including the number of points that will increase or decrease) and how much more credit other financial institutions can offer if the payment is made."
   ]
  },
  {
   "attachments": {},
   "cell_type": "markdown",
   "metadata": {},
   "source": [
    "## Non-Aggregated Results"
   ]
  },
  {
   "cell_type": "code",
   "execution_count": 30,
   "metadata": {},
   "outputs": [
    {
     "data": {
      "text/html": [
       "<div>\n",
       "<style scoped>\n",
       "    .dataframe tbody tr th:only-of-type {\n",
       "        vertical-align: middle;\n",
       "    }\n",
       "\n",
       "    .dataframe tbody tr th {\n",
       "        vertical-align: top;\n",
       "    }\n",
       "\n",
       "    .dataframe thead th {\n",
       "        text-align: right;\n",
       "    }\n",
       "</style>\n",
       "<table border=\"1\" class=\"dataframe\">\n",
       "  <thead>\n",
       "    <tr style=\"text-align: right;\">\n",
       "      <th></th>\n",
       "      <th>customer_id</th>\n",
       "      <th>contactability_score</th>\n",
       "      <th>total_debt</th>\n",
       "      <th>interest</th>\n",
       "      <th>phone_call_cost</th>\n",
       "      <th>answer_payment_prob</th>\n",
       "      <th>recov_debt</th>\n",
       "      <th>recov_int</th>\n",
       "      <th>total_recov</th>\n",
       "    </tr>\n",
       "  </thead>\n",
       "  <tbody>\n",
       "    <tr>\n",
       "      <th>count</th>\n",
       "      <td>675.0</td>\n",
       "      <td>675.000000</td>\n",
       "      <td>675.0</td>\n",
       "      <td>675.0</td>\n",
       "      <td>675.0</td>\n",
       "      <td>675.000000</td>\n",
       "      <td>675.000000</td>\n",
       "      <td>675.000000</td>\n",
       "      <td>675.000000</td>\n",
       "    </tr>\n",
       "    <tr>\n",
       "      <th>mean</th>\n",
       "      <td>338.0</td>\n",
       "      <td>0.418813</td>\n",
       "      <td>1000.0</td>\n",
       "      <td>150.0</td>\n",
       "      <td>30.0</td>\n",
       "      <td>0.314110</td>\n",
       "      <td>314.110000</td>\n",
       "      <td>47.116500</td>\n",
       "      <td>361.226500</td>\n",
       "    </tr>\n",
       "    <tr>\n",
       "      <th>std</th>\n",
       "      <td>195.0</td>\n",
       "      <td>0.286737</td>\n",
       "      <td>0.0</td>\n",
       "      <td>0.0</td>\n",
       "      <td>0.0</td>\n",
       "      <td>0.215052</td>\n",
       "      <td>215.053018</td>\n",
       "      <td>32.257953</td>\n",
       "      <td>247.310971</td>\n",
       "    </tr>\n",
       "    <tr>\n",
       "      <th>min</th>\n",
       "      <td>1.0</td>\n",
       "      <td>0.001000</td>\n",
       "      <td>1000.0</td>\n",
       "      <td>150.0</td>\n",
       "      <td>30.0</td>\n",
       "      <td>0.000800</td>\n",
       "      <td>0.750000</td>\n",
       "      <td>0.112500</td>\n",
       "      <td>0.862500</td>\n",
       "    </tr>\n",
       "    <tr>\n",
       "      <th>25%</th>\n",
       "      <td>169.5</td>\n",
       "      <td>0.166500</td>\n",
       "      <td>1000.0</td>\n",
       "      <td>150.0</td>\n",
       "      <td>30.0</td>\n",
       "      <td>0.124850</td>\n",
       "      <td>124.875000</td>\n",
       "      <td>18.731250</td>\n",
       "      <td>143.606250</td>\n",
       "    </tr>\n",
       "    <tr>\n",
       "      <th>50%</th>\n",
       "      <td>338.0</td>\n",
       "      <td>0.378000</td>\n",
       "      <td>1000.0</td>\n",
       "      <td>150.0</td>\n",
       "      <td>30.0</td>\n",
       "      <td>0.283500</td>\n",
       "      <td>283.500000</td>\n",
       "      <td>42.525000</td>\n",
       "      <td>326.025000</td>\n",
       "    </tr>\n",
       "    <tr>\n",
       "      <th>75%</th>\n",
       "      <td>506.5</td>\n",
       "      <td>0.651000</td>\n",
       "      <td>1000.0</td>\n",
       "      <td>150.0</td>\n",
       "      <td>30.0</td>\n",
       "      <td>0.488250</td>\n",
       "      <td>488.250000</td>\n",
       "      <td>73.237500</td>\n",
       "      <td>561.487500</td>\n",
       "    </tr>\n",
       "    <tr>\n",
       "      <th>max</th>\n",
       "      <td>675.0</td>\n",
       "      <td>0.999000</td>\n",
       "      <td>1000.0</td>\n",
       "      <td>150.0</td>\n",
       "      <td>30.0</td>\n",
       "      <td>0.749300</td>\n",
       "      <td>749.250000</td>\n",
       "      <td>112.387500</td>\n",
       "      <td>861.637500</td>\n",
       "    </tr>\n",
       "  </tbody>\n",
       "</table>\n",
       "</div>"
      ],
      "text/plain": [
       "       customer_id  contactability_score  total_debt  interest  \\\n",
       "count        675.0            675.000000       675.0     675.0   \n",
       "mean         338.0              0.418813      1000.0     150.0   \n",
       "std          195.0              0.286737         0.0       0.0   \n",
       "min            1.0              0.001000      1000.0     150.0   \n",
       "25%          169.5              0.166500      1000.0     150.0   \n",
       "50%          338.0              0.378000      1000.0     150.0   \n",
       "75%          506.5              0.651000      1000.0     150.0   \n",
       "max          675.0              0.999000      1000.0     150.0   \n",
       "\n",
       "       phone_call_cost  answer_payment_prob  recov_debt   recov_int  \\\n",
       "count            675.0           675.000000  675.000000  675.000000   \n",
       "mean              30.0             0.314110  314.110000   47.116500   \n",
       "std                0.0             0.215052  215.053018   32.257953   \n",
       "min               30.0             0.000800    0.750000    0.112500   \n",
       "25%               30.0             0.124850  124.875000   18.731250   \n",
       "50%               30.0             0.283500  283.500000   42.525000   \n",
       "75%               30.0             0.488250  488.250000   73.237500   \n",
       "max               30.0             0.749300  749.250000  112.387500   \n",
       "\n",
       "       total_recov  \n",
       "count   675.000000  \n",
       "mean    361.226500  \n",
       "std     247.310971  \n",
       "min       0.862500  \n",
       "25%     143.606250  \n",
       "50%     326.025000  \n",
       "75%     561.487500  \n",
       "max     861.637500  "
      ]
     },
     "execution_count": 30,
     "metadata": {},
     "output_type": "execute_result"
    }
   ],
   "source": [
    "non_agg_results.describe()"
   ]
  }
 ],
 "metadata": {
  "kernelspec": {
   "display_name": "storis-ba-assessment",
   "language": "python",
   "name": "python3"
  },
  "language_info": {
   "codemirror_mode": {
    "name": "ipython",
    "version": 3
   },
   "file_extension": ".py",
   "mimetype": "text/x-python",
   "name": "python",
   "nbconvert_exporter": "python",
   "pygments_lexer": "ipython3",
   "version": "3.11.0"
  },
  "orig_nbformat": 4
 },
 "nbformat": 4,
 "nbformat_minor": 2
}

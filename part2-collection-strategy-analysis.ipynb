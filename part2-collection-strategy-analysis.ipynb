{
 "cells": [
  {
   "attachments": {},
   "cell_type": "markdown",
   "metadata": {},
   "source": [
    "# Collection Strategy Analysis"
   ]
  },
  {
   "attachments": {},
   "cell_type": "markdown",
   "metadata": {},
   "source": [
    "## Case Description"
   ]
  },
  {
   "attachments": {},
   "cell_type": "markdown",
   "metadata": {},
   "source": [
    "The Credit department has decided to prioritize collections on Contigo A customers, since they have the largest DQ rate. A collections analyst has determined that a DQ rate of 10% will be enough to render this customer segment profitable. The team has decided to apply immediate action from month 1 and is looking for a collection strategy to recover (at least!) 175 of the 675 accounts that went delinquent, out of the starting 5,000 Contigo A accounts.\n",
    "\n",
    "One idea is to collect by calling the customer. Using the previous collection results, the data science team has created a model to estimate contactability (i.e. the probability of reaching the customer successfully by calling) and has delivered their calculations to you (please, consult the spreadsheet called contactabilty_scores). The collections team estimates that the customer will pay around three quarters of\n",
    "the time after being contacted, and it has no chance to pay if they never connect the call. Calling the customer is quite expensive! Operations has determined that a phone call campaign costs around 30 pesos per DQ customer, regardless of the contact result."
   ]
  },
  {
   "attachments": {},
   "cell_type": "markdown",
   "metadata": {},
   "source": [
    "### Probability Diagram"
   ]
  },
  {
   "attachments": {},
   "cell_type": "markdown",
   "metadata": {},
   "source": [
    "<img \n",
    "    src=\"https://i.imgur.com/ZKsCGqI.png\"\n",
    "    height=300\n",
    "    width=650\n",
    "/>"
   ]
  },
  {
   "attachments": {},
   "cell_type": "markdown",
   "metadata": {},
   "source": [
    "## Answering Questions"
   ]
  },
  {
   "cell_type": "code",
   "execution_count": 19,
   "metadata": {},
   "outputs": [],
   "source": [
    "import pandas as pd"
   ]
  },
  {
   "cell_type": "code",
   "execution_count": 20,
   "metadata": {},
   "outputs": [],
   "source": [
    "# Loads the dataset containing aggregated results\n",
    "agg_results = pd.read_csv(\"./collections_results.csv\")\n",
    "# Format numbers to have commas per thousand and two decimals\n",
    "agg_results = agg_results.applymap(lambda x: \"{:,.2f}\".format(x))\n",
    "\n",
    "# Loads the dataset containing non-aggregated results\n",
    "non_agg_results = pd.read_csv(\"./collections_campaign.csv\")"
   ]
  },
  {
   "attachments": {},
   "cell_type": "markdown",
   "metadata": {},
   "source": [
    "### Question 1\n",
    "\n",
    "Assuming that we launch this campaign to all of the 675 DQ customers, a manager asks you to compute its probable result, asking you to deliver estimates on the following KPIs:"
   ]
  },
  {
   "attachments": {},
   "cell_type": "markdown",
   "metadata": {},
   "source": [
    "- Recovered accounts (accounts we get out of delinquency):"
   ]
  },
  {
   "cell_type": "code",
   "execution_count": 22,
   "metadata": {},
   "outputs": [
    {
     "name": "stdout",
     "output_type": "stream",
     "text": [
      "The total number of accounts recovered was: 212.00\n"
     ]
    }
   ],
   "source": [
    "print(f\"The total number of accounts recovered was: {agg_results.total_accounts_recovered[0]}\")"
   ]
  },
  {
   "attachments": {},
   "cell_type": "markdown",
   "metadata": {},
   "source": [
    "- Recovered total debt:"
   ]
  },
  {
   "cell_type": "code",
   "execution_count": 23,
   "metadata": {},
   "outputs": [
    {
     "name": "stdout",
     "output_type": "stream",
     "text": [
      "The total debt recovered was: 212,024.25\n"
     ]
    }
   ],
   "source": [
    "print(f\"The total debt recovered was: {agg_results.total_debt_recovered[0]}\")"
   ]
  },
  {
   "attachments": {},
   "cell_type": "markdown",
   "metadata": {},
   "source": [
    "- Revenue coming from collected interest:\n",
    "> **Note**: The total debt collected is not included in revenue, why?\n",
    "\n",
    "The total debt collected is not included in the revenue because it needs to be paid back to creditors. The revenue comes from any type of interest collected during the period (e.g. ordinary interest and late payment interest)."
   ]
  },
  {
   "cell_type": "code",
   "execution_count": 24,
   "metadata": {},
   "outputs": [
    {
     "name": "stdout",
     "output_type": "stream",
     "text": [
      "The total interest recovered was: 31,803.64\n"
     ]
    }
   ],
   "source": [
    "print(f\"The total interest recovered was: {agg_results.total_interest_recovered[0]}\")"
   ]
  },
  {
   "attachments": {},
   "cell_type": "markdown",
   "metadata": {},
   "source": [
    "- Total campaign cost:"
   ]
  },
  {
   "cell_type": "code",
   "execution_count": 26,
   "metadata": {},
   "outputs": [
    {
     "name": "stdout",
     "output_type": "stream",
     "text": [
      "The total campaign cost was: 20,250.00\n"
     ]
    }
   ],
   "source": [
    "print(f\"The total campaign cost was: {agg_results.total_campaign_cost[0]}\")"
   ]
  },
  {
   "attachments": {},
   "cell_type": "markdown",
   "metadata": {},
   "source": [
    "- DQ losses coming from uncollected total debt:"
   ]
  },
  {
   "cell_type": "code",
   "execution_count": 27,
   "metadata": {},
   "outputs": [
    {
     "name": "stdout",
     "output_type": "stream",
     "text": [
      "The total delinquency losses was: 462,975.75\n"
     ]
    }
   ],
   "source": [
    "print(f\"The total delinquency losses was: {agg_results.total_uncollected_debt[0]}\")"
   ]
  },
  {
   "attachments": {},
   "cell_type": "markdown",
   "metadata": {},
   "source": [
    "- Collections income:"
   ]
  },
  {
   "cell_type": "code",
   "execution_count": 29,
   "metadata": {},
   "outputs": [
    {
     "name": "stdout",
     "output_type": "stream",
     "text": [
      "The total collections income was: 223,577.89\n"
     ]
    }
   ],
   "source": [
    "print(f\"The total collections income was: {agg_results.collections_income[0]}\")"
   ]
  },
  {
   "attachments": {},
   "cell_type": "markdown",
   "metadata": {},
   "source": [
    "### Question 2"
   ]
  },
  {
   "attachments": {},
   "cell_type": "markdown",
   "metadata": {},
   "source": [
    "What is the impact delivered on overall business performance by this campaign? To answer this question, we provide the results of month 1 without collections in the table below. \n",
    "\n",
    "**Table 1**. Performance of Contigo A at month 1.\n",
    "\n",
    "| **Month** | **Accounts** | **DQ Accounts** | **Interest Revenue** | **DQ Losses** | **Operative Cost** | **Net Income** |\n",
    "|:---------:|:------------:|:---------------:|:--------------------:|:-------------:|:------------------:|:--------------:|\n",
    "| 1         | 5,000        | 675             | $648,750.00          | $675,000.00   | $150,000           | -$176,250.00   |\n",
    "\n",
    "Using the results from the previous question and the data coming from the table, provide a justification for applying or not this collection strategy."
   ]
  },
  {
   "attachments": {},
   "cell_type": "markdown",
   "metadata": {},
   "source": [
    "The main results of the collection campaign were the following:\n",
    "\n",
    "- 21% more accounts recovered than the minimum established by the collection team (212 vs 174).\n",
    "- Positive net income of $47,327.89 during month 1.\n",
    "\n",
    "I consider that these results are a valid justification of executing this collection strategy for the first month."
   ]
  }
 ],
 "metadata": {
  "kernelspec": {
   "display_name": "storis-ba-assessment",
   "language": "python",
   "name": "python3"
  },
  "language_info": {
   "codemirror_mode": {
    "name": "ipython",
    "version": 3
   },
   "file_extension": ".py",
   "mimetype": "text/x-python",
   "name": "python",
   "nbconvert_exporter": "python",
   "pygments_lexer": "ipython3",
   "version": "3.11.0"
  },
  "orig_nbformat": 4
 },
 "nbformat": 4,
 "nbformat_minor": 2
}

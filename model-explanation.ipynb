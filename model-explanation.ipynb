{
 "cells": [
  {
   "attachments": {},
   "cell_type": "markdown",
   "metadata": {},
   "source": [
    "## Calculations"
   ]
  },
  {
   "attachments": {},
   "cell_type": "markdown",
   "metadata": {},
   "source": [
    "The following sections shows the calculations that were done on every step to forecast the net income during the next 12 months."
   ]
  },
  {
   "cell_type": "code",
   "execution_count": 1316,
   "metadata": {},
   "outputs": [],
   "source": [
    "# Import required libraries and modules\n",
    "import numpy as np\n",
    "import math\n",
    "import pandas as pd\n",
    "import plotly.express as px"
   ]
  },
  {
   "attachments": {},
   "cell_type": "markdown",
   "metadata": {},
   "source": [
    "The `contigo_a_features` and `contigo_b_features` are Python dictionaries that store all the features for Contigo A and B, respectively. By modifying theses features the user can run the whole notebook and see the changes on the net income."
   ]
  },
  {
   "cell_type": "code",
   "execution_count": 1317,
   "metadata": {},
   "outputs": [],
   "source": [
    "# Contigo A loan features\n",
    "contigo_a_features = {\n",
    "    \"loan_amt\":1000, \"loan_term\":1, \"interest_rate\":0.15,\n",
    "    \"delinquency_rate\":0.135, \"initial_num_accounts\":5000,\n",
    "    \"account_growth_mom\":0.25, \"op_cost_per_acct\":30\n",
    "}\n",
    "\n",
    "# Contigo B loan features\n",
    "contigo_b_features = {\n",
    "    \"loan_amt\":2000, \"loan_term\":1, \"interest_rate\":0.10,\n",
    "    \"delinquency_rate\":0.08, \"initial_num_accounts\":10000,\n",
    "    \"account_growth_mom\":0.10, \"op_cost_per_acct\":30\n",
    "}"
   ]
  },
  {
   "attachments": {},
   "cell_type": "markdown",
   "metadata": {},
   "source": [
    "Where:\n",
    "\n",
    "- **loan_amt**: The loan amount in mexican pesos.\n",
    "- **loan_term**: The number of months to pay the loan amount in full.\n",
    "- **interest_rate**: The monthly interest rate.\n",
    "- **delinquency_rate**: The monthly estimated delinquency rate throughout the year.\n",
    "- **initial_num_accounts**: The number of accounts/customers for the first month.\n",
    "- **account_growth_mom**: The estimated growth rate for the accounts month-over-month.\n",
    "- **op_cost_per_acct**: The current operative monthly cost per account in mexican pesos."
   ]
  },
  {
   "attachments": {},
   "cell_type": "markdown",
   "metadata": {},
   "source": [
    "### Step 1: Calculating Accounts\n",
    "\n",
    "The following function simplifies the calculations to get the total number of accounts for each month during the next 12 months. \n",
    "\n",
    "It uses `math.floor` to round down the accounts to the nearest whole number because the number of accounts is a **discrete variable**.\n",
    "\n",
    "> **Note**: The goal of using this function is to reduce the amount of lines of codes."
   ]
  },
  {
   "cell_type": "code",
   "execution_count": 1318,
   "metadata": {},
   "outputs": [],
   "source": [
    "def compute_accounts(initial_accounts: int, growth_rate: float, num_months=12):\n",
    "    \"\"\"Computes the number of accounts by each month during a period of 12 months given a MoM growth rate\"\"\"\n",
    "    return [math.floor(initial_accounts * (1+ growth_rate) ** i) for i in range(num_months)]    "
   ]
  },
  {
   "attachments": {},
   "cell_type": "markdown",
   "metadata": {},
   "source": [
    "The total number of accounts for Contigo A and B are stored as **numpy** arrays to allow for **element-wise operations**."
   ]
  },
  {
   "cell_type": "code",
   "execution_count": 1319,
   "metadata": {},
   "outputs": [],
   "source": [
    "# Number of accounts month-over-month of Contigo A\n",
    "contigo_a_accounts_mom = \\\n",
    "    np.array(compute_accounts(contigo_a_features[\"initial_num_accounts\"], contigo_a_features[\"account_growth_mom\"]))\n",
    "\n",
    "# Number of accounts month-over-month of Contigo B\n",
    "contigo_b_accounts_mom = \\\n",
    "    np.array(compute_accounts(contigo_b_features[\"initial_num_accounts\"], contigo_b_features[\"account_growth_mom\"]))"
   ]
  },
  {
   "attachments": {},
   "cell_type": "markdown",
   "metadata": {},
   "source": [
    "### Step 2: Claculating Delinquency Accounts\n",
    "\n",
    "The number of delinquency accounts are calculated by multiplying the number of accounts of each month by the delinquency rate.\n",
    "\n",
    "The delinquency accounts represent the number of accounts whose payments were not made.\n",
    "\n",
    "**Formula**:\n",
    "$$DelinquencyAccounts = NumberOfAccounts \\times DelinquencyRate$$"
   ]
  },
  {
   "cell_type": "code",
   "execution_count": 1320,
   "metadata": {},
   "outputs": [],
   "source": [
    "# Number of delinquency accounts month-over-month of Contigo A\n",
    "contigo_a_delinq_accts_mom = contigo_a_accounts_mom * contigo_a_features[\"delinquency_rate\"]\n",
    "\n",
    "# Round down every element in the array to the nearest whole number\n",
    "contigo_a_delinq_accts_mom = np.floor(contigo_a_delinq_accts_mom)\n",
    "\n",
    "# Number of delinquency accounts month-over-month of Contigo B\n",
    "contigo_b_delinq_accts_mom = contigo_b_accounts_mom * contigo_b_features[\"delinquency_rate\"]\n",
    "\n",
    "# Round down every element in the array to the nearest whole number\n",
    "contigo_b_delinq_accts_mom = np.floor(contigo_b_delinq_accts_mom)"
   ]
  },
  {
   "attachments": {},
   "cell_type": "markdown",
   "metadata": {},
   "source": [
    "### Step 3: Interest Revenue\n",
    "\n",
    "In this step a function is defined to first calculate the interest revenue **per account** (without considering the customers whose payments were not made), and then multiplies this value by each number of accounts on every month.\n",
    "\n",
    "The interest revenue represent the amount of interests that were collected from the customers whose payments were made.\n",
    "\n",
    "**Formula**:\n",
    "$$InterestRevenuePerAccount = LoanAmount \\times InterestRate \\times LoanTerm \\times (1 - DelinquencyRate)$$\n",
    "\n",
    "$$TotalInterestRevenue = NumberOfAccounts \\times InterestRevenuePerAccount$$\n",
    "\n",
    "> **Note**: The goal of using this function is to reduce the amount of lines of codes."
   ]
  },
  {
   "cell_type": "code",
   "execution_count": 1321,
   "metadata": {},
   "outputs": [],
   "source": [
    "def compute_interest_rev(loan_feats: dict, loan_accounts_mom):\n",
    "    \"\"\"Computes the interest revenue by each month during a period of 12 months\"\"\"\n",
    "    interest_revenue_per_account = \\\n",
    "        loan_feats[\"loan_amt\"]*loan_feats[\"interest_rate\"]*loan_feats[\"loan_term\"]*(1-loan_feats[\"delinquency_rate\"])\n",
    "    return loan_accounts_mom * interest_revenue_per_account"
   ]
  },
  {
   "cell_type": "code",
   "execution_count": 1322,
   "metadata": {},
   "outputs": [],
   "source": [
    "# Interest revenue month-over-month of Contigo A\n",
    "contigo_a_interest_rev_mom = compute_interest_rev(contigo_a_features, contigo_a_accounts_mom)\n",
    "\n",
    "# Interest revenue month-over-month of Contigo B\n",
    "contigo_b_interest_rev_mom = compute_interest_rev(contigo_b_features, contigo_b_accounts_mom)"
   ]
  },
  {
   "attachments": {},
   "cell_type": "markdown",
   "metadata": {},
   "source": [
    "### Step 4: Delinquency Losses\n",
    "\n",
    "The delinquency losses are calculated by multiplying the number of delinquent accounts per month by the loan amount.\n",
    "\n",
    "The delinquency loss represents the loan amount that was uncollected during the month.\n",
    "\n",
    "**Formula**:\n",
    "$$DelinquencyLoss = DelinquentAccounts \\times LoanAmount$$"
   ]
  },
  {
   "cell_type": "code",
   "execution_count": 1323,
   "metadata": {},
   "outputs": [],
   "source": [
    "# Delinquency loss month-over-month of Contigo A\n",
    "contigo_a_delinq_loss_mom = contigo_a_delinq_accts_mom * contigo_a_features[\"loan_amt\"]\n",
    "\n",
    "# Delinquency loss month-over-month of Contigo B\n",
    "contigo_b_delinq_loss_mom = contigo_b_delinq_accts_mom * contigo_b_features[\"loan_amt\"]"
   ]
  },
  {
   "attachments": {},
   "cell_type": "markdown",
   "metadata": {},
   "source": [
    "### Step 5: Operative Cost\n",
    "\n",
    "The operative cost is calculated by multiplying the number of accounts of each month by the operating cost of the loan product.\n",
    "\n",
    "The operative cost for this startup represents the expenses incurred to maintain the loan accounts.\n",
    "\n",
    "**Formula**:\n",
    "$$OperativeCost = TotalAccounts \\times CostPerAccount$$"
   ]
  },
  {
   "cell_type": "code",
   "execution_count": 1324,
   "metadata": {},
   "outputs": [],
   "source": [
    "# Operative cost month-over-month of Contigo A\n",
    "contigo_a_op_cost_mom = contigo_a_accounts_mom * contigo_a_features[\"op_cost_per_acct\"]\n",
    "\n",
    "# Operative cost month-over-month of Contigo B\n",
    "contigo_b_op_cost_mom = contigo_b_accounts_mom * contigo_b_features[\"op_cost_per_acct\"]"
   ]
  },
  {
   "attachments": {},
   "cell_type": "markdown",
   "metadata": {},
   "source": [
    "### Step 6: Net Income\n",
    "\n",
    "The net income is calculated by subtracting the total operative costs and delinquency losses from the interest collected from customers whose payments were made.\n",
    "\n",
    "For this startup, the net income represents the amount of money that the startup has after paying all of its costs and expenses but before paying taxes.\n",
    "\n",
    "**Formula**:\n",
    "\n",
    "$$NetIncome = InterestRevenue - OperativeCost - DelinquencyLoss$$"
   ]
  },
  {
   "cell_type": "code",
   "execution_count": 1325,
   "metadata": {},
   "outputs": [],
   "source": [
    "# Net income month-over-month of Contigo A\n",
    "contigo_a_net_income_mom = contigo_a_interest_rev_mom - contigo_a_op_cost_mom - contigo_a_delinq_loss_mom\n",
    "\n",
    "# Net income month-over-month of Contigo B\n",
    "contigo_b_net_income_mom = contigo_b_interest_rev_mom - contigo_b_op_cost_mom - contigo_b_delinq_loss_mom"
   ]
  },
  {
   "attachments": {},
   "cell_type": "markdown",
   "metadata": {},
   "source": [
    "### Step 7: Showing Results in Tabular Format\n",
    "\n",
    "In this step all of the previous variables are used to create a table by using pandas `DataFrame`."
   ]
  },
  {
   "cell_type": "code",
   "execution_count": 1326,
   "metadata": {},
   "outputs": [],
   "source": [
    "# Maps column names to values\n",
    "cols_to_values = {\n",
    "    \"month\":np.concatenate((np.arange(1,13), np.arange(1,13))),\n",
    "    \"loan_type\":[\"Contigo A\"] * 12 + [\"Contigo B\"] * 12,\n",
    "    \"accounts\":np.concatenate((contigo_a_accounts_mom, contigo_b_accounts_mom)),\n",
    "    \"delinquency_accounts\":np.concatenate((contigo_a_delinq_accts_mom, contigo_b_delinq_accts_mom)),\n",
    "    \"interest_revenue\":np.concatenate((contigo_a_interest_rev_mom, contigo_b_interest_rev_mom)),\n",
    "    \"delinquency_loss\":np.concatenate((contigo_a_delinq_loss_mom, contigo_b_delinq_loss_mom)),\n",
    "    \"operative_costs\":np.concatenate((contigo_a_op_cost_mom, contigo_b_op_cost_mom)),\n",
    "    \"net_income\":np.concatenate((contigo_a_net_income_mom, contigo_b_net_income_mom))\n",
    "}\n",
    "\n",
    "# Creates a DataFrame with the results of Contigo loans\n",
    "income_results = pd.DataFrame(cols_to_values)\n",
    "\n",
    "# Converts loan type column to a categorical data type\n",
    "income_results[\"loan_type\"] = pd.Categorical(income_results.loan_type)\n",
    "\n",
    "# Converts delinquency accounts to an integer data type\n",
    "income_results[\"delinquency_accounts\"] = income_results.delinquency_accounts.astype(\"int\")"
   ]
  },
  {
   "cell_type": "code",
   "execution_count": 1327,
   "metadata": {},
   "outputs": [
    {
     "name": "stdout",
     "output_type": "stream",
     "text": [
      "<class 'pandas.core.frame.DataFrame'>\n",
      "RangeIndex: 24 entries, 0 to 23\n",
      "Data columns (total 8 columns):\n",
      " #   Column                Non-Null Count  Dtype   \n",
      "---  ------                --------------  -----   \n",
      " 0   month                 24 non-null     int64   \n",
      " 1   loan_type             24 non-null     category\n",
      " 2   accounts              24 non-null     int64   \n",
      " 3   delinquency_accounts  24 non-null     int64   \n",
      " 4   interest_revenue      24 non-null     float64 \n",
      " 5   delinquency_loss      24 non-null     float64 \n",
      " 6   operative_costs       24 non-null     int64   \n",
      " 7   net_income            24 non-null     float64 \n",
      "dtypes: category(1), float64(3), int64(4)\n",
      "memory usage: 1.6 KB\n"
     ]
    }
   ],
   "source": [
    "income_results.info()"
   ]
  },
  {
   "attachments": {},
   "cell_type": "markdown",
   "metadata": {},
   "source": [
    "### Step 8: Exporting Results\n",
    "\n",
    "In this step the previous table is exported to a `.csv` file in case the user needs to share the results."
   ]
  },
  {
   "cell_type": "code",
   "execution_count": 1328,
   "metadata": {},
   "outputs": [],
   "source": [
    "# Export results to a CSV file\n",
    "income_results.to_csv(\"./income_results.csv\", index=False)"
   ]
  }
 ],
 "metadata": {
  "kernelspec": {
   "display_name": "storis-ba-assessment",
   "language": "python",
   "name": "python3"
  },
  "language_info": {
   "codemirror_mode": {
    "name": "ipython",
    "version": 3
   },
   "file_extension": ".py",
   "mimetype": "text/x-python",
   "name": "python",
   "nbconvert_exporter": "python",
   "pygments_lexer": "ipython3",
   "version": "3.11.0"
  },
  "orig_nbformat": 4,
  "vscode": {
   "interpreter": {
    "hash": "87d9e5e2413174db98a5b704a9599a6a00bdd2de178b3b9621c98a6e834be606"
   }
  }
 },
 "nbformat": 4,
 "nbformat_minor": 2
}
